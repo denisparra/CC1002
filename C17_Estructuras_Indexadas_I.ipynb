{
  "nbformat": 4,
  "nbformat_minor": 0,
  "metadata": {
    "kernelspec": {
      "display_name": "Python 2",
      "language": "python",
      "name": "python2"
    },
    "language_info": {
      "codemirror_mode": {
        "name": "ipython",
        "version": 2
      },
      "file_extension": ".py",
      "mimetype": "text/x-python",
      "name": "python",
      "nbconvert_exporter": "python",
      "pygments_lexer": "ipython2",
      "version": "2.7.13"
    },
    "colab": {
      "name": "C17 Estructuras Indexadas I.ipynb",
      "provenance": [],
      "collapsed_sections": [],
      "include_colab_link": true
    }
  },
  "cells": [
    {
      "cell_type": "markdown",
      "metadata": {
        "id": "view-in-github",
        "colab_type": "text"
      },
      "source": [
        "<a href=\"https://colab.research.google.com/github/bpoblete/CC1002_9/blob/master/C17_Estructuras_Indexadas_I.ipynb\" target=\"_parent\"><img src=\"https://colab.research.google.com/assets/colab-badge.svg\" alt=\"Open In Colab\"/></a>"
      ]
    },
    {
      "cell_type": "markdown",
      "metadata": {
        "id": "yWkjSCz-C6i7",
        "colab_type": "text"
      },
      "source": [
        "# Clase 17: Estructuras Indexadas"
      ]
    },
    {
      "cell_type": "markdown",
      "metadata": {
        "id": "HBJxwmXxC6jI",
        "colab_type": "text"
      },
      "source": [
        "## Variables globales en python\n",
        "\n",
        "Son variables que mantienen el estado de un programa y al ser referenciadas desde funciones se debe poner el prefijo `global` para que así la función sepa que se refiere a una variable definida en el programam principal."
      ]
    },
    {
      "cell_type": "code",
      "metadata": {
        "id": "3Ma--i07C6jJ",
        "colab_type": "code",
        "colab": {}
      },
      "source": [
        "\n",
        "def incrementaContador():\n",
        "        global contador\n",
        "        \n",
        "        contador = contador + 1\n",
        "    \n",
        "\n",
        "\n",
        "contador = 0\n",
        "incrementaContador()\n",
        "print contador\n",
        "incrementaContador()\n",
        "print contador\n"
      ],
      "execution_count": 0,
      "outputs": []
    },
    {
      "cell_type": "markdown",
      "metadata": {
        "id": "rcz6okfbDbrF",
        "colab_type": "text"
      },
      "source": [
        "## Aliasing\n",
        "\n",
        "### Datos Básicos\n",
        "\n",
        "- Los tipos de <mark>datos básicos (`int, float, bool, str`) se pasan por **valor**</mark>\n",
        "- Esto significa que el valor es \"copiado\" al guardarse en otra variable"
      ]
    },
    {
      "cell_type": "code",
      "metadata": {
        "id": "0W3OVPHmDq_F",
        "colab_type": "code",
        "colab": {}
      },
      "source": [
        "numero=1\n",
        "otroNumero=numero\n",
        "numero=2"
      ],
      "execution_count": 0,
      "outputs": []
    },
    {
      "cell_type": "code",
      "metadata": {
        "id": "FMDN3mnZD3IN",
        "colab_type": "code",
        "colab": {}
      },
      "source": [
        "numero"
      ],
      "execution_count": 0,
      "outputs": []
    },
    {
      "cell_type": "code",
      "metadata": {
        "id": "zsZtPd4_D6vB",
        "colab_type": "code",
        "colab": {}
      },
      "source": [
        "otroNumero"
      ],
      "execution_count": 0,
      "outputs": []
    },
    {
      "cell_type": "markdown",
      "metadata": {
        "id": "UbuPmuCLEJh-",
        "colab_type": "text"
      },
      "source": [
        "### Datos Compuestos\n",
        "\n",
        "- Los tipos de <mark> datos compuestos **NO se copian**, se pasan por **referencia**</mark>\n",
        "- Esto significa que un dato compuesto es una estructura almacenada memoria\n",
        "- La variable asociada a la estructura es solo una referencia (identificador o dirección) de donde se encuentra el dato en memoria (permite accederlo)\n",
        "- <mark> Al asignar una variable que contiene una referencia sólo se está haciendo una copia de la referencia y no del dato mismo (es como copiar la dirección de una casa, y no la casa misma) </mark>\n",
        "- Esto es denominado **ALIASING**"
      ]
    },
    {
      "cell_type": "code",
      "metadata": {
        "id": "NtgIgIJLEf2k",
        "colab_type": "code",
        "colab": {}
      },
      "source": [
        "import estructura\n",
        "estructura.mutable(\"cliente\", \"nombre saldo\")\n",
        "juan = cliente(\"Juan\", 1000)\n",
        "alias = juan\n",
        "juan.saldo = 0"
      ],
      "execution_count": 0,
      "outputs": []
    },
    {
      "cell_type": "code",
      "metadata": {
        "id": "8WiK46jkE63O",
        "colab_type": "code",
        "colab": {}
      },
      "source": [
        "print juan.saldo"
      ],
      "execution_count": 0,
      "outputs": []
    },
    {
      "cell_type": "code",
      "metadata": {
        "id": "Y41zqIM0E9KA",
        "colab_type": "code",
        "colab": {}
      },
      "source": [
        "print alias.saldo"
      ],
      "execution_count": 0,
      "outputs": []
    },
    {
      "cell_type": "markdown",
      "metadata": {
        "collapsed": true,
        "id": "vdIxMS3MC6jM",
        "colab_type": "text"
      },
      "source": [
        "## Estructuras Indexadas\n",
        "\n",
        "### listas de python\n",
        "\n",
        "![](arreglo.png)\n",
        "\n",
        "Las listas de Python son estructuras definidas nativamente en el lenguaje Python que\n",
        "- permiten acceder a los valores almacenados en la lista a través de un índice\n",
        "  - Ej: strings\n",
        "- las instrucciones **`'for'`** y **`'while'`** nos permiten recorrer (**'iterar'**) sobre los valores de una lista\n",
        "- los índices son números enteros correlativos y parten en cero\n",
        "\n",
        "#### Ej: Crear una lista vacía:"
      ]
    },
    {
      "cell_type": "code",
      "metadata": {
        "id": "dz3ntZHdC6jM",
        "colab_type": "code",
        "colab": {}
      },
      "source": [
        "unaLista = list() # lista vacia"
      ],
      "execution_count": 0,
      "outputs": []
    },
    {
      "cell_type": "code",
      "metadata": {
        "id": "WtZJDakVHvTC",
        "colab_type": "code",
        "colab": {}
      },
      "source": [
        "otraLista = [] # lista vacia"
      ],
      "execution_count": 0,
      "outputs": []
    },
    {
      "cell_type": "markdown",
      "metadata": {
        "id": "n6v29FvuC6jO",
        "colab_type": "text"
      },
      "source": [
        "También se pueden crear listas con valores ya insertados, como se muestra \n",
        "en el ejemplo siguiente.  Recuerde que las listas de Python permiten\n",
        "insertar datos de cualquier tipo en sus casilleros:"
      ]
    },
    {
      "cell_type": "code",
      "metadata": {
        "id": "VHNsXwMIC6jO",
        "colab_type": "code",
        "colab": {}
      },
      "source": [
        "Enteros = [1, 2, 3, 4, 5] # lista de int"
      ],
      "execution_count": 0,
      "outputs": []
    },
    {
      "cell_type": "code",
      "metadata": {
        "id": "rvCMEXJMH26I",
        "colab_type": "code",
        "colab": {}
      },
      "source": [
        "Strings = ['casa', 'arbol', 'planta', 'auto'] # lista de str"
      ],
      "execution_count": 0,
      "outputs": []
    },
    {
      "cell_type": "code",
      "metadata": {
        "id": "PcVqp9EiH5qc",
        "colab_type": "code",
        "colab": {}
      },
      "source": [
        "Todo = ['a', 17, True, 9.5] # lista con datos de distinto tipo"
      ],
      "execution_count": 0,
      "outputs": []
    },
    {
      "cell_type": "markdown",
      "metadata": {
        "id": "bzfwNDR5C6jS",
        "colab_type": "text"
      },
      "source": [
        "### Concatenación\n",
        "\n",
        "Dos listas se pueden **concatenar con el operador '+'**, o se puede **repetir\n",
        "varias veces el contenido de una lista multiplicándola por un escalar**:"
      ]
    },
    {
      "cell_type": "code",
      "metadata": {
        "id": "AJPCwim1C6jS",
        "colab_type": "code",
        "colab": {}
      },
      "source": [
        "lista1 = [10, 20]\n",
        "lista2 = [50, 60]\n",
        "lista2 + lista1  # concatenacion"
      ],
      "execution_count": 0,
      "outputs": []
    },
    {
      "cell_type": "code",
      "metadata": {
        "id": "Igw0YIJGC6jU",
        "colab_type": "code",
        "colab": {}
      },
      "source": [
        "lista1 * 3 # concatena lista consigo misma"
      ],
      "execution_count": 0,
      "outputs": []
    },
    {
      "cell_type": "code",
      "metadata": {
        "id": "oVKzOcTFC6jW",
        "colab_type": "code",
        "colab": {}
      },
      "source": [
        "lista1 + [30]"
      ],
      "execution_count": 0,
      "outputs": []
    },
    {
      "cell_type": "markdown",
      "metadata": {
        "id": "nPOE3TH5C6jX",
        "colab_type": "text"
      },
      "source": [
        "### Comparación\n",
        "True  porque 20>2\n",
        "\n"
      ]
    },
    {
      "cell_type": "code",
      "metadata": {
        "id": "xsciIjU2C6jY",
        "colab_type": "code",
        "colab": {}
      },
      "source": [
        "L=[20,30,10]\n",
        "L>[2,4,6] #compara elemento a elemento\n"
      ],
      "execution_count": 0,
      "outputs": []
    },
    {
      "cell_type": "markdown",
      "metadata": {
        "id": "DD6uGRj5C6ja",
        "colab_type": "text"
      },
      "source": [
        "### Sublista (slice)\n"
      ]
    },
    {
      "cell_type": "code",
      "metadata": {
        "id": "C3nVQ0gEC6ja",
        "colab_type": "code",
        "colab": {}
      },
      "source": [
        "L[1:5] #lista c/valores entre indices 1 y 2 (3-1)"
      ],
      "execution_count": 0,
      "outputs": []
    },
    {
      "cell_type": "markdown",
      "metadata": {
        "id": "hCKXR0u4C6jc",
        "colab_type": "text"
      },
      "source": [
        "Para conocer el largo de una lista (esto es, cuántos valores contiene), se \n",
        "utiliza la función **`len`** de Python:\n",
        "\n",
        "\n"
      ]
    },
    {
      "cell_type": "code",
      "metadata": {
        "id": "p-d5LsYQC6jd",
        "colab_type": "code",
        "colab": {}
      },
      "source": [
        "lista = ['ana', 'maria', 'luisa', 'teresa']\n",
        "len(lista)"
      ],
      "execution_count": 0,
      "outputs": []
    },
    {
      "cell_type": "code",
      "metadata": {
        "id": "6ipvhL76C6jf",
        "colab_type": "code",
        "colab": {}
      },
      "source": [
        "lista[len(lista)-1]"
      ],
      "execution_count": 0,
      "outputs": []
    },
    {
      "cell_type": "markdown",
      "metadata": {
        "id": "l7aMt8VsC6jl",
        "colab_type": "text"
      },
      "source": [
        "### Aliasing"
      ]
    },
    {
      "cell_type": "code",
      "metadata": {
        "id": "HF6TlVeJC6jn",
        "colab_type": "code",
        "colab": {}
      },
      "source": [
        "L=[20,30,10]"
      ],
      "execution_count": 0,
      "outputs": []
    },
    {
      "cell_type": "code",
      "metadata": {
        "id": "dRyFYfrIC6jo",
        "colab_type": "code",
        "colab": {}
      },
      "source": [
        "M=L #M es un alias de L\n",
        "M"
      ],
      "execution_count": 0,
      "outputs": []
    },
    {
      "cell_type": "code",
      "metadata": {
        "id": "aaYYkuwGC6jq",
        "colab_type": "code",
        "colab": {}
      },
      "source": [
        "M[0]=200\n",
        "M"
      ],
      "execution_count": 0,
      "outputs": []
    },
    {
      "cell_type": "code",
      "metadata": {
        "id": "J_JwICNVC6js",
        "colab_type": "code",
        "colab": {}
      },
      "source": [
        "L"
      ],
      "execution_count": 0,
      "outputs": []
    },
    {
      "cell_type": "markdown",
      "metadata": {
        "id": "kTpGielOC6jt",
        "colab_type": "text"
      },
      "source": [
        "### Indices (comienzan en 0)\n",
        "\n",
        "Para acceder a los valores en una lista se utiliza el índice del casillero\n",
        "correspondiente.  No olvide que el **primer valor** de la lista **corresponde al \n",
        "índice cero**.  Por ejemplo:\n"
      ]
    },
    {
      "cell_type": "code",
      "metadata": {
        "id": "eCmVEBWlC6ju",
        "colab_type": "code",
        "colab": {}
      },
      "source": [
        "lista = ['ana', 'maria', 'luisa', 'teresa']\n",
        "lista[0] # primer valor es [0] (matlab es [1])"
      ],
      "execution_count": 0,
      "outputs": []
    },
    {
      "cell_type": "code",
      "metadata": {
        "id": "_x-IYrRpC6jv",
        "colab_type": "code",
        "colab": {}
      },
      "source": [
        "lista[3]"
      ],
      "execution_count": 0,
      "outputs": []
    },
    {
      "cell_type": "code",
      "metadata": {
        "id": "6UJVbbzbC6jw",
        "colab_type": "code",
        "colab": {}
      },
      "source": [
        "lista[4]"
      ],
      "execution_count": 0,
      "outputs": []
    },
    {
      "cell_type": "markdown",
      "metadata": {
        "id": "pi7KACFgC6jy",
        "colab_type": "text"
      },
      "source": [
        "Note en el código anterior que cuando se intentó acceder a un casillero de l\n",
        "la lista con un valor de índice inválido (por ejemplo, se sale del rango\n",
        "de los índces de la lista), se produjo un **`IndexError`**.\n",
        "\n",
        "Las **listas** son estructuras **mutables**, por lo que se pueden modificar los valores almacenados en sus casilleros:\n",
        "\n"
      ]
    },
    {
      "cell_type": "code",
      "metadata": {
        "id": "uLIlTuKLC6jy",
        "colab_type": "code",
        "colab": {}
      },
      "source": [
        "lista = [10, 20, 30, 40, 50, 60]\n",
        "lista[3] = 'X'\n",
        "lista   "
      ],
      "execution_count": 0,
      "outputs": []
    },
    {
      "cell_type": "markdown",
      "metadata": {
        "id": "nbTdaxXiC6j0",
        "colab_type": "text"
      },
      "source": [
        "### Acceder a un rango de la lista\n",
        "Para acceder a un rango de la lista se usa la notación **`[i:j]`**"
      ]
    },
    {
      "cell_type": "code",
      "metadata": {
        "id": "nBBzmUGHC6j1",
        "colab_type": "code",
        "colab": {}
      },
      "source": [
        "cuadrados = [0, 1, 4, 9, 16, 25, 36, 49, 64, 81, 100]\n",
        "# alternativamente: cuadrados = [x**2 for x in range(0,11)] \n",
        "cuadrados[3:6] # solo mostrar indices 3, 4 y 5"
      ],
      "execution_count": 0,
      "outputs": []
    },
    {
      "cell_type": "markdown",
      "metadata": {
        "id": "5JwgRC_tC6j3",
        "colab_type": "text"
      },
      "source": [
        "### Una lista puede contener otras listas"
      ]
    },
    {
      "cell_type": "code",
      "metadata": {
        "id": "KBUuM-eYC6j3",
        "colab_type": "code",
        "colab": {}
      },
      "source": [
        "matriz = [[10, 20, 30], [40, 50, 60], [70, 80, 90]] \n",
        "matriz[1][1]"
      ],
      "execution_count": 0,
      "outputs": []
    },
    {
      "cell_type": "markdown",
      "metadata": {
        "id": "70YTATRSC6j5",
        "colab_type": "text"
      },
      "source": [
        "## Funciones predefinidas\n",
        "\n",
        "### Ejemplos:\n",
        "\n",
        "```python\n",
        "#sumar numeros de lista L\n",
        "total=sum(L)\n",
        "\n",
        "#menor de una lista\n",
        "menor=min(L)\n",
        "\n",
        "#mayor de una lista\n",
        "mayor=max(L)\n",
        "\n",
        "#largo de una lista\n",
        "n=len(L)\n",
        "\n",
        "````\n",
        "\n"
      ]
    },
    {
      "cell_type": "markdown",
      "metadata": {
        "id": "tR5SM6qfC6j5",
        "colab_type": "text"
      },
      "source": [
        "### Función predefinida: range (rango)\n",
        "\n",
        "Una función útil predefinida de Python es la función **`range`**, que\n",
        "retorna una lista de Python **`list`** que contiene una progresión\n",
        "aritmética de enteros.  Esta función provee tres contratos distintos:\n",
        "\n",
        "```python\n",
        "range(stop): int -> list(int)\n",
        "range(start, stop): int int -> list(int)\n",
        "range(start, stop, step): int int int -> list(int)\n",
        "\n",
        "```\n",
        "\n",
        "La primera versión retorna una lista que comiencia en cero y termina en\n",
        "**`stop - 1`**.  La segunda versión retorna la lista **`[start,\n",
        "start+1, ..., stop-2, stop-1]`**.  En la tercera versión, el parámtero\n",
        "**`step`** específica el incremento (o decremento) entre números\n",
        "consecutivos de la lista.\n",
        "\n",
        "Note que para una lista de largo $n$, la función **`range(n)`** retorna la\n",
        "lista **`[0, 1, 2, ..., n-1]`**, que corresponden a los índices\n",
        "válidos para acceder a los casilleros de la lista.\n",
        "\n",
        "```python\n",
        "#range: int -> list\n",
        "#entrega lista [0,1,…,n-1]\n",
        "#ejemplo: range(3)->[0,1,2]\n",
        "def range(n):\n",
        "  …\n",
        "```\n",
        "\n",
        "Uso habitual:\n",
        "\n",
        "```python\n",
        "for i in range(n): instrucciones\n",
        "```\n",
        "en cada iteración, **`i`** toma un valor de la lista **`[0,1,…,n-1]`**\n",
        "\n",
        "forma general: range(inicial,final,incremento)"
      ]
    },
    {
      "cell_type": "code",
      "metadata": {
        "id": "Yj-sZ4mGC6j6",
        "colab_type": "code",
        "colab": {}
      },
      "source": [
        "range(1,10,2)"
      ],
      "execution_count": 0,
      "outputs": []
    },
    {
      "cell_type": "markdown",
      "metadata": {
        "id": "wcYnQjpfC6j8",
        "colab_type": "text"
      },
      "source": [
        "\n",
        "si se omiten: inicial=0,incremento=1"
      ]
    },
    {
      "cell_type": "code",
      "metadata": {
        "id": "Ce5YQ0U-C6j8",
        "colab_type": "code",
        "colab": {}
      },
      "source": [
        "range(3)"
      ],
      "execution_count": 0,
      "outputs": []
    },
    {
      "cell_type": "code",
      "metadata": {
        "id": "fVEnIaf_C6j-",
        "colab_type": "code",
        "colab": {}
      },
      "source": [
        "range(0,3,1)"
      ],
      "execution_count": 0,
      "outputs": []
    },
    {
      "cell_type": "code",
      "metadata": {
        "id": "J3E5iI7dC6kA",
        "colab_type": "code",
        "colab": {}
      },
      "source": [
        "range(1,5)"
      ],
      "execution_count": 0,
      "outputs": []
    },
    {
      "cell_type": "markdown",
      "metadata": {
        "id": "yxSVi5kYC6kB",
        "colab_type": "text"
      },
      "source": [
        "¿incremento<0? \n"
      ]
    },
    {
      "cell_type": "code",
      "metadata": {
        "id": "C0CzjtpRC6kC",
        "colab_type": "code",
        "colab": {}
      },
      "source": [
        "range(3,0,-1)"
      ],
      "execution_count": 0,
      "outputs": []
    },
    {
      "cell_type": "code",
      "metadata": {
        "id": "J-AfE6-PC6kD",
        "colab_type": "code",
        "colab": {}
      },
      "source": [
        "L = [10, 20, 30, 40, 50, 60]\n",
        "#escribir valores de L en orden inverso\n",
        "for i in range(len(L)-1, -1, -1):\n",
        "    print L[i]"
      ],
      "execution_count": 0,
      "outputs": []
    },
    {
      "cell_type": "markdown",
      "metadata": {
        "id": "F9krSkmDC6kF",
        "colab_type": "text"
      },
      "source": [
        "# Instrucción 'for'\n",
        "\n",
        "\n",
        "La instrucción **`for`** de Python permite iterar sobre una estructura indexada. \n",
        "\n",
        "**Sintaxis:**\n",
        "\n",
        "```python\n",
        "for variable in lista:\n",
        "  # bloque de instrucciones\n",
        "```\n",
        "\n",
        "donde **`variable`** es una variable y **`lista`**\n",
        "\n",
        "**Semántica:**\n",
        "\n",
        "La variable toma consecutivamente todos los valores de la lista. \n",
        "Para cada valor ejecuta las instrucciones\n",
        "\n",
        "\n",
        "es el identificador de la estructura sobre la cual se va a iterar.  En cada \n",
        "iteración del ciclo, se le asignará a la variable un valor almacenado en la \n",
        "la estructura indexada (por ejemplo, los valores almacenados en una lista), \n",
        "que se indica después de la instrucción **`in`**.  Por ejemplo:\n",
        "\n"
      ]
    },
    {
      "cell_type": "code",
      "metadata": {
        "id": "vDSi2L3GC6kF",
        "colab_type": "code",
        "colab": {}
      },
      "source": [
        "lista = [10, 20, 30, 40, 50,60,70]\n",
        "for valor in lista:\n",
        "        print valor"
      ],
      "execution_count": 0,
      "outputs": []
    },
    {
      "cell_type": "markdown",
      "metadata": {
        "id": "gsOOOGsNC6kI",
        "colab_type": "text"
      },
      "source": [
        "En el ejemplo anterior, la instrucción del ciclo se ejecuta cinco veces, una vez por cada asignación realizada a la variable **`valor`**.\n",
        "\n",
        "Note que es posible obtener el mismo resultado anterior si es que a la\n",
        "variable se le asigna un valor de una lista retornada por **`range`**, y\n",
        "luego dicho valor se ocupa como indice para acceder a los distintos\n",
        "casilleros de la lista:\n",
        "\n"
      ]
    },
    {
      "cell_type": "code",
      "metadata": {
        "id": "WUYRYRgEC6kI",
        "colab_type": "code",
        "colab": {}
      },
      "source": [
        "lista = [10, 20, 30, 40, 50]\n",
        "for indice in range(len(lista)):\n",
        "        print lista[indice]"
      ],
      "execution_count": 0,
      "outputs": []
    },
    {
      "cell_type": "markdown",
      "metadata": {
        "id": "vuY1CpWiC6kK",
        "colab_type": "text"
      },
      "source": [
        "## Funciones para listas\n",
        "\n",
        "Notas:\n",
        "- L se considera un alias del argumento\n",
        "- si se modifica parámetro L dentro de la función afecta también al argumento (lista) utilizado en la invocación\n"
      ]
    },
    {
      "cell_type": "code",
      "metadata": {
        "id": "0d-ecO6tC6kL",
        "colab_type": "code",
        "colab": {}
      },
      "source": [
        "#suma: list (num) -> num\n",
        "#sumar numeros de una lista\n",
        "#ej: suma([20,30,10])->60\n",
        "\n",
        "def suma(L):\n",
        "    assert type(L)==list\n",
        "    s=0\n",
        "    for numero in L:\n",
        "        s = s + numero\n",
        "    return s\n",
        "\n",
        "assert suma([20,30,10])==60"
      ],
      "execution_count": 0,
      "outputs": []
    },
    {
      "cell_type": "code",
      "metadata": {
        "id": "9DDmlIMvC6kN",
        "colab_type": "code",
        "colab": {}
      },
      "source": [
        "# usando range\n",
        "def suma(L):\n",
        "    assert type(L)==list\n",
        "    s=0\n",
        "    for i in range(len(L)):\n",
        "        s = s + L[i]\n",
        "    return s\n",
        "\n",
        "assert suma([20,30,10])==60"
      ],
      "execution_count": 0,
      "outputs": []
    },
    {
      "cell_type": "code",
      "metadata": {
        "id": "CUYuGye1C6kP",
        "colab_type": "code",
        "colab": {}
      },
      "source": [
        "#indice: any list(any) -> int\n",
        "#indice (desde 0) de 1ª aparición de x en L\n",
        "#-1 si no está\n",
        "#ej: indice(30,[20,30,10])->1\n",
        "\n",
        "def indice(x,L):\n",
        "    assert type(L)==list\n",
        "    for i in range( len(L) ):\n",
        "        if L[i]==x: return i\n",
        "    return -1\n",
        "\n",
        "assert indice(30,[20,30,10]) == 1\n",
        "assert indice(40,[20,30,10]) == -1\n"
      ],
      "execution_count": 0,
      "outputs": []
    },
    {
      "cell_type": "code",
      "metadata": {
        "id": "q4Ro47tCC6kQ",
        "colab_type": "code",
        "colab": {}
      },
      "source": [
        "help(list)"
      ],
      "execution_count": 0,
      "outputs": []
    },
    {
      "cell_type": "markdown",
      "metadata": {
        "id": "KeQvYz7RC6kR",
        "colab_type": "text"
      },
      "source": [
        "## Ejercicio 9:\n",
        "\n",
        "Ejercicio: Escribir usando listas de python **`buscar(nombre, agenda)`** entregando fono  \n",
        "\n",
        "```python\n",
        "estructura.mutable(\"registro\",\"nombre fono\")\n",
        "#agenda: list(registro)\n",
        "agenda=[registro(\"a\",2),registro(\"c\",1),registro(\"d\",4)]\n",
        "```"
      ]
    }
  ]
}