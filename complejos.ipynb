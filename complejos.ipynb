{
  "nbformat": 4,
  "nbformat_minor": 0,
  "metadata": {
    "colab": {
      "name": "complejos.ipynb",
      "version": "0.3.2",
      "provenance": [],
      "collapsed_sections": [],
      "include_colab_link": true
    },
    "kernelspec": {
      "name": "python2",
      "display_name": "Python 2"
    }
  },
  "cells": [
    {
      "cell_type": "markdown",
      "metadata": {
        "id": "view-in-github",
        "colab_type": "text"
      },
      "source": [
        "<a href=\"https://colab.research.google.com/github/bpoblete/CC1002_9/blob/master/complejos.ipynb\" target=\"_parent\"><img src=\"https://colab.research.google.com/assets/colab-badge.svg\" alt=\"Open In Colab\"/></a>"
      ]
    },
    {
      "cell_type": "code",
      "metadata": {
        "id": "swLLCH3VATp4",
        "colab_type": "code",
        "colab": {}
      },
      "source": [
        "import estructura\n",
        "# Diseno de la estructura\n",
        "# complejo: real (int) imaginario(int)\n",
        "estructura.crear(\"complejo\", \"real imaginario\")\n",
        "\n",
        "# Contrato\n",
        "# sumaComplejos: complejo complejo -> complejo\n",
        "\n",
        "# Proposito\n",
        "# crear un nuevo numero complejo que corresponda \n",
        "# a la suma de dos numeros complejos c1 y c2\n",
        "\n",
        "# Ejemplo:\n",
        "# sumaComplejos(complejo(1,2), complejo(3,4))\n",
        "# devuelve complejo(4,6)\n",
        "\n",
        "# Cuerpo de la funcion\n",
        "def sumaComplejos(c1,c2):\n",
        "  real = c1.real+c2.real\n",
        "  imaginario = c1.imaginario+c2.imaginario\n",
        "  return complejo(real,imaginario)\n",
        "  \n",
        "# Test\n",
        "c12=complejo(1,2)\n",
        "c34=complejo(3,4)\n",
        "assert sumaComplejos(c12,c34) == complejo(4,6)\n",
        "\n",
        "\n",
        "\n",
        "# completar toda la receta de disenno\n",
        "# ...\n",
        "# ...\n",
        "# ...\n",
        "\n",
        "def multiplicacionComplejos(c1,c2):\n",
        "...\n",
        "...\n",
        "\n",
        "\n",
        "\n",
        "# completar toda la receta de disenno\n",
        "# ...\n",
        "# ...\n",
        "# ...\n",
        "\n",
        "def divisionComplejos(c1,c2):\n",
        "...\n",
        "...\n"
      ],
      "execution_count": 0,
      "outputs": []
    }
  ]
}