{
  "nbformat": 4,
  "nbformat_minor": 0,
  "metadata": {
    "kernelspec": {
      "display_name": "Python 2",
      "language": "python",
      "name": "python2"
    },
    "language_info": {
      "codemirror_mode": {
        "name": "ipython",
        "version": 2
      },
      "file_extension": ".py",
      "mimetype": "text/x-python",
      "name": "python",
      "nbconvert_exporter": "python",
      "pygments_lexer": "ipython2",
      "version": "2.7.13"
    },
    "colab": {
      "name": "Clase 11 Abstracción Funcional.ipynb",
      "version": "0.3.2",
      "provenance": [],
      "collapsed_sections": [],
      "include_colab_link": true
    }
  },
  "cells": [
    {
      "cell_type": "markdown",
      "metadata": {
        "id": "view-in-github",
        "colab_type": "text"
      },
      "source": [
        "<a href=\"https://colab.research.google.com/github/bpoblete/CC1002_9/blob/master/Clase_11_Abstraccio%CC%81n_Funcional.ipynb\" target=\"_parent\"><img src=\"https://colab.research.google.com/assets/colab-badge.svg\" alt=\"Open In Colab\"/></a>"
      ]
    },
    {
      "cell_type": "markdown",
      "metadata": {
        "id": "t3-hSsL5b5q6",
        "colab_type": "text"
      },
      "source": [
        "# Clase 11: Abstracción Funcional (Cap. 10)\n",
        "\n",
        "Hay muchos programas que son muy similares algún valor o función\n",
        "\n",
        "### Ejemplo simple: \n",
        "\n",
        "1. Una función que busca si aparece un string **`\"pelota\"`** en una lista\n"
      ]
    },
    {
      "cell_type": "code",
      "metadata": {
        "id": "sKCelIdmb5q8",
        "colab_type": "code",
        "colab": {}
      },
      "source": [
        "from lista import *\n",
        "\n",
        "# hayPelotas :  lista(str) -> bool\n",
        "# Determina si lista contiene\n",
        "# el string pelota\n",
        "# ejemplo hayPelotas(crearLista(’pelota’,listaVacia)) devuelve True\n",
        "def hayPelotas(unaLista):\n",
        "    if vacia(unaLista):\n",
        "        return False\n",
        "    else:\n",
        "        if cabeza(unaLista) == \"pelota\":\n",
        "            return True\n",
        "        else:\n",
        "            return hayPelotas(cola(unaLista))"
      ],
      "execution_count": 0,
      "outputs": []
    },
    {
      "cell_type": "markdown",
      "metadata": {
        "id": "P321pSgGeXTm",
        "colab_type": "text"
      },
      "source": [
        "Ejecutamos la función:"
      ]
    },
    {
      "cell_type": "code",
      "metadata": {
        "id": "0pv522IJb5q_",
        "colab_type": "code",
        "colab": {}
      },
      "source": [
        "hayPelotas(crearLista('pelota',listaVacia))"
      ],
      "execution_count": 0,
      "outputs": []
    },
    {
      "cell_type": "markdown",
      "metadata": {
        "id": "TcTg8NtUb5rB",
        "colab_type": "text"
      },
      "source": [
        "**Es practicamente idéntica a:**\n",
        "\n",
        "2. Una función que busca si aparece un string **\"auto\"** en una lista\n",
        "\n"
      ]
    },
    {
      "cell_type": "code",
      "metadata": {
        "id": "wqHU6j3-b5rC",
        "colab_type": "code",
        "colab": {}
      },
      "source": [
        "# hayAutos :  lista(str) -> bool\n",
        "# Determina si lista contiene\n",
        "# el string auto\n",
        "# ejemplo hayAutos(crearLista(’auto’,listaVacia)) devuelve True\n",
        "def hayAutos(unaLista):\n",
        "    if vacia(unaLista):\n",
        "        return False\n",
        "    else:\n",
        "        if cabeza(unaLista) == \"auto\":\n",
        "            return True\n",
        "        else:\n",
        "            return hayAutos(cola(unaLista))"
      ],
      "execution_count": 0,
      "outputs": []
    },
    {
      "cell_type": "code",
      "metadata": {
        "id": "2Wzo07tCb5rF",
        "colab_type": "code",
        "colab": {}
      },
      "source": [
        "hayAutos(crearLista('auto',listaVacia))"
      ],
      "execution_count": 0,
      "outputs": []
    },
    {
      "cell_type": "markdown",
      "metadata": {
        "id": "Kp9RFkBhb5rI",
        "colab_type": "text"
      },
      "source": [
        "Ambas funciones consumen un string y lo buscan adentro de una lista de strings, la única diferencia es el nombre de las funciones y el string que buscan. \n",
        "\n",
        "- Al **proceso de combinar dos o más funciones** en una sola más genérica se le denomina <mark>**abstracción funcional**</mark>\n",
        "- La abstracción funcional es muy beneficiosa en programación\n",
        "- Requiere agregar/modificar parámetros a las funciones para hacerlas genéricas\n",
        "\n",
        "\n",
        "**La abstracción funcional de `hayAutos` y `hayPelotas` queda como:**"
      ]
    },
    {
      "cell_type": "code",
      "metadata": {
        "id": "A9AiYVhUb5rI",
        "colab_type": "code",
        "colab": {}
      },
      "source": [
        "# contiene : str lista(str) -> bool\n",
        "# Determina si lista contiene el string s\n",
        "# ejemplo contiene(’auto’, crearLista(’auto’, listaVacia)) retorna True\n",
        "def contiene(elemento, unaLista):\n",
        "    if vacia(unaLista): \n",
        "        return False\n",
        "    else:\n",
        "        if cabeza(unaLista) == elemento:\n",
        "            return True \n",
        "        else:\n",
        "            return contiene(elemento, cola(unaLista))"
      ],
      "execution_count": 0,
      "outputs": []
    },
    {
      "cell_type": "markdown",
      "metadata": {
        "id": "wgmDTm8om3EV",
        "colab_type": "text"
      },
      "source": [
        "<mark>La única diferencia con las funciones anteriores es el parámetro **`'elemento'`**</mark>"
      ]
    },
    {
      "cell_type": "code",
      "metadata": {
        "id": "Fo27HZbjb5rL",
        "colab_type": "code",
        "colab": {}
      },
      "source": [
        "contiene('auto',crearLista('auto',listaVacia))"
      ],
      "execution_count": 0,
      "outputs": []
    },
    {
      "cell_type": "code",
      "metadata": {
        "id": "dvfGsxOab5rP",
        "colab_type": "code",
        "colab": {}
      },
      "source": [
        "contiene('pelota',crearLista('auto',listaVacia))"
      ],
      "execution_count": 0,
      "outputs": []
    },
    {
      "cell_type": "markdown",
      "metadata": {
        "id": "oZFCL48db5rR",
        "colab_type": "text"
      },
      "source": [
        "## filtro: seleccionar elementos de una lista\n",
        "\n",
        "**Veamos un ejemplo más interesante:**\n"
      ]
    },
    {
      "cell_type": "code",
      "metadata": {
        "id": "qAMSLShFb5rS",
        "colab_type": "code",
        "colab": {}
      },
      "source": [
        "# inferiores:  lista(num) num -> lista(num)\n",
        "# Construye una lista de aquellos numeros\n",
        "# de unaLista que sean inferiores a n\n",
        "# ejemplo:  inferiores(crearLista(1,\n",
        "# crearLista(2, listaVacia)), 2)\n",
        "# devuelve (1, listaVacia)\n",
        "def inferiores(unaLista, n):\n",
        "    if vacia(unaLista):\n",
        "        return listaVacia\n",
        "    else:\n",
        "        if cabeza(unaLista)<n:\n",
        "            return crearLista(cabeza(unaLista),inferiores(cola(unaLista),n))\n",
        "        else:\n",
        "            return inferiores(cola(unaLista), n)"
      ],
      "execution_count": 0,
      "outputs": []
    },
    {
      "cell_type": "code",
      "metadata": {
        "id": "e22YL9o5b5rV",
        "colab_type": "code",
        "colab": {}
      },
      "source": [
        "L = lista(4,lista(2,lista(3,lista(1,listaVacia)))) # lista() es equivalente a crearLista()"
      ],
      "execution_count": 0,
      "outputs": []
    },
    {
      "cell_type": "code",
      "metadata": {
        "id": "lcs8_Rl0njeY",
        "colab_type": "code",
        "colab": {}
      },
      "source": [
        "L"
      ],
      "execution_count": 0,
      "outputs": []
    },
    {
      "cell_type": "code",
      "metadata": {
        "id": "kbJpwygyb5rX",
        "colab_type": "code",
        "colab": {}
      },
      "source": [
        "inferiores(L,3)"
      ],
      "execution_count": 0,
      "outputs": []
    },
    {
      "cell_type": "code",
      "metadata": {
        "id": "C1_Zmp0ub5rZ",
        "colab_type": "code",
        "colab": {}
      },
      "source": [
        "# superiores:  lista(num) num -> lista(num)\n",
        "# Construye una lista de aquellos numeros\n",
        "# de unaLista que sean superiores a n\n",
        "# ejemplo:  superiores(crearLista(2,\n",
        "# crearLista(4, listaVacia)), 2)\n",
        "# devuelve (4, listaVacia)\n",
        "def superiores(unaLista, n):\n",
        "    if vacia(unaLista):\n",
        "        return listaVacia\n",
        "    else:\n",
        "        if cabeza(unaLista)>n:\n",
        "            return crearLista(cabeza(unaLista),superiores(cola(unaLista),n))\n",
        "        else:\n",
        "            return superiores(cola(unaLista),n)"
      ],
      "execution_count": 0,
      "outputs": []
    },
    {
      "cell_type": "code",
      "metadata": {
        "id": "hbAOzYtpb5rc",
        "colab_type": "code",
        "colab": {}
      },
      "source": [
        "superiores(L,2)"
      ],
      "execution_count": 0,
      "outputs": []
    },
    {
      "cell_type": "markdown",
      "metadata": {
        "id": "Qcpod3Jrb5re",
        "colab_type": "text"
      },
      "source": [
        "\n",
        "\n",
        "La función **`inferiores`** consume una lista\n",
        "de números y un número, y produce una lista de todos aquellos números de la\n",
        "lista que son inferiores a ese número; la función **`superiores`** produce una\n",
        "lista con todos aquellos números que están por encima de ese número.\n",
        "\n",
        "- La diferencia entre ambas funciones es el **operador de la comparación**. \n",
        "  - La primera ocupa **<** y \n",
        "  - la segunda ocupa **>**.  \n",
        "\n",
        "<mark>¿Cómo podríamos hacer una función más general (abstracción) para ambas?</mark>\n",
        "\n",
        "\n",
        "**¡En Python una función puede recibir otra función como argumento!**\n",
        "\n",
        "Entonces, la abstracción funcional que utilizaremos es una llamada **filtro** o **función de selección**, ya que permite seleccionar algunos elementos de la  lista.\n"
      ]
    },
    {
      "cell_type": "code",
      "metadata": {
        "id": "W9vhQd3jb5rf",
        "colab_type": "code",
        "colab": {}
      },
      "source": [
        "#filtro: lista(any) (any any->bool) any -> lista(any)\n",
        "#Devuelve lista con valores de L para los que comparacion con x es True\n",
        "#ej:filtro(lista(5,lista(4,None)),menorQue,5)->lista(4,None)\n",
        "\n",
        "def filtro(operador,unaLista,n): \n",
        "    if vacia(unaLista):\n",
        "        return listaVacia \n",
        "    else:\n",
        "        if operador(cabeza(unaLista),n):\n",
        "            return crearLista(cabeza(unaLista),filtro(operador,cola(unaLista), n))\n",
        "        else:\n",
        "            return filtro(operador , cola(unaLista), n)"
      ],
      "execution_count": 0,
      "outputs": []
    },
    {
      "cell_type": "markdown",
      "metadata": {
        "id": "sxZd1mr6b5ri",
        "colab_type": "text"
      },
      "source": [
        "Según cómo definamos la función **`operador`** será los elementos que nuestra función filtro deje pasar a la nueva lista (por eso se llama filtro!)"
      ]
    },
    {
      "cell_type": "code",
      "metadata": {
        "id": "nIJS1dzZb5rk",
        "colab_type": "code",
        "colab": {}
      },
      "source": [
        "# menorQue: num num -> bool\n",
        "# devuelve True si el primer argumento es menor que el segundo\n",
        "# y False en el caso contrario\n",
        "# Ejemplo: menorQue(4,2) -> False \n",
        "def menorQue(x,y):\n",
        "    return x < y\n",
        "\n",
        "assert not menorQue(4,2)"
      ],
      "execution_count": 0,
      "outputs": []
    },
    {
      "cell_type": "markdown",
      "metadata": {
        "id": "VzxlD17Lb5rn",
        "colab_type": "text"
      },
      "source": [
        "Con esta función ahora probamos nuestro filtro:"
      ]
    },
    {
      "cell_type": "code",
      "metadata": {
        "id": "TtY333abb5rn",
        "colab_type": "code",
        "colab": {}
      },
      "source": [
        "L #recordemos el valor de L"
      ],
      "execution_count": 0,
      "outputs": []
    },
    {
      "cell_type": "code",
      "metadata": {
        "id": "9SkxDxFab5rr",
        "colab_type": "code",
        "colab": {}
      },
      "source": [
        "filtro(menorQue, L, 3)"
      ],
      "execution_count": 0,
      "outputs": []
    },
    {
      "cell_type": "markdown",
      "metadata": {
        "id": "qmzTSolJb5rt",
        "colab_type": "text"
      },
      "source": [
        "Podemos definir otra función operador:"
      ]
    },
    {
      "cell_type": "code",
      "metadata": {
        "id": "_RzogtM8b5ru",
        "colab_type": "code",
        "colab": {}
      },
      "source": [
        "# mayorQue: num num -> bool\n",
        "# devuelve True si el primer argumento es mayor que el segundo\n",
        "# y False en el caso contrario\n",
        "# Ejemplo: mayorQue(4,2) -> True \n",
        "def mayorQue(x,y):\n",
        "    return x > y\n",
        "\n",
        "assert mayorQue(4,2)"
      ],
      "execution_count": 0,
      "outputs": []
    },
    {
      "cell_type": "code",
      "metadata": {
        "id": "YKFcQYi4b5rw",
        "colab_type": "code",
        "colab": {}
      },
      "source": [
        "filtro(mayorQue, L, 3)"
      ],
      "execution_count": 0,
      "outputs": []
    },
    {
      "cell_type": "markdown",
      "metadata": {
        "id": "zezK8Hhlb5r1",
        "colab_type": "text"
      },
      "source": [
        "### Otro ejemplo de filtro o función de selección\n",
        "\n",
        "Seleccionar los números primos de una lista, para eso usamos como **operador** una función **`esPrimo()`** que indica si un número es primo o no (vista en la clase 8):"
      ]
    },
    {
      "cell_type": "code",
      "metadata": {
        "id": "nEdTdfH2b5r3",
        "colab_type": "code",
        "colab": {}
      },
      "source": [
        "# esPrimo: int -> bool\n",
        "# Función auxiliar, indica si un número es primo o no\n",
        "# Ejemplo: esPrimo(13)-> True, esPrimo(14)-> False\n",
        "def esPrimo(n,divisor=3):\n",
        "    assert type(n) == int and n>=2\n",
        "    if n==2:\n",
        "        return True\n",
        "    if n%2==0:  # es par\n",
        "        return False\n",
        "    if divisor**2 > n:\n",
        "        return True\n",
        "    if n % divisor == 0: # es divisible perfectamente por un número menor a n\n",
        "        return False\n",
        "    return esPrimo(n,divisor+2)\n",
        "\n",
        "assert not esPrimo(12)\n",
        "assert esPrimo(11)\n"
      ],
      "execution_count": 0,
      "outputs": []
    },
    {
      "cell_type": "markdown",
      "metadata": {
        "id": "29-Ig9cGb5r5",
        "colab_type": "text"
      },
      "source": [
        "Y utilizamos el operador **`esPrimo()`** en nuestro nuevo filtro **`filtroPrimos`**"
      ]
    },
    {
      "cell_type": "code",
      "metadata": {
        "id": "WazDqsekb5r7",
        "colab_type": "code",
        "colab": {}
      },
      "source": [
        "from lista import *\n",
        "#filtroPrimos: lista(int) -> lista(int)\n",
        "#Devuelve una lista que contiene solo los numeros primos\n",
        "#ej: filtroPrimos(lista(3,lista(6,None)) ->\n",
        "#    lista(3,None)\n",
        "\n",
        "def filtroPrimos(L):\n",
        "    assert type(L)==lista or L == None\n",
        "    \n",
        "    if vacia(L): # L == None\n",
        "        return listaVacia #return None\n",
        "    else:\n",
        "        if(esPrimo(cabeza(L))): #esPrimo es el operador que filtra\n",
        "            return crearLista(cabeza(L),filtroPrimos(cola(L)))\n",
        "        else:\n",
        "            return filtroPrimos(cola(L))\n",
        "\n",
        "assert filtroPrimos(lista(3,lista(6,None)))==lista(3,None)\n"
      ],
      "execution_count": 0,
      "outputs": []
    },
    {
      "cell_type": "markdown",
      "metadata": {
        "id": "M5_K9vC6b5r_",
        "colab_type": "text"
      },
      "source": [
        "### En resúmen\n",
        "\n",
        "Forma estándar de una función de tipo filtro:\n",
        "\n",
        "```python\n",
        "# filtro: (X -> bool) lista(X) -> lista(X)\n",
        "# devuelve lista con todos los valores donde operador devuelve True \n",
        "def filtro(operador , unaLista):\n",
        "    if vacia(unaLista): \n",
        "        return listaVacia\n",
        "    else:\n",
        "        if operador(cabeza(unaLista)):\n",
        "            return lista(cabeza(unaLista), filtro(operador, cola(unaLista)))\n",
        "        else:\n",
        "            return filtro(operador , cola(unaLista))\n",
        "# Tests\n",
        "## ...\n",
        "```"
      ]
    },
    {
      "cell_type": "markdown",
      "metadata": {
        "id": "dcptG4sjb5sB",
        "colab_type": "text"
      },
      "source": [
        "## Repeticiones dentro de una función\n",
        "\n",
        "La repetición de código no sólo se da entre funciones relacionadas, sino que\n",
        "también puede darse dentro de una misma función.  Observemos la \n",
        "función **`mayorLargo`**:\n",
        "\n"
      ]
    },
    {
      "cell_type": "code",
      "metadata": {
        "id": "TH--fK08b5sC",
        "colab_type": "code",
        "colab": {}
      },
      "source": [
        "# largo: lista(any)->num\n",
        "# Función auxiliar que devuelve el largo de una lista, si la lista es vacía devuelve 0\n",
        "# Ejemplo largo(crearLista(4,crearLista(3,listaVacia))) -> 2\n",
        "def largo(L):\n",
        "    if L == None or type(L) != lista:\n",
        "        return 0\n",
        "    else:\n",
        "        return 1+largo(cola(L))\n",
        "assert largo(crearLista(4,crearLista(3,listaVacia))) == 2\n",
        "\n",
        "\n",
        "# mayorLargo: lista(any) lista(any) -> num\n",
        "# Devuelve el largo de la lista mas larga, si ambas son vacias\n",
        "# devuelve -1\n",
        "# Ejemplo: mayorLargo (crearLista(5, listaVacia), listaVacia) -> 1\n",
        "def mayorLargo(x, y):\n",
        "    if vacia(x) and vacia(y):\n",
        "        return -1\n",
        "    elif largo(x) > largo(y):\n",
        "        return largo(x)\n",
        "    else:\n",
        "        return largo(y)\n"
      ],
      "execution_count": 0,
      "outputs": []
    },
    {
      "cell_type": "markdown",
      "metadata": {
        "id": "_LTNn1pTb5sF",
        "colab_type": "text"
      },
      "source": [
        "\n",
        "\n",
        "- En este ejemplo se observa que el largo de cada lista se calcula 2 veces\n",
        "- Esto es poco eficiente\n",
        "- Se resuelve utilizando una función auxiliar"
      ]
    },
    {
      "cell_type": "code",
      "metadata": {
        "id": "lItWjNYLb5sH",
        "colab_type": "code",
        "colab": {}
      },
      "source": [
        "# maximo: num num -> num\n",
        "# Devuelve el maximo entre x e y\n",
        "# ejemplo: maximo(4, 2) -> 4\n",
        "def maximo(x, y):\n",
        "    if x > y:\n",
        "        return x\n",
        "    else:\n",
        "        return y\n",
        "\n",
        "# listaMasLarga: lista lista -> numero\n",
        "# Devuelve el largo de la lista mas larga, si ambas son vacias\n",
        "# devuelve -1\n",
        "# Ejemplo: listaMasLarga (crearLista(5, listaVacia), listaVacia) -> 1\n",
        "def listaMasLarga(x, y):\n",
        "    if vacia(x) and vacia(y):\n",
        "        return -1\n",
        "    else:\n",
        "        return maximo(largo(x), largo(y))"
      ],
      "execution_count": 0,
      "outputs": []
    },
    {
      "cell_type": "code",
      "metadata": {
        "id": "xORNrM37b5sK",
        "colab_type": "code",
        "colab": {}
      },
      "source": [
        "L"
      ],
      "execution_count": 0,
      "outputs": []
    },
    {
      "cell_type": "code",
      "metadata": {
        "id": "bLQwC80Bb5sO",
        "colab_type": "code",
        "colab": {}
      },
      "source": [
        "L2 = lista(7,lista(4,None))\n",
        "L2"
      ],
      "execution_count": 0,
      "outputs": []
    },
    {
      "cell_type": "code",
      "metadata": {
        "id": "C8v-TGfub5sR",
        "colab_type": "code",
        "colab": {}
      },
      "source": [
        "listaMasLarga(L,L2)"
      ],
      "execution_count": 0,
      "outputs": []
    },
    {
      "cell_type": "markdown",
      "metadata": {
        "id": "P6iDCIcxb5sV",
        "colab_type": "text"
      },
      "source": [
        "## Mapa: Aplicar una misma función a cada elemento de una lista \n",
        "\n",
        "Este es otro caso común que es cuando a cada elemento de una lista queremos aplicarle una función, por ejemplo, a una lista de estructuras de tipo **`fraccion`** (vistas en la clase 8 y usadas para almacenar fracciones), queremos simplificarlas una por una:"
      ]
    },
    {
      "cell_type": "code",
      "metadata": {
        "id": "1vufiy2bb5sW",
        "colab_type": "code",
        "colab": {}
      },
      "source": [
        "from lista import *\n",
        "from fraccion import *\n",
        "#simplificaListaFracciones: lista(fraccion) -> lista(fraccion)\n",
        "#simplificar c/u de las fraccciones de una lista\n",
        "#ej: simplificaListaFracciones(lista(fraccion(2,4),None))->\n",
        "#        lista(fraccion(1,2),None)\n",
        "\n",
        "def simplificaListaFracciones(L):\n",
        "    assert type(L)==lista or L==listaVacia\n",
        "    if vacia(L): \n",
        "        return None\n",
        "    else:\n",
        "        return lista(simplificaFracciones(cabeza(L)),simplificaListaFracciones(cola(L)))\n",
        "\n",
        "assert simplificaListaFracciones(lista(fraccion(2,4),listaVacia))== lista(fraccion(1,2),None)\n"
      ],
      "execution_count": 0,
      "outputs": []
    },
    {
      "cell_type": "code",
      "metadata": {
        "id": "K5qdpYtsb5sY",
        "colab_type": "code",
        "colab": {}
      },
      "source": [
        "simplificaListaFracciones(lista(fraccion(2,4),lista(fraccion(3,9),listaVacia)))"
      ],
      "execution_count": 0,
      "outputs": []
    },
    {
      "cell_type": "markdown",
      "metadata": {
        "id": "JPrdTOZAb5se",
        "colab_type": "text"
      },
      "source": [
        "### La forma estándar de una función de tipo \"mapa\"\n",
        "\n"
      ]
    },
    {
      "cell_type": "code",
      "metadata": {
        "id": "af2YfFPIb5sf",
        "colab_type": "code",
        "colab": {}
      },
      "source": [
        "# mapa : (X -> Y) lista(X) -> lista(Y)\n",
        "# devuelve lista con funcion aplicada a todos sus elementos\n",
        "def mapa(funcion, unaLista): \n",
        "    if vacia(unaLista): \n",
        "        return listaVacia\n",
        "    else:\n",
        "        return lista(funcion(cabeza(unaLista)), mapa(funcion, cola(unaLista)))\n",
        "# Tests\n",
        "# ...\n"
      ],
      "execution_count": 0,
      "outputs": []
    },
    {
      "cell_type": "code",
      "metadata": {
        "id": "KKDlu4kSb5sh",
        "colab_type": "code",
        "colab": {}
      },
      "source": [
        "L = crearLista(fraccion(2,4), crearLista(fraccion(3,9),listaVacia))\n",
        "L"
      ],
      "execution_count": 0,
      "outputs": []
    },
    {
      "cell_type": "code",
      "metadata": {
        "id": "SbF-MB7Fb5sl",
        "colab_type": "code",
        "colab": {}
      },
      "source": [
        "mapa(simplificaFracciones,L) # simplifica la lista L de tipo fraccion"
      ],
      "execution_count": 0,
      "outputs": []
    },
    {
      "cell_type": "markdown",
      "metadata": {
        "id": "xs_RJQCrb5sn",
        "colab_type": "text"
      },
      "source": [
        "## Fold: procesar una lista para obtener un único valor\n",
        "\n",
        "Otros problemas relacionados con listas que se pueden abstraer en una única función son los siguientes:\n",
        "\n",
        "- Sumar/multiplicar todos los valores de una lista.\n",
        "- Concatenar todas las palabras de una lista.\n",
        "\n",
        "Estos problemas implican procesar los elementos de la lista para obtener un\n",
        "único valor.  Esto se puede abstraer a una función que llamaremos **fold** (\"reducir\"):\n",
        "\n",
        "- recibe una lista, un valor inicial y una función de dos argumentos\n",
        "- procesa los elementos de la lista y devuelve un único valor.\n",
        "- la lista debe poseer al menos un valor para poder ser procesada.\n",
        "\n"
      ]
    },
    {
      "cell_type": "markdown",
      "metadata": {
        "id": "qpxzA17Jb5so",
        "colab_type": "text"
      },
      "source": [
        "### Ejemplo: sumar valores de una lista"
      ]
    },
    {
      "cell_type": "code",
      "metadata": {
        "id": "3Uv35hOVb5so",
        "colab_type": "code",
        "colab": {}
      },
      "source": [
        "# Funcion de dos argumentos requerida\n",
        "def sumar(x, y):\n",
        "    return x + y\n",
        "\n",
        "# sumarValoresLista: lista -> num\n",
        "# suma los valores dentro de la lista y devuelve el resultado\n",
        "# ejemplo: si unaLista = lista(10, lista(20, lista(30, listaVacia)))\n",
        "# sumarValores(unaLista) devuelve 60\n",
        "def sumarValoresLista(unaLista):\n",
        "    return fold(sumar, 0, unaLista)"
      ],
      "execution_count": 0,
      "outputs": []
    },
    {
      "cell_type": "markdown",
      "metadata": {
        "id": "rDT9cqcrb5sq",
        "colab_type": "text"
      },
      "source": [
        "### Ejemplo: multiplicar valores de una lista"
      ]
    },
    {
      "cell_type": "code",
      "metadata": {
        "id": "e_FaCVw2b5sq",
        "colab_type": "code",
        "colab": {}
      },
      "source": [
        "# Funcion de dos argumentos requerida\n",
        "def multiplicar(x, y):\n",
        "    return x * y\n",
        "\n",
        "#s umarValoresLista: lista -> num\n",
        "# multiplica los valores dentro de la lista y devuelve el resultado\n",
        "# ejemplo: si unaLista = lista(5, lista(3, lista(3, listaVacia)))\n",
        "# multiplicarValores(unaLista) devuelve 45\n",
        "def multiplicarValoresLista(unaLista):\n",
        "    return fold(multiplicar, 1, unaLista)"
      ],
      "execution_count": 0,
      "outputs": []
    },
    {
      "cell_type": "markdown",
      "metadata": {
        "id": "Vc9k_5LYb5ss",
        "colab_type": "text"
      },
      "source": [
        "### Forma estándar de una función tipo \"fold\""
      ]
    },
    {
      "cell_type": "code",
      "metadata": {
        "id": "NrwLRhYrb5st",
        "colab_type": "code",
        "colab": {}
      },
      "source": [
        "# fold: (X X -> X) X lista(X) -> X\n",
        "# procesa la lista con funcion y devuelve un unico valor\n",
        "# el valor init se usa como valor inicial para procesar el primer\n",
        "# valor de la lista y como acumulador para los resultados\n",
        "# parciales\n",
        "# pre-condicion: la lista debe tener al menos un valor\n",
        "\n",
        "def fold(funcion, init, unaLista):\n",
        "    if vacia(cola(unaLista)): # un solo valor\n",
        "        return funcion(init, cabeza(unaLista))\n",
        "    else:\n",
        "        return fold(funcion, funcion(init, cabeza(unaLista)), cola(unaLista))\n",
        "\n",
        "# Tests\n",
        "valores = lista(1, lista(2, lista(3, lista(4, listaVacia))))\n",
        "assert fold(sumar, 0, valores) == 10"
      ],
      "execution_count": 0,
      "outputs": []
    },
    {
      "cell_type": "code",
      "metadata": {
        "id": "iH5vDpHTb5sw",
        "colab_type": "code",
        "colab": {}
      },
      "source": [
        "unaLista = lista(5, lista(3, lista(3, listaVacia)))"
      ],
      "execution_count": 0,
      "outputs": []
    },
    {
      "cell_type": "code",
      "metadata": {
        "id": "VIXQit6sb5sz",
        "colab_type": "code",
        "colab": {}
      },
      "source": [
        "sumarValoresLista(unaLista)"
      ],
      "execution_count": 0,
      "outputs": []
    },
    {
      "cell_type": "code",
      "metadata": {
        "id": "C9ixU3CEb5s2",
        "colab_type": "code",
        "colab": {}
      },
      "source": [
        "multiplicarValoresLista(unaLista)"
      ],
      "execution_count": 0,
      "outputs": []
    }
  ]
}