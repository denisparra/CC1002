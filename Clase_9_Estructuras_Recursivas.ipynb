{
  "nbformat": 4,
  "nbformat_minor": 0,
  "metadata": {
    "kernelspec": {
      "display_name": "Python 2",
      "language": "python",
      "name": "python2"
    },
    "language_info": {
      "codemirror_mode": {
        "name": "ipython",
        "version": 2
      },
      "file_extension": ".py",
      "mimetype": "text/x-python",
      "name": "python",
      "nbconvert_exporter": "python",
      "pygments_lexer": "ipython2",
      "version": "2.7.13"
    },
    "colab": {
      "name": "Clase 9 Estructuras Recursivas.ipynb",
      "version": "0.3.2",
      "provenance": [],
      "collapsed_sections": [
        "_PwHwJLDaSZZ"
      ],
      "include_colab_link": true
    }
  },
  "cells": [
    {
      "cell_type": "markdown",
      "metadata": {
        "id": "view-in-github",
        "colab_type": "text"
      },
      "source": [
        "<a href=\"https://colab.research.google.com/github/bpoblete/CC1002_9/blob/master/Clase_9_Estructuras_Recursivas.ipynb\" target=\"_parent\"><img src=\"https://colab.research.google.com/assets/colab-badge.svg\" alt=\"Open In Colab\"/></a>"
      ]
    },
    {
      "cell_type": "markdown",
      "metadata": {
        "id": "mVKtKv9QaSX9",
        "colab_type": "text"
      },
      "source": [
        "# Estructuras de Datos Recursivas (Cap. 9 - Leer)\n",
        "\n",
        "- Las estructuras (structs) nos sirven para usar datos compuestos\n",
        "- Sin embargo, en muchos casos, *no sabemos cuántas cosas queremos enumerar*:\n",
        "  - entonces formamos una <mark>**lista**</mark>:  puede tener un largo arbitrario, esto es, <mark>contiene una cantidad finita pero indeterminada de elementos</mark>\n",
        "\n",
        "\n",
        "\n",
        "\n",
        "## Listas\n",
        "\n",
        "Para manejar listas ocuparemos el módulo `lista.py` (en material docente)\n",
        "\n",
        "```python\n",
        "from lista import *\n",
        "```\n",
        "\n",
        "La definición de una lista es **recursiva**:\n",
        "\n",
        "  1. una lista puede ser **vacía**: no contiene ningún elemento (**`listaVacia`**).  \n",
        "  2. una lista puede estar compuesta por elementos que contienen un **valor** y un enlace al resto de la lista.\n",
        "\n",
        "\n",
        "Esto permite crear una lista larga concatenando listas, lo podemos entender como ir armando una cadena con dos campos en su estructura: \n",
        "\n",
        "  1. **`valor`** \n",
        "  2. la lista **`siguiente`**.  \n",
        "  \n",
        "El campo **valor** puede ser de cualquier tipo (básico o compuesto), mientras que el campo **siguiente** es precisamente una lista\n",
        "\n",
        "La definición de la estructura para listas está incluida en el\n",
        "módulo `lista.py`, note en particular en el contrato de la estructura\n",
        "su definición recursiva:\n",
        "\n",
        "```python\n",
        "# Diseno de la estructura\n",
        "# lista : valor (cualquier tipo) siguiente (lista)\n",
        "estructura.crear(\"lista\", \"valor siguiente\")\n",
        "```\n"
      ]
    },
    {
      "cell_type": "markdown",
      "metadata": {
        "id": "-aFy6Ed5crds",
        "colab_type": "text"
      },
      "source": [
        "Para crear una lista nueva, el módulo provee la función\n",
        "**`crearLista`** que recibe dos parámetros: el `valor`\n",
        "del primer elemento de la lista y el `resto` de la lista."
      ]
    },
    {
      "cell_type": "code",
      "metadata": {
        "id": "LN0HABQOaSYE",
        "colab_type": "code",
        "colab": {}
      },
      "source": [
        "from lista import *\n",
        "L = crearLista(4, None)"
      ],
      "execution_count": 0,
      "outputs": []
    },
    {
      "cell_type": "code",
      "metadata": {
        "id": "MFJgkfu-cE4y",
        "colab_type": "code",
        "colab": {
          "base_uri": "https://localhost:8080/",
          "height": 34
        },
        "outputId": "d8c72f6f-c01e-46de-9bd4-7f95d71a5bf3"
      },
      "source": [
        "L"
      ],
      "execution_count": 4,
      "outputs": [
        {
          "output_type": "execute_result",
          "data": {
            "text/plain": [
              "lista(valor=4, siguiente=None)"
            ]
          },
          "metadata": {
            "tags": []
          },
          "execution_count": 4
        }
      ]
    },
    {
      "cell_type": "code",
      "metadata": {
        "id": "M6sVpHJRaSYH",
        "colab_type": "code",
        "colab": {
          "base_uri": "https://localhost:8080/",
          "height": 34
        },
        "outputId": "7a1d6ba0-6a90-4a34-bb8e-14555b01069c"
      },
      "source": [
        "L.valor"
      ],
      "execution_count": 5,
      "outputs": [
        {
          "output_type": "execute_result",
          "data": {
            "text/plain": [
              "4"
            ]
          },
          "metadata": {
            "tags": []
          },
          "execution_count": 5
        }
      ]
    },
    {
      "cell_type": "code",
      "metadata": {
        "id": "yoGQM51OaSYJ",
        "colab_type": "code",
        "colab": {}
      },
      "source": [
        "L.siguiente"
      ],
      "execution_count": 0,
      "outputs": []
    },
    {
      "cell_type": "markdown",
      "metadata": {
        "id": "ufMV2PLnaSYL",
        "colab_type": "text"
      },
      "source": [
        "**Ejemplo:** Lista con 2 valores"
      ]
    },
    {
      "cell_type": "code",
      "metadata": {
        "id": "YwYInfrjaSYM",
        "colab_type": "code",
        "colab": {}
      },
      "source": [
        "L = lista(4, lista(7, None))"
      ],
      "execution_count": 0,
      "outputs": []
    },
    {
      "cell_type": "code",
      "metadata": {
        "id": "iTyvgxXdaSYP",
        "colab_type": "code",
        "colab": {
          "base_uri": "https://localhost:8080/",
          "height": 34
        },
        "outputId": "e6e24f07-a900-4993-e7a3-8c875045767b"
      },
      "source": [
        "L"
      ],
      "execution_count": 9,
      "outputs": [
        {
          "output_type": "execute_result",
          "data": {
            "text/plain": [
              "lista(valor=4, siguiente=lista(valor=7, siguiente=None))"
            ]
          },
          "metadata": {
            "tags": []
          },
          "execution_count": 9
        }
      ]
    },
    {
      "cell_type": "code",
      "metadata": {
        "id": "vbKGXTvJaSYS",
        "colab_type": "code",
        "colab": {
          "base_uri": "https://localhost:8080/",
          "height": 34
        },
        "outputId": "a4fe7c29-9e8f-41c8-fd89-85b2edb9caae"
      },
      "source": [
        "L.siguiente"
      ],
      "execution_count": 10,
      "outputs": [
        {
          "output_type": "execute_result",
          "data": {
            "text/plain": [
              "lista(valor=7, siguiente=None)"
            ]
          },
          "metadata": {
            "tags": []
          },
          "execution_count": 10
        }
      ]
    },
    {
      "cell_type": "markdown",
      "metadata": {
        "id": "z8o8YfVgaSYY",
        "colab_type": "text"
      },
      "source": [
        "\n",
        "\n",
        "### Ejemplo: \n",
        "\n",
        "Supongamos que queremos formar una lista con los planetas del\n",
        "sistema solar.  Primero comenzamos con un eslabón de la lista que sólo\n",
        "contiene a Mercurio: \n",
        "\n"
      ]
    },
    {
      "cell_type": "code",
      "metadata": {
        "id": "WWXOM9MsaSYY",
        "colab_type": "code",
        "colab": {
          "base_uri": "https://localhost:8080/",
          "height": 34
        },
        "outputId": "81f516e3-3687-446c-e974-bfe410aa4947"
      },
      "source": [
        "crearLista(\"Mercurio\", listaVacia)"
      ],
      "execution_count": 11,
      "outputs": [
        {
          "output_type": "execute_result",
          "data": {
            "text/plain": [
              "lista(valor='Mercurio', siguiente=None)"
            ]
          },
          "metadata": {
            "tags": []
          },
          "execution_count": 11
        }
      ]
    },
    {
      "cell_type": "markdown",
      "metadata": {
        "id": "CLAoZ_WDaSYc",
        "colab_type": "text"
      },
      "source": [
        "Luego viene el planeta Venus:"
      ]
    },
    {
      "cell_type": "code",
      "metadata": {
        "id": "s_WJKhAeaSYd",
        "colab_type": "code",
        "colab": {
          "base_uri": "https://localhost:8080/",
          "height": 34
        },
        "outputId": "881a2383-a4c4-4560-c266-c0578cbf2cbe"
      },
      "source": [
        "crearLista(\"Venus\", crearLista(\"Mercurio\", listaVacia))"
      ],
      "execution_count": 12,
      "outputs": [
        {
          "output_type": "execute_result",
          "data": {
            "text/plain": [
              "lista(valor='Venus', siguiente=lista(valor='Mercurio', siguiente=None))"
            ]
          },
          "metadata": {
            "tags": []
          },
          "execution_count": 12
        }
      ]
    },
    {
      "cell_type": "markdown",
      "metadata": {
        "id": "O0a0MLd_aSYf",
        "colab_type": "text"
      },
      "source": [
        "A continuación la Tierra, y así sucesivamente:\n",
        "\n"
      ]
    },
    {
      "cell_type": "code",
      "metadata": {
        "id": "qYNerdHJaSYg",
        "colab_type": "code",
        "colab": {
          "base_uri": "https://localhost:8080/",
          "height": 34
        },
        "outputId": "51675c46-ecf9-4e07-f5e9-0e874b776803"
      },
      "source": [
        "crearLista(\"Tierra\", crearLista(\"Venus\", crearLista(\"Mercurio\", listaVacia)))"
      ],
      "execution_count": 13,
      "outputs": [
        {
          "output_type": "execute_result",
          "data": {
            "text/plain": [
              "lista(valor='Tierra', siguiente=lista(valor='Venus', siguiente=lista(valor='Mercurio', siguiente=None)))"
            ]
          },
          "metadata": {
            "tags": []
          },
          "execution_count": 13
        }
      ]
    },
    {
      "cell_type": "markdown",
      "metadata": {
        "id": "cNOuuxANaSYi",
        "colab_type": "text"
      },
      "source": [
        "\n",
        "\n",
        "En toda lista distinguimos dos elementos: \n",
        "\n",
        "1. **cabeza**: valor que está al frente de la lista (primer valor disponible)\n",
        "2. **cola**: todo lo que va encadenado a la cabeza\n",
        "\n",
        "En nuestro último ejemplo, la\n",
        "**cabeza** de la lista es el string `\"Tierra\"`, mientras que la\n",
        "**cola** es la lista formada por el eslabón `(Venus, (Mercurio,\n",
        "(listaVacia)))`.\n",
        "\n",
        "\n"
      ]
    },
    {
      "cell_type": "code",
      "metadata": {
        "id": "jUn4pJlRaSYj",
        "colab_type": "code",
        "colab": {}
      },
      "source": [
        "L = crearLista(\"Tierra\", crearLista(\"Venus\",crearLista(\"Mercurio\", listaVacia)))"
      ],
      "execution_count": 0,
      "outputs": []
    },
    {
      "cell_type": "code",
      "metadata": {
        "id": "5nzd4s28dDAa",
        "colab_type": "code",
        "colab": {
          "base_uri": "https://localhost:8080/",
          "height": 34
        },
        "outputId": "12ef5215-afb5-49bd-df0f-696e6e93f530"
      },
      "source": [
        "cabeza(L)"
      ],
      "execution_count": 16,
      "outputs": [
        {
          "output_type": "execute_result",
          "data": {
            "text/plain": [
              "'Tierra'"
            ]
          },
          "metadata": {
            "tags": []
          },
          "execution_count": 16
        }
      ]
    },
    {
      "cell_type": "code",
      "metadata": {
        "id": "MdUxyY0UaSYl",
        "colab_type": "code",
        "colab": {
          "base_uri": "https://localhost:8080/",
          "height": 34
        },
        "outputId": "c2b48582-4dc8-4384-9e54-8ae48b2601ed"
      },
      "source": [
        "cola(L)"
      ],
      "execution_count": 17,
      "outputs": [
        {
          "output_type": "execute_result",
          "data": {
            "text/plain": [
              "lista(valor='Venus', siguiente=lista(valor='Mercurio', siguiente=None))"
            ]
          },
          "metadata": {
            "tags": []
          },
          "execution_count": 17
        }
      ]
    },
    {
      "cell_type": "markdown",
      "metadata": {
        "id": "JoyvECRkdIZL",
        "colab_type": "text"
      },
      "source": [
        "## Módulo `lista.py`\n",
        "\n",
        "Revisemos qué contiene el módulo `lista.py`."
      ]
    },
    {
      "cell_type": "code",
      "metadata": {
        "id": "gkQL2AOCaSYq",
        "colab_type": "code",
        "colab": {}
      },
      "source": [
        "#modulo: lista.py\n",
        "import estructura\n",
        "\n",
        "# Diseno de la estructura\n",
        "# lista : valor (any = cualquier tipo) siguiente (lista)\n",
        "estructura.crear(\"lista\", \"valor siguiente\")\n",
        "\n",
        "# identificador para listas vacias\n",
        "listaVacia = None\n",
        "\n",
        "# crearLista: any lista -> lista\n",
        "# devuelve una lista cuya cabeza es valor\n",
        "# y la cola es resto\n",
        "def crearLista(valor, resto):\n",
        "        return lista(valor, resto)\n",
        "\n",
        "# cabeza: lista -> any\n",
        "# devuelve la cabeza de una lista (un valor)\n",
        "def cabeza(lista):\n",
        "        return lista.valor\n",
        "\n",
        "# cola: lista -> lista\n",
        "# devuelve la cola de una lista (una lista)\n",
        "def cola(lista):\n",
        "        return lista.siguiente\n",
        "\n",
        "# vacia: lista -> bool\n",
        "# devuelve True si la lista esta vacia\n",
        "def vacia(lista):\n",
        "        return lista == listaVacia\n",
        "\n",
        "\n",
        "# Tests\n",
        "\n",
        "test_lista = lista(1, lista(2, lista(3, listaVacia)))\n",
        "\n",
        "assert cabeza(test_lista) == 1\n",
        "assert cabeza(cola(test_lista)) == 2\n",
        "assert cabeza(cola(cola(test_lista))) == 3\n",
        "assert cola(cola(test_lista)) == lista(3, listaVacia)\n",
        "\n",
        "assert vacia(listaVacia)\n",
        "assert not vacia(test_lista)\n",
        "assert vacia(cola(cola(cola(test_lista))))\n"
      ],
      "execution_count": 0,
      "outputs": []
    },
    {
      "cell_type": "code",
      "metadata": {
        "id": "UNJjSYIraSYt",
        "colab_type": "code",
        "colab": {
          "base_uri": "https://localhost:8080/",
          "height": 34
        },
        "outputId": "272e1d7e-25ab-4007-ff97-f5a8b5869b51"
      },
      "source": [
        "from lista import * #todas las funciones\n",
        "L=lista(4,lista(2,lista(3,None)))\n",
        "cabeza(L)"
      ],
      "execution_count": 18,
      "outputs": [
        {
          "output_type": "execute_result",
          "data": {
            "text/plain": [
              "4"
            ]
          },
          "metadata": {
            "tags": []
          },
          "execution_count": 18
        }
      ]
    },
    {
      "cell_type": "code",
      "metadata": {
        "id": "KQNZsiTDaSYv",
        "colab_type": "code",
        "colab": {
          "base_uri": "https://localhost:8080/",
          "height": 34
        },
        "outputId": "21cbc8f0-1e77-46dc-fca4-6e18d4fa70d7"
      },
      "source": [
        "cola(L)"
      ],
      "execution_count": 19,
      "outputs": [
        {
          "output_type": "execute_result",
          "data": {
            "text/plain": [
              "lista(valor=2, siguiente=lista(valor=3, siguiente=None))"
            ]
          },
          "metadata": {
            "tags": []
          },
          "execution_count": 19
        }
      ]
    },
    {
      "cell_type": "markdown",
      "metadata": {
        "id": "avPX8kRSaSYx",
        "colab_type": "text"
      },
      "source": [
        "Agregamos una función para ver si algo es una lista:"
      ]
    },
    {
      "cell_type": "code",
      "metadata": {
        "id": "kuIktYbFaSYy",
        "colab_type": "code",
        "colab": {}
      },
      "source": [
        "#esLista: any -> bool\n",
        "#True si L es una lista\n",
        "#ej: esLista(lista(1,None))->True\n",
        "\n",
        "def esLista(L):\n",
        "    return type(L)==lista or L==None\n",
        "\n",
        "assert esLista(lista(1,None))\n"
      ],
      "execution_count": 0,
      "outputs": []
    },
    {
      "cell_type": "code",
      "metadata": {
        "id": "OGwf8nvbaSY3",
        "colab_type": "code",
        "colab": {}
      },
      "source": [
        "from lista import *\n",
        "\n",
        "\n",
        "# sumaTres: listaDeTresNumeros -> num\n",
        "# suma los tres numeros en unaLista\n",
        "# sumaTres(crearLista(2, crearLista(1, crearLista(0, listaVacia))))\n",
        "# devuelve 3\n",
        "# sumaTres(crearLista(0, crearLista(1, crearLista(0, listaVacia)))) # devuelve 1\n",
        "def sumaTres(unaLista):\n",
        "    # separamos los 3 valores\n",
        "    valor1 = cabeza(unaLista)\n",
        "    listaRestante = cola(unaLista)\n",
        "    valor2 = cabeza(listaRestante)\n",
        "    listaRestante = cola(listaRestante)\n",
        "    valor3 = cabeza(listaRestante)\n",
        "\n",
        "    return valor1 + valor2 + valor3\n",
        "\n",
        "# Test\n",
        "primerValor=crearLista(10,listaVacia)\n",
        "segundoValor=crearLista(20,primerValor)\n",
        "tercerValor=crearLista(30,segundoValor)\n",
        "assert sumaTres(tercerValor)==60\n",
        "\n",
        "# Ejercicio sumar una lista de tamanno arbitrario \n"
      ],
      "execution_count": 0,
      "outputs": []
    },
    {
      "cell_type": "markdown",
      "metadata": {
        "id": "7f5Rc_KzaSY6",
        "colab_type": "text"
      },
      "source": [
        "***\n",
        "\n",
        "# Ejercicio 6\n",
        "\n",
        "Para el ejemplo anterior hacer una función llamada `suma()` que reciba una lista y sume todos sus valores (debe funcionar con listas de cualquier tamaño).\n",
        "\n",
        "***"
      ]
    },
    {
      "cell_type": "markdown",
      "metadata": {
        "id": "H85sn-9daSY8",
        "colab_type": "text"
      },
      "source": [
        "***"
      ]
    },
    {
      "cell_type": "markdown",
      "metadata": {
        "id": "UDYkbEyxaSY8",
        "colab_type": "text"
      },
      "source": [
        "## Definición de datos para listas de largo arbitrario\n",
        "\n",
        "\n",
        "### Ejemplo: inventario de una juguetería\n",
        "\n",
        "Supongamos que queremos representar el inventario de una juguetería que vende muñecas, sets de maquillaje, payasos, arcos, flechas y pelotas. Para construir el inventario el dueño debería tomar una hoja en blanco e irla llenando con los nombres de los jueguetes que tiene en los estantes.\n",
        "\n",
        "Representar una lista de juguetes es simple, basta con crear una lista de strings, encadenando eslabones uno por uno:\n",
        "\n",
        "Por ejemplo:\n"
      ]
    },
    {
      "cell_type": "code",
      "metadata": {
        "id": "QKH10pWNaSY9",
        "colab_type": "code",
        "colab": {
          "base_uri": "https://localhost:8080/",
          "height": 34
        },
        "outputId": "92334922-aa17-4bf1-8722-5597373a6b8a"
      },
      "source": [
        "listaVacia\n",
        "crearLista('pelota', listaVacia)\n",
        "crearLista('flecha', crearLista('pelota', listaVacia))\n"
      ],
      "execution_count": 22,
      "outputs": [
        {
          "output_type": "execute_result",
          "data": {
            "text/plain": [
              "lista(valor='flecha', siguiente=lista(valor='pelota', siguiente=None))"
            ]
          },
          "metadata": {
            "tags": []
          },
          "execution_count": 22
        }
      ]
    },
    {
      "cell_type": "code",
      "metadata": {
        "id": "my25hZ-HaSZC",
        "colab_type": "code",
        "colab": {
          "base_uri": "https://localhost:8080/",
          "height": 34
        },
        "outputId": "f655859f-c057-476b-f2f3-b0f07131bf23"
      },
      "source": [
        "eslabon1 = listaVacia\n",
        "eslabon2 = crearLista('pelota', eslabon1)\n",
        "eslabon3 = crearLista('flecha', eslabon2)\n",
        "\n",
        "eslabon3\n"
      ],
      "execution_count": 23,
      "outputs": [
        {
          "output_type": "execute_result",
          "data": {
            "text/plain": [
              "lista(valor='flecha', siguiente=lista(valor='pelota', siguiente=None))"
            ]
          },
          "metadata": {
            "tags": []
          },
          "execution_count": 23
        }
      ]
    },
    {
      "cell_type": "markdown",
      "metadata": {
        "id": "0dR4jXLQaSZE",
        "colab_type": "text"
      },
      "source": [
        "- En una tienda real, esta lista contendrá muchos más elementos, y la lista crecerá y disminuirá a lo largo del tiempo\n",
        "- Si quisiéramos desarrollar una función que consuma tales listas debemos poder procesar una lista de cualquier tamaño\n",
        "\n",
        "- Necesitamos una definición de datos que precisamente describa la clase de listas que contenga una cantidad arbitraria de elementos (por ejemplo, strings).\n",
        "\n",
        "Note que todos los ejemplos que hemos desarrollado hasta ahora siguen un patrón: \n",
        "\n",
        "__comenzamos con una lista vacía, y empezamos a encadenar\n",
        "elementos uno a continuación del otro__ \n",
        "\n",
        "Podemos abstraer esta idea y plantear la siguiente definición de datos:"
      ]
    },
    {
      "cell_type": "markdown",
      "metadata": {
        "id": "9zS9HWTVaSZE",
        "colab_type": "text"
      },
      "source": [
        "Una **lista de strings** es:\n",
        "\n",
        "1. una lista vacía, **`listaVacia`**, o bien\n",
        "2. **`crearLista(X,Y)`**, donde X es un string, e Y es una **lista de strings**.\n",
        "\n",
        "La estructura lista se define en **términos de sí misma** en el segundo ítem."
      ]
    },
    {
      "cell_type": "markdown",
      "metadata": {
        "id": "l3GjaN-GaSZF",
        "colab_type": "text"
      },
      "source": [
        "## Procesar una lista de largo arbitrario\n",
        "\n",
        "Supongamos que queremos hacer una función que entrega `True` si es que hay pelotas en un inventario (lista) y `False` si es que no. ¿Cómo debe ser esta función?\n",
        "\n",
        "```python\n",
        "# hayPelotas: lista(str) -> bool\n",
        "# determinar si el string \"pelota\" esta en la lista unaLista \n",
        "def hayPelotas(unaLista):\n",
        "\n",
        "```\n",
        "\n",
        "Siguiendo la receta de diseño vemos como funciona con unos ejemplos:\n",
        "\n",
        "\n"
      ]
    },
    {
      "cell_type": "code",
      "metadata": {
        "id": "8z3mC0_saSZG",
        "colab_type": "code",
        "colab": {
          "base_uri": "https://localhost:8080/",
          "height": 34
        },
        "outputId": "8543ff0a-53a8-4bf6-b2cf-20758fda0edf"
      },
      "source": [
        "hayPelotas(listaVacia)"
      ],
      "execution_count": 25,
      "outputs": [
        {
          "output_type": "execute_result",
          "data": {
            "text/plain": [
              "False"
            ]
          },
          "metadata": {
            "tags": []
          },
          "execution_count": 25
        }
      ]
    },
    {
      "cell_type": "code",
      "metadata": {
        "id": "xq3A3dsMaSZI",
        "colab_type": "code",
        "colab": {
          "base_uri": "https://localhost:8080/",
          "height": 34
        },
        "outputId": "14c2f8c1-bca1-4989-e320-71d2f5abd93a"
      },
      "source": [
        "hayPelotas(crearLista(\"pelota\", listaVacia))"
      ],
      "execution_count": 26,
      "outputs": [
        {
          "output_type": "execute_result",
          "data": {
            "text/plain": [
              "True"
            ]
          },
          "metadata": {
            "tags": []
          },
          "execution_count": 26
        }
      ]
    },
    {
      "cell_type": "code",
      "metadata": {
        "id": "pFYMbY_PaSZM",
        "colab_type": "code",
        "colab": {},
        "outputId": "eb1badc1-340c-4a79-f4b7-bd4a77e20eee"
      },
      "source": [
        "hayPelotas(crearLista(\"muneca\", listaVacia))"
      ],
      "execution_count": 0,
      "outputs": [
        {
          "output_type": "execute_result",
          "data": {
            "text/plain": [
              "False"
            ]
          },
          "metadata": {
            "tags": []
          },
          "execution_count": 20
        }
      ]
    },
    {
      "cell_type": "markdown",
      "metadata": {
        "id": "PKrbHljPaSZO",
        "colab_type": "text"
      },
      "source": [
        "Y finalmente, veamos el funcionamiento de la función en listas más generales (con más de un elemento): "
      ]
    },
    {
      "cell_type": "code",
      "metadata": {
        "id": "XofSXpGBaSZP",
        "colab_type": "code",
        "colab": {
          "base_uri": "https://localhost:8080/",
          "height": 34
        },
        "outputId": "9cc50fd3-b50e-4607-9a18-fee3b57ac69b"
      },
      "source": [
        "hayPelotas(crearLista(\"arco\", crearLista(\"flecha\", \\\n",
        "        crearLista(\"muneca\", listaVacia))))"
      ],
      "execution_count": 27,
      "outputs": [
        {
          "output_type": "execute_result",
          "data": {
            "text/plain": [
              "False"
            ]
          },
          "metadata": {
            "tags": []
          },
          "execution_count": 27
        }
      ]
    },
    {
      "cell_type": "code",
      "metadata": {
        "id": "d-vXUKQwaSZR",
        "colab_type": "code",
        "colab": {
          "base_uri": "https://localhost:8080/",
          "height": 34
        },
        "outputId": "efd04fbc-5902-47f3-c619-d0de427bf399"
      },
      "source": [
        "hayPelotas(crearLista(\"soldadito\", crearLista(\"pelota\", \\\n",
        "        crearLista(\"oso\", listaVacia))))"
      ],
      "execution_count": 28,
      "outputs": [
        {
          "output_type": "execute_result",
          "data": {
            "text/plain": [
              "True"
            ]
          },
          "metadata": {
            "tags": []
          },
          "execution_count": 28
        }
      ]
    },
    {
      "cell_type": "markdown",
      "metadata": {
        "id": "AQGCfQeYaSZT",
        "colab_type": "text"
      },
      "source": [
        "El paso siguiente es diseñar la plantilla de la función que se corresponda con la definición del tipo de datos.  En este caso, dado que la definición de una lista de strings tiene dos cláusulas (lista vacía o una lista de\n",
        "strings), la plantilla se debe escribir usando un bloque condicional: \n",
        "\n",
        "```python\n",
        "# hayPelotas: lista(str) -> bool\n",
        "# determinar si el string \"pelota\" esta en la lista unaLista\n",
        "# def hayPelotas(unaLista):\n",
        "#        if vacia(unaLista):\n",
        "#               ...\n",
        "#       else:\n",
        "#               ...  cabeza(unaLista)\n",
        "#               ...  cola(unaLista) ...\n",
        "````\n"
      ]
    },
    {
      "cell_type": "code",
      "metadata": {
        "id": "CrOcUP-8aSZU",
        "colab_type": "code",
        "colab": {}
      },
      "source": [
        "from lista import *\n",
        "\n",
        "# hayPelotas: lista(str) -> bool\n",
        "# determinar si el string \"pelota\" esta en la lista unaLista \n",
        "# def hayPelotas(unaLista):\n",
        "#       if vacia(unaLista): \n",
        "#               ...\n",
        "#       else:\n",
        "#               ... cabeza(unaLista)\n",
        "#               ... cola(unaLista) ...\n",
        "\n",
        "def hayPelotas(unaLista):\n",
        "    if(vacia(unaLista)):\n",
        "        return False\n",
        "    else:\n",
        "        if cabeza(unaLista)==\"pelota\":\n",
        "            return True\n",
        "        else:\n",
        "            listaRestante = cola(unaLista)\n",
        "            return hayPelotas(listaRestante)\n",
        "\n",
        "# Test\n",
        "juguetes = crearLista(\"soldadito\", crearLista(\"pelota\", crearLista(\"oso\", listaVacia)))\n",
        "assert hayPelotas(juguetes)\n"
      ],
      "execution_count": 0,
      "outputs": []
    },
    {
      "cell_type": "markdown",
      "metadata": {
        "id": "-1YUeZjLaSZW",
        "colab_type": "text"
      },
      "source": [
        "Si quisieramos contar juguetes?"
      ]
    },
    {
      "cell_type": "code",
      "metadata": {
        "id": "DJR5WX6HaSZX",
        "colab_type": "code",
        "colab": {}
      },
      "source": [
        "# contarJuguetes: lista(str) -> int\n",
        "# determinar cuantos juguetes hay en la lista unaLista \n",
        "# def contarJuguetes(unaLista):\n",
        "#       if vacia(unaLista): \n",
        "#               ...\n",
        "#       else:\n",
        "#               ... cabeza(unaLista)\n",
        "#               ... cola(unaLista) ...\n",
        "\n",
        "def contarJuguetes(unaLista):\n",
        "    if vacia(unaLista):\n",
        "        return 0\n",
        "    else:\n",
        "        listaRestante = cola(unaLista)\n",
        "        return 1 + contarJuguetes(listaRestante)\n"
      ],
      "execution_count": 0,
      "outputs": []
    },
    {
      "cell_type": "markdown",
      "metadata": {
        "id": "_PwHwJLDaSZZ",
        "colab_type": "text"
      },
      "source": [
        "### Receta de diseño funciones que procesan una lista\n",
        "\n",
        "```python\n",
        "# def procesarLista(unaLista):\n",
        "#        if vacia(unaLista):\n",
        "#               ...\n",
        "#       else:\n",
        "#               ...  cabeza(unaLista)\n",
        "#               ...  procesarLista(cola(unaLista)) ...\n",
        "```\n",
        "\n"
      ]
    },
    {
      "cell_type": "markdown",
      "metadata": {
        "id": "C4Rl-uTNaSZZ",
        "colab_type": "text"
      },
      "source": [
        "## Funciones que producen listas\n",
        "\n",
        "Recordemos la función **`sueldo`** que definimos anteriormente:\n",
        "\n"
      ]
    },
    {
      "cell_type": "code",
      "metadata": {
        "id": "uRbguEsaaSZa",
        "colab_type": "code",
        "colab": {}
      },
      "source": [
        "\n",
        "# sueldo: int -> int\n",
        "# calcular el sueldo de un trabajador\n",
        "# (a $4.500 la hora) que ha trabajado h horas\n",
        "def sueldo(h):\n",
        "        return 4500 * h\n",
        "\n"
      ],
      "execution_count": 0,
      "outputs": []
    },
    {
      "cell_type": "markdown",
      "metadata": {
        "id": "-YuiYK3GaSZe",
        "colab_type": "text"
      },
      "source": [
        "Esta función recibe como parámetro el número de horas trabajadas por un\n",
        "empleado, y produce su sueldo semanal.  Por simplicidad, supondremos que\n",
        "todos los empleados ganan lo mismo por hora, es decir, $4.500.  Sin\n",
        "embargo, una empresa no está necesariamente interesada en una función como\n",
        "**`sueldo`**, que calcula el sueldo de un solo empleado, sino\n",
        "más bien en una función que calcule el sueldo total de todos sus empleados\n",
        "(sobre todo si hay muchos).\n",
        "\n",
        "Llamemos a esta función **`listaSueldos`**, tal que recibe una\n",
        "lista de cuántas horas los empleados de la compañía han trabajado, y\n",
        "devuelva una lista de los sueldos semanales por cada uno de ellos.  \n"
      ]
    },
    {
      "cell_type": "markdown",
      "metadata": {
        "id": "5tBEZVA6aSZe",
        "colab_type": "text"
      },
      "source": [
        "\n",
        "```python\n",
        "# listaSueldos:  lista(int) -> lista(int)\n",
        "# crear una lista de sueldos semanales desde \n",
        "# una lista de horas trabajadas (listaHoras)\n",
        "def listaSueldos(listaHoras):\n",
        "        ...\n",
        "```\n",
        "\n",
        "Luego necesitamos ejemplos de entrada y salida:"
      ]
    },
    {
      "cell_type": "code",
      "metadata": {
        "id": "-1L1SAPyaSZf",
        "colab_type": "code",
        "colab": {}
      },
      "source": [
        "listaSueldos(listaVacia)\n"
      ],
      "execution_count": 0,
      "outputs": []
    },
    {
      "cell_type": "code",
      "metadata": {
        "id": "R1SWYwEraSZi",
        "colab_type": "code",
        "colab": {},
        "outputId": "bca50f48-f53e-4752-8bf2-832a40b5bf62"
      },
      "source": [
        "listaSueldos(crearLista(10, listaVacia))\n"
      ],
      "execution_count": 0,
      "outputs": [
        {
          "output_type": "execute_result",
          "data": {
            "text/plain": [
              "lista(valor=45000, siguiente=None)"
            ]
          },
          "metadata": {
            "tags": []
          },
          "execution_count": 27
        }
      ]
    },
    {
      "cell_type": "code",
      "metadata": {
        "id": "k1rQwjWkaSZl",
        "colab_type": "code",
        "colab": {},
        "outputId": "3501f673-d40b-44fb-ea35-0e547f8caeec"
      },
      "source": [
        "listaSueldos(crearLista(44, crearLista(10, listaVacia)))"
      ],
      "execution_count": 0,
      "outputs": [
        {
          "output_type": "execute_result",
          "data": {
            "text/plain": [
              "lista(valor=198000, siguiente=lista(valor=45000, siguiente=None))"
            ]
          },
          "metadata": {
            "tags": []
          },
          "execution_count": 28
        }
      ]
    },
    {
      "cell_type": "markdown",
      "metadata": {
        "id": "LKmy96gFaSZo",
        "colab_type": "text"
      },
      "source": [
        "### Cuál sería la plantilla de diseño entonces?\n",
        "\n",
        "```python\n",
        "# def listaSueldos(listaHoras):\n",
        "# if (vacia(listaHoras) == True):\n",
        "#       ...\n",
        "# else:\n",
        "#       ...  cabeza(listaHoras)\n",
        "#       ...  listaSueldos(cola(listaHoras)) ...\n",
        "````\n",
        "\n"
      ]
    },
    {
      "cell_type": "code",
      "metadata": {
        "id": "QRidDSCSaSZp",
        "colab_type": "code",
        "colab": {}
      },
      "source": [
        "\n",
        "# listaSueldos:  lista(int) -> lista(int)\n",
        "# crear una lista de sueldos semanales desde una\n",
        "# lista de horas trabajadas (listaHoras)\n",
        "def listaSueldos(listaHoras):\n",
        "        if vacia(listaHoras):\n",
        "                return listaVacia\n",
        "        else:\n",
        "                return crearLista(sueldo(cabeza(listaHoras)), \\\n",
        "                        listaSueldos(cola(listaHoras)))\n"
      ],
      "execution_count": 0,
      "outputs": []
    }
  ]
}