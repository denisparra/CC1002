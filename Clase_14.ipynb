{
  "nbformat": 4,
  "nbformat_minor": 0,
  "metadata": {
    "kernelspec": {
      "display_name": "Python 2",
      "language": "python",
      "name": "python2"
    },
    "language_info": {
      "codemirror_mode": {
        "name": "ipython",
        "version": 2
      },
      "file_extension": ".py",
      "mimetype": "text/x-python",
      "name": "python",
      "nbconvert_exporter": "python",
      "pygments_lexer": "ipython2",
      "version": "2.7.13"
    },
    "colab": {
      "name": "Clase 14.ipynb",
      "provenance": [],
      "collapsed_sections": [],
      "include_colab_link": true
    }
  },
  "cells": [
    {
      "cell_type": "markdown",
      "metadata": {
        "id": "view-in-github",
        "colab_type": "text"
      },
      "source": [
        "<a href=\"https://colab.research.google.com/github/bpoblete/CC1002_9/blob/master/Clase_14.ipynb\" target=\"_parent\"><img src=\"https://colab.research.google.com/assets/colab-badge.svg\" alt=\"Open In Colab\"/></a>"
      ]
    },
    {
      "cell_type": "markdown",
      "metadata": {
        "id": "gb0WO-YswQl2",
        "colab_type": "text"
      },
      "source": [
        "# Caso de Estudio 2: Agenda\n",
        "\n",
        "Descomposición funcional:\n",
        "\n",
        "- Buscar nombre y entregar fono\n",
        "- Agregar nombre y fono\n",
        "- Borrar un nombre\n",
        "- Cambiar fono de un nombre\n",
        "\n",
        "**Nota.** No se aceptan nombres repetidos\n"
      ]
    },
    {
      "cell_type": "markdown",
      "metadata": {
        "id": "NEeAFm21wQl4",
        "colab_type": "text"
      },
      "source": [
        "\n",
        "## Solución con Listas\n",
        "### Estructura de datos: lista ordenada de registros con nombres y fonos de personas"
      ]
    },
    {
      "cell_type": "code",
      "metadata": {
        "id": "HlyhcVX3wQl5",
        "colab_type": "code",
        "colab": {}
      },
      "source": [
        "#registro: nombre(str) fono(int)\n",
        "import estructura\n",
        "estructura.crear(\"registro\",\"nombre fono\")\n",
        "\n",
        "#agenda: lista(registro)\n",
        "from lista import *\n",
        "#ejemplo\n",
        "agenda=lista(registro(\"a\",2),\\\n",
        "         lista(registro(\"c\",1),\\\n",
        "           lista(registro(\"d\",4),None)))\n"
      ],
      "execution_count": 0,
      "outputs": []
    },
    {
      "cell_type": "markdown",
      "metadata": {
        "id": "R-mfTvh1wQl8",
        "colab_type": "text"
      },
      "source": [
        "### Buscar por nombre en una lista ordenada y entregar fono"
      ]
    },
    {
      "cell_type": "code",
      "metadata": {
        "id": "2dmFhVWCwQl9",
        "colab_type": "code",
        "colab": {}
      },
      "source": [
        "#buscar: str lista(registro) -> int\n",
        "#buscar nombre en agenda y devolver fono \n",
        "#(None si no está)\n",
        "#ej: buscar(\"c\",agenda)->1\n",
        "#ej: buscar(\"b\",agenda)->None\n",
        "def buscar(nombre,agenda):\n",
        "    \n",
        "  assert agenda==None or type(agenda)==lista\n",
        "    \n",
        "  if agenda==None: \n",
        "    return None\n",
        "\n",
        "  reg=cabeza(agenda)\n",
        "  if reg.nombre==nombre: \n",
        "    return reg.fono\n",
        "\n",
        "  if reg.nombre > nombre:  \n",
        "    return None\n",
        "    \n",
        "  return buscar(nombre,cola(agenda))\n",
        "\n",
        "assert buscar(\"c\",agenda)==1\n",
        "assert buscar(\"b\",agenda)==None\n"
      ],
      "execution_count": 0,
      "outputs": []
    },
    {
      "cell_type": "markdown",
      "metadata": {
        "id": "ywe1CxWewQl_",
        "colab_type": "text"
      },
      "source": [
        "### Agregar nombre y fono"
      ]
    },
    {
      "cell_type": "code",
      "metadata": {
        "id": "E4g2drpbwQmA",
        "colab_type": "code",
        "colab": {}
      },
      "source": [
        "#agregar: str int lista(registro) -> lista(registro) nueva\n",
        "#agrega nombre y fono a agenda (si no existe)\n",
        "#ej: agregar(\"b\",3,agenda)->\n",
        "#    lista(registro(\"a\",2),lista(registro(\"b\",3), \\\n",
        "#    lista(registro(\"c\",1),lista(registro(\"d\",4),None)))\n",
        "def agregar(nombre,fono,agenda):\n",
        "  assert agenda==None or type(agenda)==lista   \n",
        "  if agenda==None: \n",
        "    return lista(registro(nombre,fono),None)\n",
        "  reg=cabeza(agenda)\n",
        "  if reg.nombre==nombre: #ya tenemos este nombre\n",
        "    return agenda\n",
        "  if reg.nombre > nombre:\n",
        "    return lista(registro(nombre,fono),agenda) # lo agrego al ppio de la lista\n",
        "\n",
        "  return lista(reg,agregar(nombre,fono,cola(agenda))) # tengo que agregarlo en la cola\n",
        "\n",
        "assert agregar(\"b\",3,agenda)== \\\n",
        "  lista(registro(\"a\",2),lista(registro(\"b\",3), \\\n",
        "    lista(registro(\"c\",1),lista(registro(\"d\",4),None))))\n"
      ],
      "execution_count": 0,
      "outputs": []
    },
    {
      "cell_type": "markdown",
      "metadata": {
        "id": "Z4B5PuYLwQmC",
        "colab_type": "text"
      },
      "source": [
        "### Borrar un nombre"
      ]
    },
    {
      "cell_type": "code",
      "metadata": {
        "id": "WhvpLsdpwQmD",
        "colab_type": "code",
        "colab": {}
      },
      "source": [
        "#borrar: str lista(registro)->lista(registro) nueva\n",
        "#borra de agenda registro con nombre (si existe)\n",
        "#ej: borrar(\"c\",agenda)-> \n",
        "# lista(registro(\"a\",2),lista(registro(\"d\",4),None))\n",
        "\n",
        "def borrar(nombre,agenda):\n",
        "  assert agenda==None or type(agenda)==lista\n",
        "    \n",
        "  if agenda==None: \n",
        "    return None\n",
        "  reg=cabeza(agenda)\n",
        "    \n",
        "  if reg.nombre==nombre: # es la cabeza\n",
        "    return cola(agenda)\n",
        "    \n",
        "  if reg.nombre>nombre: #no esta\n",
        "    return agenda\n",
        "    \n",
        "  return lista(reg,borrar(nombre,cola(agenda)))#tengo que borrarlo de la cola\n",
        "\n",
        "assert borrar(\"c\",agenda)== \\\n",
        "  lista(registro(\"a\",2),lista(registro(\"d\",4),None))\n"
      ],
      "execution_count": 0,
      "outputs": []
    },
    {
      "cell_type": "markdown",
      "metadata": {
        "id": "A5OXoTD3wQmF",
        "colab_type": "text"
      },
      "source": [
        "### Cambiar fono de un nombre"
      ]
    },
    {
      "cell_type": "code",
      "metadata": {
        "id": "owCLYYgNwQmF",
        "colab_type": "code",
        "colab": {}
      },
      "source": [
        "#cambiar: str num lista(registro)->lista(registro) nueva\n",
        "#cambiar fono de nombre en agenda (si existe)\n",
        "#ej: cambiar(\"a\",5,agenda)->lista(registro(\"a\",5),\n",
        "#  lista(registro(\"c\",1),lista(registro(\"d\",4),None)))\n",
        "\n",
        "def cambiar(nombre,fono,agenda):\n",
        "  assert agenda==None or type(agenda)==lista\n",
        "    \n",
        "  if buscar(nombre,agenda)==None: \n",
        "    return agenda\n",
        "    \n",
        "  return agregar(nombre,fono,borrar(nombre,agenda))\n",
        "  \n",
        "assert cambiar(\"a\",5,agenda)==\\\n",
        "  lista(registro(\"a\",5),lista(registro(\"c\",1), \\\n",
        "    lista(registro(\"d\",4),None)))\n"
      ],
      "execution_count": 0,
      "outputs": []
    },
    {
      "cell_type": "markdown",
      "metadata": {
        "id": "tb5RcYYQwQmH",
        "colab_type": "text"
      },
      "source": [
        "\n",
        "## Solución con ABB\n",
        "### Estructura de datos: ABB de registros con nombres y fonos de personas"
      ]
    },
    {
      "cell_type": "code",
      "metadata": {
        "id": "EUlcZhrDwQmI",
        "colab_type": "code",
        "colab": {}
      },
      "source": [
        "#Arbol Binario\n",
        "#AB: valor(any), izq(AB), der(AB)\n",
        "estructura.crear(\"AB\",\"valor izq der\")\n",
        "\n",
        "#esArbol: AB->bool\n",
        "#devuelve True si es AB y False si no\n",
        "#ej...(completar)\n",
        "def esArbol(A):\n",
        "  return A==None or type(A)==AB\n",
        "#test..(completar)\n",
        "\n",
        "\n",
        "#registro: nombre(str) fono(int)\n",
        "import estructura\n",
        "estructura.crear(\"registro\",\"nombre fono\")\n",
        "\n",
        "#agenda: AB(registro)\n",
        "\n",
        "agenda=AB(registro(\"c\",1), \\\n",
        "          AB(registro(\"a\",2),None,None), \\\n",
        "          AB(registro(\"d\",4),None,None))\n"
      ],
      "execution_count": 0,
      "outputs": []
    },
    {
      "cell_type": "markdown",
      "metadata": {
        "id": "BmZLiua_wQmK",
        "colab_type": "text"
      },
      "source": [
        "### Buscar por nombre en ABB y entregar fono"
      ]
    },
    {
      "cell_type": "code",
      "metadata": {
        "id": "2QNc3is3wQmL",
        "colab_type": "code",
        "colab": {}
      },
      "source": [
        "#buscar: str AB(registro) -> int\n",
        "#buscar nombre en agenda y devolver fono \n",
        "#(None si no esta)\n",
        "#ej: buscar(\"c\",agenda)->1\n",
        "#ej: buscar(\"b\",agenda)->None\n",
        "def buscar(nombre,agenda):\n",
        "  assert esArbol(agenda)\n",
        "    \n",
        "  if agenda==None: \n",
        "    return None\n",
        "    \n",
        "  reg_actual = agenda.valor\n",
        "  if nombre == reg_actual.nombre:\n",
        "    return reg_actual.fono #son iguales\n",
        "\n",
        "  if nombre < reg_actual.nombre: \n",
        "    return buscar(nombre,agenda.izq)\n",
        "    \n",
        "  if nombre > reg_actual.nombre: \n",
        "    return buscar(nombre,agenda.der)\n",
        "    \n",
        "  \n",
        "\n",
        "assert buscar(\"c\",agenda)==1\n",
        "assert buscar(\"b\",agenda)==None\n"
      ],
      "execution_count": 0,
      "outputs": []
    },
    {
      "cell_type": "markdown",
      "metadata": {
        "id": "uvSJQe3wwQmN",
        "colab_type": "text"
      },
      "source": [
        "### Agregar un registro en un ABB"
      ]
    },
    {
      "cell_type": "code",
      "metadata": {
        "id": "eQ2uKEFAwQmN",
        "colab_type": "code",
        "colab": {}
      },
      "source": [
        "#agregar: str int AB(registro) -> AB(registro) nuevo\n",
        "#agrega registro con nombre y fono a agenda (si no existe)\n",
        "#ej: agregar(\"b\",3,agenda)->\n",
        "#    AB(registro(\"c\",1), \\\n",
        "#    AB(registro(\"a\",2),None,AB(registro(\"b\",3),None,None)) \\\n",
        "#    AB(registro(\"d\",4),None,None))\n",
        "\n",
        "def agregar(nombre,fono,agenda):\n",
        "  assert esArbol(agenda)\n",
        "  if agenda==None: \n",
        "    return AB(registro(nombre,fono),None,None)\n",
        "\n",
        "  reg_actual=agenda.valor\n",
        "    \n",
        "  if nombre < reg_actual.nombre:\n",
        "    return AB(reg_actual,agregar(nombre,fono,agenda.izq),agenda.der)\n",
        "    \n",
        "  if nombre > reg_actual.nombre:\n",
        "    return AB(reg_actual,agenda.izq,agregar(nombre,fono,agenda.der))\n",
        "    \n",
        "  return agenda #si ya existe, dejar igual\n",
        "\n",
        "\n",
        "assert agregar(\"b\",3,agenda) == \\\n",
        "        AB(registro(\"c\",1), \\\n",
        "        AB(registro(\"a\",2),None,AB(registro(\"b\",3),None,None)), \\\n",
        "        AB(registro(\"d\",4),None,None))\n"
      ],
      "execution_count": 0,
      "outputs": []
    },
    {
      "cell_type": "markdown",
      "metadata": {
        "id": "oo4ks0yEwQmP",
        "colab_type": "text"
      },
      "source": [
        "### Borrar un registro de un ABB"
      ]
    },
    {
      "cell_type": "code",
      "metadata": {
        "id": "ToP3q4XowQmQ",
        "colab_type": "code",
        "colab": {}
      },
      "source": [
        "#borrar: str AB(registro) -> AB(registro) nuevo\n",
        "#borra de agenda registro con nombre (si existe)\n",
        "#ej: borrar(\"c\",agenda)->\n",
        "#    AB(registro(\"a\",2),None,AB(registro(\"d\",4),None,None))\n",
        "\n",
        "def borrar(nombre,agenda):\n",
        "  assert esArbol(agenda)\n",
        "  if agenda==None: return None\n",
        "\n",
        "  reg_actual=agenda.valor\n",
        "\n",
        "  if nombre < reg_actual.nombre:\n",
        "    return AB(reg, borrar(nombre,agenda.izq), agenda.der)\n",
        "\n",
        "  if nombre > reg_actual.nombre:\n",
        "   return AB(reg, agenda.izq, borrar(nombre,agenda.der))\n",
        "    \n",
        "  # estamos en el caso nombre==reg_actual.nombre\n",
        "\n",
        "  #caso 1: si arbol izquierdo vacio, devolver derecho\n",
        "  if agenda.izq==None: return agenda.der\n",
        "\n",
        "  #caso 2: si arbol derecho vacio, devolver izquierdo\n",
        "  if agenda.der==None: return agenda.izq\n",
        "\n",
        "  #caso 3: si arboles izquierdo y derecho no vacios\n",
        "  #reemplazar por mayor del arbol izquierdo\n",
        "  #y borrar mayor del arbol izquierdo\n",
        "  reg_actual=mayorABB(agenda.izq)\n",
        "  return AB(reg_actual,borrar(reg_actual.nombre,agenda.izq),agenda.der)\n",
        "\n",
        "assert borrar(\"c\",agenda)== \\\n",
        "   AB(registro(\"a\",2),None,AB(registro(\"d\",4),None,None))\n",
        "\n",
        "  \n"
      ],
      "execution_count": 0,
      "outputs": []
    },
    {
      "cell_type": "markdown",
      "metadata": {
        "id": "UVkuN8ObwQmS",
        "colab_type": "text"
      },
      "source": [
        "### Encontrar el mayor elemento en un ABB"
      ]
    },
    {
      "cell_type": "code",
      "metadata": {
        "id": "VgUN8cpGwQmT",
        "colab_type": "code",
        "colab": {}
      },
      "source": [
        "abb=AB(\"B\",AB(\"A\",None,None),AB(\"C\",None,None))\n",
        "#mayorABB: AB(any) -> any\n",
        "#mayor valor de ABB A\n",
        "#ej: mayorABB(abb)->\"C“\n",
        "\n",
        "def mayorABB(A):\n",
        "    assert type(A)==AB #por lo menos un valor\n",
        "    if A.der==None: return A.valor\n",
        "    return mayorABB(A.der)\n",
        "\n",
        "assert mayorABB(abb)==\"C\"\n"
      ],
      "execution_count": 0,
      "outputs": []
    },
    {
      "cell_type": "markdown",
      "metadata": {
        "id": "lxBHDsbxwQmW",
        "colab_type": "text"
      },
      "source": [
        "### Cambiar un teléfono\n",
        "\n",
        "Implementar la función `cambiar()` (que reciba una agenda ABB, un nombre y un fono) y que modifique el fono del registro con el nombre indicado.\n",
        "\n",
        "### Opción 1: \n",
        "Se cambia el registro, aunque no se mantienen los nodos en el mismo orden. Pero el árbol resultante sigue siendo ABB por lo que la solución es correcta."
      ]
    },
    {
      "cell_type": "code",
      "metadata": {
        "id": "ooZV1pPtwQmX",
        "colab_type": "code",
        "colab": {}
      },
      "source": [
        "#cambiar: AB(registro) str int -> AB(registro) nuevo\n",
        "#cambia el registro con nombre (si existe)\n",
        "#ej: cambiar(agenda, \"c\", 6)-> \n",
        "#   AB(registro(\"a\",2),None, AB(registro(\"d\",4),AB(registro(\"c\",6), None,None),None))\n",
        "\n",
        "def cambiar(agenda, nombre, fono):\n",
        "    assert esArbol(agenda)\n",
        "    if agenda==None: return None\n",
        "    \n",
        "    if (buscar(nombre, agenda)==None): #no existe\n",
        "        return agenda\n",
        "    ab_sin_reg = borrar(nombre,agenda)\n",
        "    return agregar(nombre,fono,ab_sin_reg)\n",
        "\n",
        "abb=AB(registro(\"c\",1), \\\n",
        "          AB(registro(\"a\",2),None,None), \\\n",
        "          AB(registro(\"d\",4),None,None))\n",
        "    \n",
        "assert buscar(\"c\", cambiar(abb, \"c\", 6))==6\n",
        "assert cambiar(abb, \"c\", 6) == AB(registro(\"a\",2),None, AB(registro(\"d\",4),AB(registro(\"c\",6), None,None),None))\n",
        "\n",
        "\n"
      ],
      "execution_count": 0,
      "outputs": []
    },
    {
      "cell_type": "markdown",
      "metadata": {
        "id": "C6yza_kmwQmZ",
        "colab_type": "text"
      },
      "source": [
        "### Opción 2: Sin cambiar la posición de los nodos en el AB"
      ]
    },
    {
      "cell_type": "code",
      "metadata": {
        "id": "MYV5hyMewQmZ",
        "colab_type": "code",
        "colab": {}
      },
      "source": [
        "#cambiar: AB(registro) str int -> AB(registro) nuevo\n",
        "#cambia el registro con nombre (si existe)\n",
        "#ej: cambiar(agenda, \"c\", 6)->\n",
        "#   AB(registro(\"c\",6), AB(registro(\"a\",2),None,None), AB(registro(\"d\",4),None,None))\n",
        "\n",
        "def cambiar(agenda, nombre, fono): \n",
        "    assert esArbol(agenda)\n",
        "    if agenda==None: \n",
        "        return None\n",
        "    reg_actual=agenda.valor\n",
        "    if nombre < reg_actual.nombre:\n",
        "        return AB(reg, cambiar(agenda.izq, nombre, fono), agenda.der) \n",
        "    if nombre > reg_actual.nombre:\n",
        "        return AB(reg, agenda.izq, cambiar(agenda.der, nombre, fono)) #c==0, es decir, nombre==reg.nombre\n",
        "    return AB(registro(nombre,fono), agenda.izq, agenda.der)\n",
        "\n",
        "abb=AB(registro(\"c\",1), \\\n",
        "          AB(registro(\"a\",2),None,None), \\\n",
        "          AB(registro(\"d\",4),None,None))\n",
        "\n",
        "assert cambiar(abb,\"c\", 6)== AB(registro(\"c\",6), AB(registro(\"a\",2),None,None), AB(registro(\"d\",4),None,None))"
      ],
      "execution_count": 0,
      "outputs": []
    }
  ]
}