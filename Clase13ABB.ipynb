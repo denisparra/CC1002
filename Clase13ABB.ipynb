{
  "nbformat": 4,
  "nbformat_minor": 0,
  "metadata": {
    "kernelspec": {
      "display_name": "Python 2",
      "language": "python",
      "name": "python2"
    },
    "language_info": {
      "codemirror_mode": {
        "name": "ipython",
        "version": 2
      },
      "file_extension": ".py",
      "mimetype": "text/x-python",
      "name": "python",
      "nbconvert_exporter": "python",
      "pygments_lexer": "ipython2",
      "version": "2.7.13"
    },
    "colab": {
      "name": "Clase13ABB.ipynb",
      "provenance": [],
      "include_colab_link": true
    }
  },
  "cells": [
    {
      "cell_type": "markdown",
      "metadata": {
        "id": "view-in-github",
        "colab_type": "text"
      },
      "source": [
        "<a href=\"https://colab.research.google.com/github/bpoblete/CC1002_9/blob/master/Clase13ABB.ipynb\" target=\"_parent\"><img src=\"https://colab.research.google.com/assets/colab-badge.svg\" alt=\"Open In Colab\"/></a>"
      ]
    },
    {
      "cell_type": "markdown",
      "metadata": {
        "id": "lOo0XKy4vTSW",
        "colab_type": "text"
      },
      "source": [
        "# Repaso Clase Anterior: Árboles (Capítulo 9.7)\n",
        "\n"
      ]
    },
    {
      "cell_type": "markdown",
      "metadata": {
        "id": "myoP6jtivTSX",
        "colab_type": "text"
      },
      "source": [
        "## Árboles binarios (AB)\n",
        "\n",
        "![ab](https://drive.google.com/uc?export=view&id=0B3jzzeIB00s1TzdHRGpJYVllZjg)\n",
        "\n",
        "\n",
        "Cumplen alguna de las siguientes condiciones:\n",
        "- Un AB es vacío, o\n",
        "- Tiene un valor, un AB a la izquierda, y otro AB a la derecha\n",
        "\n",
        "\n",
        "### Tareas típicas sobre un AB\n",
        "\n",
        "\n",
        "- Crear un AB\n",
        "- Contar los nodos de un AB\n",
        "- Calcular la altura de un AB\n",
        "- Contar las hojas de un AB\n"
      ]
    },
    {
      "cell_type": "markdown",
      "metadata": {
        "id": "v_JXU4_pvTSY",
        "colab_type": "text"
      },
      "source": [
        "### Creación de un AB\n",
        "\n",
        "Es una estructura recursiva que contiene un **AB** = **valor** + **AB izquierdo** + **AB derecho**"
      ]
    },
    {
      "cell_type": "code",
      "metadata": {
        "id": "3CrYWM9lvTSZ",
        "colab_type": "code",
        "colab": {}
      },
      "source": [
        "import estructura\n",
        "\n",
        "\n",
        "\n",
        "#Arbol Binario\n",
        "#AB: valor(any), izq(AB), der(AB)\n",
        "estructura.crear(\"AB\",\"valor izq der\")\n",
        "\n",
        "\n",
        "\n",
        "\n",
        "\n",
        "# creamos un AB\n",
        "\n",
        "\n",
        "\n",
        "\n",
        "\n",
        "ab=AB(\"F\",\\\n",
        "    AB(\"B\",\\\n",
        "        AB(\"A\",None,None),\\\n",
        "        AB(\"D\",\\\n",
        "            AB(\"C\",None,None),\\\n",
        "            AB(\"E\",None,None))),\\\n",
        "    AB(\"G\",\\\n",
        "        None,\\\n",
        "        AB(\"I\",\\\n",
        "            AB(\"H\", None, None),\\\n",
        "            None)))  \n"
      ],
      "execution_count": 0,
      "outputs": []
    },
    {
      "cell_type": "markdown",
      "metadata": {
        "id": "ksxBUsUcvTSc",
        "colab_type": "text"
      },
      "source": [
        "### Ejemplo: Calcular número de valores (o nodos) de un AB\n",
        "\n",
        "Todas las operaciones en un AB siguen una misma estructura:\n",
        "\n",
        "- revisamos el valor: si es vacío (o cumple alguna condición) es el caso base que termina la recursión.\n",
        "- Pero, si el **valor no es vacío**:\n",
        "  - aplicamos alguna operación recursiva sobre **AB izquierdo** y **AB derecho**\n"
      ]
    },
    {
      "cell_type": "code",
      "metadata": {
        "id": "owBv5g4cvTSd",
        "colab_type": "code",
        "colab": {}
      },
      "source": [
        "#valores: AB -> int\n",
        "#n° de valores de arbol A\n",
        "#ej: valores(ab) -> 9\n",
        "\n",
        "def valores(A):\n",
        "    assert A==None or type(A)==AB\n",
        "    if A==None: \n",
        "        return 0\n",
        "    return 1 + valores(A.izq) + valores(A.der)\n",
        "\n",
        "assert valores(ab)==9"
      ],
      "execution_count": 0,
      "outputs": []
    },
    {
      "cell_type": "markdown",
      "metadata": {
        "id": "VAx6-GV5vTSg",
        "colab_type": "text"
      },
      "source": [
        "### Ejemplo: Determinar la altura (profundidad máxima) de un AB\n",
        "\n",
        "Si el AB:\n",
        "1. es vacío, su altura es 0\n",
        "2. si no es vacío su altura es 1 + máximo de altura entre su AB izquiero y AB derecho"
      ]
    },
    {
      "cell_type": "code",
      "metadata": {
        "id": "vx7KpCV8vTSg",
        "colab_type": "code",
        "colab": {}
      },
      "source": [
        "#altura: AB -> int\n",
        "#n° de niveles de valores de arbol A\n",
        "#ej: altura(ab) -> 4\n",
        "\n",
        "def altura(A):\n",
        "    assert A==None or type(A)==AB\n",
        "    if A==None:\n",
        "        return 0\n",
        "    return 1 + max(altura(A.izq),altura(A.der))\n",
        "\n",
        "assert altura(ab)==4"
      ],
      "execution_count": 0,
      "outputs": []
    },
    {
      "cell_type": "markdown",
      "metadata": {
        "id": "ghEFy91JvTSk",
        "colab_type": "text"
      },
      "source": [
        "### Ejemplo: Contar las hojas de un AB\n",
        "\n",
        "Las hojas son nodos que no tienen AB izquiero ni AB derecho (es decir, nodos sin hijos). En la figura son A, C, E, H."
      ]
    },
    {
      "cell_type": "code",
      "metadata": {
        "id": "5-Ydl3wSvTSk",
        "colab_type": "code",
        "colab": {}
      },
      "source": [
        "#hojas: AB -> int\n",
        "#n° de valores sin \"hijos\"\n",
        "#ej: hojas(ab)->4\n",
        "\n",
        "def hojas(A):\n",
        "    assert A==None or type(A)==AB\n",
        "    if A==None: \n",
        "        return 0\n",
        "    if A.izq==None and A.der==None:\n",
        "        return 1\n",
        "    return hojas(A.izq) + hojas(A.der)\n",
        "\n",
        "assert hojas(ab)==4\n"
      ],
      "execution_count": 0,
      "outputs": []
    },
    {
      "cell_type": "markdown",
      "metadata": {
        "id": "oMerLZ7ovTSn",
        "colab_type": "text"
      },
      "source": [
        "# Clase 13: AB y ABB (Árbol de Búsqueda Binaria)\n",
        "\n"
      ]
    },
    {
      "cell_type": "markdown",
      "metadata": {
        "id": "ZCovrhHGvTSo",
        "colab_type": "text"
      },
      "source": [
        "### Ejemplo: AB de expresiones aritméticas\n",
        "\n",
        "![ab expresión](https://drive.google.com/uc?export=view&id=0B3jzzeIB00s1cG0zMXNzcUhmZmc)"
      ]
    },
    {
      "cell_type": "code",
      "metadata": {
        "id": "IuWqYPdpvTSo",
        "colab_type": "code",
        "colab": {}
      },
      "source": [
        "#arbol expresión\n",
        "#AB con numeros en los valores de las hojas\n",
        "#   y operadores en los valores de las no-hojas\n",
        "\n",
        "\n",
        "\n",
        "\n",
        "\n",
        "\n",
        "\n",
        "\n",
        "\n",
        "ae=AB(\"-\", \\\n",
        "      AB(2,None,None),\\\n",
        "      AB(\"*\",\\\n",
        "         AB(3,None,None),\\\n",
        "         AB(4,None,None)))\n"
      ],
      "execution_count": 0,
      "outputs": []
    },
    {
      "cell_type": "code",
      "metadata": {
        "id": "suy-A3igvTSr",
        "colab_type": "code",
        "colab": {}
      },
      "source": [
        "#evaluar: AB -> num\n",
        "#evalua expresión representada en AB\n",
        "#ej: evaluar(ae) -> -10\n",
        "def evaluar(A):\n",
        "\n",
        "    assert type(A)==AB\n",
        "    \n",
        "    if A.izq==None and A.der==None: \n",
        "        return A.valor   \n",
        "    \n",
        "    a=evaluar(A.izq) #primer operando\n",
        "    b=evaluar(A.der) #segundo operando\n",
        "    op=A.valor       #operador\n",
        "\n",
        "  \n",
        "    if op==\"+\": \n",
        "        return a+b\n",
        "    if op==\"-\": \n",
        "        return a-b\n",
        "    if op==\"*\": \n",
        "        return a*b\n",
        "    if op==\"/\": \n",
        "        return a/b\n",
        "\n",
        "assert evaluar(ae)==-10\n"
      ],
      "execution_count": 0,
      "outputs": []
    },
    {
      "cell_type": "markdown",
      "metadata": {
        "id": "G3Uapj24vTSu",
        "colab_type": "text"
      },
      "source": [
        "## ABB: Árbol de Búsqueda Binaria\n",
        "\n",
        "Un ABB es un árbol binario tal que:\n",
        "\n",
        "- es un árbol vacío (None)\n",
        "\n",
        "o sino,\n",
        "\n",
        "- valores en el AB **izquierdo** son **menores** que el valor\n",
        "- valores en el AB **derecho** son **mayores** que el valor\n",
        "- AB izquierdo y AB derecho son también ABB\n",
        "\n",
        "![ab](https://drive.google.com/uc?export=view&id=0B3jzzeIB00s1TzdHRGpJYVllZjg)\n"
      ]
    },
    {
      "cell_type": "code",
      "metadata": {
        "id": "UVxB6qZ7vTSv",
        "colab_type": "code",
        "colab": {}
      },
      "source": [
        "import estructura\n",
        "#Arbol Binario\n",
        "#AB: valor(any), izq(AB), der(AB)\n",
        "estructura.crear(\"AB\",\"valor izq der\")\n",
        "\n",
        "abb=AB(\"F\",\\\n",
        "    AB(\"B\",\\\n",
        "        AB(\"A\",None,None),\\\n",
        "        AB(\"D\",\\\n",
        "            AB(\"C\",None,None),\\\n",
        "            AB(\"E\",None,None))),\\\n",
        "    AB(\"G\",\\\n",
        "        None,\\\n",
        "        AB(\"I\",\\\n",
        "            AB(\"H\", None, None),\\\n",
        "            None)))  \n"
      ],
      "execution_count": 0,
      "outputs": []
    },
    {
      "cell_type": "markdown",
      "metadata": {
        "id": "ewVAevz4vTSz",
        "colab_type": "text"
      },
      "source": [
        "### Cómo encontrar un valor en un ABB"
      ]
    },
    {
      "cell_type": "code",
      "metadata": {
        "id": "7oKE-bEkvTS1",
        "colab_type": "code",
        "colab": {}
      },
      "source": [
        "#buscaValor: any AB -> bool\n",
        "#True si x está en arbol\n",
        "#ej: buscaValor(\"A\",abb)->True\n",
        "\n",
        "def buscaValor(x,arbol):\n",
        "    \n",
        "    assert arbol==None or type(arbol)==AB\n",
        "    if arbol==None: \n",
        "        return False\n",
        "      \n",
        "    elif arbol.valor==x:\n",
        "        return True\n",
        "    elif x < arbol.valor: \n",
        "        return buscaValor(x,arbol.izq)\n",
        "    elif x > arbol.valor: \n",
        "        return buscaValor(x,arbol.der)\n",
        "    \n",
        "assert buscaValor(\"A\",abb)\n"
      ],
      "execution_count": 0,
      "outputs": []
    },
    {
      "cell_type": "markdown",
      "metadata": {
        "id": "5Y6A28UhvTS4",
        "colab_type": "text"
      },
      "source": [
        "### Ejemplo: Cómo saber si un AB es un ABB?\n",
        "Es decir, cómo sabemos si un árbol binario cumple con las condiciones para ser un árbol de búsqueda binario?"
      ]
    },
    {
      "cell_type": "code",
      "metadata": {
        "id": "yLeRgvBsvTS5",
        "colab_type": "code",
        "colab": {}
      },
      "source": [
        "#esABB: AB -> bool\n",
        "#True si AB es un ABB\n",
        "#ej: esABB(abb)->True\n",
        "\n",
        "def esABB(arbol):\n",
        "        \n",
        "    assert arbol==None or type(arbol)==AB\n",
        "    if arbol==None: \n",
        "        return True\n",
        "\n",
        "    # debemos revisar que AB izquierdo se ABB\n",
        "    return esABBMenor(arbol.valor,arbol.izq) and\\\n",
        "           esABBMayor(arbol.valor,arbol.der)\n",
        "    \n",
        "assert esABB(abb)\n",
        "assert not esABB(AB(\"B\",AB(\"C\",None,AB(\"A\",None,None)),None))\n"
      ],
      "execution_count": 0,
      "outputs": []
    },
    {
      "cell_type": "code",
      "metadata": {
        "id": "VFYHWr7dvTS8",
        "colab_type": "code",
        "colab": {}
      },
      "source": [
        "def esABBMenor(valor,arbol):\n",
        "    if arbol == None:\n",
        "        return True\n",
        "    if (arbol.valor < valor):\n",
        "        return esABB(arbol)\n",
        "    else:\n",
        "        return False\n",
        "    \n",
        "assert esABBMenor(\"F\", AB(\"B\",\\\n",
        "                            AB(\"A\",None,None),\\\n",
        "                            AB(\"D\",\\\n",
        "                                AB(\"C\",None,None),\\\n",
        "                                AB(\"E\",None,None))))"
      ],
      "execution_count": 0,
      "outputs": []
    },
    {
      "cell_type": "code",
      "metadata": {
        "id": "y6-OHicwvTS-",
        "colab_type": "code",
        "colab": {}
      },
      "source": [
        "def esABBMayor(valor,arbol):\n",
        "    if arbol == None:\n",
        "        return True\n",
        "    if (arbol.valor > valor):\n",
        "        return esABB(arbol)\n",
        "    else:\n",
        "        return False\n",
        "    \n",
        "assert esABBMayor(\"F\",AB(\"G\",\\\n",
        "                            None,\\\n",
        "                            AB(\"I\",\\\n",
        "                                  AB(\"H\", None, None),\\\n",
        "                                  None)))"
      ],
      "execution_count": 0,
      "outputs": []
    },
    {
      "cell_type": "code",
      "metadata": {
        "id": "hnKHBVQhvTTB",
        "colab_type": "code",
        "colab": {}
      },
      "source": [
        "#escribir: AB -> None\n",
        "#escribir valores de ABB A en orden ...\n",
        "#ej: escribir(abb) -> ...\n",
        "\n",
        "def escribir(arbol):\n",
        "    assert arbol==None or type(arbol)==AB\n",
        "    if arbol==None: \n",
        "        return\n",
        "    \n",
        "    escribir(arbol.izq)\n",
        "    print arbol.valor\n",
        "    escribir(arbol.der)\n",
        "\n",
        "    \n"
      ],
      "execution_count": 0,
      "outputs": []
    },
    {
      "cell_type": "code",
      "metadata": {
        "id": "7UMSHn-NvTTE",
        "colab_type": "code",
        "outputId": "a9866814-4b3e-4aec-8ee9-85ac003b56cf",
        "colab": {
          "base_uri": "https://localhost:8080/",
          "height": 170
        }
      },
      "source": [
        "escribir(abb)"
      ],
      "execution_count": 21,
      "outputs": [
        {
          "output_type": "stream",
          "text": [
            "A\n",
            "B\n",
            "C\n",
            "D\n",
            "E\n",
            "F\n",
            "G\n",
            "H\n",
            "I\n"
          ],
          "name": "stdout"
        }
      ]
    },
    {
      "cell_type": "code",
      "metadata": {
        "id": "rvkkN7rGvTTJ",
        "colab_type": "code",
        "colab": {}
      },
      "source": [
        "#insertar: any, AB -> AB\n",
        "#nuevo ABB insertando x en ABB A\n",
        "#ej: insertar(\"A\",AB(\"B\",None,None))->\n",
        "#                 AB(\"B\",AB(\"A\",None,None),None)\n",
        "def insertar(x,arbol):\n",
        "   \n",
        "    assert arbol==None or type(arbol)==AB\n",
        "    if arbol==None: \n",
        "        return AB(x,None,None)\n",
        "    \n",
        "    assert x!=arbol.valor\n",
        "    if x<arbol.valor: \n",
        "        return AB(arbol.valor, insertar(x,arbol.izq), arbol.der)\n",
        "    if x>arbol.valor: \n",
        "        return AB(arbol.valor, arbol.izq, insertar(x,arbol.der) )\n",
        "\n",
        "assert insertar(\"A\",AB(\"B\",None,None))== \\\n",
        "               AB(\"B\",AB(\"A\",None,None),None)\n"
      ],
      "execution_count": 0,
      "outputs": []
    },
    {
      "cell_type": "markdown",
      "metadata": {
        "id": "4Pw9XhYVvTTL",
        "colab_type": "text"
      },
      "source": [
        "## Ejercicio 8 (entrega vía u-cursos antes de la próxima clase)\n",
        "\n",
        "- **`def ordenar(L)`**: entrega una lista con los valores de la lista L en orden ascendente\n",
        "- Indicación. Usar un ABB\n",
        "- Probar con una lista de 100 números generados al azar\n",
        "\n"
      ]
    }
  ]
}