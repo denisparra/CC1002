{
  "nbformat": 4,
  "nbformat_minor": 0,
  "metadata": {
    "kernelspec": {
      "display_name": "Python 2",
      "language": "python",
      "name": "python2"
    },
    "language_info": {
      "codemirror_mode": {
        "name": "ipython",
        "version": 2
      },
      "file_extension": ".py",
      "mimetype": "text/x-python",
      "name": "python",
      "nbconvert_exporter": "python",
      "pygments_lexer": "ipython2",
      "version": "2.7.13"
    },
    "colab": {
      "name": "C19 - Archivos y Diccionarios (FULL).ipynb",
      "provenance": [],
      "collapsed_sections": [],
      "include_colab_link": true
    }
  },
  "cells": [
    {
      "cell_type": "markdown",
      "metadata": {
        "id": "view-in-github",
        "colab_type": "text"
      },
      "source": [
        "<a href=\"https://colab.research.google.com/github/bpoblete/CC1002_9/blob/master/C19_Archivos_y_Diccionarios_(FULL).ipynb\" target=\"_parent\"><img src=\"https://colab.research.google.com/assets/colab-badge.svg\" alt=\"Open In Colab\"/></a>"
      ]
    },
    {
      "cell_type": "markdown",
      "metadata": {
        "id": "exyWz9qyWIso",
        "colab_type": "text"
      },
      "source": [
        "# Clase 19: lectura/escritura archivos y Diccionarios\n",
        "\n",
        "\n",
        "## Lectura/Escritura de Archivos\n",
        "\n",
        "![tipos de memoria](https://drive.google.com/uc?export=view&id=18EzczX0AEtFunOgommoFmZOOc_uIH3-U)"
      ]
    },
    {
      "cell_type": "markdown",
      "metadata": {
        "id": "PKqzjDVNWIsp",
        "colab_type": "text"
      },
      "source": [
        "### Problema\n",
        "\n",
        "Leer líneas que terminan con la palabra \"fin\" y grabarlas en un archivo en disco de nombre \"lineas.txt\"."
      ]
    },
    {
      "cell_type": "code",
      "metadata": {
        "id": "LOjsTeqbWIsq",
        "colab_type": "code",
        "colab": {
          "base_uri": "https://localhost:8080/",
          "height": 119
        },
        "outputId": "db584c3c-3c3b-408d-a041-5ac991386279"
      },
      "source": [
        "#grabar lineas en archivo\n",
        "\n",
        "#abrir (preparar) archivo para escribir(grabar)\n",
        "A=open(\"lineas.txt\",\"w\")\n",
        "\n",
        "#leer lineas hasta “fin”\n",
        "while True:\n",
        "    linea=raw_input(\"palabra(o fin)?\")\n",
        "    if linea==\"fin\": break\n",
        "\n",
        "    #grabar linea en archivo\n",
        "    A.write(linea+\"\\n\")\n",
        "\n",
        "#cerrar archivo\n",
        "A.close()\n"
      ],
      "execution_count": 1,
      "outputs": [
        {
          "output_type": "stream",
          "text": [
            "palabra(o fin)?hola\n",
            "palabra(o fin)?esto\n",
            "palabra(o fin)?es\n",
            "palabra(o fin)?un\n",
            "palabra(o fin)?test\n",
            "palabra(o fin)?fin\n"
          ],
          "name": "stdout"
        }
      ]
    },
    {
      "cell_type": "markdown",
      "metadata": {
        "id": "VfuBktVOWIsu",
        "colab_type": "text"
      },
      "source": [
        "```python\n",
        "A=open(\"lineas.txt\",\"w\")\n",
        "```\n",
        "\n",
        "- **`A`**: variable (objeto) en memoria que representa al archivo (y contiene sus principales características: ubicación, tamaño, cursor, etc)\n",
        "- **`\"lineas.txt\"`**: nombre externo del archivo (en el disco). \n",
        "- El sufijo **`.txt`** se usa para archivos que contienen texto (caracteres).\n",
        "- Función open \"abre\" (prepara, inicializa) archivo para escritura (**`\"w\"`**)\n",
        "- si archivo no existe, se crea, y si ya existe, se regraba\n",
        "- ubica el cursor del archivo al comienzo del espacio asignado (para grabación de información)\n"
      ]
    },
    {
      "cell_type": "markdown",
      "metadata": {
        "id": "YisZBBFTWIsv",
        "colab_type": "text"
      },
      "source": [
        "```python\n",
        "A.write(linea+\"\\n\")\n",
        "```\n",
        "\n",
        "escribe (graba) una línea en el archivo\n",
        "\n",
        "- graba caracteres del string linea\n",
        "- graba una marca de fin de línea  (carácter especial newline o **`\\n`**)\n",
        "- ubica cursor después de newline\n",
        "\n",
        "**Ejemplo:**\n",
        "\n",
        "```python\n",
        "A.write(\"hola\\n\")\n",
        "```\n",
        "\n",
        "escribe en el archivo en disco:\n",
        "\n",
        "``` python\n",
        "hola\\n\n",
        "      ^ (cursor de archivo)\n",
        "\n",
        "```"
      ]
    },
    {
      "cell_type": "markdown",
      "metadata": {
        "id": "Gf1BXg77WIsv",
        "colab_type": "text"
      },
      "source": [
        "```python\n",
        "A.close()\n",
        "```\n",
        "\n",
        "- \"cierra\" el archivo\n",
        "- graba marca de fin de archivo (eof)\n",
        "- libera recursos (memoria) asociada al objeto **`A`**\n",
        "- archivo no se puede volver usar, salvo después de otro open\n",
        "\n",
        "**Ejemplo:**\n",
        "\n",
        "```python\n",
        "A.write(\"chao\\n\")\n",
        "A.close();\n",
        "```\n",
        "```\n",
        "hola\\nchao\\n█\n",
        "```\n",
        "\n",
        "█ : marca de fin de archivo \n"
      ]
    },
    {
      "cell_type": "markdown",
      "metadata": {
        "id": "6L2GdbRfWIsw",
        "colab_type": "text"
      },
      "source": [
        "```python\n",
        "A=open(\"lineas.txt\",\"r\")\n",
        "```\n",
        "\n",
        "- **`A`**: objeto que representa al archivo\n",
        "- **`\"abre\"`** (prepara, inicializa) archivo para lectura (**`\"r\"`**)\n",
        "- si archivo no existe, aborta\n",
        "- si existe, ubica el cursor al comienzo del archivo\n",
        "- si el 2° argumento es **`\"r\"`** se puede omitir\n",
        "\n",
        "```python\n",
        "A.close()\n",
        "```\n",
        "- \"cierra\" el archivo\n",
        "- si se omite, se cierra al terminar programa\n",
        "\n",
        "```python\n",
        "for linea in A\n",
        "```\n",
        "\n",
        "- lee todas las líneas del archivo\n",
        "- en cada iteración, se lee una línea del archivo\n",
        "- y se asigna a la variable (incluyendo newline)\n",
        "\n"
      ]
    },
    {
      "cell_type": "code",
      "metadata": {
        "id": "oZcjGHD_WIsx",
        "colab_type": "code",
        "colab": {
          "base_uri": "https://localhost:8080/",
          "height": 187
        },
        "outputId": "6bd4c437-375b-4bfb-eb49-316cbc67c504"
      },
      "source": [
        "A=open(\"lineas.txt\",\"r\")\n",
        "for linea in A:\n",
        "    print linea\n",
        "A.close()"
      ],
      "execution_count": 2,
      "outputs": [
        {
          "output_type": "stream",
          "text": [
            "hola\n",
            "\n",
            "esto\n",
            "\n",
            "es\n",
            "\n",
            "un\n",
            "\n",
            "test\n",
            "\n"
          ],
          "name": "stdout"
        }
      ]
    },
    {
      "cell_type": "markdown",
      "metadata": {
        "id": "yhX3_d3aWIs0",
        "colab_type": "text"
      },
      "source": [
        "**Nota:** cómo borro el `'\\n'` del final del string? (hint `strip`)"
      ]
    },
    {
      "cell_type": "code",
      "metadata": {
        "id": "dxqtjziGWIs0",
        "colab_type": "code",
        "colab": {}
      },
      "source": [
        ""
      ],
      "execution_count": 0,
      "outputs": []
    },
    {
      "cell_type": "markdown",
      "metadata": {
        "id": "mcsLhILmWIs2",
        "colab_type": "text"
      },
      "source": [
        "### Problema\n",
        "Copiar un archivo en otro, obteniendo del usuario los nombres de los archivos\n",
        "\n",
        "**Ejemplo:**\n",
        "```\n",
        "input? lineas.txt\n",
        "output? lineas1.txt\n",
        "```\n"
      ]
    },
    {
      "cell_type": "code",
      "metadata": {
        "id": "cesS6qDVWIs3",
        "colab_type": "code",
        "colab": {},
        "outputId": "effd090f-6726-439d-b3a8-c7ff79317968"
      },
      "source": [
        "#abrir archivos de entrada y salida\n",
        "arch1= raw_input(\"input? \")\n",
        "arch2= raw_input(\"output? \")\n",
        "\n",
        "A=open(arch1,\"r\")\n",
        "B=open(arch2,\"w\")\n",
        "\n",
        "#copiar todas las líneas del archivo\n",
        "for linea in A:\n",
        "    B.write(linea)\n",
        "\n",
        "#cerrar archivos\n",
        "A.close()\n",
        "B.close()\n"
      ],
      "execution_count": 0,
      "outputs": [
        {
          "output_type": "stream",
          "text": [
            "input? lineas.txt\n",
            "output? lineas_copy.txt\n"
          ],
          "name": "stdout"
        }
      ]
    },
    {
      "cell_type": "markdown",
      "metadata": {
        "id": "38i3MWSNWIs7",
        "colab_type": "text"
      },
      "source": [
        "### Problema\n",
        "mostrar las líneas de un archivo que contengan un string\n",
        "\n",
        "**Ejemplo de uso:**\n",
        "\n",
        "```\n",
        "String a buscar? Jose\n",
        "Archivo? nombres.txt\n",
        "\n",
        "Jose Manuel\n",
        "Maria Jose\n",
        "Josefina\n",
        "```"
      ]
    },
    {
      "cell_type": "code",
      "metadata": {
        "id": "99SM1FXDWIs7",
        "colab_type": "code",
        "colab": {},
        "outputId": "05352018-6e77-4f5d-8457-95792c037fa8"
      },
      "source": [
        "#mostrar lineas que contienen un string determinado\n",
        "\n",
        "#obtener strings y abrir archivo\n",
        "s=raw_input(\"string a buscar? \")\n",
        "A=open(raw_input(\"archivo? \"),\"r\")\n",
        "#leer todas las líneas del archivo\n",
        "for linea in A:\n",
        "    #mostrar lineas con string\n",
        "    if s.lower() in linea.lower(): #linea.find(s)>=0\n",
        "        print linea[0:len(linea)-1]\n",
        "#cerrar archivo\n",
        "A.close()\n"
      ],
      "execution_count": 0,
      "outputs": [
        {
          "output_type": "stream",
          "text": [
            "string a buscar? ar\n",
            "archivo? nombres.txt\n",
            "Barbara Labra\n",
            "Maria Gonzalez\n",
            "Maria Jose \n",
            "Maria \n"
          ],
          "name": "stdout"
        }
      ]
    },
    {
      "cell_type": "markdown",
      "metadata": {
        "id": "AqiZuR18WIs9",
        "colab_type": "text"
      },
      "source": [
        "### Problema 1 (resolver en clases) \n",
        "Contar las líneas y los caracteres de un archivo\n",
        "```\n",
        "Nombre de archivo?...\n",
        "nº líneas\n",
        "nº caracteres\n",
        "```"
      ]
    },
    {
      "cell_type": "code",
      "metadata": {
        "id": "B9sKa6zgWIs-",
        "colab_type": "code",
        "colab": {},
        "outputId": "3775bac4-df60-4506-d959-73ee9e185067"
      },
      "source": [
        "\n",
        "#obtener strings y abrir archivo\n",
        "A=open(raw_input(\"archivo? \"),\"r\")\n",
        "#leer todas las líneas del archivo\n",
        "contador_lineas=0\n",
        "contador_caracteres=0\n",
        "for linea in A:\n",
        "    contador_lineas+=1\n",
        "    contador_caracteres+=len(linea)\n",
        "print \"Num. lineas:\", contador_lineas\n",
        "print \"Num. caracteres:\", contador_caracteres\n",
        "#cerrar archivo\n",
        "A.close()\n",
        "\n"
      ],
      "execution_count": 0,
      "outputs": [
        {
          "output_type": "stream",
          "text": [
            "archivo? nombres.txt\n",
            "Num. lineas: 7\n",
            "Num. caracteres: 86\n"
          ],
          "name": "stdout"
        }
      ]
    },
    {
      "cell_type": "markdown",
      "metadata": {
        "id": "DogIcJLTWItC",
        "colab_type": "text"
      },
      "source": [
        "### Problema 2 (resolver en clases) \n",
        "Leer un archivo y guardar sus lineas ordenadas en otro archivo\n",
        "```\n",
        "Nombre de archivo?...\n",
        "Nombre archivo de salida?...\n",
        "```"
      ]
    },
    {
      "cell_type": "code",
      "metadata": {
        "id": "OHrRN_DGWItC",
        "colab_type": "code",
        "colab": {},
        "outputId": "77702b4c-76c8-47d7-9638-3ad5cb864258"
      },
      "source": [
        "\n",
        "#obtener strings y abrir archivo\n",
        "A=open(raw_input(\"Nombre archivo? \"),\"r\")\n",
        "#leer todas las líneas del archivo\n",
        "lineas = []\n",
        "for linea in A:\n",
        "    #leer y guardar en un arreglo\n",
        "    lineas.append(linea)\n",
        "#cerrar archivo\n",
        "A.close()\n",
        "lineas.sort()\n",
        "A=open(raw_input(\"Nombre archivo de salida? \"),\"w\")\n",
        "for linea in lineas:\n",
        "    A.write(linea)\n",
        "    \n",
        "A.close()\n",
        "    \n",
        "\n"
      ],
      "execution_count": 0,
      "outputs": [
        {
          "output_type": "stream",
          "text": [
            "Nombre archivo? nombres.txt\n",
            "Nombre archivo de salida? nombres_ordenado.txt\n"
          ],
          "name": "stdout"
        }
      ]
    },
    {
      "cell_type": "markdown",
      "metadata": {
        "id": "YejZ665bWItF",
        "colab_type": "text"
      },
      "source": [
        "# Diccionarios Python\n",
        "\n",
        "Los diccionarios son una estructura indexada mutable, al igual que los arreglos. Sin embargo no están idexados por números, sino que por \"llaves\" (strings)"
      ]
    },
    {
      "cell_type": "code",
      "metadata": {
        "id": "Azz6dx19WItG",
        "colab_type": "code",
        "colab": {}
      },
      "source": [
        "diccionario = {} # diccionario vacio"
      ],
      "execution_count": 0,
      "outputs": []
    },
    {
      "cell_type": "code",
      "metadata": {
        "id": "260IYLPtSbgW",
        "colab_type": "code",
        "colab": {
          "base_uri": "https://localhost:8080/",
          "height": 34
        },
        "outputId": "d422bf86-4eed-4391-8fc6-3b3422f053c0"
      },
      "source": [
        "diccionario"
      ],
      "execution_count": 5,
      "outputs": [
        {
          "output_type": "execute_result",
          "data": {
            "text/plain": [
              "{}"
            ]
          },
          "metadata": {
            "tags": []
          },
          "execution_count": 5
        }
      ]
    },
    {
      "cell_type": "code",
      "metadata": {
        "id": "CM-JreVAWItI",
        "colab_type": "code",
        "colab": {}
      },
      "source": [
        "diccionario2 = dict() # otro diccionario vacio"
      ],
      "execution_count": 0,
      "outputs": []
    },
    {
      "cell_type": "code",
      "metadata": {
        "id": "dLB-xDXQSlFr",
        "colab_type": "code",
        "colab": {
          "base_uri": "https://localhost:8080/",
          "height": 34
        },
        "outputId": "9c00dd9f-a2ae-4a08-d1b0-0c9587874952"
      },
      "source": [
        "diccionario2"
      ],
      "execution_count": 7,
      "outputs": [
        {
          "output_type": "execute_result",
          "data": {
            "text/plain": [
              "{}"
            ]
          },
          "metadata": {
            "tags": []
          },
          "execution_count": 7
        }
      ]
    },
    {
      "cell_type": "code",
      "metadata": {
        "id": "48sc1BvCWItK",
        "colab_type": "code",
        "colab": {
          "base_uri": "https://localhost:8080/",
          "height": 34
        },
        "outputId": "af48cba2-d9fb-4932-a057-e515174a6408"
      },
      "source": [
        "D={\"c\":1,\"a\":2,\"d\":4} #secuencia de items llave:valor\n",
        "'c' in D    #pertenencia"
      ],
      "execution_count": 13,
      "outputs": [
        {
          "output_type": "execute_result",
          "data": {
            "text/plain": [
              "True"
            ]
          },
          "metadata": {
            "tags": []
          },
          "execution_count": 13
        }
      ]
    },
    {
      "cell_type": "code",
      "metadata": {
        "id": "DuaVQKYpWItM",
        "colab_type": "code",
        "colab": {
          "base_uri": "https://localhost:8080/",
          "height": 34
        },
        "outputId": "087c6ffe-6b11-4cbf-fdb3-3471552ed738"
      },
      "source": [
        "D['c']      #buscar"
      ],
      "execution_count": 14,
      "outputs": [
        {
          "output_type": "execute_result",
          "data": {
            "text/plain": [
              "1"
            ]
          },
          "metadata": {
            "tags": []
          },
          "execution_count": 14
        }
      ]
    },
    {
      "cell_type": "code",
      "metadata": {
        "id": "lqtrCrVJWItQ",
        "colab_type": "code",
        "colab": {
          "base_uri": "https://localhost:8080/",
          "height": 34
        },
        "outputId": "41800411-27d3-480b-db79-7a285e985b77"
      },
      "source": [
        "D['b']=3    #agregar\n",
        "D # muestra en orden arbitrario"
      ],
      "execution_count": 15,
      "outputs": [
        {
          "output_type": "execute_result",
          "data": {
            "text/plain": [
              "{'a': 2, 'b': 3, 'c': 1, 'd': 4}"
            ]
          },
          "metadata": {
            "tags": []
          },
          "execution_count": 15
        }
      ]
    },
    {
      "cell_type": "code",
      "metadata": {
        "id": "Rp24uW13WItT",
        "colab_type": "code",
        "colab": {}
      },
      "source": [
        "del D['c']  #borrar"
      ],
      "execution_count": 0,
      "outputs": []
    },
    {
      "cell_type": "code",
      "metadata": {
        "id": "UW3fbNW6WItV",
        "colab_type": "code",
        "colab": {
          "base_uri": "https://localhost:8080/",
          "height": 34
        },
        "outputId": "40c639be-9356-4949-ec2b-8770e4a25c61"
      },
      "source": [
        "D['a']=5    #cambiar\n",
        "D"
      ],
      "execution_count": 18,
      "outputs": [
        {
          "output_type": "execute_result",
          "data": {
            "text/plain": [
              "{'a': 5, 'b': 3, 'd': 4}"
            ]
          },
          "metadata": {
            "tags": []
          },
          "execution_count": 18
        }
      ]
    },
    {
      "cell_type": "code",
      "metadata": {
        "id": "AoUPK9x4WItY",
        "colab_type": "code",
        "colab": {
          "base_uri": "https://localhost:8080/",
          "height": 68
        },
        "outputId": "f32d6cec-bc1c-4540-8484-b24d55cf54b4"
      },
      "source": [
        "for llave in D: \n",
        "  print D[llave] #recorrido: 5 3 4"
      ],
      "execution_count": 19,
      "outputs": [
        {
          "output_type": "stream",
          "text": [
            "5\n",
            "3\n",
            "4\n"
          ],
          "name": "stdout"
        }
      ]
    },
    {
      "cell_type": "code",
      "metadata": {
        "id": "FtbRpTccWIta",
        "colab_type": "code",
        "colab": {
          "base_uri": "https://localhost:8080/",
          "height": 34
        },
        "outputId": "95e97363-ceb7-448b-f348-4bce0739a74d"
      },
      "source": [
        "D.keys()"
      ],
      "execution_count": 20,
      "outputs": [
        {
          "output_type": "execute_result",
          "data": {
            "text/plain": [
              "['a', 'b', 'd']"
            ]
          },
          "metadata": {
            "tags": []
          },
          "execution_count": 20
        }
      ]
    },
    {
      "cell_type": "code",
      "metadata": {
        "id": "3-qBiCHZWItc",
        "colab_type": "code",
        "colab": {
          "base_uri": "https://localhost:8080/",
          "height": 34
        },
        "outputId": "734217e5-6ec2-4350-d560-6690040c1fe6"
      },
      "source": [
        "valores = D.values()\n",
        "valores"
      ],
      "execution_count": 21,
      "outputs": [
        {
          "output_type": "execute_result",
          "data": {
            "text/plain": [
              "[5, 3, 4]"
            ]
          },
          "metadata": {
            "tags": []
          },
          "execution_count": 21
        }
      ]
    },
    {
      "cell_type": "code",
      "metadata": {
        "id": "amGDXYd6WIth",
        "colab_type": "code",
        "colab": {
          "base_uri": "https://localhost:8080/",
          "height": 34
        },
        "outputId": "40b7faab-9701-4139-f336-6443e2af53ab"
      },
      "source": [
        "valores.sort()\n",
        "valores"
      ],
      "execution_count": 22,
      "outputs": [
        {
          "output_type": "execute_result",
          "data": {
            "text/plain": [
              "[3, 4, 5]"
            ]
          },
          "metadata": {
            "tags": []
          },
          "execution_count": 22
        }
      ]
    },
    {
      "cell_type": "markdown",
      "metadata": {
        "id": "dTTnkQoUWItl",
        "colab_type": "text"
      },
      "source": [
        "## Agenda con diccionario de Python\n",
        "\n",
        "```python\n",
        "agenda={\"Andres\":22234646,\"Maria\":98723456,\"David\":43335555}\n",
        "```\n"
      ]
    },
    {
      "cell_type": "code",
      "metadata": {
        "id": "2dxUItu4WItl",
        "colab_type": "code",
        "colab": {}
      },
      "source": [
        "#agenda: dict (nombre:fono)\n",
        "agenda={\"Andres\":22234646,\"Maria\":98723456,\"David\":43335555}\n",
        "\n",
        "#buscar: str dict -> int (o None si no esta)\n",
        "#buscar nombre en agenda y devolver fono\n",
        "#ej: buscar(\"c\",agenda)->1\n",
        "def buscar(nombre,agenda):\n",
        "    assert type(agenda)==dict and type(nombre)==str\n",
        "    if nombre in agenda:\n",
        "        return agenda[nombre]\n",
        "    else:\n",
        "        return None \n",
        "assert buscar(\"Andres\",agenda)==22234646\n",
        "\n"
      ],
      "execution_count": 0,
      "outputs": []
    },
    {
      "cell_type": "markdown",
      "metadata": {
        "id": "NGMxMdmaWIto",
        "colab_type": "text"
      },
      "source": [
        "## Ejercicio 11\n",
        "\n",
        "**Entrega hasta antes de la próxima clase**\n",
        "\n",
        "Escribir funciones para agregar, borrar y cambiar numero"
      ]
    }
  ]
}