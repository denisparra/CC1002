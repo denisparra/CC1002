{
  "nbformat": 4,
  "nbformat_minor": 0,
  "metadata": {
    "kernelspec": {
      "display_name": "Python 2",
      "language": "python",
      "name": "python2"
    },
    "language_info": {
      "codemirror_mode": {
        "name": "ipython",
        "version": 2
      },
      "file_extension": ".py",
      "mimetype": "text/x-python",
      "name": "python",
      "nbconvert_exporter": "python",
      "pygments_lexer": "ipython2",
      "version": "2.7.13"
    },
    "colab": {
      "name": "Clase 3.ipynb",
      "version": "0.3.2",
      "provenance": [],
      "collapsed_sections": [],
      "include_colab_link": true
    }
  },
  "cells": [
    {
      "cell_type": "markdown",
      "metadata": {
        "id": "view-in-github",
        "colab_type": "text"
      },
      "source": [
        "<a href=\"https://colab.research.google.com/github/bpoblete/CC1002_9/blob/master/Clase_3.ipynb\" target=\"_parent\"><img src=\"https://colab.research.google.com/assets/colab-badge.svg\" alt=\"Open In Colab\"/></a>"
      ]
    },
    {
      "cell_type": "markdown",
      "metadata": {
        "id": "sS5f82UHol-W",
        "colab_type": "text"
      },
      "source": [
        "#Clase 3: Diseño de Programas, Programas Interactivos y Módulos (Cap. 4)\n",
        "\n",
        "De la clase anterior:\n",
        "\n",
        "***debemos considerar el descomponer el problema en funciones, y éstas a su vez descomponerlas en funciones auxiliares hasta que cada una de ellas resuelva UN Y SOLO UN SUBPROBLEMA particular.***\n",
        "\n",
        "\n",
        "### Problema del Cine:\n",
        "\n",
        "\n",
        "_“Una importante cadena de cines de Santiago tiene completa libertad en fijar los precios de las entradas. Claramente, mientras más cara sea la entrada, menos personas estarán dispuestas a pagar por ellas. En un reciente estudio de mercado, se determinó que hay una relación entre el precio al que se venden las entradas y la cantidad de espectadores promedio: a un precio de \\$5.000 por entrada, 120 personas van a ver la película; al reducir \\$500 en el precio de la entrada, los espectadores aumentan en 15. Desafortunadamente, mientras más personas ocupan la sala para ver la película, más se debe gastar en limpieza y mantenimiento general. Para reproducir una película, el cine gasta \\$180.000. Asimismo, se gastan en promedio \\$40 por espectador por conceptos de limpieza y mantenimiento. El gerente del cine le encarga determinar cuál es la relación exacta entre las ganancias y el precio de las entradas para poder decidir a qué precio se debe vender cada entrada para maximizar las ganancias totales.”_\n",
        "\n",
        "\n",
        "Cuando nos vemos enfrentados a estas situaciones, <mark>lo mejor es identificar las dependencias</mark> y ver las relaciones una por una:\n",
        "\n",
        "- Las **_ganancias_** corresponden a la diferencia entre los ingresos y los gastos.\n",
        "- Los **_ingresos_** se generan exclusivamente a través de la venta de entradas. Corresponde al producto del valor de la entrada por el número de espectadores.\n",
        "- Los **_gastos_** están formados por dos ítemes: un gasto fijo (\\$180.000) y un gasto variable que depende del número de espectadores.\n",
        "- Finalmente, el enunciado del problema también especifica cómo el número de espectadores depende del precio de las entradas.\n",
        "\n",
        "**Antes de escribir código, hay que formular el contrato, encabezado y propósito de la función, ejemplos y casos de prueba**\n",
        "\n",
        "```python\n",
        "# ganancias: int -> int\n",
        "# calcular las ganancias como la diferencia entre los ingresos y \n",
        "# los gastos dado precioEntrada\n",
        "def ganancias(precioEntrada): \n",
        "    \n",
        "# ingresos: int -> int\n",
        "# calcular el ingreso total, dado precioEntrada \n",
        "def ingresos(precioEntrada):\n",
        "   \n",
        "# gastos: int -> int\n",
        "# calcular los gastos totales, dado precioEntrada\n",
        "def gastos(precioEntrada):\n",
        "\n",
        "# espectadores: int -> int\n",
        "# calcular el numero de espectadores, dado precioEntrada\n",
        "def espectadores(precioEntrada):  \n",
        "``` "
      ]
    },
    {
      "cell_type": "code",
      "metadata": {
        "id": "qHOe5Smoo906",
        "colab_type": "code",
        "colab": {}
      },
      "source": [
        "def ganancias(precioEntrada):\n",
        "    return ingresos(precioEntrada) - gastos(precioEntrada)\n",
        "\n",
        "def ingresos(precioEntrada):\n",
        "    return espectadores(precioEntrada) * precioEntrada \n",
        "\n",
        "def gastos(precioEntrada):\n",
        "    return 180000 + espectadores(precioEntrada) * 40 \n",
        "\n",
        "def espectadores(precioEntrada):\n",
        "    return 120 + (5000 - precioEntrada) * 15 / 500"
      ],
      "execution_count": 0,
      "outputs": []
    },
    {
      "cell_type": "markdown",
      "metadata": {
        "id": "z3XgSvPPizOk",
        "colab_type": "text"
      },
      "source": [
        "## Ejercicio 2\n",
        "\n",
        "\n",
        "Dadas las funciones vistas en esta clase:\n",
        "\n",
        "```python\n",
        "def areaCirculo(r):\n",
        "\n",
        "def areaAnillo(r_exterior, r_interior):\n",
        "\n",
        "```\n",
        "\n",
        "Cree un programa en python en  donde escriba estas funciones utilizando la _receta de diseño_ vista en clases (incluyendo tests). Luego, dentro del mismo programa y defina también las siguientes funciones:\n",
        "\n",
        "```python\n",
        "def perimetroCirculo(r):\n",
        "    \n",
        "def perimetroAnillo(r_exterior, r_interior):\n",
        "\n",
        "```\n",
        "\n",
        "Utilice `perimetroCirculo` como función auxiliar de la función `perimetroAnillo`, igual que con el cálculo de la área del anillo.\n",
        "\n",
        "\n",
        "***\n",
        "\n",
        "## Solución:\n",
        "\n",
        "\n",
        "Recordar:\n",
        "- Definir y **calcular ejemplos ANTES** de implementar la función (no use su función para calcular los valores de los ejemplos).\n",
        "- tipo: **int**, **float**, **num** (int o float), **str** (para texto/string)\n",
        "\n",
        "**Los ejemplos nos obligan a pensar en el proceso computacional que realiza la función, ayudándonos a evitar errores lógicos**\n",
        "\n"
      ]
    },
    {
      "cell_type": "code",
      "metadata": {
        "id": "5_DO8nwkizOm",
        "colab_type": "code",
        "colab": {}
      },
      "source": [
        "# areaCirculo: num -> num\n",
        "# Entrega el área un círculo dado por un radio r\n",
        "# ejemplo: areaCirculo(1) debe producir 3.14, areaCirculo(2) debe dar 12.56\n",
        "pi = 3.14\n",
        "\n",
        "def areaCirculo(r):\n",
        "\n",
        "    return pi*r**2\n",
        "\n",
        "# tests\n",
        "\n",
        "assert areaCirculo(1) == 3.14\n",
        "assert areaCirculo(2) == 12.56"
      ],
      "execution_count": 0,
      "outputs": []
    },
    {
      "cell_type": "code",
      "metadata": {
        "id": "klW3PrvDizOq",
        "colab_type": "code",
        "colab": {}
      },
      "source": [
        "# areaAnillo: num num -> num\n",
        "# Entrega el área de un anillo dado por un radio r_exterior y r_interior\n",
        "# ejemplo: areaAnillo(1,2) da 9.42\n",
        "def areaAnillo(r_interior , r_exterior):\n",
        "    return areaCirculo(r_exterior) - areaCirculo(r_interior)\n",
        "\n",
        "# tests\n",
        "assert areaAnillo(1,2) == 9.42\n"
      ],
      "execution_count": 0,
      "outputs": []
    },
    {
      "cell_type": "code",
      "metadata": {
        "id": "-iJv_wKoizOt",
        "colab_type": "code",
        "colab": {}
      },
      "source": [
        "# perimetroCirculo: num -> num\n",
        "# Entrega el perímetro de un círculo dado por un radio r\n",
        "# ejemplo: perimetroCirculo(1) debe producir 6.28\n",
        "def perimetroCirculo(r):\n",
        "\n",
        "    return 2*pi*r\n",
        "\n",
        "# tests\n",
        "assert perimetroCirculo(1) == 6.28"
      ],
      "execution_count": 0,
      "outputs": []
    },
    {
      "cell_type": "code",
      "metadata": {
        "id": "xEOWh9NFizOw",
        "colab_type": "code",
        "colab": {}
      },
      "source": [
        "# perimetroAnillo: num num ->num\n",
        "# Entrega el perímetro de un anillo dado por r_exterior y radio_interior\n",
        "# ejemplo: perimetroAnillo(2,1) debe ser 18.84\n",
        "def perimetroAnillo(r_interior , r_exterior):\n",
        "    return perimetroCirculo(r_exterior) + perimetroCirculo(r_interior)\n",
        "\n",
        "# tests\n",
        "assert perimetroAnillo(2,1) == 18.84\n",
        "\n"
      ],
      "execution_count": 0,
      "outputs": []
    },
    {
      "cell_type": "markdown",
      "metadata": {
        "id": "sddNCtVkizOy",
        "colab_type": "text"
      },
      "source": [
        "## Variables constantes\n",
        "\n",
        "La variable **`pi`** se repite varias veces en el mismo programa y no cambia nunca. Las variables que son constantes se pueden definir como tales afuera de la función. (modificamos el código de arriba para comprobarlo.)\n",
        "\n",
        "**Dar nombres relevantes a las constantes que serán utilizadas frecuentemente en su programa, utilizando estos nombres en lugar de hacer referencia a su valor**\n",
        "\n",
        "Esto permite que el código sea más entendible y si hay que modificar el valor de la constante se hace una sola vez."
      ]
    },
    {
      "cell_type": "markdown",
      "metadata": {
        "id": "WuvPIFosizOz",
        "colab_type": "text"
      },
      "source": [
        "## Módulos\n",
        "\n",
        "La programación usando módulos (programación modular) es una técnica de diseño que separa las funciones de un programa en módulos.\n",
        "- Un módulo tiene una finalidad única y contienen todo lo necesario para llevar a cabo esa funcionalidad (código fuente, variables).\n",
        "- Conceptualmente <mark>un módulo representa separación de intereses</mark>.\n",
        "- Mejoran la mantenibilidad de un software.\n"
      ]
    },
    {
      "cell_type": "markdown",
      "metadata": {
        "id": "z5uehp1rizO0",
        "colab_type": "text"
      },
      "source": [
        "###Ejemplo:\n",
        "Módulo [triangulo.py](https://colab.research.google.com/github/bpoblete/CC1002_9/blob/master/triangulo.ipynb) (debemos crearlo en un archivo aparte con el nombre del modulo.py)\n",
        "\n",
        "Luego, para utilizar cualquiera de las funciones del módulo desde otros programas debemos decir:\n",
        "\n",
        "```python\n",
        "import triangulo\n",
        "```\n",
        "o\n",
        "```python\n",
        "from triangulo import *\n",
        "```\n",
        "\n",
        "esto importa todas las funciones del módulo, o alternativamente:\n",
        "\n",
        "```python\n",
        "from triangulo import nombre_funcion\n",
        "```\n",
        "\n",
        "esto importa solo la función especificada por `nombre_funcion`, que puede ser cualquier funcion definida en `triangulo.py`\n"
      ]
    },
    {
      "cell_type": "markdown",
      "metadata": {
        "id": "k54gk2WptWJc",
        "colab_type": "text"
      },
      "source": [
        "### Módulo Triángulo (se guarda en un archivo aparte y luego guardarse como triangulo.py)"
      ]
    },
    {
      "cell_type": "code",
      "metadata": {
        "id": "xEVLdosGtXqR",
        "colab_type": "code",
        "colab": {}
      },
      "source": [
        "import math\n",
        "# perimetro: num num num -> num\n",
        "# calcula el perimetro de un triangulo de lados a, b, c\n",
        "# ejemplo: perimetro(2,3,2) debe dar 7\n",
        "def perimetro(a, b, c):\n",
        "  return a+b+c\n",
        "# Tests\n",
        "assert perimetro(2,3,2) == 7"
      ],
      "execution_count": 0,
      "outputs": []
    },
    {
      "cell_type": "markdown",
      "metadata": {
        "id": "2mS97YTRtiNF",
        "colab_type": "text"
      },
      "source": [
        "\\begin{equation*}\n",
        "\\mathrm{Area} = \\sqrt{\\mathrm{semi\\_perimetro}*(\\mathrm{semi\\_perimetro}-a)*(\\mathrm{semi\\_perimetro}-b)*(\\mathrm{semi\\_perimetro}-c)}\n",
        "\\end{equation*}"
      ]
    },
    {
      "cell_type": "code",
      "metadata": {
        "id": "p0FgqQx8t25e",
        "colab_type": "code",
        "colab": {}
      },
      "source": [
        "# area: num num num -> num\n",
        "# calcula el area de un triangulo de lados a, b, c\n",
        "# ejemplo: area(3,  4, 5) debe dar 6\n",
        "def area(a, b, c):\n",
        "  semi = perimetro(a, b, c)/2.0\n",
        "  return math.sqrt(semi*(semi-a)*(semi-b)*(semi-c))\n",
        "# Tests\n",
        "assert area(3,4,5) == 6"
      ],
      "execution_count": 0,
      "outputs": []
    },
    {
      "cell_type": "markdown",
      "metadata": {
        "id": "qO_4yB-jizO1",
        "colab_type": "text"
      },
      "source": [
        "## Módulos que vienen con python\n",
        "\n",
        "### math.py"
      ]
    },
    {
      "cell_type": "code",
      "metadata": {
        "id": "6HPIb_2yizO2",
        "colab_type": "code",
        "colab": {}
      },
      "source": [
        "import math\n",
        "# help(math)\n",
        "# help muestra la documentacion, esta comentado para imprimir el pdf\n"
      ],
      "execution_count": 0,
      "outputs": []
    },
    {
      "cell_type": "code",
      "metadata": {
        "id": "wi4F2w6lizO4",
        "colab_type": "code",
        "outputId": "22c2065f-f40c-4d40-e81f-b9da56cf9844",
        "colab": {
          "base_uri": "https://localhost:8080/",
          "height": 34
        }
      },
      "source": [
        "math.pi"
      ],
      "execution_count": 9,
      "outputs": [
        {
          "output_type": "execute_result",
          "data": {
            "text/plain": [
              "3.141592653589793"
            ]
          },
          "metadata": {
            "tags": []
          },
          "execution_count": 9
        }
      ]
    },
    {
      "cell_type": "code",
      "metadata": {
        "id": "t7skgmnXizO8",
        "colab_type": "code",
        "outputId": "197c3842-ad0d-4d00-af56-168d7b72cb8a",
        "colab": {
          "base_uri": "https://localhost:8080/",
          "height": 34
        }
      },
      "source": [
        "math.pow(10,10)"
      ],
      "execution_count": 10,
      "outputs": [
        {
          "output_type": "execute_result",
          "data": {
            "text/plain": [
              "10000000000.0"
            ]
          },
          "metadata": {
            "tags": []
          },
          "execution_count": 10
        }
      ]
    },
    {
      "cell_type": "code",
      "metadata": {
        "id": "cWTxpLJgizO_",
        "colab_type": "code",
        "outputId": "3fa8c481-a508-4a04-df12-d6448bb0771b",
        "colab": {
          "base_uri": "https://localhost:8080/",
          "height": 34
        }
      },
      "source": [
        "math.sqrt(25)"
      ],
      "execution_count": 11,
      "outputs": [
        {
          "output_type": "execute_result",
          "data": {
            "text/plain": [
              "5.0"
            ]
          },
          "metadata": {
            "tags": []
          },
          "execution_count": 11
        }
      ]
    },
    {
      "cell_type": "code",
      "metadata": {
        "id": "1Y0APqiVizPB",
        "colab_type": "code",
        "outputId": "fe772fa5-aa81-4123-fa1d-53d755f1ff85",
        "colab": {
          "base_uri": "https://localhost:8080/",
          "height": 34
        }
      },
      "source": [
        "math.trunc(math.pi)"
      ],
      "execution_count": 12,
      "outputs": [
        {
          "output_type": "execute_result",
          "data": {
            "text/plain": [
              "3"
            ]
          },
          "metadata": {
            "tags": []
          },
          "execution_count": 12
        }
      ]
    },
    {
      "cell_type": "code",
      "metadata": {
        "id": "Wmi59dyH4RlW",
        "colab_type": "code",
        "colab": {}
      },
      "source": [
        "help(math)"
      ],
      "execution_count": 0,
      "outputs": []
    },
    {
      "cell_type": "markdown",
      "metadata": {
        "id": "agmpSnRPizPD",
        "colab_type": "text"
      },
      "source": [
        "\n",
        "\n",
        "### Ejemplo de uso:"
      ]
    },
    {
      "cell_type": "code",
      "metadata": {
        "id": "f_cWxPTjizPE",
        "colab_type": "code",
        "outputId": "791c9087-5000-4bd9-eb8b-ec9787ef0987",
        "colab": {
          "base_uri": "https://localhost:8080/",
          "height": 34
        }
      },
      "source": [
        "import math\n",
        "grados = 90\n",
        "radianes = math.pi*grados/180\n",
        "seno = math.sin(radianes)\n",
        "seno"
      ],
      "execution_count": 14,
      "outputs": [
        {
          "output_type": "execute_result",
          "data": {
            "text/plain": [
              "1.0"
            ]
          },
          "metadata": {
            "tags": []
          },
          "execution_count": 14
        }
      ]
    },
    {
      "cell_type": "code",
      "metadata": {
        "id": "ALmpOQD0izPG",
        "colab_type": "code",
        "outputId": "86782ea5-3281-410d-9cff-48a079db3794",
        "colab": {
          "base_uri": "https://localhost:8080/",
          "height": 34
        }
      },
      "source": [
        "coseno = math.cos(radianes)\n",
        "coseno"
      ],
      "execution_count": 15,
      "outputs": [
        {
          "output_type": "execute_result",
          "data": {
            "text/plain": [
              "6.123233995736766e-17"
            ]
          },
          "metadata": {
            "tags": []
          },
          "execution_count": 15
        }
      ]
    },
    {
      "cell_type": "markdown",
      "metadata": {
        "id": "Pq4Zm9OFizPI",
        "colab_type": "text"
      },
      "source": [
        "\n",
        "### random.py\n"
      ]
    },
    {
      "cell_type": "code",
      "metadata": {
        "id": "2ya-YMZ1izPJ",
        "colab_type": "code",
        "colab": {}
      },
      "source": [
        "import random\n"
      ],
      "execution_count": 0,
      "outputs": []
    },
    {
      "cell_type": "code",
      "metadata": {
        "id": "Xu8z6mLmizPL",
        "colab_type": "code",
        "outputId": "c7a2a8b8-c12c-48dd-d640-6f06ccc65eac",
        "colab": {
          "base_uri": "https://localhost:8080/",
          "height": 34
        }
      },
      "source": [
        "random.random() #float al azar entre 0 y 1"
      ],
      "execution_count": 17,
      "outputs": [
        {
          "output_type": "execute_result",
          "data": {
            "text/plain": [
              "0.9550294927495576"
            ]
          },
          "metadata": {
            "tags": []
          },
          "execution_count": 17
        }
      ]
    },
    {
      "cell_type": "code",
      "metadata": {
        "id": "wcpdj6bMizPN",
        "colab_type": "code",
        "outputId": "f9d43af2-6363-432a-f020-912c6154c0fd",
        "colab": {
          "base_uri": "https://localhost:8080/",
          "height": 34
        }
      },
      "source": [
        "random.randint(2,7) #int al azar entre a y b"
      ],
      "execution_count": 18,
      "outputs": [
        {
          "output_type": "execute_result",
          "data": {
            "text/plain": [
              "5"
            ]
          },
          "metadata": {
            "tags": []
          },
          "execution_count": 18
        }
      ]
    },
    {
      "cell_type": "markdown",
      "metadata": {
        "id": "ueZybdm6izPP",
        "colab_type": "text"
      },
      "source": [
        "## Otras funciones que vienen incluidas en python (no se importan con módulos vienen por defecto)"
      ]
    },
    {
      "cell_type": "code",
      "metadata": {
        "id": "2yJcKhYBizPQ",
        "colab_type": "code",
        "outputId": "b579ad57-1ba1-4f4e-d546-0b9382f5e5d4",
        "colab": {
          "base_uri": "https://localhost:8080/",
          "height": 34
        }
      },
      "source": [
        "abs(-1)"
      ],
      "execution_count": 19,
      "outputs": [
        {
          "output_type": "execute_result",
          "data": {
            "text/plain": [
              "1"
            ]
          },
          "metadata": {
            "tags": []
          },
          "execution_count": 19
        }
      ]
    },
    {
      "cell_type": "code",
      "metadata": {
        "id": "ICXC-ZpJizPS",
        "colab_type": "code",
        "outputId": "c935ee7f-83a1-4fbc-f924-bf717d0ed6f8",
        "colab": {
          "base_uri": "https://localhost:8080/",
          "height": 34
        }
      },
      "source": [
        "max(3,4,2)"
      ],
      "execution_count": 20,
      "outputs": [
        {
          "output_type": "execute_result",
          "data": {
            "text/plain": [
              "4"
            ]
          },
          "metadata": {
            "tags": []
          },
          "execution_count": 20
        }
      ]
    },
    {
      "cell_type": "code",
      "metadata": {
        "id": "ucgeVbXuizPU",
        "colab_type": "code",
        "outputId": "fb8be387-8f54-450f-e940-da7c1fe04f2c",
        "colab": {
          "base_uri": "https://localhost:8080/",
          "height": 34
        }
      },
      "source": [
        "min(2,0)"
      ],
      "execution_count": 21,
      "outputs": [
        {
          "output_type": "execute_result",
          "data": {
            "text/plain": [
              "0"
            ]
          },
          "metadata": {
            "tags": []
          },
          "execution_count": 21
        }
      ]
    },
    {
      "cell_type": "markdown",
      "metadata": {
        "id": "RoNN-wMxizPW",
        "colab_type": "text"
      },
      "source": [
        "### Ejemplo usando random y funciones incluidas en python"
      ]
    },
    {
      "cell_type": "code",
      "metadata": {
        "id": "dkpfqnUBizPY",
        "colab_type": "code",
        "outputId": "fe3f1700-c010-4504-887a-941d81bb236e",
        "colab": {
          "base_uri": "https://localhost:8080/",
          "height": 51
        }
      },
      "source": [
        "#mayor y menor de 3 enteros al azar entre 1 y 100\n",
        "import random \n",
        "a=random.randint(1,100) \n",
        "b=random.randint(1,100) \n",
        "c=random.randint(1,100) \n",
        "print \"mayor=\",max(a,b,c) \n",
        "print \"menor=\",min(a,b,c)"
      ],
      "execution_count": 22,
      "outputs": [
        {
          "output_type": "stream",
          "text": [
            "mayor= 30\n",
            "menor= 13\n"
          ],
          "name": "stdout"
        }
      ]
    },
    {
      "cell_type": "markdown",
      "metadata": {
        "id": "5egIV92EizPd",
        "colab_type": "text"
      },
      "source": [
        "### Propuestos \n",
        "\n",
        "Escribir las siguientes funciones: \n",
        "- `azar(x,y)` entrega entero al azar entre x e y  \n",
        "- `medio(x,y,z)` entrega el valor del medio entre x,y,z \n",
        "- `mayor(x,y)` entrega el mayor entre x e y (sin usar max)\n"
      ]
    },
    {
      "cell_type": "markdown",
      "metadata": {
        "id": "WCECFQ4IizPf",
        "colab_type": "text"
      },
      "source": [
        "\n",
        "***\n",
        "\n",
        "\n",
        "\n",
        "# Programas interactivos\n",
        "\n",
        "Muchas veces un programa necesita interactuar con el usuario (cuando el usuario debe dar parámetros) y luego el programa tiene que mostrar resultados.\n",
        "\n",
        "- **`input`** y **`raw_input`**, permiten pedir datos al usuario\n",
        "  - **`input`**: la variable ingresada será del tipo más apropiado (texto, num)\n",
        "  - **`raw_input`**: la variable ingresada será asumida como texto (aunque sea numérica).\n",
        "- **`print()`**, permite imprimir a pantalla\n",
        "Ej:\n",
        "\n"
      ]
    },
    {
      "cell_type": "code",
      "metadata": {
        "id": "cyoRtcfKizPh",
        "colab_type": "code",
        "outputId": "ae4f1981-4bc2-4b45-b109-188b50720bca",
        "colab": {
          "base_uri": "https://localhost:8080/",
          "height": 51
        }
      },
      "source": [
        "input('Ingrese un numero ')"
      ],
      "execution_count": 23,
      "outputs": [
        {
          "output_type": "stream",
          "text": [
            "Ingrese un numero 8\n"
          ],
          "name": "stdout"
        },
        {
          "output_type": "execute_result",
          "data": {
            "text/plain": [
              "8"
            ]
          },
          "metadata": {
            "tags": []
          },
          "execution_count": 23
        }
      ]
    },
    {
      "cell_type": "code",
      "metadata": {
        "id": "GtzRHyczizPj",
        "colab_type": "code",
        "outputId": "530cb62e-ced9-4e14-ef58-3e4414d3889d",
        "colab": {
          "base_uri": "https://localhost:8080/",
          "height": 34
        }
      },
      "source": [
        "numero = input('Ingrese un numero ')"
      ],
      "execution_count": 25,
      "outputs": [
        {
          "output_type": "stream",
          "text": [
            "Ingrese un numero 7\n"
          ],
          "name": "stdout"
        }
      ]
    },
    {
      "cell_type": "code",
      "metadata": {
        "id": "C-gvoM8mizPk",
        "colab_type": "code",
        "outputId": "e638e848-bd01-4830-e1af-f06ffb80021e",
        "colab": {
          "base_uri": "https://localhost:8080/",
          "height": 34
        }
      },
      "source": [
        "doble = numero * 2\n",
        "doble"
      ],
      "execution_count": 26,
      "outputs": [
        {
          "output_type": "execute_result",
          "data": {
            "text/plain": [
              "14"
            ]
          },
          "metadata": {
            "tags": []
          },
          "execution_count": 26
        }
      ]
    },
    {
      "cell_type": "code",
      "metadata": {
        "id": "00kLqw7QizPn",
        "colab_type": "code",
        "outputId": "9d8548c6-475e-46e5-eb32-30c089aff0d1",
        "colab": {
          "base_uri": "https://localhost:8080/",
          "height": 34
        }
      },
      "source": [
        "numero = raw_input('Ingrese un numero ')"
      ],
      "execution_count": 27,
      "outputs": [
        {
          "output_type": "stream",
          "text": [
            "Ingrese un numero 7\n"
          ],
          "name": "stdout"
        }
      ]
    },
    {
      "cell_type": "code",
      "metadata": {
        "id": "TEGAYNrcizPp",
        "colab_type": "code",
        "outputId": "765f4427-e53a-4d0f-89f8-0019e8ad3456",
        "colab": {
          "base_uri": "https://localhost:8080/",
          "height": 34
        }
      },
      "source": [
        "doble = int(numero) * 2\n",
        "doble"
      ],
      "execution_count": 28,
      "outputs": [
        {
          "output_type": "execute_result",
          "data": {
            "text/plain": [
              "14"
            ]
          },
          "metadata": {
            "tags": []
          },
          "execution_count": 28
        }
      ]
    },
    {
      "cell_type": "code",
      "metadata": {
        "id": "_tzH4tDVizPr",
        "colab_type": "code",
        "outputId": "3c1fce3c-a98d-4daa-ef44-6dd3b62dd17e",
        "colab": {
          "base_uri": "https://localhost:8080/",
          "height": 34
        }
      },
      "source": [
        "nombre = raw_input('Cual es su nombre? ')"
      ],
      "execution_count": 29,
      "outputs": [
        {
          "output_type": "stream",
          "text": [
            "Cual es su nombre? Juan\n"
          ],
          "name": "stdout"
        }
      ]
    },
    {
      "cell_type": "code",
      "metadata": {
        "id": "SwX7n_q-izPt",
        "colab_type": "code",
        "outputId": "88e7162c-06f6-44f1-c9aa-d7e7c7845bc2",
        "colab": {
          "base_uri": "https://localhost:8080/",
          "height": 34
        }
      },
      "source": [
        "nombre"
      ],
      "execution_count": 30,
      "outputs": [
        {
          "output_type": "execute_result",
          "data": {
            "text/plain": [
              "'Juan'"
            ]
          },
          "metadata": {
            "tags": []
          },
          "execution_count": 30
        }
      ]
    },
    {
      "cell_type": "markdown",
      "metadata": {
        "id": "Sx5DmOKAizPw",
        "colab_type": "text"
      },
      "source": [
        "\n",
        "\n",
        "## Programa interactivo usando triangulo.py\n",
        "\n",
        "(debe estar guardado todo en el mismo directorio y ser ejecutado desde ahí)\n",
        "\n",
        "**Ejercicio en clases (5 min)**\n",
        "\n"
      ]
    },
    {
      "cell_type": "code",
      "metadata": {
        "id": "XoJsV8HUizPw",
        "colab_type": "code",
        "outputId": "2ba44e75-313e-41fd-bf59-154b6c82e20f",
        "colab": {
          "base_uri": "https://localhost:8080/",
          "height": 119
        }
      },
      "source": [
        "import triangulo\n",
        "\n",
        "print 'Calcular el area y perimetro de un triangulo' \n",
        "l1 = input('Ingrese el largo del primer lado ')\n",
        "l2 = input('Ingrese el largo del segundo lado ')\n",
        "l3 = input('Ingrese el largo del tercer lado ')\n",
        "\n",
        "print 'El perimetro del triangulo es ', triangulo.perimetro(l1, l2, l3) \n",
        "print 'El area del triangulo es ', triangulo.area(l1, l2, l3)"
      ],
      "execution_count": 31,
      "outputs": [
        {
          "output_type": "stream",
          "text": [
            "Calcular el area y perimetro de un triangulo\n",
            "Ingrese el largo del primer lado 4\n",
            "Ingrese el largo del segundo lado 2\n",
            "Ingrese el largo del tercer lado 4\n",
            "El perimetro del triangulo es  10\n",
            "El area del triangulo es  3.87298334621\n"
          ],
          "name": "stdout"
        }
      ]
    }
  ]
}