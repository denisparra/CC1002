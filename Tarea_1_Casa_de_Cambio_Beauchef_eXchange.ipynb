{
  "nbformat": 4,
  "nbformat_minor": 0,
  "metadata": {
    "kernelspec": {
      "display_name": "Python 2",
      "language": "python",
      "name": "python2"
    },
    "language_info": {
      "codemirror_mode": {
        "name": "ipython",
        "version": 2
      },
      "file_extension": ".py",
      "mimetype": "text/x-python",
      "name": "python",
      "nbconvert_exporter": "python",
      "pygments_lexer": "ipython2",
      "version": "2.7.13"
    },
    "colab": {
      "name": "Tarea_1_Casa_de_Cambio_Beauchef_eXchange.ipynb",
      "version": "0.3.2",
      "provenance": [],
      "collapsed_sections": [],
      "include_colab_link": true
    }
  },
  "cells": [
    {
      "cell_type": "markdown",
      "metadata": {
        "id": "view-in-github",
        "colab_type": "text"
      },
      "source": [
        "<a href=\"https://colab.research.google.com/github/bpoblete/CC1002_9/blob/master/Tarea_1_Casa_de_Cambio_Beauchef_eXchange.ipynb\" target=\"_parent\"><img src=\"https://colab.research.google.com/assets/colab-badge.svg\" alt=\"Open In Colab\"/></a>"
      ]
    },
    {
      "cell_type": "markdown",
      "metadata": {
        "id": "YF07cZLcm7_L",
        "colab_type": "text"
      },
      "source": [
        "# Tarea 1 - CC1002-9\n",
        "## Fecha de entrega: 23 de Agosto de 2019\n",
        "\n",
        "\n",
        "_**(Lea TODO el enunciado cuidadosamente antes de empezar)**_\n",
        "\n",
        "La Facultad de Ingeniería decide impulsar un nuevo emprendimiento de cambio de divisas, llamado **Beauchef eXchange**. Esta nueva casa de cambios permite realizar cambios desde cualquiera de las siguientes monedas: _pesos_, _dolares_, _euros_, _yenes_, _libras_, hacia cualquier otra de ese mismo conjunto. La casa de cambio cobra una comisión, la cual en un inicio es 20%, pero se va fijando según el mercado. \n",
        "\n",
        "Como este emprendimiento aún no tiene financiamiento, la FCFM le encarga a Ud. realizar un programa llamado **`casaDeCambio.py`** que implemente las funcionalidades necesarias de acuerdo a las especificaciones indicadas a continuación."
      ]
    },
    {
      "cell_type": "markdown",
      "metadata": {
        "id": "ujvS_7izm7_N",
        "colab_type": "text"
      },
      "source": [
        "## Indicaciones Generales\n",
        "\n",
        "1. El tipo de cambio a pesos que utiliza Beauchef eXchange es fijo (debe definirlos como constantes):\n",
        "\n",
        "  - euro=806.09\n",
        "  - dolar=718.55\n",
        "  - yen=6.71\n",
        "  - libra=861.74\n",
        "  \n",
        "2. La forma en que se realiza una transacción es la siguiente: \n",
        "\n",
        "  1. El Usuario debe indicar cual es la moneda de origen desde la cual quiere realizar el cambio (ej: 'dolares').\n",
        "  2. El Usuario debe indicar cuántas monedas de origen desea cambiar (ej: 2000)\n",
        "  3. El Usuario debe indicar cuál es la moneda de destino, es decir cuál moneda desea comprar (ej.: 'libras')\n",
        "  4. La Casa de Cambio debe convertir el monto de moneda de origen a pesos (se convierte a un número entero, redondeando hacia _abajo_ porque la casa siempre gana).\n",
        "  5. La Casa de Cambio debe descontar la comisión del monto expresado en pesos (se convierte a un número entero, redondeado hacia _arriba_, de nuevo, porque la casa siempre gana).\n",
        "  6. La cantidad en pesos restante (después de sacar la comisión) es convertida a la moneda de destino (expresada como un número entero, redondeado hacia abajo, porque Beauchef nunca pierde).\n",
        "  7. Si el usuario indica una moneda que no existe cambio, el programa avisa y termina.\n",
        "\n",
        "3. Además, aunque parezca absurdo, Beauchef eXchange no pone problemas si alguien quiere vender y comprar un mismo tipo de moneda (ej: de dolar a dolar), siempre y cuando saque su tajada (comisión) correspondiente. Por lo tanto no es obligación para Ud. preocuparse de este caso particular."
      ]
    },
    {
      "cell_type": "markdown",
      "metadata": {
        "id": "d3d3wxB5m7_P",
        "colab_type": "text"
      },
      "source": [
        "## Ejemplos de ejecución de casaDeCambio.py :\n",
        "\n",
        "\n",
        "### Ejemplo 1: \n",
        "**Pasar de $300 mil pesos a libras**\n",
        "\n",
        "<pre>\n",
        "Bienvenido a Beauchef Money eXchange!\n",
        "sistema automatizado para realizar cambios de moneda\n",
        "\n",
        "- Ingrese tipo de moneda que va a cambiar [pesos|dolares|euros|yenes|libras]: pesos\n",
        "-- Ingrese monto en moneda pesos: 300000\n",
        "- ingrese tipo de moneda de destino [pesos|dolares|euros|yenes|libras]: libras\n",
        "\n",
        "- Ud. ha solicitado cambiar $300000 pesos por libras\n",
        "--- esta transaccion tiene una comision de $60000 pesos\n",
        "---- su cambio es: 278 libras\n",
        "\n",
        "Gracias por elegir Beauchef Money eXchange\n",
        "</pre>"
      ]
    },
    {
      "cell_type": "markdown",
      "metadata": {
        "id": "cvajPTRNm7_Q",
        "colab_type": "text"
      },
      "source": [
        "### Ejemplo 2: \n",
        "**Pasar de $30 dolares a pesos**\n",
        "\n",
        "<pre>\n",
        "Bienvenido a Beauchef Money eXchange!\n",
        "sistema automatizado para realizar cambios de moneda\n",
        "\n",
        "- Ingrese tipo de moneda que va a cambiar [pesos|dolares|euros|yenes|libras]: dolares\n",
        "-- Ingrese monto en moneda dolares: 30\n",
        "- ingrese tipo de moneda de destino [pesos|dolares|euros|yenes|libras]: pesos\n",
        "\n",
        "- Ud. ha solicitado cambiar $30 dolares por pesos\n",
        "--- esta transaccion tiene una comision de $4312 pesos\n",
        "---- su cambio es: 17244 pesos\n",
        "\n",
        "Gracias por elegir Beauchef Money eXchange\n",
        "</pre>"
      ]
    },
    {
      "cell_type": "markdown",
      "metadata": {
        "id": "fkoY19sHm7_R",
        "colab_type": "text"
      },
      "source": [
        "### Ejemplo 3: \n",
        "**Pasar de $30 pesos a libras (cantidad insuficiente para un mínimo de una libra)**\n",
        "\n",
        "<pre>\n",
        "Bienvenido a Beauchef Money eXchange!\n",
        "sistema automatizado para realizar cambios de moneda\n",
        "\n",
        "- Ingrese tipo de moneda que va a cambiar [pesos|dolares|euros|yenes|libras]: pesos\n",
        "-- Ingrese monto en moneda pesos: 30\n",
        "- ingrese tipo de moneda de destino [pesos|dolares|euros|yenes|libras]: libras\n",
        "\n",
        "- Ud. ha solicitado cambiar $30 pesos por libras\n",
        "---- la cantidad 30 de pesoses insuficiente para cambiar a libras\n",
        "\n",
        "Gracias por elegir Beauchef Money eXchange\n",
        "</pre>"
      ]
    },
    {
      "cell_type": "markdown",
      "metadata": {
        "id": "_MLgnCrctJRi",
        "colab_type": "text"
      },
      "source": [
        "### Ejemplo 4: \n",
        "**Pasar de $30 pesitos a pesotes (Monedas incorrectas)**\n",
        "\n",
        "<pre>\n",
        "Bienvenido a Beauchef Money eXchange!\n",
        "sistema automatizado para realizar cambios de moneda\n",
        "\n",
        "- Ingrese tipo de moneda que va a cambiar [pesos|dolares|euros|yenes|libras]: pesitos\n",
        "-- Ingrese monto en moneda pesitos: 30\n",
        "- ingrese tipo de moneda de destino [pesos|dolares|euros|yenes|libras]: pesotes\n",
        "\n",
        "- Ud. ha solicitado cambiar $30 pesitos por pesotes\n",
        "---- Moneda de origen (pesitos) o destino (pesotes) invalida\n",
        "\n",
        "Gracias por elegir Beauchef Money eXchange\n",
        "</pre>"
      ]
    },
    {
      "cell_type": "markdown",
      "metadata": {
        "id": "YZv-6ZAsm7_T",
        "colab_type": "text"
      },
      "source": [
        "## Indicaciones importantes para crear su programa\n",
        "\n",
        "1. Ud. debe crear un módulo llamado **`funcionesDeCambio`** (que debe guardarse en un archivo `funcionesDeCambio.py`) que contenga funciones para conversión de monedas y comisión. Este módulo debe implementar las siguientes funciones:\n",
        "\n",
        "  - **`convertirMonedaAPesos(moneda_origen, cantidad)`:** recibe un string con el tipo de moneda que se debe convertir a pesos   y su cantidad. Entrega una cantidad entera de pesos (redondeada hacia abajo)\n",
        "  Ej: `convertirMonedaAPesos('dolares', 233)` devuelve `167422`\n",
        "  \n",
        "  - **`convertirPesosAMoneda(pesos, moneda_destino)`:** recibe una cantidad entera de pesos y los convierte a una cantidad entera de moneda de destino (redondeando hacia abajo)\n",
        "  Ej: `convertirPesosAMoneda(15608, 'yenes')` devuelve `2326`\n",
        "  \n",
        "  - **`calcularComision(pesos, comision)`:**  recibe un valor entero de pesos y un valor de   comisión y entrega el valor entero de pesos que se cobra en comisión por la transaccion (redondeando hacia arriba)\n",
        "  Ej. `calcularComision(12345.23,0.2)` retorna `2470`\n",
        "\n",
        "\n",
        "2. Las variables constantes que indican el tipo de cambio de monedas extranjeras a pesos deben definirse en el módulo `funcionesDeCambio.py`.\n",
        "\n",
        "3. El programa principal `casaDeCambio.py` es el encargado de mostrar el diálogo interactivo y debe importar el módulo `funcionesDeCambio` para utilizar desde este todas las funcionalidades de cambio de moneda y comisión.\n",
        "\n",
        "4. El porcentaje de la comisión debe definirse como una (variable) constante en el programa principal.\n",
        "\n",
        "5. Todas las funciones de su programa deben realizarse utiliando la receta de diseño según lo visto en clases. Debe incluir sus propios tests y ejemplos (no sólo los del enunciado).\n",
        "\n",
        "6. Algunas funciones útiles del módulo `math` de python son `ceil()`, `trunc()`. Además de funciones estándares de python como `str()`, `int()`.\n",
        "\n",
        "7. Las tareas deben hacerse en python 2.7 y utilizando sólo lo que hemos visto hasta ahora en el curso. \n",
        "\n",
        "8. Debe enviar por lo menos dos archivos `casaDeCambio.py` y `funcionesDeCambio.py`. Además, de manera opcional, puede enviar los archivos en Colab exportados a `.pynb`, ya que se bonificarán las tareas que incluyan documentación en este formato explicando la tarea."
      ]
    },
    {
      "cell_type": "markdown",
      "metadata": {
        "id": "ftB0f8YAm7_U",
        "colab_type": "text"
      },
      "source": [
        "### No olvidar:\n",
        "- El objetivo de la Tarea es ayudarlos a estudiar para el Control 1, por lo tanto se recomienda terminarla con bastante anticipación al Control.\n",
        "- El trabajo es individual, cada alumno es responsable de crear y escribir su propio código. Se verificará que no haya copias.\n",
        "- Las preguntas con respecto a la tarea deben hacerse en el foro del curso para que así las respuestas sirvan a todos. También por correo al equipo docente si es algo muy específico (pero prefiera el foro).\n",
        "- No seguir las indicaciones del enunciado para su programa será motivo de descuento de nota.\n",
        "- Se descontará 1 punto por día hábil de atraso."
      ]
    }
  ]
}