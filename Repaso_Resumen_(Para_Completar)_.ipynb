{
  "nbformat": 4,
  "nbformat_minor": 0,
  "metadata": {
    "kernelspec": {
      "display_name": "Python 2",
      "language": "python",
      "name": "python2"
    },
    "language_info": {
      "codemirror_mode": {
        "name": "ipython",
        "version": 2
      },
      "file_extension": ".py",
      "mimetype": "text/x-python",
      "name": "python",
      "nbconvert_exporter": "python",
      "pygments_lexer": "ipython2",
      "version": "2.7.13"
    },
    "colab": {
      "name": "Repaso Resumen (Para Completar) .ipynb",
      "version": "0.3.2",
      "provenance": [],
      "include_colab_link": true
    }
  },
  "cells": [
    {
      "cell_type": "markdown",
      "metadata": {
        "id": "view-in-github",
        "colab_type": "text"
      },
      "source": [
        "<a href=\"https://colab.research.google.com/github/bpoblete/CC1002_9/blob/master/Repaso_Resumen_(Para_Completar)_.ipynb\" target=\"_parent\"><img src=\"https://colab.research.google.com/assets/colab-badge.svg\" alt=\"Open In Colab\"/></a>"
      ]
    },
    {
      "cell_type": "markdown",
      "metadata": {
        "id": "xSH8K5Af_Dbm",
        "colab_type": "text"
      },
      "source": [
        "# Repaso/Resúmen\n",
        "\n",
        "1. Instrucción de asignación\n",
        "2. Funciones y módulos\n",
        "3. Selección de instrucciones: instrucción if\n",
        "4. Repetición de instrucciones: recursión\n",
        "5. Recursión gráfica: tortuga\n",
        "6. Estudio de caso: números primos\n"
      ]
    },
    {
      "cell_type": "markdown",
      "metadata": {
        "id": "NmXWmRrI_Dbn",
        "colab_type": "text"
      },
      "source": [
        "## Instrucción de Asignación\n",
        "\n",
        "### Problema\n",
        "Calcular el área y perímetro de la figura\n",
        "\n",
        "![figura](https://drive.google.com/uc?export=download&id=1JXiivZ1wD5ymxWOUHi2pQxd8scf_OXwb)\n",
        "\n"
      ]
    },
    {
      "cell_type": "code",
      "metadata": {
        "id": "PqrbQRKg_Dbo",
        "colab_type": "code",
        "colab": {}
      },
      "source": [
        "import math \n",
        "radio = 10\n",
        "pi = 3.14\n",
        "\n",
        "lado_cuadrado = \n",
        "perimetro_circulo = \n",
        "perimetro_cuadrado = \n",
        "perimetro_total = \n",
        "\n",
        "area_cuadrado = \n",
        "area_circulo = \n",
        "area_figura = \n",
        "\n",
        "print \"perimetro figura: \",  perimetro_total\n",
        "\n",
        "print \"area figura: \",  area_figura"
      ],
      "execution_count": 0,
      "outputs": []
    },
    {
      "cell_type": "markdown",
      "metadata": {
        "id": "pmBXjn2__Dbt",
        "colab_type": "text"
      },
      "source": [
        "**es un programa lineal o secuencial, las instrucciones se ejecutan en orden de aparición**"
      ]
    },
    {
      "cell_type": "markdown",
      "metadata": {
        "id": "pTqNH4GW_Dbu",
        "colab_type": "text"
      },
      "source": [
        "## operador resto de división: %\n",
        "\n",
        "### Problema\n",
        "Invertir entero de 3 digitos\n"
      ]
    },
    {
      "cell_type": "code",
      "metadata": {
        "id": "PtzqhW0t_Dbu",
        "colab_type": "code",
        "colab": {}
      },
      "source": [
        "n=321\n",
        "\n",
        "d1=\n",
        "d3=\n",
        "d2=\n",
        "\n",
        "inverso=100*d3+10*d2+d1\n",
        "\n"
      ],
      "execution_count": 0,
      "outputs": []
    },
    {
      "cell_type": "code",
      "metadata": {
        "id": "E4HQ6TX5_Dbw",
        "colab_type": "code",
        "colab": {}
      },
      "source": [
        "d1=n/100\n",
        "d1"
      ],
      "execution_count": 0,
      "outputs": []
    },
    {
      "cell_type": "code",
      "metadata": {
        "id": "CdLYNJvJ_Dby",
        "colab_type": "code",
        "colab": {}
      },
      "source": [
        "n/10"
      ],
      "execution_count": 0,
      "outputs": []
    },
    {
      "cell_type": "code",
      "metadata": {
        "id": "eNAu_KL9_Db0",
        "colab_type": "code",
        "colab": {}
      },
      "source": [
        "d2 = (n/10)%10\n",
        "d2"
      ],
      "execution_count": 0,
      "outputs": []
    },
    {
      "cell_type": "code",
      "metadata": {
        "id": "d9nA0cCV_Db2",
        "colab_type": "code",
        "colab": {}
      },
      "source": [
        "d3= n%10\n",
        "d3"
      ],
      "execution_count": 0,
      "outputs": []
    },
    {
      "cell_type": "code",
      "metadata": {
        "id": "93yjbsXe_Db4",
        "colab_type": "code",
        "colab": {}
      },
      "source": [
        "100*d3+10*d2+d1"
      ],
      "execution_count": 0,
      "outputs": []
    },
    {
      "cell_type": "markdown",
      "metadata": {
        "id": "Hjcho_Pc_Db6",
        "colab_type": "text"
      },
      "source": [
        "## Problema\n",
        "Entregar billetes en un cajero automático"
      ]
    },
    {
      "cell_type": "code",
      "metadata": {
        "id": "W9-hsWCz_Db8",
        "colab_type": "code",
        "colab": {}
      },
      "source": [
        "#cajero automatico\n",
        "d= #dinero que necesita\n",
        "\n",
        "#...billetes de 20\n",
        "\n",
        "\n",
        "\n",
        "print \"billetes de 20 mil: \",b20 \n",
        "\n",
        "#...billetes de diez\n",
        "\n",
        "\n",
        "\n",
        "print \"billetes de 10 mil: \",b10 \n",
        "\n",
        "#...billetes de cinco \n",
        "\n",
        "\n",
        "\n",
        "print \"billetes de 5 mil: \",b5 \n",
        "\n",
        "#...billetes de dos \n",
        "\n",
        "\n",
        "\n",
        "print \"billetes de 2 mil: \",b2 \n",
        "\n",
        "\n",
        "\n",
        "#...billetes de mil\n",
        "\n",
        "print \"billetes de mil: \",b1"
      ],
      "execution_count": 0,
      "outputs": []
    },
    {
      "cell_type": "markdown",
      "metadata": {
        "id": "7sxgFm5n_Db-",
        "colab_type": "text"
      },
      "source": [
        "## Funciones y módulos predefinidos"
      ]
    },
    {
      "cell_type": "code",
      "metadata": {
        "id": "R4aBQtSF_Db_",
        "colab_type": "code",
        "colab": {}
      },
      "source": [
        "import math\n",
        "print \"triangulo:lados a,b,y angulo alfa\"\n",
        "\n",
        "#obtener datos\n",
        "a=input(\"a? \")\n",
        "b=input(\"b? \")\n",
        "alfa=input(\"alfa? \")*math.pi/180\n",
        "\n",
        "#calcular tercer lado\n",
        "c=math.sqrt(math.pow(a*math.sin(alfa),2) + math.pow(b-a*math.cos(alfa),2))\n",
        "\n",
        "#calcular y mostrar perimetro y area\n",
        "print \"Perimetro=\",a+b+c\n",
        "\n",
        "s=(a+b+c)/2 #semi-perimetro\n",
        "\n",
        "print \"Area=\",math.sqrt(s*(s-a)*(s-b)*(s-c))\n"
      ],
      "execution_count": 0,
      "outputs": []
    },
    {
      "cell_type": "markdown",
      "metadata": {
        "id": "8yIjRCH3_DcC",
        "colab_type": "text"
      },
      "source": [
        "## Funciones definidas por el programador"
      ]
    },
    {
      "cell_type": "code",
      "metadata": {
        "id": "M9otcADO_DcC",
        "colab_type": "code",
        "colab": {}
      },
      "source": [
        "#aaaammdd: int -> int\n",
        "#convertir fecha ddmmaaaa a la forma aaaammdd\n",
        "#ej: aaaammdd(24092015)==20150924\n",
        "\n",
        "def aaaammdd(x):\n",
        "    dd=\n",
        "    mm=\n",
        "    aaaa=\n",
        "    return aaaa*10000 + mm*100 + dd\n",
        "\n",
        "assert aaaammdd(24092015)==20150924\n",
        "\n",
        "#...\n",
        "def ddmmaaaa(x):\n",
        "    dd=\n",
        "    mm=\n",
        "    aaaa=\n",
        "    return dd*1000000 + mm*10000 + aaaa\n",
        "\n",
        "assert ddmmaaaa(20150924)==24092015\n",
        "\n",
        "#seleccionar mayor entre dos fechas\n",
        "f1=input(\"fecha1(ddmmaaaa)?\")\n",
        "f2=input(\"fecha2(ddmmaaaa)?\") \n",
        "print \"mayor=\",ddmmaaaa(max(aaaammdd(f1),aaaammdd(f2)))\n"
      ],
      "execution_count": 0,
      "outputs": []
    },
    {
      "cell_type": "markdown",
      "metadata": {
        "id": "9xWpAXFz_DcE",
        "colab_type": "text"
      },
      "source": [
        "\n",
        "## Expresiones y Funciones Condicionales (Capítulo 5 del Apunte)\n",
        "\n",
        "\n",
        "Existen expresiones que al evaluarlas retornan valores **`True`** (VERDADERO) o **`False`** (FALSO) estos valores son de tipo **`bool`** (booleanos).\n",
        "\n",
        "Ya las conocemos de las matemáticas en donde hablamos de _proposiciones verdaderas o falsas_. Para un par de números `x` e `y` sólo existen 3 opciones posibles:\n",
        "\n",
        "```python\n",
        "\n",
        "x == y # x es igual a y\n",
        "x < y  # x es menor a y\n",
        "x > y  # x es mayor a y\n",
        "\n",
        "```"
      ]
    },
    {
      "cell_type": "markdown",
      "metadata": {
        "id": "rU7mGjNA_DcF",
        "colab_type": "text"
      },
      "source": [
        "\n",
        "## Condiciones compuestas\n",
        "\n",
        "- `and`, `or`, `not`: conectores lógicos\n",
        "\n",
        "\n",
        "```python\n",
        "\n",
        "x == y  and y < z # ??\n",
        "x == y or y < z  # ??\n",
        "not x == y  # ???\n",
        "\n",
        "```"
      ]
    },
    {
      "cell_type": "markdown",
      "metadata": {
        "id": "YuPPSshT_DcF",
        "colab_type": "text"
      },
      "source": [
        "## Selección de instrucciones: Instrucción IF\n",
        "\n",
        "- **si** pregunta **entonces** respuesta\n",
        "- **sino** pregunta **entonces** respuesta\n",
        "- ...\n",
        "- **si no ocurre nada de lo anterior entonces** respuesta\n",
        "\n",
        "\n",
        "en python:\n",
        "\n",
        "```python\n",
        "if (pregunta):\n",
        "    respuesta\n",
        "elif(pregunta):\n",
        "    respuesta\n",
        "# (...) elif puede repetirse todas las veces que necesitemos\n",
        "else:\n",
        "    respuesta\n",
        "```\n",
        "\n",
        "**Las condiciones siempre se evalúan en ORDEN**"
      ]
    },
    {
      "cell_type": "code",
      "metadata": {
        "id": "_ifhsaG6_DcG",
        "colab_type": "code",
        "colab": {}
      },
      "source": [
        "import random\n",
        "\n",
        "n=random.randint(1,3) #nro. al azar entre 1 y 3\n",
        "\n",
        "if n==1:\n",
        "    print \"piedra\"\n",
        "elif n==2:\n",
        "    print \"papel\"\n",
        "else:\n",
        "    print \"tijeras\"\n"
      ],
      "execution_count": 0,
      "outputs": []
    },
    {
      "cell_type": "markdown",
      "metadata": {
        "id": "Wig4St2g_DcL",
        "colab_type": "text"
      },
      "source": [
        "### Problema:\n",
        "Resolver una equación del tipo axx+bx+c=0"
      ]
    },
    {
      "cell_type": "code",
      "metadata": {
        "id": "GEFedx9G_DcO",
        "colab_type": "code",
        "colab": {}
      },
      "source": [
        "import math\n",
        "\n",
        "print \"resolver ecuación axx+bx+c=0\"\n",
        "\n",
        "a=input(\"a?\"); b=input(\"b?\"); c=input(\"c?\")\n",
        "\n",
        "print \"resultado:\", \n",
        "if a==0 and b==0:\n",
        "    print \"indefinido\"\n",
        "elif a==0:\n",
        "    print \"x=\",-c/b\n",
        "else:\n",
        "    d=b**2-4*a*c\n",
        "    if d==0:\n",
        "        print \"x=\",-b/(2*a)\n",
        "    elif d>0:\n",
        "        raiz=math.sqrt(d)\n",
        "        print \"x=\",(-b+raiz)/(2*a),(-b-raiz)/(2*a)\n",
        "    else:\n",
        "        print \"raices complejas\"\n"
      ],
      "execution_count": 0,
      "outputs": []
    },
    {
      "cell_type": "markdown",
      "metadata": {
        "id": "lWJ9O3cD_DcQ",
        "colab_type": "text"
      },
      "source": [
        "### Problema:\n",
        "Decir cuántos días tiene un mes en un año específico"
      ]
    },
    {
      "cell_type": "code",
      "metadata": {
        "id": "Y0o9gHSl_DcR",
        "colab_type": "code",
        "colab": {}
      },
      "source": [
        "#diasMes: int int -> int\n",
        "#dias del mes m del año a\n",
        "#ej: diasMes(9,2015)==30\n",
        "def diasMes(m,a):\n",
        "    \n",
        "    assert type(m)==int and 1<=m and m<=12\n",
        "    assert type(a)==int and a>=1\n",
        "  \n",
        "    if m==1 or m==3\\\n",
        "       or m==5 or m==7 \\\n",
        "       or m==8 or m==10 or m==12:\n",
        "        return 31\n",
        "    elif m==4 or m==6 or m==9 or m==11:\n",
        "        return 30\n",
        "    elif bisiesto(a):\n",
        "        return 29\n",
        "    else:\n",
        "        return 28\n",
        "\n",
        "assert diasMes(9,2015)==30\n",
        "\n",
        "def bisiesto(x):\n",
        "    return x%4==0 and x%100!=0 or x%400==0\n"
      ],
      "execution_count": 0,
      "outputs": []
    },
    {
      "cell_type": "code",
      "metadata": {
        "id": "5hPcKAWv_DcT",
        "colab_type": "code",
        "colab": {}
      },
      "source": [
        "diasMes(5,2018)"
      ],
      "execution_count": 0,
      "outputs": []
    },
    {
      "cell_type": "markdown",
      "metadata": {
        "id": "ltjmRwbC_DcW",
        "colab_type": "text"
      },
      "source": [
        "## Recursión (leer Capítulo 6)\n",
        "\n",
        "\n",
        "\n",
        "### Ejemplo de función recursiva: Potencia\n",
        "\n",
        "\n",
        " \\begin{align*}\n",
        "  2^4 &= 2 \\cdot 2^{4 - 1} \\\\\n",
        "  &= 2 \\cdot 2^{3} \\\\\n",
        "  &= 2 \\cdot (2 \\cdot 2^{2}) \\\\\n",
        "  &= 2 \\cdot (2 \\cdot (2 \\cdot 2^1)) \\\\\n",
        "  &= 2 \\cdot (2 \\cdot (2 \\cdot (2 \\cdot 2^0))) \\\\\n",
        "  &= 2 \\cdot (2 \\cdot (2 \\cdot (2 \\cdot 1))) \\\\\n",
        "  &= 16\n",
        "  \\end{align*}\n",
        "  \n",
        "  \n",
        "\n",
        "\n",
        "\\begin{equation*}\n",
        "a^b=  \n",
        "\\begin{cases}\n",
        "    1       & \\quad \\text{si } b=0\\\\\n",
        "    a\\cdot a^{b-1}  & \\quad \\text{si } b>0\\\\\n",
        "\\end{cases}\n",
        "\\end{equation*}\n",
        "  "
      ]
    },
    {
      "cell_type": "code",
      "metadata": {
        "id": "GHFoyUDy_DcW",
        "colab_type": "code",
        "colab": {}
      },
      "source": [
        "# potencia: num int -> num\n",
        "# calcula el valor de una potencia de base elevado a exponente\n",
        "# para exponentes enteros positivos\n",
        "# ejemplo: potencia (4,5) debe dar 1024\n",
        "def potencia(base, exponente):\n",
        "    if exponente == 0:\n",
        "        return 1\n",
        "    else:\n",
        "        return base*(potencia(base, exponente-1))\n",
        "\n",
        "# test\n",
        "assert potencia(4,5) == 1024\n",
        "assert potencia(2,4) == 16\n",
        "assert potencia(-1,5) == -1\n",
        "assert potencia(3,0) == 1\n",
        "\n"
      ],
      "execution_count": 0,
      "outputs": []
    },
    {
      "cell_type": "markdown",
      "metadata": {
        "id": "JsWBU3bd_DcZ",
        "colab_type": "text"
      },
      "source": [
        "### Factorial?"
      ]
    },
    {
      "cell_type": "code",
      "metadata": {
        "id": "MIkSH4Ws_Dca",
        "colab_type": "code",
        "colab": {}
      },
      "source": [
        "def factorial(x):\n",
        "    if x==0: \n",
        "        return 1 #caso base\n",
        "    else:\n",
        "        return x*factorial(x-1) #recursión\n",
        "\n"
      ],
      "execution_count": 0,
      "outputs": []
    },
    {
      "cell_type": "markdown",
      "metadata": {
        "id": "UdrQZsWP_Dce",
        "colab_type": "text"
      },
      "source": [
        "### Problema:\n",
        "Calcular el número de dígitos que tiene un numero"
      ]
    },
    {
      "cell_type": "code",
      "metadata": {
        "id": "u6Sr5qJn_Dcf",
        "colab_type": "code",
        "colab": {}
      },
      "source": [
        "def digitos(x):\n",
        "\n",
        "\n",
        "    \n",
        "    "
      ],
      "execution_count": 0,
      "outputs": []
    },
    {
      "cell_type": "code",
      "metadata": {
        "id": "nGQYxolO_Dci",
        "colab_type": "code",
        "colab": {}
      },
      "source": [
        "def misterio():\n",
        "    n=input(\"numero?\")\n",
        "    if n==0: \n",
        "        return #vuelve a inst sgte a última llamada\n",
        "    misterio()\n",
        "    print n\n"
      ],
      "execution_count": 0,
      "outputs": []
    },
    {
      "cell_type": "code",
      "metadata": {
        "id": "rPN0Zsvl_Dck",
        "colab_type": "code",
        "colab": {}
      },
      "source": [
        "misterio()"
      ],
      "execution_count": 0,
      "outputs": []
    }
  ]
}