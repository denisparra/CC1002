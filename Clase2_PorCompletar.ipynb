{
  "nbformat": 4,
  "nbformat_minor": 0,
  "metadata": {
    "kernelspec": {
      "display_name": "Python 2",
      "language": "python",
      "name": "python2"
    },
    "language_info": {
      "codemirror_mode": {
        "name": "ipython",
        "version": 2
      },
      "file_extension": ".py",
      "mimetype": "text/x-python",
      "name": "python",
      "nbconvert_exporter": "python",
      "pygments_lexer": "ipython2",
      "version": "2.7.13"
    },
    "colab": {
      "name": "Clase2-PorCompletar.ipynb",
      "version": "0.3.2",
      "provenance": [],
      "collapsed_sections": [],
      "include_colab_link": true
    }
  },
  "cells": [
    {
      "cell_type": "markdown",
      "metadata": {
        "id": "view-in-github",
        "colab_type": "text"
      },
      "source": [
        "<a href=\"https://colab.research.google.com/github/bpoblete/CC1002_9/blob/master/Clase2_PorCompletar.ipynb\" target=\"_parent\"><img src=\"https://colab.research.google.com/assets/colab-badge.svg\" alt=\"Open In Colab\"/></a>"
      ]
    },
    {
      "cell_type": "markdown",
      "metadata": {
        "id": "JYRiLztjcewP",
        "colab_type": "text"
      },
      "source": [
        "#Clase 2: Funciones y Receta de Diseño\n",
        "\n",
        "**Nota:** Uds. pueden elegir trabajar con una de las dos interfaces para programar, una es **IDLE** es es un ambiente de desarrollo integrado que viene con la instalación de Python, y la otra es **Jupyter Notebooks** (en Colab) que hemos visto hasta ahora.\n",
        "\n",
        "Como Jupyter Notebook no distingue entre instrucciones por línea de comando e instrucciones de múltiples líneas, para diferenciarlas marcaremos las línea es un comando con (como se ven en IDLE): \n",
        "```python\n",
        ">>>\n",
        "```\n",
        "\n",
        "\n",
        "\n",
        "\n",
        "## Capítulo 2: Funciones\n",
        "\n",
        "(Leer capítulo 2 del apunte para reforzar)\n",
        "\n",
        "Hoy veremos como hacer funciones en Python. \n",
        "\n",
        "Igual que en matemáticas, <mark>las **funciones** en computación es una estructura que **recibe valores de entrada** y **genera valores de salida**</mark>.\n",
        "\n",
        "Las funciones nos **permiten encapsular tareas** o funcionalidades para así reutilizar el código sin tener que escribirlo nuevamente.\n",
        "\n",
        "Ejemplo:\n",
        "\n",
        "### Cómo calcular el area de un círculo?\n",
        "\n",
        "Conocemos bien la <mark>relación entre el área de un círculo</mark> y su <mark>radio</mark>. El área de un círculo está dado por su radio _r_. Entonces se calcula mediante la expresión:"
      ]
    },
    {
      "cell_type": "code",
      "metadata": {
        "id": "KqiiYN2fcewQ",
        "colab_type": "code",
        "colab": {}
      },
      "source": [
        ">>> \n",
        "\n",
        "\n",
        "\n",
        "\n",
        "\n",
        "\n",
        "\n"
      ],
      "execution_count": 0,
      "outputs": []
    },
    {
      "cell_type": "markdown",
      "metadata": {
        "id": "8kyYvb_-cewU",
        "colab_type": "text"
      },
      "source": [
        "si queremos calcular con r = 2?"
      ]
    },
    {
      "cell_type": "code",
      "metadata": {
        "id": "BvDvNGChcewV",
        "colab_type": "code",
        "colab": {}
      },
      "source": [
        ">>> \n",
        "\n",
        "\n",
        "\n",
        "\n",
        "\n",
        "\n",
        "\n"
      ],
      "execution_count": 0,
      "outputs": []
    },
    {
      "cell_type": "markdown",
      "metadata": {
        "id": "ATPaBwcncewX",
        "colab_type": "text"
      },
      "source": [
        "### Hagamos una función que permita hacer esto para no tener que reescribir el código cada vez. \n",
        "\n",
        "<mark>Es importante que cada función tenga un **nombre** que esté **directamente relacionado con el objetivo** que cumple, al igual que sus parámetros.</mark>\n",
        "\n",
        "Palabras para declarar una función empezamos con **`def`** y terminamos con **`:`**.\n",
        "\n",
        "Luego, todas **las instrucciones que pertenecen a la función deben ir indentadas** adentro de ésta. Esto **indica subordinación** a la instucción que está un nivel más afuera.\n",
        "\n",
        "Además, la palabra **`return`** indica el fin de la función."
      ]
    },
    {
      "cell_type": "code",
      "metadata": {
        "id": "Jo58wkWrcewY",
        "colab_type": "code",
        "colab": {}
      },
      "source": [
        "def areaCirculo(r):\n",
        "    \n",
        "    ??\n",
        "    \n",
        "    "
      ],
      "execution_count": 0,
      "outputs": []
    },
    {
      "cell_type": "markdown",
      "metadata": {
        "id": "5FYhEub-cewa",
        "colab_type": "text"
      },
      "source": [
        "la invocamos:"
      ]
    },
    {
      "cell_type": "code",
      "metadata": {
        "id": "3uuzi2Dpcewb",
        "colab_type": "code",
        "colab": {}
      },
      "source": [
        ">>> ?"
      ],
      "execution_count": 0,
      "outputs": []
    },
    {
      "cell_type": "code",
      "metadata": {
        "id": "zqiFot88cewd",
        "colab_type": "code",
        "colab": {}
      },
      "source": [
        ">>> ?"
      ],
      "execution_count": 0,
      "outputs": []
    },
    {
      "cell_type": "markdown",
      "metadata": {
        "id": "o4Tz6B25cewf",
        "colab_type": "text"
      },
      "source": [
        "funciona para cualquier número, no tenemos que repetir código.\n",
        "\n",
        "### Sintaxis de una función\n",
        "\n",
        "```python\n",
        "def nombre(parametros):\n",
        "     instrucciones (cero o mas) \n",
        "     return expresion\n",
        "```\n",
        "  \n",
        "- parametros\n",
        "  - sintaxis: nombre, ... (cero o mas)\n",
        "  - instrucciones y return se escriben indentadas en un margen/nivel más adentro que encabezamiento\n",
        "\n",
        "```python\n",
        "def areaCirculo(r):\n",
        "    pi=3.14\n",
        "    return pi*r**2\n",
        "```\n",
        "  \n",
        "  \n",
        "  - contraejemplo:\n",
        "  "
      ]
    },
    {
      "cell_type": "code",
      "metadata": {
        "id": "CiiCWSqrcewg",
        "colab_type": "code",
        "colab": {}
      },
      "source": [
        "def f(x):\n",
        "return x"
      ],
      "execution_count": 0,
      "outputs": []
    },
    {
      "cell_type": "markdown",
      "metadata": {
        "id": "HzQklOCCcewi",
        "colab_type": "text"
      },
      "source": [
        "### Funciones pueden contener funciones\n",
        "\n",
        "**Una función puede estar compuesta de operadores básicos, variables y también de otras funciones que hayan sido definidas antes. Ej. Implementar una nueva función llamada:**\n",
        "```python \n",
        "    areaAnillo(r_exterior, r_interior)```\n",
        "\n",
        "- Paso 1: Definir el algoritmo o pasos a seguir.\n",
        "- Paso 2: Definir la nueva función."
      ]
    },
    {
      "cell_type": "code",
      "metadata": {
        "id": "X8fkj1Hqcewj",
        "colab_type": "code",
        "colab": {}
      },
      "source": [
        "def areaAnillo(r_exterior, r_interior):\n",
        "    return ??\n",
        "   "
      ],
      "execution_count": 0,
      "outputs": []
    },
    {
      "cell_type": "code",
      "metadata": {
        "id": "pHdVopC3cewm",
        "colab_type": "code",
        "colab": {}
      },
      "source": [
        "areaAnillo(5,3)"
      ],
      "execution_count": 0,
      "outputs": []
    },
    {
      "cell_type": "markdown",
      "metadata": {
        "id": "Mimmi4KFcewr",
        "colab_type": "text"
      },
      "source": [
        "### Indentación y subordinación de instrucciones\n",
        "\n",
        "\n",
        "<mark>Cada indentación que separa la instrucción del margen izquierdo, indica subordinación a la función de más afuera.</mark>"
      ]
    },
    {
      "cell_type": "code",
      "metadata": {
        "id": "PbsSg7UMcews",
        "colab_type": "code",
        "colab": {}
      },
      "source": [
        "def areaCirculo(radio): \n",
        "    pi = 3.14\n",
        "    return pi * radio **2"
      ],
      "execution_count": 0,
      "outputs": []
    },
    {
      "cell_type": "code",
      "metadata": {
        "id": "cZKU23vvcewv",
        "colab_type": "code",
        "colab": {}
      },
      "source": [
        "def areaCirculo(radio): \n",
        "    pi = 3.14\n",
        "        return pi * radio ** 2"
      ],
      "execution_count": 0,
      "outputs": []
    },
    {
      "cell_type": "markdown",
      "metadata": {
        "id": "1bM_a1Lkceww",
        "colab_type": "text"
      },
      "source": [
        "### Alcance de las variables\n",
        "\n",
        "Ejemplo:"
      ]
    },
    {
      "cell_type": "code",
      "metadata": {
        "id": "pWOQLJ0Kcewx",
        "colab_type": "code",
        "colab": {}
      },
      "source": [
        ">>> a = 100\n",
        ">>> def sumaValorA(x):\n",
        "        return x + a\n",
        ">>> sumaValorA(1)"
      ],
      "execution_count": 0,
      "outputs": []
    },
    {
      "cell_type": "markdown",
      "metadata": {
        "id": "6bWB4j-ccewz",
        "colab_type": "text"
      },
      "source": [
        "Si redefinimos `a` adentro de la función, solo se modifica una copia local de la variable `a` y no a nivel global. \n",
        "Ejemplo:"
      ]
    },
    {
      "cell_type": "code",
      "metadata": {
        "id": "7pIyt4Fxcewz",
        "colab_type": "code",
        "colab": {}
      },
      "source": [
        ">>> a = 100\n",
        ">>> def sumaValorA(x):\n",
        "        a = 200\n",
        "        return x + a\n",
        ">>> sumaValorA(a)"
      ],
      "execution_count": 0,
      "outputs": []
    },
    {
      "cell_type": "code",
      "metadata": {
        "id": "zP1OJlMacew2",
        "colab_type": "code",
        "colab": {}
      },
      "source": [
        ">>> a   # esto muestra el valor global de a (es decir afuera de la función)"
      ],
      "execution_count": 0,
      "outputs": []
    },
    {
      "cell_type": "markdown",
      "metadata": {
        "id": "l5m0jdnccew4",
        "colab_type": "text"
      },
      "source": [
        "Por otra parte, si el argumento de una función tiene el **mismo nombre que una variable definida fuera** de ésta, la función evaluará sus instrucciones con el valor del argumento, pues es la variable que está dentro de su alcance. Ejemplo:"
      ]
    },
    {
      "cell_type": "code",
      "metadata": {
        "id": "4V6OOOaBcew5",
        "colab_type": "code",
        "colab": {}
      },
      "source": [
        ">>> a = 100\n",
        ">>> x = 50\n",
        ">>> def sumaValorA(x):  # no importa qué valor tenía antes x\n",
        "        return x + a\n",
        ">>> sumaValorA(4)"
      ],
      "execution_count": 0,
      "outputs": []
    },
    {
      "cell_type": "code",
      "metadata": {
        "id": "8-04EIX-cew7",
        "colab_type": "code",
        "colab": {}
      },
      "source": [
        ">>> sumaValor()"
      ],
      "execution_count": 0,
      "outputs": []
    },
    {
      "cell_type": "code",
      "metadata": {
        "id": "nZ3nsCY6cew9",
        "colab_type": "code",
        "colab": {}
      },
      "source": [
        ">>> a = 100\n",
        ">>> x = 50\n",
        ">>> def sumaValorA():  # no definimos parametros de entrada\n",
        "        return x + a\n",
        ">>> sumaValorA()"
      ],
      "execution_count": 0,
      "outputs": []
    },
    {
      "cell_type": "markdown",
      "metadata": {
        "id": "sL9ma9O5cew_",
        "colab_type": "text"
      },
      "source": [
        "\n",
        "\n",
        "- ¿Qué pasa si llamo la función con el número incorrecto de parámetros?\n",
        "\n",
        "\n"
      ]
    },
    {
      "cell_type": "code",
      "metadata": {
        "id": "rLDAAFupcexA",
        "colab_type": "code",
        "colab": {}
      },
      "source": [
        "# probar que pasa\n",
        ">>>"
      ],
      "execution_count": 0,
      "outputs": []
    },
    {
      "cell_type": "markdown",
      "metadata": {
        "id": "TkjIjA5LcexE",
        "colab_type": "text"
      },
      "source": [
        "\n",
        "\n",
        "### ¿Cómo traducir un problema expresado en palabras a una función?\n",
        "\n",
        "_Genera S.A. le paga 4.500 por hora a todos sus ingenieros de procesos recién egresados. Un empleado típicamente trabaja entre 20 y 65 horas por semana. La gerencia de informática le pide desarrollar un programa que calcule el sueldo de un empleado a partir del número de horas trabajadas._\n",
        "\n",
        "Debemos fijarnos en 2 cosas:\n",
        "\n",
        "- Qué debe producir la función?\n",
        "- Qué recibe como parámetros?"
      ]
    },
    {
      "cell_type": "code",
      "metadata": {
        "id": "vkpvjE-BcexF",
        "colab_type": "code",
        "colab": {}
      },
      "source": [
        "def sueldo(...):\n",
        "    ???"
      ],
      "execution_count": 0,
      "outputs": []
    },
    {
      "cell_type": "markdown",
      "metadata": {
        "id": "0NyrLKE9cexH",
        "colab_type": "text"
      },
      "source": [
        "\n",
        "***\n",
        "\n",
        "\n",
        "\n",
        "## Receta de diseño (Leer capítulo 3 para reforzar)\n",
        "\n",
        "Es una receta para escribir correctamente funciones. Se preocupa de ayudarnos a extraer la información importante de un problema y entenderlo. Se compone de la siguiente manera:\n",
        "\n",
        "1. Entender el **propósito** de la función: ¿para qué sirve? \n",
        "2. Dar **ejemplos** de uso de la función: ¿cómo se usa?\n",
        "3. **Probar** la función: hacer tests\n",
        "4. **Especificar** el cuerpo de la función: ahora escribimos la función\n",
        "\n",
        "\n",
        "### Entender el propósito de una función\n",
        "\n",
        "**Objetivo**: diseñar una función que consume y produce información.\n",
        "\n",
        "- Entonces, debemos darle a la función <mark>un nombre significativo</mark> que indique _qué es lo que hace_. \n",
        "-  Además, <mark>indicar qué información consume</mark> y <mark>qué información produce</mark>.\n",
        "- Esto se llama el <mark>**contrato**</mark> de una función.\n",
        "  - Por ahora los tipos de datos que consume y produce una función son los que conocemos (después agregaremos más): **`int`, `float`, `num`** y **`str`**.\n",
        "- Luego escribimos el <mark>**propósito**</mark> de la función.\n",
        "- Después agregamos <mark>ejemplos</mark> de cómo debe funcionar la función, que debemos calcular antes de escribir la función (a mano).\n",
        "- Luego agregamos <mark>tests</mark>, utilizando la función **`assert`**.\n",
        "\n",
        "<mark> _TODO ESTO SE HACE ANTES DE ESCRIBIR LA FUNCIÓN_</mark>\n",
        "\n",
        "### Ejemplo:"
      ]
    },
    {
      "cell_type": "code",
      "metadata": {
        "id": "St8bd-NTcexI",
        "colab_type": "code",
        "colab": {}
      },
      "source": [
        "# areaRectangulo: num num -> num\n",
        "# calcula el area de un rectangulo de medidas\n",
        "# largo y ancho\n",
        "# ejemplo: areaRectangulo(5, 3) debe producir 15 \n",
        "def areaRectangulo(largo, ancho):\n",
        "    return largo * ancho # Tests\n",
        "    \n",
        "# Tests    \n",
        "assert areaRectangulo(5, 3) == 15\n"
      ],
      "execution_count": 0,
      "outputs": []
    },
    {
      "cell_type": "code",
      "metadata": {
        "id": "_Q4Hz_EGcexK",
        "colab_type": "code",
        "colab": {}
      },
      "source": [
        "# areaCuadrado: num -> num\n",
        "# calcula el area de un cuadrado de medida lado \n",
        "# ejemplo: areaCuadrado(5) debe producir 25\n",
        "def areaCuadrado(lado):\n",
        "    return areaRectangulo(lado, lado) # Tests\n",
        "    \n",
        "# Tests    \n",
        "assert areaCuadrado (5) == 25\n",
        "    "
      ],
      "execution_count": 0,
      "outputs": []
    },
    {
      "cell_type": "markdown",
      "metadata": {
        "id": "BvsSaB6lcexN",
        "colab_type": "text"
      },
      "source": [
        "\n",
        "\n",
        "### En resumen hemos aprendido hasta ahora:\n",
        "\n",
        "- A hacer funciones (cada función soluciona un problema acotado)\n",
        "  - Entender cuál es el ámbito de las variables\n",
        "  - Funciones de funciones\n",
        "  - Crear recetas de diseño (pensar en abstracto sobre qué es lo que queremos hacer y luego aterrizarlo)\n",
        "  \n",
        "  \n",
        "  \n",
        "### Funciones principales y funciones auxiliares\n",
        "\n",
        "```python\n",
        "\n",
        "def areaAnillo(interior , exterior): # Buena practica \n",
        "    return areaCirculo(exterior) - areaCirculo(interior)\n",
        "\n",
        "def areaAnillo(interior , exterior): # Mala practica \n",
        "    return 3.14 * exterior ** 2 - 3.14 * interior ** 2\n",
        "```\n",
        "\n",
        "**debemos considerar el descomponer el problema en funciones, y éstas a su vez descomponerlas en funciones auxiliares hasta que cada una de ellas resuelva UN Y SOLO UN SUBPROBLEMA particular.**"
      ]
    },
    {
      "cell_type": "markdown",
      "metadata": {
        "id": "LWOIe_u-cexO",
        "colab_type": "text"
      },
      "source": [
        "\n",
        "\n",
        "_“Una importante cadena de cines de Santiago tiene completa libertad en fijar los precios de las entradas. Claramente, mientras más cara sea la entrada, menos personas estarán dispuestas a pagar por ellas. En un reciente estudio de mercado, se determinó que hay una relación entre el precio al que se venden las entradas y la cantidad de espectadores promedio: a un precio de \\$5.000 por entrada, 120 personas van a ver la película; al reducir \\$500 en el precio de la entrada, los espectadores aumentan en 15. Desafortunadamente, mientras más personas ocupan la sala para ver la película, más se debe gastar en limpieza y mantenimiento general. Para reproducir una película, el cine gasta \\$180.000. Asimismo, se gastan en promedio \\$40 por espectador por conceptos de limpieza y mantenimiento. El gerente del cine le encarga determinar cuál es la relación exacta entre las ganancias y el precio de las entradas para poder decidir a qué precio se debe vender cada entrada para maximizar las ganancias totales.”_\n",
        "\n",
        "\n",
        "Cuando nos vemos enfrentados a estas situaciones, <mark>lo mejor es identificar las dependencias</mark> y ver las relaciones una por una:\n",
        "\n",
        "- Las **_ganancias_** corresponden a la diferencia entre los ingresos y los gastos.\n",
        "- Los **_ingresos_** se generan exclusivamente a través de la venta de entradas. Corresponde al producto del valor de la entrada por el número de espectadores.\n",
        "- Los **_gastos_** están formados por dos ítemes: un gasto fijo (\\$180.000) y un gasto variable que depende del número de espectadores.\n",
        "- Finalmente, el enunciado del problema también especifica cómo el número de espectadores depende del precio de las entradas.\n",
        "\n",
        "**Antes de escribir código, hay que formular el contrato, encabezado y propósito de la función, ejemplos y casos de prueba**\n",
        "\n",
        "```python\n",
        "# ganancias: int -> int\n",
        "# calcular las ganancias como la diferencia entre los ingresos y \n",
        "# los gastos dado precioEntrada\n",
        "def ganancias(precioEntrada): \n",
        "    \n",
        "# ingresos: int -> int\n",
        "# calcular el ingreso total, dado precioEntrada \n",
        "def ingresos(precioEntrada):\n",
        "   \n",
        "# gastos: int -> int\n",
        "# calcular los gastos totales, dado precioEntrada\n",
        "def gastos(precioEntrada):\n",
        "\n",
        "# espectadores: int -> int\n",
        "# calcular el numero de espectadores, dado precioEntrada\n",
        "def espectadores(precioEntrada):  \n",
        "``` \n",
        "\n"
      ]
    },
    {
      "cell_type": "code",
      "metadata": {
        "id": "7MuObMLMcexP",
        "colab_type": "code",
        "colab": {}
      },
      "source": [
        "def ganancias(precioEntrada):\n",
        "    return ingresos(precioEntrada) - gastos(precioEntrada)\n",
        "\n",
        "def ingresos(precioEntrada):\n",
        "    return espectadores(precioEntrada) * precioEntrada \n",
        "\n",
        "def gastos(precioEntrada):\n",
        "    return 180000 + espectadores(precioEntrada) * 40 \n",
        "\n",
        "def espectadores(precioEntrada):\n",
        "    return 120 + (5000 - precioEntrada) * 15 / 500"
      ],
      "execution_count": 0,
      "outputs": []
    },
    {
      "cell_type": "markdown",
      "metadata": {
        "id": "6IVC756scexS",
        "colab_type": "text"
      },
      "source": [
        "***\n",
        "\n",
        "\n",
        "## Ejercicio 2 \n",
        "**(entregar al final de la clase o vía u-cursos hoy hasta hoy en la noche, aceptandose atrasos hasta antes de la clase)**\n",
        "\n",
        "Dadas las funciones vistas en esta clase:\n",
        "\n",
        "```python\n",
        "def areaCirculo(r):\n",
        "\n",
        "def areaAnillo(r_exterior, r_interior):\n",
        "\n",
        "```\n",
        "\n",
        "Cree un programa en python en  donde escriba estas funciones utilizando la _receta de diseño_ vista en clases (incluyendo tests). Luego, dentro del mismo programa y defina también las siguientes funciones:\n",
        "\n",
        "```python\n",
        "def perimetroCirculo(r):\n",
        "    \n",
        "def perimetroAnillo(r_exterior, r_interior):\n",
        "\n",
        "```\n",
        "\n",
        "Utilice `perimetroCirculo` como función auxiliar de la función `perimetroAnillo`, igual que con el cálculo de la área del anillo.\n",
        "\n",
        "Envíe vía Tareas en u-cursos un archivo (.py) que contenga todas las funciones mencionadas. \n",
        "\n",
        "**Nota:** \n",
        "- Pueden crear el programa python (.py) usando IDLE de python o Jupyter Notebook. Para eso deben guardar el archivo como **.py**\n",
        "- En el caso que utilicen Jupyter Notebook pueden enviar el .ipynb.\n",
        "- Es importante que ejecuten su programa antes de enviarlo, para ver que funcione (en este caso, el programa funciona si es que no arrojan errores). En IDLE pueden ejecutar su programa con la opción \"Run\", y en Jupyter Notebook Colab, utilizando \"Runtime\" -> \"Run All\"."
      ]
    }
  ]
}