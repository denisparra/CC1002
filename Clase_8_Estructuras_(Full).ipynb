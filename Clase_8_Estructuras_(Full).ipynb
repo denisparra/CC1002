{
  "nbformat": 4,
  "nbformat_minor": 0,
  "metadata": {
    "kernelspec": {
      "display_name": "Python 2",
      "language": "python",
      "name": "python2"
    },
    "language_info": {
      "codemirror_mode": {
        "name": "ipython",
        "version": 2
      },
      "file_extension": ".py",
      "mimetype": "text/x-python",
      "name": "python",
      "nbconvert_exporter": "python",
      "pygments_lexer": "ipython2",
      "version": "2.7.13"
    },
    "colab": {
      "name": "Clase 8 Estructuras (Full).ipynb",
      "version": "0.3.2",
      "provenance": [],
      "collapsed_sections": [
        "FH8YaRPtHvSX"
      ],
      "include_colab_link": true
    }
  },
  "cells": [
    {
      "cell_type": "markdown",
      "metadata": {
        "id": "view-in-github",
        "colab_type": "text"
      },
      "source": [
        "<a href=\"https://colab.research.google.com/github/bpoblete/CC1002_9/blob/master/Clase_8_Estructuras_(Full).ipynb\" target=\"_parent\"><img src=\"https://colab.research.google.com/assets/colab-badge.svg\" alt=\"Open In Colab\"/></a>"
      ]
    },
    {
      "cell_type": "markdown",
      "metadata": {
        "id": "FcMhzJPl4CNT",
        "colab_type": "text"
      },
      "source": [
        "# Datos Compuestos (Cap.8)\n",
        "\n",
        "Hasta el momento hemos visto únicamente cómo operar con valores simples (esto es, con números, con strings, y con valores lógicos).  Sin embargo, en computación es recurrente el tener que manipular valores\n",
        "**compuestos** que corresponden a alguna combinación sobre estos\n",
        "valores simples.  "
      ]
    },
    {
      "cell_type": "markdown",
      "metadata": {
        "id": "cSvLo-cqC3Ti",
        "colab_type": "text"
      },
      "source": [
        "### Problema: suma entre dos fracciones\n",
        "\n",
        "#### Fórmula:\n",
        "\n",
        "$$\n",
        "\\frac{a}{b}+\\frac{c}{d}=\\frac{ad+bc}{bd}\n",
        "$$\n",
        "\n",
        "#### Solución 1:\n",
        "Función que recibe los valores **a**, **b**, **c**, **d**, y calcula el resultado usando la fórmula."
      ]
    },
    {
      "cell_type": "code",
      "metadata": {
        "id": "B3t7tkNz4CNV",
        "colab_type": "code",
        "colab": {}
      },
      "source": [
        "# sumaFracciones:  int int int int -> float\n",
        "# calcula la suma entre dos fracciones a/b y c/d\n",
        "# ejemplo:  sumaFracciones(1, 2, 3, 4) devuelve 1.25\n",
        "\n",
        "def sumaFracciones(a,b,c,d):\n",
        "  \n",
        "  return ((a * d + b * c) * 1.0) / (b * d)\n",
        "\n"
      ],
      "execution_count": 0,
      "outputs": []
    },
    {
      "cell_type": "code",
      "metadata": {
        "id": "hOwn-_zo6Xua",
        "colab_type": "code",
        "colab": {
          "base_uri": "https://localhost:8080/",
          "height": 34
        },
        "outputId": "568467a7-70be-4fc8-b9cf-1b30647527cd"
      },
      "source": [
        "sumaFracciones(1, 2, 3, 4)"
      ],
      "execution_count": 10,
      "outputs": [
        {
          "output_type": "execute_result",
          "data": {
            "text/plain": [
              "1.25"
            ]
          },
          "metadata": {
            "tags": []
          },
          "execution_count": 10
        }
      ]
    },
    {
      "cell_type": "code",
      "metadata": {
        "id": "_P8B85DF4CNY",
        "colab_type": "code",
        "colab": {
          "base_uri": "https://localhost:8080/",
          "height": 34
        },
        "outputId": "f0edfc04-337f-4fc0-a1a8-717294233fad"
      },
      "source": [
        ">>> sumaFracciones(4,5,7,16)   #suma 4/5 + 7/16"
      ],
      "execution_count": 11,
      "outputs": [
        {
          "output_type": "execute_result",
          "data": {
            "text/plain": [
              "1.2375"
            ]
          },
          "metadata": {
            "tags": []
          },
          "execution_count": 11
        }
      ]
    },
    {
      "cell_type": "markdown",
      "metadata": {
        "id": "RIKjznHy4CNb",
        "colab_type": "text"
      },
      "source": [
        "#### Problema:\n",
        "\n",
        "<mark>Lo que devuelve la función NO es una fracción, sino un número real que corresponde a la **representación decimal** del resultado</mark>\n",
        "\n"
      ]
    },
    {
      "cell_type": "markdown",
      "metadata": {
        "id": "CbqrAnoVEEhm",
        "colab_type": "text"
      },
      "source": [
        "\n",
        "## Estructura (struct)\n",
        "\n",
        "- Tipo de dato que permite encapsular\n",
        "un conjunto fijo de valores (de uno o más tipos)\n",
        "- Representados por atributos, para conformar un único valor compuesto\n",
        "  - Se le denomina ***dato compuesto***\n",
        "\n",
        "\n",
        "- Ocuparemos el **módulo `estructura`** que contiene la **función `crear`** para trabajar con datos compuestos"
      ]
    },
    {
      "cell_type": "markdown",
      "metadata": {
        "id": "HVerjzOkHDNY",
        "colab_type": "text"
      },
      "source": [
        "En efecto, podemos\n",
        "representar una _fracción_ como una estructura formada por dos\n",
        "atributos: un _numerador_ y un _denominador_.\n",
        "\n",
        "\n",
        "```python\n",
        "import estructura\n",
        "estructura.crear(\"nombre\", \"atributo1 atributo2 ...  atributoN\")\n",
        "```\n"
      ]
    },
    {
      "cell_type": "markdown",
      "metadata": {
        "id": "znjjwfMTI3Sn",
        "colab_type": "text"
      },
      "source": [
        "### Definiendo fracciones como un struct"
      ]
    },
    {
      "cell_type": "code",
      "metadata": {
        "id": "DLDiGHMEJBxh",
        "colab_type": "code",
        "colab": {}
      },
      "source": [
        "import estructura\n",
        "estructura.crear(\"fraccion\", \"numerador denominador\")"
      ],
      "execution_count": 0,
      "outputs": []
    },
    {
      "cell_type": "code",
      "metadata": {
        "id": "ZFaikCdkJImL",
        "colab_type": "code",
        "colab": {}
      },
      "source": [
        "a = fraccion(1,2)"
      ],
      "execution_count": 0,
      "outputs": []
    },
    {
      "cell_type": "code",
      "metadata": {
        "id": "NtSvvaHqJVCr",
        "colab_type": "code",
        "colab": {
          "base_uri": "https://localhost:8080/",
          "height": 34
        },
        "outputId": "ae6ddb7b-2c5d-42a3-cf8c-057dc65b1b9c"
      },
      "source": [
        "a      # consultamos a ver que cosa es 'a'"
      ],
      "execution_count": 33,
      "outputs": [
        {
          "output_type": "execute_result",
          "data": {
            "text/plain": [
              "fraccion(numerador=1, denominador=2)"
            ]
          },
          "metadata": {
            "tags": []
          },
          "execution_count": 33
        }
      ]
    },
    {
      "cell_type": "code",
      "metadata": {
        "id": "Ogq_ysasJWqb",
        "colab_type": "code",
        "colab": {
          "base_uri": "https://localhost:8080/",
          "height": 34
        },
        "outputId": "af54f138-cfe6-4b4a-c67d-6c402d527f45"
      },
      "source": [
        "a.numerador  # vemos el numerador de 'a'"
      ],
      "execution_count": 34,
      "outputs": [
        {
          "output_type": "execute_result",
          "data": {
            "text/plain": [
              "1"
            ]
          },
          "metadata": {
            "tags": []
          },
          "execution_count": 34
        }
      ]
    },
    {
      "cell_type": "code",
      "metadata": {
        "id": "Wksfb1dEJj_-",
        "colab_type": "code",
        "colab": {
          "base_uri": "https://localhost:8080/",
          "height": 34
        },
        "outputId": "b9bf1494-92ba-4f91-f064-3b35fc67b917"
      },
      "source": [
        "a.denominador # vemos el denominador de 'a'"
      ],
      "execution_count": 35,
      "outputs": [
        {
          "output_type": "execute_result",
          "data": {
            "text/plain": [
              "2"
            ]
          },
          "metadata": {
            "tags": []
          },
          "execution_count": 35
        }
      ]
    },
    {
      "cell_type": "markdown",
      "metadata": {
        "id": "y66oB8FcJrZF",
        "colab_type": "text"
      },
      "source": [
        "### No mutable\n",
        "\n",
        "<mark>**¡No se pueden modificar los valores de los atributos de una estructura!**</mark>"
      ]
    },
    {
      "cell_type": "code",
      "metadata": {
        "id": "kryjqcxYKQQT",
        "colab_type": "code",
        "colab": {
          "base_uri": "https://localhost:8080/",
          "height": 162
        },
        "outputId": "dca7dcc7-5729-4a65-ae28-c1e647e9cf90"
      },
      "source": [
        "a.numerador = 3"
      ],
      "execution_count": 36,
      "outputs": [
        {
          "output_type": "error",
          "ename": "AttributeError",
          "evalue": "ignored",
          "traceback": [
            "\u001b[0;31m\u001b[0m",
            "\u001b[0;31mAttributeError\u001b[0mTraceback (most recent call last)",
            "\u001b[0;32m<ipython-input-36-88492defe97c>\u001b[0m in \u001b[0;36m<module>\u001b[0;34m()\u001b[0m\n\u001b[0;32m----> 1\u001b[0;31m \u001b[0ma\u001b[0m\u001b[0;34m.\u001b[0m\u001b[0mnumerador\u001b[0m \u001b[0;34m=\u001b[0m \u001b[0;36m3\u001b[0m\u001b[0;34m\u001b[0m\u001b[0;34m\u001b[0m\u001b[0m\n\u001b[0m",
            "\u001b[0;31mAttributeError\u001b[0m: can't set attribute"
          ]
        }
      ]
    },
    {
      "cell_type": "markdown",
      "metadata": {
        "id": "69aLBOsq4CNr",
        "colab_type": "text"
      },
      "source": [
        "### Receta de diseño con datos compuestos\n",
        "\n",
        "- Reconocer desde el planteamiento del problema las estructuras de datos que se requieran\n",
        "- Diseñar las estructuras de datos especificando atributos y sus tipos, por ej:\n",
        "\n",
        "\n",
        "  \n",
        " "
      ]
    },
    {
      "cell_type": "code",
      "metadata": {
        "id": "zqO8-nh7Ln6I",
        "colab_type": "code",
        "colab": {}
      },
      "source": [
        "# fraccion: numerador (int) denominador(int)\n",
        "estructura.crear(\"fraccion\", \"numerador denominador\")"
      ],
      "execution_count": 0,
      "outputs": []
    },
    {
      "cell_type": "markdown",
      "metadata": {
        "id": "bFiWnxKDLmf5",
        "colab_type": "text"
      },
      "source": [
        "\n",
        "\n",
        "- Seguir la receta usual para las funciones que ocupen las estructuras:\n",
        "\n",
        "  - Contrato: tipos parámetros->tipo resultado\n",
        "  - Objetivo (propósito) de la función\n",
        "  - Ejemplo(s)\n",
        "  - Cuerpo de la función\n",
        "  - Pruebas (test)"
      ]
    },
    {
      "cell_type": "markdown",
      "metadata": {
        "id": "GtcpReBCMBCi",
        "colab_type": "text"
      },
      "source": [
        "## Ejemplo: módulo `fraccion`\n",
        "\n",
        "Se guarda en un archivo llamado `fraccion.py`"
      ]
    },
    {
      "cell_type": "code",
      "metadata": {
        "id": "Fo5HMFvL4CNs",
        "colab_type": "code",
        "colab": {}
      },
      "source": [
        "import estructura\n",
        "# Diseno de la estructura\n",
        "# fraccion: numerador (int) denominador(int)\n",
        "estructura.crear(\"fraccion\", \"numerador denominador\")\n",
        "\n",
        "\n",
        "# Contrato\n",
        "# sumaFracciones: fraccion fraccion -> fraccion\n",
        "\n",
        "# Proposito\n",
        "# crear una nueva fraccion que corresponda a la suma de dos fracciones f1 y f2\n",
        "\n",
        "# Ejemplo:\n",
        "# sumaFracciones(fraccion(1,2), fraccion(3,4))\n",
        "# devuelve fraccion(10,8)\n",
        "\n",
        "\n",
        "# Cuerpo de la funcion\n",
        "def sumaFracciones(f1,f2):\n",
        "    assert type(f1) == fraccion and type(f2)==fraccion\n",
        "    assert f1.denominador != 0 and f2.denominador != 0\n",
        "    \n",
        "    num = f1.numerador*f2.denominador + f1.denominador*f2.numerador\n",
        "    den = f1.denominador*f2.denominador\n",
        "    return fraccion(num,den)\n",
        "\n",
        "# Test\n",
        "f12=fraccion(1,2)\n",
        "f34=fraccion(3,4)\n",
        "assert sumaFracciones(f12,f34) == fraccion(10,8)\n"
      ],
      "execution_count": 0,
      "outputs": []
    },
    {
      "cell_type": "code",
      "metadata": {
        "id": "CO_GFcB74CNw",
        "colab_type": "code",
        "colab": {}
      },
      "source": [
        "def pruebaSuma():\n",
        "    print \"suma de fracciones a/b y c/d\"\n",
        "    \n",
        "    a=input(\"a?\")\n",
        "    b=input(\"b?\")\n",
        "    f1=fraccion(a,b)\n",
        "    \n",
        "    f2=fraccion(input(\"c?\"),input(\"d?\"))\n",
        "    f3=sumaFracciones(f1,f2)\n",
        "    \n",
        "    print \"suma=\" + str(f3.numerador) + \"/\" + str(f3.denominador)"
      ],
      "execution_count": 0,
      "outputs": []
    },
    {
      "cell_type": "code",
      "metadata": {
        "id": "yBVGXedr4CNy",
        "colab_type": "code",
        "colab": {
          "base_uri": "https://localhost:8080/",
          "height": 118
        },
        "outputId": "7f72d6dc-c7bd-4c61-c5c3-d6323fbbb36e"
      },
      "source": [
        ">>> pruebaSuma()"
      ],
      "execution_count": 21,
      "outputs": [
        {
          "output_type": "stream",
          "text": [
            "suma de fracciones a/b y c/d\n",
            "a?4\n",
            "b?7\n",
            "c?3\n",
            "d?8\n",
            "suma=53/56\n"
          ],
          "name": "stdout"
        }
      ]
    },
    {
      "cell_type": "code",
      "metadata": {
        "id": "kKPAuLvN4CN0",
        "colab_type": "code",
        "colab": {}
      },
      "source": [
        "# Contrato\n",
        "# restaFracciones: fraccion fraccion -> fraccion\n",
        "\n",
        "# Proposito\n",
        "# resta dos fracciones y retorna otra fraccion con el resultado\n",
        "\n",
        "# Ejemplo:\n",
        "# restaFracciones(fraccion(1,2), fraccion(3,6))\n",
        "# devuelve fraccion(-2,8)\n",
        "\n",
        "# Cuerpo de la funcion\n",
        "def restaFracciones(f1,f2):\n",
        "    assert type(f1) == fraccion and type(f2)==fraccion\n",
        "    assert f1.denominador != 0 and f2.denominador != 0\n",
        "    num = f1.numerador*f2.denominador - f1.denominador*f2.numerador\n",
        "    den = f1.denominador*f2.denominador\n",
        "    return fraccion(num,den)\n",
        "\n",
        "# Test\n",
        "f12=fraccion(1,2)\n",
        "f34=fraccion(3,4)\n",
        "assert restaFracciones(f12,f34) == fraccion(-2,8)"
      ],
      "execution_count": 0,
      "outputs": []
    },
    {
      "cell_type": "code",
      "metadata": {
        "id": "Q5lCXMPG4CN3",
        "colab_type": "code",
        "colab": {}
      },
      "source": [
        "# Contrato\n",
        "# mcd: int int -> int\n",
        "\n",
        "# Proposito\n",
        "# encuentra el maximo comun divisor para dos numeros\n",
        "\n",
        "# Ejemplo:\n",
        "# mcd(12, 18) -> 6\n",
        "\n",
        "# Cuerpo de la funcion\n",
        "def mcd(a,b):\n",
        "    assert a !=0 and b !=0\n",
        "    if a == b: \n",
        "        return a\n",
        "    mayor = max(a,b)\n",
        "    menor = min(a,b)\n",
        "    if mayor%menor==0:\n",
        "        return menor\n",
        "    else:\n",
        "        return mcd(menor, mayor%menor)\n",
        "\n",
        "\n",
        "# Test\n",
        "assert mcd(18,12)==6\n"
      ],
      "execution_count": 0,
      "outputs": []
    },
    {
      "cell_type": "code",
      "metadata": {
        "id": "P18X3Hoc4CN7",
        "colab_type": "code",
        "colab": {}
      },
      "source": [
        "# Contrato\n",
        "# simplificaFracciones: fraccion -> fraccion\n",
        "\n",
        "# Proposito\n",
        "# entrega una fraccion nueva que es la version simplificada de f\n",
        "\n",
        "# Ejemplo:\n",
        "# simplificaFracciones(fraccion(10,30)) -> fraccion(1,3)\n",
        "\n",
        "\n",
        "# Cuerpo de la funcion\n",
        "def simplificaFracciones(f):\n",
        "    m = mcd(f.numerador,f.denominador)\n",
        "    return fraccion(f.numerador/m,f.denominador/m)  \n",
        "\n",
        "# Test\n",
        "assert simplificaFracciones(fraccion(10,30)) == fraccion(1,3)"
      ],
      "execution_count": 0,
      "outputs": []
    },
    {
      "cell_type": "code",
      "metadata": {
        "id": "egYsq8lc4CN8",
        "colab_type": "code",
        "colab": {}
      },
      "source": [
        "# Contrato\n",
        "# equivalenciaFracciones: fraccion fraccion -> bool\n",
        "\n",
        "# Proposito\n",
        "# Indica si las fracciones f1 y f2 son equivalentes\n",
        "\n",
        "# Ejemplo:\n",
        "# equivalenciaFracciones(fraccion(1,2), fraccion(3,6))\n",
        "# devuelve True\n",
        "\n",
        "# Cuerpo de la funcion\n",
        "def igualdadFracciones(f1,f2):\n",
        "    return simplificaFracciones(f1)==simplificaFracciones(f2)  \n",
        "\n",
        "# Test\n",
        "f12=fraccion(1,2)\n",
        "f36=fraccion(3,6)\n",
        "assert igualdadFracciones(f12,f36)\n"
      ],
      "execution_count": 0,
      "outputs": []
    },
    {
      "cell_type": "code",
      "metadata": {
        "id": "8uFer5m54CN_",
        "colab_type": "code",
        "colab": {}
      },
      "source": [
        "def aString(f):\n",
        "    return str(f.numerador)+\"/\"+str(f.denominador)\n",
        "\n",
        "assert aString(fraccion(1,2)) == \"1/2\"\n",
        "\n"
      ],
      "execution_count": 0,
      "outputs": []
    },
    {
      "cell_type": "code",
      "metadata": {
        "id": "4lljxXp74COB",
        "colab_type": "code",
        "colab": {
          "base_uri": "https://localhost:8080/",
          "height": 34
        },
        "outputId": "b51a585f-bbd3-40ba-e7b3-0c5c791cf021"
      },
      "source": [
        "aString(fraccion(2,3))"
      ],
      "execution_count": 26,
      "outputs": [
        {
          "output_type": "execute_result",
          "data": {
            "text/plain": [
              "'2/3'"
            ]
          },
          "metadata": {
            "tags": []
          },
          "execution_count": 26
        }
      ]
    },
    {
      "cell_type": "markdown",
      "metadata": {
        "id": "FH8YaRPtHvSX",
        "colab_type": "text"
      },
      "source": [
        "### Ejemplo: creamos una estructura para guardar números de a pares"
      ]
    },
    {
      "cell_type": "code",
      "metadata": {
        "id": "imerYLcg4CNc",
        "colab_type": "code",
        "colab": {}
      },
      "source": [
        "import estructura\n",
        "estructura.crear(\"par\",\"num1 num2\")"
      ],
      "execution_count": 0,
      "outputs": []
    },
    {
      "cell_type": "code",
      "metadata": {
        "id": "6x3aCtaS4CNf",
        "colab_type": "code",
        "colab": {
          "base_uri": "https://localhost:8080/",
          "height": 34
        },
        "outputId": "2542eb25-1dc0-425d-e6c2-15d9131cb238"
      },
      "source": [
        "par"
      ],
      "execution_count": 14,
      "outputs": [
        {
          "output_type": "execute_result",
          "data": {
            "text/plain": [
              "struct par"
            ]
          },
          "metadata": {
            "tags": []
          },
          "execution_count": 14
        }
      ]
    },
    {
      "cell_type": "code",
      "metadata": {
        "id": "Mzy7g1-I4CNi",
        "colab_type": "code",
        "colab": {}
      },
      "source": [
        "par1 = par(10,23)"
      ],
      "execution_count": 0,
      "outputs": []
    },
    {
      "cell_type": "code",
      "metadata": {
        "id": "wPt3-uSx4CNk",
        "colab_type": "code",
        "colab": {
          "base_uri": "https://localhost:8080/",
          "height": 34
        },
        "outputId": "92cb1e6b-a9d0-4b99-921b-7148e36d1e26"
      },
      "source": [
        "par1"
      ],
      "execution_count": 16,
      "outputs": [
        {
          "output_type": "execute_result",
          "data": {
            "text/plain": [
              "par(num1=10, num2=23)"
            ]
          },
          "metadata": {
            "tags": []
          },
          "execution_count": 16
        }
      ]
    },
    {
      "cell_type": "code",
      "metadata": {
        "id": "5KgW_fnL4CNn",
        "colab_type": "code",
        "colab": {
          "base_uri": "https://localhost:8080/",
          "height": 34
        },
        "outputId": "469fe67e-0902-40ce-8eb0-677da265177b"
      },
      "source": [
        "par1.num1"
      ],
      "execution_count": 17,
      "outputs": [
        {
          "output_type": "execute_result",
          "data": {
            "text/plain": [
              "10"
            ]
          },
          "metadata": {
            "tags": []
          },
          "execution_count": 17
        }
      ]
    },
    {
      "cell_type": "code",
      "metadata": {
        "id": "3pcI7k-K4CNp",
        "colab_type": "code",
        "colab": {
          "base_uri": "https://localhost:8080/",
          "height": 34
        },
        "outputId": "d2291382-66da-4369-f828-9e7a167d503f"
      },
      "source": [
        "par1.num2"
      ],
      "execution_count": 18,
      "outputs": [
        {
          "output_type": "execute_result",
          "data": {
            "text/plain": [
              "23"
            ]
          },
          "metadata": {
            "tags": []
          },
          "execution_count": 18
        }
      ]
    },
    {
      "cell_type": "markdown",
      "metadata": {
        "id": "lVU_di-C4COF",
        "colab_type": "text"
      },
      "source": [
        "## Ejercicio 5 (entregar antes de la proxima clase)\n",
        "\n",
        "Complete y envíe por u-cursos el módulo `complejos.py` publicado en material docente"
      ]
    }
  ]
}