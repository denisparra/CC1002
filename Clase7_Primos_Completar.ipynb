{
  "nbformat": 4,
  "nbformat_minor": 0,
  "metadata": {
    "kernelspec": {
      "display_name": "Python 2",
      "language": "python",
      "name": "python2"
    },
    "language_info": {
      "codemirror_mode": {
        "name": "ipython",
        "version": 2
      },
      "file_extension": ".py",
      "mimetype": "text/x-python",
      "name": "python",
      "nbconvert_exporter": "python",
      "pygments_lexer": "ipython2",
      "version": "2.7.13"
    },
    "colab": {
      "name": "Clase7_Primos_Completar.ipynb",
      "version": "0.3.2",
      "provenance": [],
      "collapsed_sections": [],
      "include_colab_link": true
    }
  },
  "cells": [
    {
      "cell_type": "markdown",
      "metadata": {
        "id": "view-in-github",
        "colab_type": "text"
      },
      "source": [
        "<a href=\"https://colab.research.google.com/github/bpoblete/CC1002_9/blob/master/Clase7_Primos_Completar.ipynb\" target=\"_parent\"><img src=\"https://colab.research.google.com/assets/colab-badge.svg\" alt=\"Open In Colab\"/></a>"
      ]
    },
    {
      "cell_type": "markdown",
      "metadata": {
        "id": "mqdR6DGhjQNg",
        "colab_type": "text"
      },
      "source": [
        "# Caso de Estudio I: \"Números Primos\"\n",
        "\n",
        "Implementaremos funciones para realizar operaciones con números primos:\n",
        "\n",
        "- **primalidad.** ej: 5 es primo, 9 no lo es\n",
        "- **primeros n primos.** ej: primeros 5: 2 3 5 7 11\n",
        "- **primos en un rango.** ej: 11 13 17 19 en 10-20\n",
        "- **factores primos.** ej: 12 es 2 x 2 x 3\n",
        "- **primo siguiente.** ej: de 23 es 29\n",
        "- **i-ésimo primo.** ej: 1° es 2, 2° es 3, ...\n",
        "- **primos relativos** (primos entre sí). ej: 9 y 4\n",
        "- etc\n",
        "\n",
        "**Solución:** módulo de nombre **`primos`** con funciones para resolver cada problema"
      ]
    },
    {
      "cell_type": "markdown",
      "metadata": {
        "id": "S3NyK0rrjQNh",
        "colab_type": "text"
      },
      "source": [
        "### Función \"esPrimo\"\n",
        "\n",
        "- Indica si un numero **n** es primo (True) o no (False)\n",
        "- Un número primo es aquel que <mark>tiene **dos** divisores exactos, **1** y **sí mismo**</mark>.\n",
        "- **Ejemplo**: esPrimo(5) retorna True, esPrimo(9) retorna False\n",
        "- Solución:\n",
        "    - Enfoque de <mark>fuerza bruta</mark> (i.e., probar todos los números)"
      ]
    },
    {
      "cell_type": "markdown",
      "metadata": {
        "id": "Wni-fEzykGFu",
        "colab_type": "text"
      },
      "source": [
        "### ¿Cuál sería el algoritmo?\n",
        "\n",
        "\n",
        "- ¿Qué significa buscar primos por fuerza bruta?\n",
        "- ¿Cuál es el caso base? (recuerde que 0 y 1 no son primos)\n",
        "\n",
        "\n",
        "\n",
        "\n",
        "\n",
        "\n",
        "\n",
        "\n",
        "### Código:\n"
      ]
    },
    {
      "cell_type": "code",
      "metadata": {
        "id": "ZACGboLNjQNi",
        "colab_type": "code",
        "colab": {}
      },
      "source": [
        "# esPrimo: int -> bool\n",
        "# indica si un numero es primo (True) o no (False)\n",
        "# Ejemplo: esPrimo(5) retorna True, esPrimo(9) retorna False\n",
        "def esPrimo(n  ):\n",
        "\n",
        "\n",
        "  \n",
        "  \n",
        "  \n",
        "  \n",
        "  \n",
        "  \n",
        "  \n",
        "  \n",
        "  \n",
        "  \n",
        "      \n",
        "      \n",
        "# test:\n",
        "assert esPrimo(5)\n",
        "assert not esPrimo(9)\n",
        "\n",
        "\n"
      ],
      "execution_count": 0,
      "outputs": []
    },
    {
      "cell_type": "markdown",
      "metadata": {
        "id": "VXGDG02XjQNm",
        "colab_type": "text"
      },
      "source": [
        "### ¿Podemos mejorar esto para que sea más eficiente?\n",
        "\n",
        "\n",
        "\n",
        "#### Por ejemplo: podemos calcular solo en caso de n impar\n",
        "\n",
        "\n",
        "- El caso en que $n$ es par es fácil, qué debemos checkear para saber?\n",
        "- El caso que no sea par es entonces el que debemos verificar:\n",
        "    - <mark>No es necesario revisar todos los números impares como divisor.</mark>\n",
        "    - Basta con llegar hasta $n < divisor^2$\n",
        "    - Si $n$ no es primo, entonces: $n = a\\cdot b$\n",
        "    - En ese caso, el valor máximo que puede tomar $a$ ó $b$ es $a=b$\n",
        "    - $\\Rightarrow n=a^2$ \n",
        "    \n",
        "    \n",
        "### Código:\n"
      ]
    },
    {
      "cell_type": "code",
      "metadata": {
        "id": "0cQzWXKBjQNn",
        "colab_type": "code",
        "colab": {}
      },
      "source": [
        "# esPrimoImpar: int -> bool\n",
        "# version de esPrimo solo para n impares y\n",
        "# se detiene cuando divisor es mayor a la raiz del numero\n",
        "# Ejemplo: esPrimoImpar(13)-> True, esPrimoImpar(9)->False\n",
        "def esPrimoImpar(n  ):\n",
        "  \n",
        "\n",
        "  \n",
        "  \n",
        "  \n",
        "  \n",
        "  \n",
        "  \n",
        "  \n",
        "assert not esPrimoImpar(9)\n",
        "assert esPrimoImpar(13)\n"
      ],
      "execution_count": 0,
      "outputs": []
    },
    {
      "cell_type": "markdown",
      "metadata": {
        "id": "sly9S8ezjQNp",
        "colab_type": "text"
      },
      "source": [
        "\n",
        "****\n",
        "\n",
        "\n",
        "Luego podemos integrar todo en una sola función llamada `esPrimoOptimizado()` que sirve para pares e impares\n"
      ]
    },
    {
      "cell_type": "code",
      "metadata": {
        "id": "kRotEAiZjQNq",
        "colab_type": "code",
        "colab": {}
      },
      "source": [
        "# esPrimoOptimizado: int -> bool\n",
        "# version optimizada de esPrimo que utiliza solo numeros impares y\n",
        "# se detiene cuando divisor es mayor a la raiz del numero\n",
        "# Ejemplo: esPrimoOptimizado(13)-> True, esPrimoOptimizado(14)-> False\n",
        "def esPrimoOptimizado(n):\n",
        "\n",
        "  assert type(n) == int and n>=2\n",
        "  \n",
        "  if n==2: # es 2\n",
        "    return True\n",
        "  \n",
        "  if n%2==0:  # es par\n",
        "    return False\n",
        "  \n",
        "  # es impar\n",
        "  return esPrimoImpar(n)\n",
        "\n",
        "assert not esPrimoOptimizado(12)\n",
        "assert esPrimoOptimizado(13)\n",
        "assert not esPrimoOptimizado(9)\n"
      ],
      "execution_count": 0,
      "outputs": []
    },
    {
      "cell_type": "markdown",
      "metadata": {
        "id": "0V8cF5pEuHwP",
        "colab_type": "text"
      },
      "source": [
        "### También podemos juntar todo en una sola función:"
      ]
    },
    {
      "cell_type": "code",
      "metadata": {
        "id": "sL4mNIfPjQNt",
        "colab_type": "code",
        "colab": {}
      },
      "source": [
        "# esPrimo: int -> bool\n",
        "# version optimizada de esPrimo para pares e impares\n",
        "# se detiene cuando divisor es mayor a la raiz del numero\n",
        "# Ejemplo: esPrimo(13)-> True, esPrimo(14)-> False\n",
        "def esPrimo(n,divisor=3):\n",
        "\n",
        "  assert type(n) == int and n>=2\n",
        "\n",
        "  if n==2:\n",
        "    return True\n",
        "\n",
        "  if n%2==0:  # es par\n",
        "    return False\n",
        "\n",
        "  if divisor**2 > n:\n",
        "    return True\n",
        "\n",
        "  if n % divisor == 0: # es divisible perfectamente por un número menor a n\n",
        "    return False\n",
        "\n",
        "  return esPrimo(n,divisor+2)\n",
        "\n",
        "assert not esPrimo(12)\n",
        "assert esPrimo(11)\n"
      ],
      "execution_count": 0,
      "outputs": []
    },
    {
      "cell_type": "markdown",
      "metadata": {
        "id": "Hev7oYn__sie",
        "colab_type": "text"
      },
      "source": [
        "### Test de números primos, ingresa un número y te dice si es primo o no"
      ]
    },
    {
      "cell_type": "code",
      "metadata": {
        "id": "RTh7RqyZjQNw",
        "colab_type": "code",
        "colab": {}
      },
      "source": [
        "# testPrimos: None -> None\n",
        "# Lee numeros hasta que aparece un numero menor que 2\n",
        "# e imprime si son primos o no\n",
        "# ej: lee \"17\", \"9\", \"7\", \"1\" escribe \"si\", \"no\", \"si\"\n",
        "def testPrimos():\n",
        "    n = input(\"numero entero? \")\n",
        "\n",
        "    \n",
        "    \n",
        "    \n",
        "    \n",
        "    \n",
        "    \n",
        "    \n",
        "    "
      ],
      "execution_count": 0,
      "outputs": []
    },
    {
      "cell_type": "code",
      "metadata": {
        "id": "cSJ7TsJ4jQNy",
        "colab_type": "code",
        "outputId": "66360240-ece5-4d02-d797-3a51bf551e21",
        "colab": {
          "base_uri": "https://localhost:8080/",
          "height": 173
        }
      },
      "source": [
        "testPrimos()"
      ],
      "execution_count": 0,
      "outputs": [
        {
          "output_type": "stream",
          "text": [
            "numero entero? 13\n",
            "si \n",
            "numero entero? 14\n",
            "no \n",
            "numero entero? 2\n",
            "si \n",
            "numero entero? 4\n",
            "no \n",
            "numero entero? 0\n"
          ],
          "name": "stdout"
        }
      ]
    },
    {
      "cell_type": "markdown",
      "metadata": {
        "id": "hUMN8ogrvBcR",
        "colab_type": "text"
      },
      "source": [
        "### Escribir a pantalla los números primos dentro de cierto rango"
      ]
    },
    {
      "cell_type": "code",
      "metadata": {
        "id": "drymCHDmjQN2",
        "colab_type": "code",
        "colab": {}
      },
      "source": [
        "# rango: int int -> None\n",
        "# escribe primos entre x e y\n",
        "# ej: rango(2,10) -> 2 3 5 7\n",
        "def rango(x,y):\n",
        "  \n",
        "  assert type(x) == int and type(y)==int and x>=2\n",
        "\n",
        "\n",
        "  \n",
        "  \n",
        "  \n",
        "  \n",
        "  \n",
        "  \n",
        "  \n",
        "  \n",
        "  \n",
        "  \n",
        "  "
      ],
      "execution_count": 0,
      "outputs": []
    },
    {
      "cell_type": "code",
      "metadata": {
        "id": "IbVxpyDevn23",
        "colab_type": "code",
        "outputId": "1b70e8bf-eb35-4d48-f0a7-adb355c6dd42",
        "colab": {
          "base_uri": "https://localhost:8080/",
          "height": 449
        }
      },
      "source": [
        "rango(2,100)"
      ],
      "execution_count": 0,
      "outputs": [
        {
          "output_type": "stream",
          "text": [
            "2\n",
            "3\n",
            "5\n",
            "7\n",
            "11\n",
            "13\n",
            "17\n",
            "19\n",
            "23\n",
            "29\n",
            "31\n",
            "37\n",
            "41\n",
            "43\n",
            "47\n",
            "53\n",
            "59\n",
            "61\n",
            "67\n",
            "71\n",
            "73\n",
            "79\n",
            "83\n",
            "89\n",
            "97\n"
          ],
          "name": "stdout"
        }
      ]
    },
    {
      "cell_type": "markdown",
      "metadata": {
        "id": "tqS6cynfw9LJ",
        "colab_type": "text"
      },
      "source": [
        "### Escribir los primeros $n$ números primos"
      ]
    },
    {
      "cell_type": "code",
      "metadata": {
        "id": "xngfiGUWjQN5",
        "colab_type": "code",
        "colab": {}
      },
      "source": [
        "# primeros: int -> None\n",
        "# escribe los n primeros numeros primos\n",
        "# ej: primeros(5) -> 2 3 5 11\n",
        "\n",
        "def primeros(n, indice=2, contador=1):\n",
        "\n",
        "  if contador > n:\n",
        "    return\n",
        "\n",
        "  if esPrimo(indice):\n",
        "    contador = contador+1\n",
        "    print indice\n",
        "        \n",
        "  primeros(n, indice+1, contador)\n",
        "\n"
      ],
      "execution_count": 0,
      "outputs": []
    },
    {
      "cell_type": "code",
      "metadata": {
        "id": "4jr4wdqJwv4O",
        "colab_type": "code",
        "outputId": "5bf2a63f-719e-446e-dde6-c4be9410ed80",
        "colab": {
          "base_uri": "https://localhost:8080/",
          "height": 190
        }
      },
      "source": [
        "primeros(10)"
      ],
      "execution_count": 0,
      "outputs": [
        {
          "output_type": "stream",
          "text": [
            "2\n",
            "3\n",
            "5\n",
            "7\n",
            "11\n",
            "13\n",
            "17\n",
            "19\n",
            "23\n",
            "29\n"
          ],
          "name": "stdout"
        }
      ]
    },
    {
      "cell_type": "markdown",
      "metadata": {
        "id": "CsOQ_QbmxGNS",
        "colab_type": "text"
      },
      "source": [
        "### Escribir el siguiente número primo de un entero $n$"
      ]
    },
    {
      "cell_type": "code",
      "metadata": {
        "id": "n_1-o-EnjQN8",
        "colab_type": "code",
        "colab": {}
      },
      "source": [
        "# siguiente: int->int\n",
        "# primo siguiente a un entero dado\n",
        "# ej: siguiente(2)->3, siguiente(13)->17\n",
        "def siguiente(n):\n",
        "\n",
        "  \n",
        "  \n",
        "  \n",
        "  \n",
        "  \n",
        "  \n",
        "  \n",
        "  \n",
        "# test:\n",
        "assert siguiente(2)==3\n",
        "assert siguiente(13)==17\n"
      ],
      "execution_count": 0,
      "outputs": []
    },
    {
      "cell_type": "code",
      "metadata": {
        "id": "tB95bYvAjQOA",
        "colab_type": "code",
        "outputId": "651cb6b0-6e3c-45f6-e005-9bfcc4317ab2",
        "colab": {
          "base_uri": "https://localhost:8080/",
          "height": 35
        }
      },
      "source": [
        "siguiente(1000)"
      ],
      "execution_count": 0,
      "outputs": [
        {
          "output_type": "execute_result",
          "data": {
            "text/plain": [
              "1009"
            ]
          },
          "metadata": {
            "tags": []
          },
          "execution_count": 28
        }
      ]
    },
    {
      "cell_type": "markdown",
      "metadata": {
        "id": "N3EQi79WxyPf",
        "colab_type": "text"
      },
      "source": [
        "### Escribir el $i$\\_ésimo número primo"
      ]
    },
    {
      "cell_type": "code",
      "metadata": {
        "id": "uaOgkGxQjQOD",
        "colab_type": "code",
        "colab": {}
      },
      "source": [
        "#i_esimo: int -> int\n",
        "#i_esimo numero primo\n",
        "#ejs: i_esimo(1)->2, i_esimo(2)->3\n",
        "def i_esimo(i,indice=1,primo=2):\n",
        "\n",
        "  assert type(i)==int and i>=1\n",
        "  \n",
        "  if indice==i: \n",
        "    return primo\n",
        "  \n",
        "  return i_esimo(i,indice+1,siguiente(primo))\n",
        "\n",
        "# test:\n",
        "assert i_esimo(1)==2\n",
        "assert i_esimo(5)==11\n"
      ],
      "execution_count": 0,
      "outputs": []
    },
    {
      "cell_type": "code",
      "metadata": {
        "id": "ZTBRo8BijQOF",
        "colab_type": "code",
        "outputId": "639cae2c-c198-48c5-ce77-7333abe6de1f",
        "colab": {
          "base_uri": "https://localhost:8080/",
          "height": 35
        }
      },
      "source": [
        "i_esimo(4)"
      ],
      "execution_count": 0,
      "outputs": [
        {
          "output_type": "execute_result",
          "data": {
            "text/plain": [
              "7"
            ]
          },
          "metadata": {
            "tags": []
          },
          "execution_count": 31
        }
      ]
    }
  ]
}