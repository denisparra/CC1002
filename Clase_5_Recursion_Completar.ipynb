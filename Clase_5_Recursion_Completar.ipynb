{
  "nbformat": 4,
  "nbformat_minor": 0,
  "metadata": {
    "kernelspec": {
      "display_name": "Python 2",
      "language": "python",
      "name": "python2"
    },
    "language_info": {
      "codemirror_mode": {
        "name": "ipython",
        "version": 2
      },
      "file_extension": ".py",
      "mimetype": "text/x-python",
      "name": "python",
      "nbconvert_exporter": "python",
      "pygments_lexer": "ipython2",
      "version": "2.7.13"
    },
    "colab": {
      "name": "Clase_5_Recursion_Completar.ipynb",
      "version": "0.3.2",
      "provenance": [],
      "collapsed_sections": [],
      "include_colab_link": true
    }
  },
  "cells": [
    {
      "cell_type": "markdown",
      "metadata": {
        "id": "view-in-github",
        "colab_type": "text"
      },
      "source": [
        "<a href=\"https://colab.research.google.com/github/bpoblete/CC1002_9/blob/master/Clase_5_Recursion_Completar.ipynb\" target=\"_parent\"><img src=\"https://colab.research.google.com/assets/colab-badge.svg\" alt=\"Open In Colab\"/></a>"
      ]
    },
    {
      "cell_type": "markdown",
      "metadata": {
        "id": "rUcrum9wWCnh",
        "colab_type": "text"
      },
      "source": [
        "# Mini-repaso de la Clase Anterior\n",
        "\n",
        "## Valores booleanos\n",
        "\n",
        "<mark>Una expresión booleana tiene como resultado **`True`** o **`False`**.</mark>\n",
        "\n",
        "- Operadores relacionales:  **`<, >, <=, >=, ==, !=`**\n"
      ]
    },
    {
      "cell_type": "code",
      "metadata": {
        "id": "-KXv-_XRWMK2",
        "colab_type": "code",
        "colab": {}
      },
      "source": [
        "5 > 6"
      ],
      "execution_count": 0,
      "outputs": []
    },
    {
      "cell_type": "code",
      "metadata": {
        "id": "r89piLLQWVUR",
        "colab_type": "code",
        "colab": {}
      },
      "source": [
        "5 < 6"
      ],
      "execution_count": 0,
      "outputs": []
    },
    {
      "cell_type": "code",
      "metadata": {
        "id": "fabqrrW-WVdx",
        "colab_type": "code",
        "colab": {}
      },
      "source": [
        "x = 5\n",
        "y = 5\n",
        "x==y"
      ],
      "execution_count": 0,
      "outputs": []
    },
    {
      "cell_type": "code",
      "metadata": {
        "id": "T7wEGiM3WVpA",
        "colab_type": "code",
        "colab": {}
      },
      "source": [
        "x!=y"
      ],
      "execution_count": 0,
      "outputs": []
    },
    {
      "cell_type": "code",
      "metadata": {
        "id": "tFd04R89WkIK",
        "colab_type": "code",
        "colab": {}
      },
      "source": [
        "x <= y"
      ],
      "execution_count": 0,
      "outputs": []
    },
    {
      "cell_type": "markdown",
      "metadata": {
        "id": "FgoA77mjXDfD",
        "colab_type": "text"
      },
      "source": [
        "## Expresiones compuestas: not, and, or\n",
        "\n",
        "### not\n",
        "la expresión <mark>**`not`** niega la expresión</mark> que viene inmediatamente a continuación:"
      ]
    },
    {
      "cell_type": "code",
      "metadata": {
        "id": "b2RjSPTOXOgV",
        "colab_type": "code",
        "colab": {}
      },
      "source": [
        "x = 5\n",
        "y = 10\n",
        "x < y"
      ],
      "execution_count": 0,
      "outputs": []
    },
    {
      "cell_type": "code",
      "metadata": {
        "id": "joPJ47wYXYKU",
        "colab_type": "code",
        "colab": {}
      },
      "source": [
        "not x < y"
      ],
      "execution_count": 0,
      "outputs": []
    },
    {
      "cell_type": "markdown",
      "metadata": {
        "id": "UeG8_FnHX8G_",
        "colab_type": "text"
      },
      "source": [
        ""
      ]
    },
    {
      "cell_type": "markdown",
      "metadata": {
        "colab_type": "text",
        "id": "0SqQalXpX8y8"
      },
      "source": [
        "###  and\n",
        "la expresión <mark>**`and`**  sirve para combinar dos expresiones</mark>.\n",
        "\n",
        "**`(expresion 1) and (expresion 2)`** es **`True`** si ambas expresiones son True (_cualquier otro caso es **`False`**_) "
      ]
    },
    {
      "cell_type": "code",
      "metadata": {
        "id": "vEFFLQU7Yfxj",
        "colab_type": "code",
        "colab": {}
      },
      "source": [
        "x=4\n",
        "y=4\n",
        "z=5\n",
        "(x==4) and (z>=y)"
      ],
      "execution_count": 0,
      "outputs": []
    },
    {
      "cell_type": "markdown",
      "metadata": {
        "colab_type": "text",
        "id": "rPMP5JBZZEL0"
      },
      "source": [
        "###  or\n",
        "la expresión <mark>**`or`**  sirve para combinar dos expresiones</mark>.\n",
        "\n",
        "**`(expresion 1) or (expresion 2)`** es **`True`** si al menos una de las expresiones es True "
      ]
    },
    {
      "cell_type": "code",
      "metadata": {
        "id": "Xh7HvfoRZPw-",
        "colab_type": "code",
        "colab": {}
      },
      "source": [
        "x=4\n",
        "y=4\n",
        "z=5\n",
        "(x<4) or (z>=y)"
      ],
      "execution_count": 0,
      "outputs": []
    },
    {
      "cell_type": "markdown",
      "metadata": {
        "id": "pPSPvDgSYvsa",
        "colab_type": "text"
      },
      "source": [
        "## Condiciones\n",
        "\n",
        "en python:\n",
        "\n",
        "```python\n",
        "if (pregunta):\n",
        "    respuesta\n",
        "elif(pregunta):\n",
        "    respuesta\n",
        "# (...) elif puede repetirse todas las veces que necesitemos\n",
        "else:\n",
        "    respuesta\n",
        "```\n",
        "\n",
        "- Donde **pregunta** es una expresión en python que de ser evaluada como **`True`** entonces se ejecuta la **respuesta** que está en el bloque (indentado) de esa condición. Si es evaluada como **`False`** entonces **NO** ejecutamos la respuesta del bloque y pasamos a la siguiente línea que está fuera de ese bloque.\n",
        "\n",
        "- **pregunta** es una expresión en python (ej: `x<y` )que debe devolver un valor del tipo **`bool`** y puede estar compuesta por varias otras expresiones que combinan entre sí con conectores lógicos **and, or, not** (ej: `x<y and y<z`).\n",
        "\n",
        "\n",
        "***\n"
      ]
    },
    {
      "cell_type": "markdown",
      "metadata": {
        "id": "44YjfxXlZfju",
        "colab_type": "text"
      },
      "source": [
        "\n",
        "# Capítulo 6: Recursión\n",
        "\n",
        "\n",
        "En programación se habla de funciones recursivas cuando la definición de estas depende de sí mismas.\n",
        "\n",
        "Se basa en el principio de la _inducción_:\n",
        "- Caso base\n",
        "- Caso n => n+1\n",
        "\n",
        "\n",
        "## Ejemplo de función recursiva: Potencia\n",
        "\n",
        "\n",
        " \\begin{align*}\n",
        "  2^4 &= 2 \\cdot 2^{4 - 1} \\\\\n",
        "  &= 2 \\cdot 2^{3} \\\\\n",
        "  &= 2 \\cdot (2 \\cdot 2^{2}) \\\\\n",
        "  &= 2 \\cdot (2 \\cdot (2 \\cdot 2^1)) \\\\\n",
        "  &= 2 \\cdot (2 \\cdot (2 \\cdot (2 \\cdot 2^0))) \\\\\n",
        "  &= 2 \\cdot (2 \\cdot (2 \\cdot (2 \\cdot 1))) \\\\\n",
        "  &= 16\n",
        "  \\end{align*}\n",
        "  "
      ]
    },
    {
      "cell_type": "markdown",
      "metadata": {
        "id": "QJwHUWolYvsd",
        "colab_type": "text"
      },
      "source": [
        "\n",
        "\n",
        "\n",
        "\\begin{equation*}\n",
        "a^b=  \n",
        "\\begin{cases}\n",
        "    1       & \\quad \\text{si } b=0\\\\\n",
        "    a\\cdot a^{b-1}  & \\quad \\text{si } b>0\\\\\n",
        "\\end{cases}\n",
        "\\end{equation*}"
      ]
    },
    {
      "cell_type": "code",
      "metadata": {
        "id": "vCQhAZpsYvse",
        "colab_type": "code",
        "colab": {}
      },
      "source": [
        "# potencia: num int -> num\n",
        "# calcula el valor de una potencia de base elevado a exponente\n",
        "# para exponentes enteros positivos\n",
        "# ejemplo: potencia (4,5) debe dar 1024\n",
        "def potencia(base, exponente):\n",
        "    \n",
        "    \n",
        "    \n",
        "    \n",
        "    \n",
        "    \n",
        "\n",
        "# test\n",
        "assert potencia(4,5) == 1024\n",
        "assert potencia(2,4) == 16\n",
        "assert potencia(-1,5) == -1\n",
        "assert potencia(3,0) == 1\n",
        "\n"
      ],
      "execution_count": 0,
      "outputs": []
    },
    {
      "cell_type": "code",
      "metadata": {
        "id": "o7MXjrj3Yvsj",
        "colab_type": "code",
        "colab": {}
      },
      "source": [
        "potencia(4,5)"
      ],
      "execution_count": 0,
      "outputs": []
    },
    {
      "cell_type": "markdown",
      "metadata": {
        "id": "hRGwfFGQYvsn",
        "colab_type": "text"
      },
      "source": [
        "- **propuesto:** modificar para exponentes negativos y positivos\n",
        "\n",
        "\n",
        "\n",
        "\n",
        "## Características de las funciones recursivas\n",
        "\n",
        "Es una función que se define en términos de sí misma es una **_función recursiva_**. Estas funciones siempre deben tener:\n",
        "\n",
        "- un caso base\n",
        "- un caso recursivo\n",
        "- cada llamada debe disminuir el tamaño del problema (converger al caso base)\n",
        "\n",
        "\n",
        "\n",
        "- **Problema:** Contar dígitos de un entero. Ej: 245 tiene 3 dígitos, -4 tiene un dígito.\n",
        "\n",
        "- **Definición:**\n",
        "\n",
        "  - digitos(n) = 1 + digitos(n/10), para n>= 10\n",
        "  - digitos(n) = 1, para |n|<10\n"
      ]
    },
    {
      "cell_type": "code",
      "metadata": {
        "id": "fT-fL5_hYvso",
        "colab_type": "code",
        "colab": {}
      },
      "source": [
        "#digitos: int->int\n",
        "#cuenta digitos de un número entero #ej: dígitos(245) debe ser 3\n",
        "#ej: digitos(4) debe ser 1\n",
        "def digitos(n):\n",
        "    if abs(n) < 10 :\n",
        "        return 1\n",
        "    else:\n",
        "        return 1 + digitos(n/10)\n",
        "# tests\n",
        "assert digitos(245)==3\n",
        "assert digitos(-4)==1"
      ],
      "execution_count": 0,
      "outputs": []
    },
    {
      "cell_type": "code",
      "metadata": {
        "id": "4lDlN2GFYvsq",
        "colab_type": "code",
        "colab": {}
      },
      "source": [
        "digitos(-4)"
      ],
      "execution_count": 0,
      "outputs": []
    },
    {
      "cell_type": "markdown",
      "metadata": {
        "id": "6L_yVQHaYvst",
        "colab_type": "text"
      },
      "source": [
        "\n",
        "\n",
        "### Ejemplo de función recursiva: Factorial\n",
        "\n",
        "\\begin{equation*}\n",
        "n!=  \n",
        "\\begin{cases}\n",
        "    1       & \\quad \\text{si } n=0\\\\\n",
        "    n\\cdot (n-1)!  & \\quad \\text{si } n>0\\\\\n",
        "\\end{cases}\n",
        "\\end{equation*}\n",
        "\n",
        "\n",
        "**Escriba la función `factorial` que reciba un entero y retorne su factorial**"
      ]
    },
    {
      "cell_type": "code",
      "metadata": {
        "id": "4yFNu49kYvsu",
        "colab_type": "code",
        "colab": {}
      },
      "source": [
        "# factorial: int -> int\n",
        "# calcula el valor factorial de n\n",
        "# ejemplo: factorial(4) debe dar 24\n",
        "def factorial(n):\n",
        "\n",
        "  \n",
        "  \n",
        "  \n",
        "\n",
        "# test\n",
        "assert factorial(4) == 24\n",
        "assert factorial(2) == 2\n",
        "assert factorial(8) == 40320 \n",
        "\n"
      ],
      "execution_count": 0,
      "outputs": []
    },
    {
      "cell_type": "code",
      "metadata": {
        "id": "oydcr3KTYvsy",
        "colab_type": "code",
        "colab": {}
      },
      "source": [
        "factorial(0)"
      ],
      "execution_count": 0,
      "outputs": []
    },
    {
      "cell_type": "code",
      "metadata": {
        "id": "kqQ1L7JUYvs1",
        "colab_type": "code",
        "colab": {}
      },
      "source": [
        ">>> factorial(100)"
      ],
      "execution_count": 0,
      "outputs": []
    },
    {
      "cell_type": "markdown",
      "metadata": {
        "id": "lwJutmiVYvs3",
        "colab_type": "text"
      },
      "source": [
        "\n",
        "\n",
        "\n",
        "### ¿Cómo podemos asegurarnos que los valores que reciben las funciones estén en un determinado rango?\n",
        "\n",
        "- Usamos `assert`"
      ]
    },
    {
      "cell_type": "code",
      "metadata": {
        "id": "9xlsaVp-Yvs4",
        "colab_type": "code",
        "colab": {}
      },
      "source": [
        "# factorial: int -> int\n",
        "# calcula el valor factorial de n\n",
        "# ejemplo: factorial(4) debe dar 24\n",
        "def factorial(n):\n",
        "    assert (type(n)==int) and (n>=0)\n",
        "    if n == 0:\n",
        "        return 1\n",
        "    else:\n",
        "        return n*(factorial(n-1))\n",
        "\n",
        "# test\n",
        "assert factorial(4) == 24\n",
        "assert factorial(2) == 2\n",
        "assert factorial(8) == 40320 \n",
        "\n"
      ],
      "execution_count": 0,
      "outputs": []
    },
    {
      "cell_type": "code",
      "metadata": {
        "id": "2QnUXJiHYvs8",
        "colab_type": "code",
        "colab": {}
      },
      "source": [
        "factorial(-1)"
      ],
      "execution_count": 0,
      "outputs": []
    },
    {
      "cell_type": "code",
      "metadata": {
        "id": "T7L36EI-YvtA",
        "colab_type": "code",
        "colab": {}
      },
      "source": [
        "factorial(4)"
      ],
      "execution_count": 0,
      "outputs": []
    },
    {
      "cell_type": "markdown",
      "metadata": {
        "id": "QTzwWgQKYvtC",
        "colab_type": "text"
      },
      "source": [
        "### Podemos usar lo aprendido para hacer un programa interactivo que lea una lista indeterminada de números e imprima su factorial\n",
        "\n"
      ]
    },
    {
      "cell_type": "code",
      "metadata": {
        "id": "NljV1UKyYvtD",
        "colab_type": "code",
        "colab": {}
      },
      "source": [
        "#calculaListaFactoriales: any -> None\n",
        "#calcular factorial de lista de numeros # (que termina con fin)\n",
        "#ej: factoriales('fin') o factoriales() \n",
        "\n",
        "def calculaListaFactoriales(fin='fin'):\n",
        "    n=input('n ?')\n",
        "    if n==fin: return #retornar a invocación \n",
        "    \n",
        "    # caso no es igual a fin\n",
        "    factorial_n = factorial(n)\n",
        "    print str(n)+'!='+str(factorial_n)\n",
        "    calculaListaFactoriales(fin) #llamada recursiva"
      ],
      "execution_count": 0,
      "outputs": []
    },
    {
      "cell_type": "code",
      "metadata": {
        "id": "UZ1aCRSdYvtF",
        "colab_type": "code",
        "colab": {}
      },
      "source": [
        "calculaListaFactoriales()\n"
      ],
      "execution_count": 0,
      "outputs": []
    },
    {
      "cell_type": "markdown",
      "metadata": {
        "id": "RYoVX_igYvtK",
        "colab_type": "text"
      },
      "source": [
        "\n",
        "\n",
        "\n",
        "### Ejemplo más complicado: Torres de Hanoi\n",
        "\n",
        "\n",
        "Problema matemático que consiste en mover todos los discos desde una vara a otra, bajo las siguientes restricciones:\n",
        "\n",
        "- Sólo 1 disco puede ser movido a la vez.\n",
        "- No puede haber un disco más grande encima de uno más pequeño.\n",
        "- Un movimiento consiste en mover un disco en la cima de una pila de discos hacia otra pila de discos puestos en otra vara.\n",
        "\n",
        "\n",
        "Se nos pide crear una función llamada `hanoi()` que reciba como parámetro el número de discos de la torre y entregue como salida la cantidad de movimientos que debieron realizarse.\n",
        "\n",
        "\n",
        "![paso 1](https://drive.google.com/uc?id=0B3jzzeIB00s1UFF1c1J2M21xYWs)\n",
        "\n",
        "\n",
        "![paso 2](https://drive.google.com/uc?id=0B3jzzeIB00s1alZaVV9sVjliWlU)\n",
        "\n",
        "\n",
        "![paso 3](https://drive.google.com/uc?id=0B3jzzeIB00s1dzNXZXZHeWhBek0)\n",
        "\n",
        "\n",
        "- Para mover el disco más grande de una vara a otra, necesitamos mover los n-1 discos anteriores a otra vara, lo cual nos toma `hanoi(n-1)` movimientos.\n",
        "\n",
        "- Luego, debemos mover el disco más grande de su vara a la desocupada, esto nos toma 1 movimiento.\n",
        "\n",
        "- A continuación, debemos volver a mover los n-1 discos restantes para que queden encima del disco grande que acabamos de mover. Esto nuevamente nos toma `hanoi(n-1)` movimientos.\n",
        "\n",
        "-  En total, necesitamos 2x`hanoi(n-1)`+ 1 movimientos para n discos."
      ]
    },
    {
      "cell_type": "code",
      "metadata": {
        "id": "hwD2xpwgYvtM",
        "colab_type": "code",
        "colab": {}
      },
      "source": [
        "# hanoi: int -> int\n",
        "# calcula el numero de movimientos necesarios para mover \n",
        "# una torre de n discos desde una vara a otra\n",
        "# usando 3 varas y siguiendo las restricciones del puzzle de hanoi\n",
        "# ejemplo: hanoi(0) debe dar 0, hanoi(1) debe dar 1, hanoi(2) debe dar 3\n",
        "def hanoi(n):   \n",
        "\n",
        "  \n",
        "  \n",
        "  \n",
        "\n",
        "# test\n",
        "assert hanoi(0)==0\n",
        "assert hanoi(1)==1\n",
        "assert hanoi(4)==158\n",
        "assert hanoi(5)==31"
      ],
      "execution_count": 0,
      "outputs": []
    },
    {
      "cell_type": "markdown",
      "metadata": {
        "id": "dI8lGy3Oaahu",
        "colab_type": "text"
      },
      "source": [
        "## Cómo escribir funciones recursivas\n",
        "\n",
        "- **Son funciones condicionales**\n",
        "- Pensar de forma inductiva:\n",
        "  - **caso base**\n",
        "  - **caso inductivo**: siempre debe <mark>reducir el problema y llevar hacia el caso base</mark>\n",
        "  - podemos asumir que el caso inductivo devolverá el valor correcto.\n",
        "  - debemos <mark>pensar qué es lo que le falta al caso inductivo</mark> para obtener el caso final.\n",
        "  \n",
        " ## Receta de diseño\n",
        " \n",
        "1. Escribir varios ejemplos de uso de la función, incluir parámetro y resultado\n",
        "   - 2 potencia 4 = 6\n",
        "   - 2 potencia 0 = 1\n",
        "   - 2 potencia 3 = 8\n",
        " \n",
        " \n",
        " 2. Decidir cuál de los argumentos va a tener descomposición recursiva.\n",
        "    - El argumento con el procedimiento recursivo es la potencia\n",
        "    \n",
        "\\begin{equation*}\n",
        "    a\\cdot a^{b-1}\n",
        "\\end{equation*}\n",
        "\n",
        "3. Entender cual es el caso base para el argumento.\n",
        "  - Cuando la potencia es igual a 0, el resultado es 1.\n",
        "  \n",
        "4. Ocupar la receta de diseño normal tomando en cuenta que es una función condicional, donde una rama es el caso base y el otro el caso recursivo. "
      ]
    },
    {
      "cell_type": "markdown",
      "metadata": {
        "id": "h8pIYCGJYvtO",
        "colab_type": "text"
      },
      "source": [
        "\n",
        "\n",
        "\n",
        "# Ejercicio 4\n",
        "\n",
        "Calcular el máximo común divisor entre dos enteros positivos. Por ejemplo, el máximo común divisor entre 18 y 24 es 6, el máximo común divisor entre 9 y 4 es 1.\n",
        "\n",
        "1. Escriba una función recursiva llamada `mcd()` que calcule el máximo común divisor dado un número `n`. \n",
        "   Indicación: utilice el algoritmo de Euclídes.\n",
        "2. No olvide usar la receta de diseño para funciones vista en clases.\n",
        "3. Enviar vía u-cursos (o entregar en papel) el programa **`euclides.py`** que incluya la función `mcd()`.\n"
      ]
    },
    {
      "cell_type": "markdown",
      "metadata": {
        "collapsed": true,
        "id": "sZbY8_feYvtP",
        "colab_type": "text"
      },
      "source": [
        "Método de Euclides (MCD):\n",
        "\n",
        "\n",
        "\\begin{equation*}\n",
        "    mcd(x,y) = \\begin{cases}\n",
        "               max(x,y)        & x = y, x = 0, y = 0\\\\\n",
        "               mcd(x-y,y)      & x > y\\\\\n",
        "               mcd(x,y-x)\n",
        "           \\end{cases}\n",
        "\\end{equation*}\n"
      ]
    }
  ]
}