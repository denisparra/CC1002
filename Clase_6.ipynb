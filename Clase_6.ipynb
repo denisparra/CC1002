{
  "nbformat": 4,
  "nbformat_minor": 0,
  "metadata": {
    "kernelspec": {
      "display_name": "Python 2",
      "language": "python",
      "name": "python2"
    },
    "language_info": {
      "codemirror_mode": {
        "name": "ipython",
        "version": 2
      },
      "file_extension": ".py",
      "mimetype": "text/x-python",
      "name": "python",
      "nbconvert_exporter": "python",
      "pygments_lexer": "ipython2",
      "version": "2.7.13"
    },
    "colab": {
      "name": "Clase 6.ipynb",
      "version": "0.3.2",
      "provenance": [],
      "include_colab_link": true
    }
  },
  "cells": [
    {
      "cell_type": "markdown",
      "metadata": {
        "id": "view-in-github",
        "colab_type": "text"
      },
      "source": [
        "<a href=\"https://colab.research.google.com/github/bpoblete/CC1002_9/blob/master/Clase_6.ipynb\" target=\"_parent\"><img src=\"https://colab.research.google.com/assets/colab-badge.svg\" alt=\"Open In Colab\"/></a>"
      ]
    },
    {
      "cell_type": "markdown",
      "metadata": {
        "id": "Yf7nvLEsmDTQ",
        "colab_type": "text"
      },
      "source": [
        "# Ejercicio 3\n",
        "\n",
        "## Saludo original:"
      ]
    },
    {
      "cell_type": "code",
      "metadata": {
        "id": "B7ZEmuI-mDTR",
        "colab_type": "code",
        "colab": {}
      },
      "source": [
        "# saludo.py\n",
        "\n",
        "# saludo: int -> str\n",
        "# Determinar el saludo adecuado a la hora del dia 1 <= h <= 24 # ejemplos:\n",
        "# saludo(11) debe devolver 'Buenos dias!'\n",
        "# saludo(15) debe devolver 'Buenas tardes!'\n",
        "def saludo(hora):\n",
        "    if (hora < 12):\n",
        "        return 'Buenos dias!'\n",
        "    elif (hora < 21):\n",
        "        return 'Buenas tardes!'\n",
        "    else:\n",
        "        return 'Buenas noches!'\n",
        "# test:\n",
        "assert saludo(1) == 'Buenos dias!'\n",
        "assert saludo(11) == 'Buenos dias!' \n",
        "assert saludo(12) == 'Buenas tardes!' \n",
        "assert saludo(15) == 'Buenas tardes!'\n",
        "assert saludo(21) == 'Buenas noches!' \n",
        "assert saludo(23) == 'Buenas noches!' \n",
        "assert saludo(24) == 'Buenas noches!'"
      ],
      "execution_count": 0,
      "outputs": []
    },
    {
      "cell_type": "markdown",
      "metadata": {
        "id": "nWHs5uP-mDTV",
        "colab_type": "text"
      },
      "source": [
        "## módulo saludoFunciones"
      ]
    },
    {
      "cell_type": "code",
      "metadata": {
        "id": "Lls1yI30mDTV",
        "colab_type": "code",
        "colab": {}
      },
      "source": [
        "# saludoFunciones.py\n",
        "# modulo con funciones para saber que parte del dia es\n",
        "\n",
        "# esDia: int -> bool\n",
        "# Recibe una hora del dia y dice si corresponde a la mannana o no (entre 1<=x<12)\n",
        "# Ej: esMannana(12) == False\n",
        "def esDia(hora):\n",
        "    if(hora >=1 and hora<12):\n",
        "        return True\n",
        "    return False\n",
        "# tests\n",
        "assert esDia(1)\n",
        "assert not esDia(0)\n",
        "assert not esDia(12)\n",
        "\n",
        "# esTarde: int -> bool\n",
        "# Recibe una hora del dia y dice si corresponde a la tarde o no (entre 12<=x<21)\n",
        "# Ej: esTarde(12) == True, esTarde(21) == False\n",
        "def esTarde(hora):\n",
        "    if(hora >=12 and hora<21):\n",
        "        return True\n",
        "    return False\n",
        "# tests\n",
        "assert not esTarde(1)\n",
        "assert not esTarde(21)\n",
        "assert esTarde(12)"
      ],
      "execution_count": 0,
      "outputs": []
    },
    {
      "cell_type": "markdown",
      "metadata": {
        "id": "wClVzGHfmDTY",
        "colab_type": "text"
      },
      "source": [
        "## Saludo modificado"
      ]
    },
    {
      "cell_type": "code",
      "metadata": {
        "id": "d_akltlkmDTY",
        "colab_type": "code",
        "colab": {}
      },
      "source": [
        "#saludoModificado.py\n",
        "from saludoFunciones import *\n",
        "\n",
        "# saludo: int -> str\n",
        "# Determinar el saludo adecuado a la hora del dia 1 <= h <= 24 # ejemplos:\n",
        "# saludo(11) debe devolver Buenos dias!\n",
        "# saludo(15) debe devolver Buenas tardes!\n",
        "def saludo(hora):\n",
        "    if (esDia(hora)): #preguntamos si es la mannana (antes 12hrs)\n",
        "        return 'Buenos dias!'\n",
        "    elif (esTarde(hora)): # preguntamos si es la tarde\n",
        "        return 'Buenas tardes!'\n",
        "    else:\n",
        "        return 'Buenas noches!' # en este caso es la noche\n",
        "# test:\n",
        "assert saludo(1) == 'Buenos dias!'\n",
        "assert saludo(11) == 'Buenos dias!' \n",
        "assert saludo(12) == 'Buenas tardes!' \n",
        "assert saludo(15) == 'Buenas tardes!'\n",
        "assert saludo(21) == 'Buenas noches!' \n",
        "assert saludo(23) == 'Buenas noches!' \n",
        "assert saludo(24) == 'Buenas noches!'"
      ],
      "execution_count": 0,
      "outputs": []
    },
    {
      "cell_type": "markdown",
      "metadata": {
        "id": "QHMW_Fj0mDTb",
        "colab_type": "text"
      },
      "source": [
        "***\n",
        "\n",
        "# Ejercicio 4\n",
        "\n",
        "Calcular el máximo común divisor entre dos enteros positivos. Por ejemplo, el máximo común divisor entre 18 y 24 es 6, el máximo común divisor entre 9 y 4 es 1.\n",
        "\n",
        "1. Escriba una función recursiva llamada `mcd()` que calcule el máximo común divisor dado un número `n`. \n",
        "   Indicación: utilice el algoritmo de Euclídes.\n",
        "2. Escriba un programa interactivo que pida al usuario el númerador y el denominador de una fracción, y escriba en pantalla la fracción simplificada utilizando `mcd()`.\n",
        "3. Enviar vía u-cursos un programa `euclides.py` que el programa interactivo incluyendo la función.\n",
        "\n",
        "\n",
        "\n",
        "## Solución\n",
        "\n",
        "\n",
        "Método de Euclides (MCD):\n",
        "\n",
        "\n",
        "\\begin{equation*}\n",
        "    mcd(x,y) = \\begin{cases}\n",
        "               max(x,y)        & x = y, x = 0, y = 0\\\\\n",
        "               mcd(x-y,y)      & x > y\\\\\n",
        "               mcd(x,y-x)\n",
        "           \\end{cases}\n",
        "\\end{equation*}\n",
        "\n"
      ]
    },
    {
      "cell_type": "code",
      "metadata": {
        "id": "mHbw2X0_mDTb",
        "colab_type": "code",
        "colab": {}
      },
      "source": [
        "#mcd: int int -> int\n",
        "#maximo comun divisor entre enteros positivos \n",
        "#ej: mcd(18,24) debe ser 6, mcd(9,4) debe ser 1 \n",
        "def mcd(x,y):\n",
        "    assert type(x)==int and type(y)==int\n",
        "    assert x>=0 and y>=0 and not(x==0 and y==0) \n",
        "    if x==y or x==0 or y==0:\n",
        "        return max(x,y)\n",
        "    elif x>y:\n",
        "        return mcd(x-y,y) \n",
        "    else:\n",
        "        return mcd(x,y-x)\n",
        "\n",
        "assert mcd(18,24)==6 # caso general\n",
        "assert mcd(9,4)==1 # caso especial\n",
        "assert mcd(6,6)==6 # caso base\n",
        "assert mcd(5,0)==5 # caso base\n"
      ],
      "execution_count": 0,
      "outputs": []
    },
    {
      "cell_type": "code",
      "metadata": {
        "id": "vgcGq8vhmDTd",
        "colab_type": "code",
        "colab": {},
        "outputId": "87a991fb-0a14-4faf-afbd-71ec53de69ee"
      },
      "source": [
        "print \"simplificar una fraccion\" \n",
        "a=input(\"numerador? \") \n",
        "b=input(\"denominador? \") \n",
        "m=mcd(a,b)\n",
        "print \"fraccion =\", a/m, \"/\", b/m"
      ],
      "execution_count": 0,
      "outputs": [
        {
          "output_type": "stream",
          "text": [
            "simplificar una fraccion\n",
            "numerador? 8\n",
            "denominador? 4\n",
            "fraccion = 2 / 1\n"
          ],
          "name": "stdout"
        }
      ]
    },
    {
      "cell_type": "markdown",
      "metadata": {
        "id": "MU8Q381_mDTg",
        "colab_type": "text"
      },
      "source": [
        "***\n",
        "\n",
        "\n",
        "\n",
        "# Clase 6: Testing, Depuración y más Recursión\n",
        "\n",
        "\n",
        "## Testing\n",
        "\n",
        "Son acciones que permiten probar la funcionalidad de alguna parte de programa\n",
        "Depuración: es el proceso de detectar y corregir errores en un programa\n",
        "Errores de sintaxis, de nombre, de tipo, etc.\n",
        "Errores lógicos (proceso de testing)\n",
        "\n",
        "### Testing de funciones\n",
        "\n",
        "**Aspectos generales:**\n",
        "\n",
        "- La función debe cumplir con el contrato estipulado en la receta de diseño\n",
        "  - Parámetros\n",
        "  - Tipo de dato de retorno\n",
        "  - Los tests de la función deben abarcar suficientes casos para verificar que la función está correctamente programada\n",
        "\n",
        "- Objetivo: encontrar errores lógicos\n",
        "\n",
        "** Aspectos generales:**\n",
        "\n",
        "- Buen testing para funciones condicionales debe incluir tests para:\n",
        "  - Todos los casos de borde\n",
        "  - Al menos un test por cada caso representativo\n",
        "\n",
        "\n",
        "\n",
        "## Características de las funciones recursivas\n",
        "\n",
        "Es una función que se define en términos de sí misma es una **_función recursiva_**. Estas funciones siempre deben tener:\n",
        "\n",
        "- un caso base\n",
        "- un caso recursivo\n",
        "- cada llamada debe disminuir el tamaño del problema (converger al caso base)\n",
        "\n",
        "\n",
        "## Ejemplos:\n",
        "\n",
        "\n",
        "### Problema 1: Suma de progresión aritmética\n",
        "\n",
        "\\begin{equation}\n",
        "\\sum_{i=x}^{y} = x + (x+1)+\\ldots+y\n",
        "\\end{equation}\n",
        "\n",
        "\n",
        "Ejemplo:\n",
        "\n",
        "\\begin{equation}\n",
        "\\sum_{i=3}^{5} = 3+4+5 =12\n",
        "\\end{equation}\n",
        "\n"
      ]
    },
    {
      "cell_type": "code",
      "metadata": {
        "id": "7yN3trWkmDTh",
        "colab_type": "code",
        "colab": {}
      },
      "source": [
        "#suma: int int -> int\n",
        "#x + (x+1) + ... + y\n",
        "#ej: suma(3,5) debe ser 12\n",
        "def suma(x,y):\n",
        "    assert type(x)==int and type(y)==int \n",
        "    if x>y: \n",
        "        return 0\n",
        "    return x + suma(x+1,y) #suma(x,y-1)+y\n",
        "\n",
        "assert suma(3,5)==12 #caso general \n",
        "assert suma(3,3)==3  #caso especial \n",
        "assert suma(5,3)==0  #caso base"
      ],
      "execution_count": 0,
      "outputs": []
    },
    {
      "cell_type": "markdown",
      "metadata": {
        "id": "hAI612v3mDTj",
        "colab_type": "text"
      },
      "source": [
        "\n",
        "\n",
        "### Problema 2: Números de Fibonacci\n",
        "\n",
        "\\begin{equation*}\n",
        "    f(n) = \\begin{cases}\n",
        "               0               & n = 0\\\\\n",
        "               1               & n = 1\\\\\n",
        "               f(n-1) + f(n-2) & n > 1\n",
        "           \\end{cases}\n",
        "\\end{equation*}\n",
        "\n",
        "Ejemplo: \n",
        "\n",
        "$\\{0, 1, 1 , 2, 3, 5, 8, 13\\} \\Rightarrow f(7) = 13$\n",
        "\n"
      ]
    },
    {
      "cell_type": "code",
      "metadata": {
        "id": "muUG93M4mDTk",
        "colab_type": "code",
        "colab": {}
      },
      "source": [
        "# fibonacci: int -> int\n",
        "# calcula el n-esimo numero de la sucession de Fibonacci\n",
        "# ejemplo: fibonacci(7) debe dar 13\n",
        "def fibonacci(n):\n",
        "    assert type(n)==int and n>=0\n",
        "    # casos base\n",
        "    if n <=1:\n",
        "        return n\n",
        "    else:\n",
        "        # caso recursivo\n",
        "        return fibonacci(n-1) + fibonacci(n-2)\n",
        "\n",
        "# test:\n",
        "assert fibonacci(0) == 0\n",
        "assert fibonacci(1) == 1\n",
        "assert fibonacci(2) == 1\n",
        "assert fibonacci(7) == 13"
      ],
      "execution_count": 0,
      "outputs": []
    },
    {
      "cell_type": "markdown",
      "metadata": {
        "id": "3Odi3sR7mDTm",
        "colab_type": "text"
      },
      "source": [
        "\n",
        "\n",
        "### Problema 3: Repetir un string n veces"
      ]
    },
    {
      "cell_type": "code",
      "metadata": {
        "id": "nT6nPJmvmDTn",
        "colab_type": "code",
        "colab": {}
      },
      "source": [
        "#repetir: str int -> str\n",
        "#string x repetido n veces\n",
        "#ej: repetir(\"ja\",3) debe ser \"jajaja“\n",
        "def repetir(x,n):\n",
        "    assert type(x)==str and type(n)==int and n>=0 \n",
        "    if n==0: \n",
        "        return \"\"\n",
        "    return x + repetir(x,n-1)\n",
        "\n",
        "assert repetir(\"ja\",3)==\"jajaja\" #caso general\n",
        "assert repetir(\"ja\",0)==\"\"       #caso base\n",
        "assert repetir(\"ja\",1)==\"ja\"     #caso especial"
      ],
      "execution_count": 0,
      "outputs": []
    },
    {
      "cell_type": "code",
      "metadata": {
        "id": "DeeUPGfZmDTq",
        "colab_type": "code",
        "colab": {},
        "outputId": "6a0ed7ab-6600-42e6-a501-e0165176d88d"
      },
      "source": [
        "repetir(\"hola\",10)"
      ],
      "execution_count": 0,
      "outputs": [
        {
          "output_type": "execute_result",
          "data": {
            "text/plain": [
              "'holaholaholaholaholaholaholaholaholahola'"
            ]
          },
          "metadata": {
            "tags": []
          },
          "execution_count": 13
        }
      ]
    },
    {
      "cell_type": "markdown",
      "metadata": {
        "id": "u5ndPtFBmDTt",
        "colab_type": "text"
      },
      "source": [
        "\n",
        "### Problema 4: Cálculo de una distancia (problema de punto flotante)\n",
        "\n",
        "**Leer capítulo 7 en detalle**\n"
      ]
    },
    {
      "cell_type": "code",
      "metadata": {
        "id": "clUy4jvfmDTu",
        "colab_type": "code",
        "colab": {}
      },
      "source": [
        "#distancia: num num num num -> float \n",
        "#distancia entre puntos (x0,y0) y (x1,y1) \n",
        "#ej: distancia(1,0,4,0) debe ser 3.0\n",
        "def distancia(x0,y0,x1,y1):\n",
        "    dx = x1 - x0\n",
        "    dy = y1 - y0\n",
        "    return (dx**2 + dy**2)**0.5\n",
        "\n",
        "assert distancia(1,0,4,0)==3.0\n",
        "\n",
        "#resultado con 4 decimales de precisión \n",
        "assert abs(distancia(0,1,1,0)-1.4142)< 0.0001"
      ],
      "execution_count": 0,
      "outputs": []
    },
    {
      "cell_type": "code",
      "metadata": {
        "id": "MbJ2WRCSmDTy",
        "colab_type": "code",
        "colab": {},
        "outputId": "7287c3cb-c680-47e8-8a68-d90759cab887"
      },
      "source": [
        ">>> d1 = distancia(0.1, 0.2, 0.2, 0.1)\n",
        ">>> d1"
      ],
      "execution_count": 0,
      "outputs": [
        {
          "output_type": "execute_result",
          "data": {
            "text/plain": [
              "0.14142135623730953"
            ]
          },
          "metadata": {
            "tags": []
          },
          "execution_count": 5
        }
      ]
    },
    {
      "cell_type": "code",
      "metadata": {
        "id": "znLiB68EmDT0",
        "colab_type": "code",
        "colab": {},
        "outputId": "bcbd3a15-c41f-4bfb-988d-48aebd7b4bd7"
      },
      "source": [
        ">>> d2 = distancia(1,2,2,1)\n",
        ">>> d2"
      ],
      "execution_count": 0,
      "outputs": [
        {
          "output_type": "execute_result",
          "data": {
            "text/plain": [
              "1.4142135623730951"
            ]
          },
          "metadata": {
            "tags": []
          },
          "execution_count": 6
        }
      ]
    },
    {
      "cell_type": "code",
      "metadata": {
        "id": "ZoqBoru-mDT3",
        "colab_type": "code",
        "colab": {},
        "outputId": "00efc227-de2e-4f49-cb60-9d59b36b5331"
      },
      "source": [
        ">>> 10*d1 == d2"
      ],
      "execution_count": 0,
      "outputs": [
        {
          "output_type": "execute_result",
          "data": {
            "text/plain": [
              "False"
            ]
          },
          "metadata": {
            "tags": []
          },
          "execution_count": 7
        }
      ]
    },
    {
      "cell_type": "markdown",
      "metadata": {
        "id": "2hAvlqnkmDT6",
        "colab_type": "text"
      },
      "source": [
        "** Se produce un error de redondeo de punto flotante**, para corregirlo debemos definir un parámetro $\\epsilon$ (epsilon) de tolerancia o cercanía mínima entre dos valores para poder decir que estos son iguales: "
      ]
    },
    {
      "cell_type": "code",
      "metadata": {
        "id": "3RIzmlIvmDT7",
        "colab_type": "code",
        "colab": {}
      },
      "source": [
        "# cerca: num num num -> bool\n",
        "# retorna True si x es igual a y con\n",
        "# precision epsilon\n",
        "def cerca(x, y, epsilon):\n",
        "    diff = x - y\n",
        "    return abs(diff) < epsilon"
      ],
      "execution_count": 0,
      "outputs": []
    },
    {
      "cell_type": "code",
      "metadata": {
        "id": "Wyb7nj-KmDT-",
        "colab_type": "code",
        "colab": {},
        "outputId": "36767ff9-9072-479e-ae33-45e14ab90206"
      },
      "source": [
        ">>> cerca(10*d1,d2,0.0001)"
      ],
      "execution_count": 0,
      "outputs": [
        {
          "output_type": "execute_result",
          "data": {
            "text/plain": [
              "True"
            ]
          },
          "metadata": {
            "tags": []
          },
          "execution_count": 10
        }
      ]
    },
    {
      "cell_type": "markdown",
      "metadata": {
        "id": "5ciVVEJumDUB",
        "colab_type": "text"
      },
      "source": [
        "### Problema propuesto: Combinatoria\n",
        "\n",
        "$${x\\choose y} = \\frac{x!}{y!(x-y)!}$$\n",
        "\n",
        "$${x\\choose y} = {x-1\\choose y} + {x-1 \\choose y-1}$$\n",
        "\n",
        "Caso base:\n",
        "\n",
        "$${x\\choose y} = 0$$\n",
        "si es que $x = y$ o $y = 0$"
      ]
    },
    {
      "cell_type": "code",
      "metadata": {
        "id": "kQPvYhPQmDUC",
        "colab_type": "code",
        "colab": {}
      },
      "source": [
        ""
      ],
      "execution_count": 0,
      "outputs": []
    }
  ]
}