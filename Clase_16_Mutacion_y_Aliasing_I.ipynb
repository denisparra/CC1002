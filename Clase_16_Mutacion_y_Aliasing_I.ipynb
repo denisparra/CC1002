{
  "nbformat": 4,
  "nbformat_minor": 0,
  "metadata": {
    "colab": {
      "name": "Clase 16 Mutacion y Aliasing I.ipynb",
      "provenance": [],
      "collapsed_sections": [],
      "include_colab_link": true
    },
    "kernelspec": {
      "name": "python2",
      "display_name": "Python 2"
    }
  },
  "cells": [
    {
      "cell_type": "markdown",
      "metadata": {
        "id": "view-in-github",
        "colab_type": "text"
      },
      "source": [
        "<a href=\"https://colab.research.google.com/github/bpoblete/CC1002_9/blob/master/Clase_16_Mutacion_y_Aliasing_I.ipynb\" target=\"_parent\"><img src=\"https://colab.research.google.com/assets/colab-badge.svg\" alt=\"Open In Colab\"/></a>"
      ]
    },
    {
      "cell_type": "markdown",
      "metadata": {
        "id": "4aEFk57QsH2c",
        "colab_type": "text"
      },
      "source": [
        "# Mutación\n",
        "\n",
        "Hasta ahora, todas nuestras funciones reciben parámetros y retornan un valor de acuerdo a éstos\n",
        "- Para los mismos parámetros se devuelve el mismo valor\n",
        "-  Esto facilita muchísimo hacer testing\n",
        "\n",
        "\n",
        "Sin embargo, hay programas que requieren que una función pueda tener una cierta **memoria** sobre las acciones sobre los datos\n",
        "- Agenda telefónica: suponga que Ana tiene el numero 5551111\n",
        "```python\n",
        "telefonoAna = consultarTelefono(\"Ana\") # devuelve 5551111\n",
        "```\n",
        "\n",
        "- Ana cambia su número a 5551112\n",
        "```python\n",
        "telefonoAna = consultarTelefono(\"Ana\") # devuelve 5551112\n",
        "```\n",
        "\n",
        "\n"
      ]
    },
    {
      "cell_type": "markdown",
      "metadata": {
        "id": "izSJsywyuemi",
        "colab_type": "text"
      },
      "source": [
        "Disponer de memoria puede ser muy útil\n",
        "- Servicios al usuario para administrar información\n",
        "\n",
        "Pero, la programación es más compleja y requiere ser cuidadoso\n",
        "- Ya no es fácil hacer testing (no conocemos a priori la respuesta correcta)\n",
        "- Un cambio realizado a la memoria puede tener impacto en distintas partes del programa\n",
        "\n",
        "\n",
        "<mark>**Variables de estado**: variable que implementa memoria</mark>\n",
        "\n",
        "- En Python, una variable de estado se implementa como una variable **global**\n",
        "- Se puede acceder desde cualquier función y desde el programa principal\n",
        "- Su valor puede **mutar** (actualizarse)\n"
      ]
    },
    {
      "cell_type": "markdown",
      "metadata": {
        "id": "YTV1G596u58L",
        "colab_type": "text"
      },
      "source": [
        "Ambiente de una variable (*scope*): es la parte del código en donde una variable puede ser accesada\n",
        "  - **Variables locales**:\n",
        "    - Se definen dentro de una función\n",
        "    - Su scope es la función: una vez que termina la función, desaparece la variable\n",
        "\n",
        "- **Variables de estado** (o **globales**):\n",
        "  - Se definen a nivel de la línea de comando\n",
        "  - Su **scope** es el programa completo\n",
        "\n",
        "### Ejemplo: Definición y uso de variable de estado:\n"
      ]
    },
    {
      "cell_type": "code",
      "metadata": {
        "id": "lBlgBkJjsC8q",
        "colab_type": "code",
        "colab": {}
      },
      "source": [
        "# Variable de estado\n",
        "contador = 0\n",
        "    \n",
        "# procedimiento: None -> None\n",
        "# efecto: modifica variable contador incrementando su valor en 1\n",
        "def procedimiento():\n",
        "    global contador\n",
        "    contador = contador + 1\n",
        "    \n",
        "# Programa principal\n",
        "print str(contador)\n",
        "procedimiento()\n",
        "print str(contador)\n",
        "procedimiento()\n",
        "procedimiento()\n",
        "procedimiento()\n",
        "print str(contador)"
      ],
      "execution_count": 0,
      "outputs": []
    },
    {
      "cell_type": "markdown",
      "metadata": {
        "id": "OS1M1AEOwT4T",
        "colab_type": "text"
      },
      "source": [
        "### Ejemplo: Implementar una agenda telefónica con las siguientes operaciones"
      ]
    },
    {
      "cell_type": "markdown",
      "metadata": {
        "id": "sRMGDTnFxGf4",
        "colab_type": "text"
      },
      "source": [
        "\n",
        "```python\n",
        "# registro: nombre(str) numero(int)\n",
        "estructura.crear(\"registro\", \"nombre numero\")\n",
        "\n",
        "# buscar: str -> int\n",
        "# devuelve el numero de telefono asociado a nombre o -1 si nombre no esta\n",
        "\n",
        "# agregar: registro -> None\n",
        "# efecto: agrega registro a la agenda\n",
        "\n",
        "# borrar: int -> None\n",
        "# efecto: borra de la agenda el registro con el numero de telefono\n",
        "\n",
        "```\n"
      ]
    },
    {
      "cell_type": "markdown",
      "metadata": {
        "id": "mxjdsh7C7rGB",
        "colab_type": "text"
      },
      "source": [
        "Debemos decidir qué estructura utilizaremos como memoria para nuestra agenda\n",
        "  - Usaremos una **lista de registros**"
      ]
    },
    {
      "cell_type": "code",
      "metadata": {
        "id": "OVxQS5vIxY9l",
        "colab_type": "code",
        "colab": {}
      },
      "source": [
        "from lista import *\n",
        "\n",
        "# registro: nombre(str) numero(int)\n",
        "estructura.crear(\"registro\", \"nombre numero\")\n",
        "\n",
        "# Variable de estado\n",
        "contactos = listaVacia\n"
      ],
      "execution_count": 0,
      "outputs": []
    },
    {
      "cell_type": "code",
      "metadata": {
        "id": "g2xwWQJXxm5N",
        "colab_type": "code",
        "colab": {}
      },
      "source": [
        "# buscar: str -> int\n",
        "# devuelve el numero de telefono asociado a nombre o -1 si nombre no esta\n",
        "def buscar(nombre):\n",
        "    global contactos\n",
        "    return buscarRec(nombre, contactos)\n",
        "\n",
        "# buscarRec: str lista(registro) -> int\n",
        "# devuelve el numero de telefono de nombre o -1 si no esta en unaLista\n",
        "def buscarRec(nombre, unaLista):\n",
        "    if vacia(unaLista):\n",
        "        return -1\n",
        "    elif cabeza(unaLista).nombre == nombre:\n",
        "        return cabeza(unaLista).numero\n",
        "    else:\n",
        "        return buscarRec(nombre, cola(unaLista))"
      ],
      "execution_count": 0,
      "outputs": []
    },
    {
      "cell_type": "code",
      "metadata": {
        "id": "gCyP2xKuyajJ",
        "colab_type": "code",
        "colab": {}
      },
      "source": [
        "# agregar: registro -> None\n",
        "# efecto: agrega registro persona al principio de variable contactos\n",
        "def agregar(persona):\n",
        "\tglobal contactos\n",
        "\tcontactos = lista(persona, contactos)\n"
      ],
      "execution_count": 0,
      "outputs": []
    },
    {
      "cell_type": "markdown",
      "metadata": {
        "id": "ALGUlUP_1If8",
        "colab_type": "text"
      },
      "source": [
        "¿Cómo hacer testing?\n",
        "- Definir un estado conocido a la(s) variable(s) de estado\n",
        "- Invocar las funciones que se están probando y comprobar que, para el estado definido, devuelven la respuesta correcta y/o modifican la variable de estado en la forma esperada\n",
        "\n",
        "Testing para funciones buscar y agregar:"
      ]
    },
    {
      "cell_type": "code",
      "metadata": {
        "id": "Xw_85dG71Cf8",
        "colab_type": "code",
        "colab": {}
      },
      "source": [
        "# Variable de estado\n",
        "contactos = listaVacia\n",
        "\n",
        "# Test de todas las funciones, inicialmente contactos == listaVacia\n",
        "pedro = registro(\"Pedro\", 5553856)\n",
        "juan = registro(\"Juan\", 5552946)\n",
        "diego = registro(\"Diego\", 5553386)\n",
        "isabel = registro(\"Isabel\", 5550743)\n",
        "\n",
        "agregar(pedro)\n",
        "agregar(isabel)\n",
        "\n",
        "assert buscar(pedro.nombre) == pedro.numero\n",
        "assert buscar(isabel.nombre) == isabel.numero\n",
        "assert buscar(diego.nombre) == -1\n",
        "\n",
        "agregar(diego)\n",
        "agregar(juan)\n",
        "\n",
        "assert buscar(diego.nombre) == diego.numero\n",
        "\n"
      ],
      "execution_count": 0,
      "outputs": []
    },
    {
      "cell_type": "markdown",
      "metadata": {
        "id": "ymthwwF_2ZWt",
        "colab_type": "text"
      },
      "source": [
        "## Estructuras de datos mutables\n",
        "\n",
        "Las estructuras de datos (datos compuestos) que hemos usado hasta ahora **no son mutables**\n",
        "\n",
        "- Los valores de los campos de la estructura no se pueden modificar\n",
        "\n",
        "<mark>**Ahora veremos como definir estructuras mutables con el modulo estructura**</mark>\n"
      ]
    },
    {
      "cell_type": "code",
      "metadata": {
        "id": "xtoB87_Q3Dy7",
        "colab_type": "code",
        "colab": {}
      },
      "source": [
        "import estructura\n",
        "\n",
        "estructura.mutable(\"artista\", \"nombre instrumento\")\n",
        "\n",
        "p = artista(\"Michael Weikath\", \"guitar\")\n",
        "print p.instrumento # muestra \"guitar\"\n",
        "\n",
        "\n"
      ],
      "execution_count": 0,
      "outputs": []
    },
    {
      "cell_type": "code",
      "metadata": {
        "id": "TF-IVlfn6WdT",
        "colab_type": "code",
        "colab": {}
      },
      "source": [
        "p.instrumento = \"bass\"\n",
        "print p.instrumento # muestra \"bass\""
      ],
      "execution_count": 0,
      "outputs": []
    },
    {
      "cell_type": "markdown",
      "metadata": {
        "id": "8DTlyVvo3gOS",
        "colab_type": "text"
      },
      "source": [
        "### Un ejemplo no-trivial de mutación:\n"
      ]
    },
    {
      "cell_type": "code",
      "metadata": {
        "id": "JBYC5C8j3pxF",
        "colab_type": "code",
        "colab": {}
      },
      "source": [
        "from lista import *\n",
        "\n",
        "estructura.mutable(\"artista\", \"nombre instrumento\")\n",
        "\n",
        "q = lista(artista(\"Michael\", \"guitar\"), None)\n",
        "\n",
        "r = lista(q.valor, lista(q.valor.instrumento, None))\n",
        "\n",
        "q.valor.instrumento = \"vocals\"\n",
        "\n",
        "print r.valor.instrumento # muestra \"vocals\"\n",
        "\n",
        "\n"
      ],
      "execution_count": 0,
      "outputs": []
    },
    {
      "cell_type": "code",
      "metadata": {
        "id": "0RmQmw0N7zNQ",
        "colab_type": "code",
        "colab": {}
      },
      "source": [
        "print cabeza(cola(r)) # que muestra?"
      ],
      "execution_count": 0,
      "outputs": []
    },
    {
      "cell_type": "markdown",
      "metadata": {
        "id": "FTQjbSGX7_33",
        "colab_type": "text"
      },
      "source": [
        "## Aliasing\n",
        "\n",
        "A partir de ahora llamaremos **referencias** a los identificadores de datos compuestos\n",
        "- La referencia nos permite acceder a los atributos del dato compuesto\n",
        "- Intuitivamente: la referencia es una flecha que apunta al dato compuesto\n",
        "\n",
        "Uds. ya han estado trabajado con referencias, pero sobre estructuras no mutables\n",
        "\n",
        "Podemos tener dos referencias al mismo dato compuesto\n",
        "- La segunda referencia es un alias de la primera\n"
      ]
    },
    {
      "cell_type": "code",
      "metadata": {
        "id": "6T_-rPkK8YgA",
        "colab_type": "code",
        "colab": {}
      },
      "source": [
        "estructura.mutable(\"artista\", \"nombre instrumento\")\n",
        "unArtista = artista(\"Claudio Arrau\", \"piano\")\n",
        "otroArtista = unArtista # alias\n",
        "otroArtista.nombre = \"Violeta Parra\"\n",
        "print unArtista.nombre # que muestra?"
      ],
      "execution_count": 0,
      "outputs": []
    },
    {
      "cell_type": "markdown",
      "metadata": {
        "id": "gQ5ZakXJ8em6",
        "colab_type": "text"
      },
      "source": [
        "Muy útil, pero es fuente potencial de diversos errores"
      ]
    }
  ]
}