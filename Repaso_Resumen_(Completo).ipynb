{
  "nbformat": 4,
  "nbformat_minor": 0,
  "metadata": {
    "kernelspec": {
      "display_name": "Python 2",
      "language": "python",
      "name": "python2"
    },
    "language_info": {
      "codemirror_mode": {
        "name": "ipython",
        "version": 2
      },
      "file_extension": ".py",
      "mimetype": "text/x-python",
      "name": "python",
      "nbconvert_exporter": "python",
      "pygments_lexer": "ipython2",
      "version": "2.7.13"
    },
    "colab": {
      "name": "Repaso Resumen (Completo).ipynb",
      "version": "0.3.2",
      "provenance": [],
      "include_colab_link": true
    }
  },
  "cells": [
    {
      "cell_type": "markdown",
      "metadata": {
        "id": "view-in-github",
        "colab_type": "text"
      },
      "source": [
        "<a href=\"https://colab.research.google.com/github/bpoblete/CC1002_9/blob/master/Repaso_Resumen_(Completo).ipynb\" target=\"_parent\"><img src=\"https://colab.research.google.com/assets/colab-badge.svg\" alt=\"Open In Colab\"/></a>"
      ]
    },
    {
      "cell_type": "markdown",
      "metadata": {
        "id": "Qdn0D0v363Y4",
        "colab_type": "text"
      },
      "source": [
        "# Repaso/Resumen Control 1\n",
        "\n",
        "\n",
        "1. Instrucción de asignación\n",
        "2. Funciones y módulos\n",
        "3. Selección de instrucciones: instrucción if\n",
        "4. Repetición de instrucciones: recursión\n",
        "5. Recursión gráfica: tortuga\n",
        "6. Estudio de caso: números primos\n"
      ]
    },
    {
      "cell_type": "markdown",
      "metadata": {
        "id": "4gNQub6W63Y6",
        "colab_type": "text"
      },
      "source": [
        "## Instrucción de Asignación\n",
        "\n",
        "### Problema\n",
        "Calcular el área y perímetro de la figura\n",
        "\n",
        "![figura](https://drive.google.com/uc?export=download&id=1JXiivZ1wD5ymxWOUHi2pQxd8scf_OXwb)\n",
        "\n",
        "\n",
        "\n"
      ]
    },
    {
      "cell_type": "code",
      "metadata": {
        "id": "brkiJsgm63Y6",
        "colab_type": "code",
        "outputId": "dc011e15-a38e-4dc7-8d89-a4f4afa5032b",
        "colab": {}
      },
      "source": [
        "import math \n",
        "radio = 10\n",
        "pi = 3.14\n",
        "\n",
        "lado_cuadrado = (radio * 2)/math.sqrt(2)\n",
        "perimetro_circulo = 2*pi*radio\n",
        "perimetro_cuadrado = 4*lado_cuadrado\n",
        "perimetro_total = perimetro_circulo + perimetro_cuadrado\n",
        "\n",
        "area_cuadrado = lado_cuadrado**2\n",
        "area_circulo = pi*radio**2\n",
        "area_figura = area_circulo - area_cuadrado\n",
        "\n",
        "print \"perimetro figura: \",  perimetro_total\n",
        "\n",
        "print \"area figura: \",  area_figura"
      ],
      "execution_count": 0,
      "outputs": [
        {
          "output_type": "stream",
          "text": [
            "perimetro figura:  119.368542495\n",
            "area figura:  114.0\n"
          ],
          "name": "stdout"
        }
      ]
    },
    {
      "cell_type": "markdown",
      "metadata": {
        "id": "Gb22lxBS63Y_",
        "colab_type": "text"
      },
      "source": [
        "**es un programa lineal o secuencial, las instrucciones se ejecutan en orden de aparición**"
      ]
    },
    {
      "cell_type": "markdown",
      "metadata": {
        "id": "ZQD9iHjn63ZA",
        "colab_type": "text"
      },
      "source": [
        "## operador resto de división: %\n",
        "\n",
        "### Problema\n",
        "Invertir entero de 3 digitos\n"
      ]
    },
    {
      "cell_type": "code",
      "metadata": {
        "id": "h_C6SMIW63ZA",
        "colab_type": "code",
        "outputId": "f5f51e6a-12f7-4b33-fba4-21dd611f0f05",
        "colab": {}
      },
      "source": [
        "n=321\n",
        "\n",
        "d1=n/100\n",
        "d3=n%10\n",
        "d2=n%100/10 #d2=n/10%10\n",
        "\n",
        "inverso=100*d3+10*d2+d1\n",
        "\n",
        "inverso"
      ],
      "execution_count": 0,
      "outputs": [
        {
          "output_type": "execute_result",
          "data": {
            "text/plain": [
              "123"
            ]
          },
          "metadata": {
            "tags": []
          },
          "execution_count": 5
        }
      ]
    },
    {
      "cell_type": "code",
      "metadata": {
        "id": "QPIrBcu763ZD",
        "colab_type": "code",
        "outputId": "1b428518-ce29-4671-95a3-2b6fca265ce2",
        "colab": {}
      },
      "source": [
        "d1=n/100\n",
        "d1"
      ],
      "execution_count": 0,
      "outputs": [
        {
          "output_type": "execute_result",
          "data": {
            "text/plain": [
              "3"
            ]
          },
          "metadata": {
            "tags": []
          },
          "execution_count": 22
        }
      ]
    },
    {
      "cell_type": "code",
      "metadata": {
        "id": "NelTArEu63ZG",
        "colab_type": "code",
        "outputId": "4df8c3e2-7ead-4c5d-b7a8-a2a97af754a5",
        "colab": {}
      },
      "source": [
        "n/10"
      ],
      "execution_count": 0,
      "outputs": [
        {
          "output_type": "execute_result",
          "data": {
            "text/plain": [
              "32"
            ]
          },
          "metadata": {
            "tags": []
          },
          "execution_count": 23
        }
      ]
    },
    {
      "cell_type": "code",
      "metadata": {
        "id": "sSAiEFJ-63ZK",
        "colab_type": "code",
        "outputId": "4d6c5744-fd3a-477e-92c4-d5418a055439",
        "colab": {}
      },
      "source": [
        "d2 = (n/10)%10\n",
        "d2"
      ],
      "execution_count": 0,
      "outputs": [
        {
          "output_type": "execute_result",
          "data": {
            "text/plain": [
              "2"
            ]
          },
          "metadata": {
            "tags": []
          },
          "execution_count": 24
        }
      ]
    },
    {
      "cell_type": "code",
      "metadata": {
        "id": "36MN3jk-63ZM",
        "colab_type": "code",
        "outputId": "87cc44d5-5049-473f-f52d-063bc1b298e3",
        "colab": {}
      },
      "source": [
        "d3= n%10\n",
        "d3"
      ],
      "execution_count": 0,
      "outputs": [
        {
          "output_type": "execute_result",
          "data": {
            "text/plain": [
              "1"
            ]
          },
          "metadata": {
            "tags": []
          },
          "execution_count": 25
        }
      ]
    },
    {
      "cell_type": "code",
      "metadata": {
        "id": "-fJH6WWI63ZP",
        "colab_type": "code",
        "outputId": "c67dbd2f-6dd6-489a-ccff-33edffe36f10",
        "colab": {}
      },
      "source": [
        "100*d3+10*d2+d1"
      ],
      "execution_count": 0,
      "outputs": [
        {
          "output_type": "execute_result",
          "data": {
            "text/plain": [
              "123"
            ]
          },
          "metadata": {
            "tags": []
          },
          "execution_count": 26
        }
      ]
    },
    {
      "cell_type": "markdown",
      "metadata": {
        "id": "_iiiSxV163ZS",
        "colab_type": "text"
      },
      "source": [
        "## Problema\n",
        "Entregar billetes en un cajero automático"
      ]
    },
    {
      "cell_type": "code",
      "metadata": {
        "id": "w50e5ugD63ZT",
        "colab_type": "code",
        "outputId": "66935124-24a4-4968-90a0-f8faf9301eaa",
        "colab": {}
      },
      "source": [
        "#cajero automatico\n",
        "d=39000 #dinero que necesita\n",
        "\n",
        "b20=d/20000            #billetes de veinte \n",
        "d=d%20000\n",
        "\n",
        "print \"billetes de 20 mil: \",b20 \n",
        "\n",
        "b10=d/10000 #billetes de diez\n",
        "\n",
        "print \"billetes de 10 mil: \",b10 \n",
        "\n",
        "d=d%10000\n",
        "b5=d/5000   #billetes de cinco \n",
        "\n",
        "print \"billetes de 5 mil: \",b5 \n",
        "\n",
        "d=d%5000\n",
        "b2=d/2000    #billetes de dos \n",
        "\n",
        "print \"billetes de 2 mil: \",b2 \n",
        "\n",
        "d=d%2000\n",
        "b1=d/1000    #billetes de mil\n",
        "\n",
        "print \"billetes de mil: \",b1"
      ],
      "execution_count": 0,
      "outputs": [
        {
          "output_type": "stream",
          "text": [
            "billetes de 20 mil:  1\n",
            "billetes de 10 mil:  1\n",
            "billetes de 5 mil:  1\n",
            "billetes de 2 mil:  2\n",
            "billetes de mil:  0\n"
          ],
          "name": "stdout"
        }
      ]
    },
    {
      "cell_type": "markdown",
      "metadata": {
        "id": "bXYsungy63ZW",
        "colab_type": "text"
      },
      "source": [
        "## Funciones y módulos predefinidos"
      ]
    },
    {
      "cell_type": "code",
      "metadata": {
        "id": "Y8nPXIwW63ZX",
        "colab_type": "code",
        "outputId": "991020e4-c887-4424-ff0f-a7723811f28e",
        "colab": {}
      },
      "source": [
        "import math\n",
        "print \"triangulo:lados a,b,y angulo alfa\"\n",
        "\n",
        "#obtener datos\n",
        "a=input(\"a? \")\n",
        "b=input(\"b? \")\n",
        "alfa=input(\"alfa? \")*math.pi/180\n",
        "\n",
        "#calcular tercer lado\n",
        "c=math.sqrt(math.pow(a*math.sin(alfa),2) + math.pow(b-a*math.cos(alfa),2))\n",
        "\n",
        "#calcular y mostrar perimetro y area\n",
        "print \"Perimetro=\",a+b+c\n",
        "\n",
        "s=(a+b+c)/2 #semi-perimetro\n",
        "\n",
        "print \"Area=\",math.sqrt(s*(s-a)*(s-b)*(s-c))\n"
      ],
      "execution_count": 0,
      "outputs": [
        {
          "output_type": "stream",
          "text": [
            "triangulo:lados a,b,y angulo alfa\n",
            "a? 1\n",
            "b? 2\n",
            "alfa? 90\n",
            "Perimetro= 5.2360679775\n",
            "Area= 1.0\n"
          ],
          "name": "stdout"
        }
      ]
    },
    {
      "cell_type": "markdown",
      "metadata": {
        "id": "pB-a4rBn63Zd",
        "colab_type": "text"
      },
      "source": [
        "## Funciones definidas por el programador"
      ]
    },
    {
      "cell_type": "code",
      "metadata": {
        "id": "JURS0Kp963Ze",
        "colab_type": "code",
        "outputId": "90a8d365-6322-4151-f9cd-6f5867f98787",
        "colab": {}
      },
      "source": [
        "#aaaammdd: int -> int\n",
        "#convertir fecha ddmmaaaa a la forma aaaammdd\n",
        "#ej: aaaammdd(24092015)==20150924\n",
        "\n",
        "def aaaammdd(x):\n",
        "    dd=x/1000000\n",
        "    mm=x/10000%100\n",
        "    aaaa=x%10000\n",
        "    return aaaa*10000 + mm*100 + dd\n",
        "\n",
        "assert aaaammdd(24092015)==20150924\n",
        "\n",
        "#...\n",
        "def ddmmaaaa(x):\n",
        "    dd=x%100\n",
        "    mm=x%10000/100\n",
        "    aaaa=x/10000\n",
        "    return dd*1000000 + mm*10000 + aaaa\n",
        "\n",
        "assert ddmmaaaa(20150924)==24092015\n",
        "\n",
        "#seleccionar mayor entre dos fechas\n",
        "f1=input(\"fecha1(ddmmaaaa)?\")\n",
        "f2=input(\"fecha2(ddmmaaaa)?\") \n",
        "print \"mayor=\",ddmmaaaa(max(aaaammdd(f1),aaaammdd(f2)))\n"
      ],
      "execution_count": 0,
      "outputs": [
        {
          "output_type": "stream",
          "text": [
            "fecha1(ddmmaaaa)?22052018\n",
            "fecha2(ddmmaaaa)?21062017\n",
            "mayor= 22052018\n"
          ],
          "name": "stdout"
        }
      ]
    },
    {
      "cell_type": "markdown",
      "metadata": {
        "id": "gEoMOnPh63Zh",
        "colab_type": "text"
      },
      "source": [
        "\n",
        "## Expresiones y Funciones Condicionales (Capítulo 5 del Apunte)\n",
        "\n",
        "\n",
        "Existen expresiones que al evaluarlas retornan valores **`True`** (VERDADERO) o **`False`** (FALSO) estos valores son de tipo **`bool`** (booleanos).\n",
        "\n",
        "Ya las conocemos de las matemáticas en donde hablamos de _proposiciones verdaderas o falsas_. Para un par de números `x` e `y` sólo existen 3 opciones posibles:\n",
        "\n",
        "```python\n",
        "\n",
        "x == y # x es igual a y\n",
        "x < y  # x es menor a y\n",
        "x > y  # x es mayor a y\n",
        "\n",
        "```"
      ]
    },
    {
      "cell_type": "markdown",
      "metadata": {
        "id": "r6RTgo1i63Zi",
        "colab_type": "text"
      },
      "source": [
        "\n",
        "## Condiciones compuestas\n",
        "\n",
        "- `and`, `or`, `not`: conectores lógicos\n",
        "\n",
        "\n",
        "```python\n",
        "\n",
        "x == y  and y < z # ??\n",
        "x == y or y < z  # ??\n",
        "not x == y  # ???\n",
        "\n",
        "```"
      ]
    },
    {
      "cell_type": "markdown",
      "metadata": {
        "id": "JO8hxts-63Zi",
        "colab_type": "text"
      },
      "source": [
        "## Selección de instrucciones: Instrucción IF\n",
        "\n",
        "- **si** pregunta **entonces** respuesta\n",
        "- **sino** pregunta **entonces** respuesta\n",
        "- ...\n",
        "- **si no ocurre nada de lo anterior entonces** respuesta\n",
        "\n",
        "\n",
        "en python:\n",
        "\n",
        "```python\n",
        "if (pregunta):\n",
        "    respuesta\n",
        "elif(pregunta):\n",
        "    respuesta\n",
        "# (...) elif puede repetirse todas las veces que necesitemos\n",
        "else:\n",
        "    respuesta\n",
        "```\n",
        "\n",
        "**Las condiciones siempre se evalúan en ORDEN**"
      ]
    },
    {
      "cell_type": "code",
      "metadata": {
        "id": "FOceYX-x63Zj",
        "colab_type": "code",
        "outputId": "1bb77167-9085-4d7d-dc32-af7d0eb357de",
        "colab": {}
      },
      "source": [
        "import random\n",
        "\n",
        "n=random.randint(1,3) #nro. al azar entre 1 y 3\n",
        "\n",
        "if n==1:\n",
        "    print \"piedra\"\n",
        "elif n==2:\n",
        "    print \"papel\"\n",
        "else:\n",
        "    print \"tijeras\"\n"
      ],
      "execution_count": 0,
      "outputs": [
        {
          "output_type": "stream",
          "text": [
            "piedra\n"
          ],
          "name": "stdout"
        }
      ]
    },
    {
      "cell_type": "markdown",
      "metadata": {
        "id": "8S6RMO4Y63Zl",
        "colab_type": "text"
      },
      "source": [
        "### Problema:\n",
        "Resolver una equación del tipo axx+bx+c=0"
      ]
    },
    {
      "cell_type": "code",
      "metadata": {
        "id": "RnxpnYxu63Zm",
        "colab_type": "code",
        "outputId": "f500f97f-f08c-47e6-a796-cd1efdca5187",
        "colab": {}
      },
      "source": [
        "import math\n",
        "\n",
        "print \"resolver ecuación axx+bx+c=0\"\n",
        "\n",
        "a=input(\"a?\"); b=input(\"b?\"); c=input(\"c?\")\n",
        "\n",
        "print \"resultado:\", \n",
        "if a==0 and b==0:\n",
        "    print \"indefinido\"\n",
        "elif a==0:\n",
        "    print \"x=\",-c/b\n",
        "else:\n",
        "    d=b**2-4*a*c\n",
        "    if d==0:\n",
        "        print \"x=\",-b/(2*a)\n",
        "    elif d>0:\n",
        "        raiz=math.sqrt(d)\n",
        "        print \"x=\",(-b+raiz)/(2*a),(-b-raiz)/(2*a)\n",
        "    else:\n",
        "        print \"raices complejas\"\n"
      ],
      "execution_count": 0,
      "outputs": [
        {
          "output_type": "stream",
          "text": [
            "resolver ecuación axx+bx+c=0\n",
            "a?0\n",
            "b?0\n",
            "c?1\n",
            "resultado: indefinido\n"
          ],
          "name": "stdout"
        }
      ]
    },
    {
      "cell_type": "markdown",
      "metadata": {
        "id": "HdrFzhha63Zp",
        "colab_type": "text"
      },
      "source": [
        "### Problema:\n",
        "Decir cuántos días tiene un mes en un año específico"
      ]
    },
    {
      "cell_type": "code",
      "metadata": {
        "id": "5WEn7lpw63Zp",
        "colab_type": "code",
        "colab": {}
      },
      "source": [
        "#diasMes: int int -> int\n",
        "#dias del mes m del año a\n",
        "#ej: diasMes(9,2015)==30\n",
        "def diasMes(m,a):\n",
        "    \n",
        "    assert type(m)==int and 1<=m and m<=12\n",
        "    assert type(a)==int and a>=1\n",
        "  \n",
        "    if m==1 or m==3\\\n",
        "       or m==5 or m==7 \\\n",
        "       or m==8 or m==10 or m==12:\n",
        "        return 31\n",
        "    elif m==4 or m==6 or m==9 or m==11:\n",
        "        return 30\n",
        "    elif bisiesto(a):\n",
        "        return 29\n",
        "    else:\n",
        "        return 28\n",
        "\n",
        "assert diasMes(9,2015)==30\n",
        "\n",
        "def bisiesto(x):\n",
        "    return x%4==0 and x%100!=0 or x%400==0\n"
      ],
      "execution_count": 0,
      "outputs": []
    },
    {
      "cell_type": "code",
      "metadata": {
        "id": "Ggj5J6KZ63Zs",
        "colab_type": "code",
        "outputId": "1aaa3216-6101-46f2-906f-7b2c56fe3ad0",
        "colab": {}
      },
      "source": [
        "diasMes(5,2018)"
      ],
      "execution_count": 0,
      "outputs": [
        {
          "output_type": "execute_result",
          "data": {
            "text/plain": [
              "31"
            ]
          },
          "metadata": {
            "tags": []
          },
          "execution_count": 38
        }
      ]
    },
    {
      "cell_type": "markdown",
      "metadata": {
        "id": "NDXb9s4Y63Zu",
        "colab_type": "text"
      },
      "source": [
        "## Recursión (leer Capítulo 6)\n",
        "\n",
        "\n",
        "\n",
        "### Ejemplo de función recursiva: Potencia\n",
        "\n",
        "\n",
        " \\begin{align*}\n",
        "  2^4 &= 2 \\cdot 2^{4 - 1} \\\\\n",
        "  &= 2 \\cdot 2^{3} \\\\\n",
        "  &= 2 \\cdot (2 \\cdot 2^{2}) \\\\\n",
        "  &= 2 \\cdot (2 \\cdot (2 \\cdot 2^1)) \\\\\n",
        "  &= 2 \\cdot (2 \\cdot (2 \\cdot (2 \\cdot 2^0))) \\\\\n",
        "  &= 2 \\cdot (2 \\cdot (2 \\cdot (2 \\cdot 1))) \\\\\n",
        "  &= 16\n",
        "  \\end{align*}\n",
        "  \n",
        "  \n",
        "\n",
        "\n",
        "\\begin{equation*}\n",
        "a^b=  \n",
        "\\begin{cases}\n",
        "    1       & \\quad \\text{si } b=0\\\\\n",
        "    a\\cdot a^{b-1}  & \\quad \\text{si } b>0\\\\\n",
        "\\end{cases}\n",
        "\\end{equation*}\n",
        "  "
      ]
    },
    {
      "cell_type": "code",
      "metadata": {
        "id": "HINMLUmZ63Zv",
        "colab_type": "code",
        "colab": {}
      },
      "source": [
        "# potencia: num int -> num\n",
        "# calcula el valor de una potencia de base elevado a exponente\n",
        "# para exponentes enteros positivos\n",
        "# ejemplo: potencia (4,5) debe dar 1024\n",
        "def potencia(base, exponente):\n",
        "    if exponente == 0:\n",
        "        return 1\n",
        "    else:\n",
        "        return base*(potencia(base, exponente-1))\n",
        "\n",
        "# test\n",
        "assert potencia(4,5) == 1024\n",
        "assert potencia(2,4) == 16\n",
        "assert potencia(-1,5) == -1\n",
        "assert potencia(3,0) == 1\n",
        "\n"
      ],
      "execution_count": 0,
      "outputs": []
    },
    {
      "cell_type": "markdown",
      "metadata": {
        "id": "wp17CucG63Zx",
        "colab_type": "text"
      },
      "source": [
        "### Factorial?"
      ]
    },
    {
      "cell_type": "code",
      "metadata": {
        "id": "PE759vNi63Zz",
        "colab_type": "code",
        "colab": {}
      },
      "source": [
        "def factorial(x):\n",
        "    if x==0: \n",
        "        return 1 #caso base\n",
        "    else:\n",
        "        return x*factorial(x-1) #recursión\n",
        "\n"
      ],
      "execution_count": 0,
      "outputs": []
    },
    {
      "cell_type": "markdown",
      "metadata": {
        "id": "tt0oGzUD63Z4",
        "colab_type": "text"
      },
      "source": [
        "### Problema:\n",
        "Calcular el número de dígitos que tiene un numero"
      ]
    },
    {
      "cell_type": "code",
      "metadata": {
        "id": "_I9-Ze5x63Z5",
        "colab_type": "code",
        "colab": {}
      },
      "source": [
        "def digitos(x):\n",
        "\n",
        "    if abs(x)<10: \n",
        "        return 1\n",
        "    return 1 + digitos(x/10)\n"
      ],
      "execution_count": 0,
      "outputs": []
    },
    {
      "cell_type": "code",
      "metadata": {
        "id": "LXenLlQC63Z8",
        "colab_type": "code",
        "colab": {}
      },
      "source": [
        "def misterio():\n",
        "    n=input(\"numero?\")\n",
        "    if n==0: \n",
        "        return #vuelve a inst sgte a última llamada\n",
        "    misterio()\n",
        "    print n\n"
      ],
      "execution_count": 0,
      "outputs": []
    },
    {
      "cell_type": "code",
      "metadata": {
        "id": "m8HCPn2Q63Z-",
        "colab_type": "code",
        "outputId": "a9c96cac-e589-4da8-a06a-689555ac8aba",
        "colab": {}
      },
      "source": [
        "misterio()"
      ],
      "execution_count": 0,
      "outputs": [
        {
          "output_type": "stream",
          "text": [
            "numero?6\n",
            "numero?3\n",
            "numero?5\n",
            "numero?0\n",
            "5\n",
            "3\n",
            "6\n"
          ],
          "name": "stdout"
        }
      ]
    }
  ]
}