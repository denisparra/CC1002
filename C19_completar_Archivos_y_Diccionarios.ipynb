{
  "nbformat": 4,
  "nbformat_minor": 0,
  "metadata": {
    "kernelspec": {
      "display_name": "Python 2",
      "language": "python",
      "name": "python2"
    },
    "language_info": {
      "codemirror_mode": {
        "name": "ipython",
        "version": 2
      },
      "file_extension": ".py",
      "mimetype": "text/x-python",
      "name": "python",
      "nbconvert_exporter": "python",
      "pygments_lexer": "ipython2",
      "version": "2.7.13"
    },
    "colab": {
      "name": "C19 - completar - Archivos y Diccionarios.ipynb",
      "provenance": [],
      "collapsed_sections": [],
      "include_colab_link": true
    }
  },
  "cells": [
    {
      "cell_type": "markdown",
      "metadata": {
        "id": "view-in-github",
        "colab_type": "text"
      },
      "source": [
        "<a href=\"https://colab.research.google.com/github/bpoblete/CC1002_9/blob/master/C19_completar_Archivos_y_Diccionarios.ipynb\" target=\"_parent\"><img src=\"https://colab.research.google.com/assets/colab-badge.svg\" alt=\"Open In Colab\"/></a>"
      ]
    },
    {
      "cell_type": "markdown",
      "metadata": {
        "id": "pf6kz4-UWQCI",
        "colab_type": "text"
      },
      "source": [
        "# Clase 19: lectura/escritura archivos y Diccionarios\n",
        "\n",
        "\n",
        "## Lectura/Escritura de Archivos\n",
        "\n",
        "![tipos de memoria](https://drive.google.com/uc?export=view&id=18EzczX0AEtFunOgommoFmZOOc_uIH3-U)"
      ]
    },
    {
      "cell_type": "markdown",
      "metadata": {
        "id": "Eq9vLv0FWQCK",
        "colab_type": "text"
      },
      "source": [
        "### Problema\n",
        "\n",
        "Leer líneas que terminan con la palabra \"fin\" y grabarlas en un archivo en disco de nombre \"lineas.txt\"."
      ]
    },
    {
      "cell_type": "code",
      "metadata": {
        "id": "DzPypAS1WQCL",
        "colab_type": "code",
        "colab": {}
      },
      "source": [
        "#grabar lineas en archivo\n",
        "\n",
        "#abrir (preparar) archivo para escribir(grabar)\n",
        "A=open(\"lineas.txt\",\"w\")\n",
        "\n",
        "#leer lineas hasta “fin”\n",
        "while True:\n",
        "    linea=raw_input(\"palabra(o fin)?\")\n",
        "    if linea==\"fin\": break\n",
        "\n",
        "    #grabar linea en archivo\n",
        "    A.write(linea+\"\\n\")\n",
        "\n",
        "#cerrar archivo\n",
        "A.close()\n"
      ],
      "execution_count": 0,
      "outputs": []
    },
    {
      "cell_type": "markdown",
      "metadata": {
        "id": "GFAI5G4_WQCR",
        "colab_type": "text"
      },
      "source": [
        "```python\n",
        "A=open(\"lineas.txt\",\"w\")\n",
        "```\n",
        "\n",
        "- **`A`**: variable (objeto) en memoria que representa al archivo (y contiene sus principales características: ubicación, tamaño, cursor, etc)\n",
        "- **`\"lineas.txt\"`**: nombre externo del archivo (en el disco). \n",
        "- El sufijo **`.txt`** se usa para archivos que contienen texto (caracteres).\n",
        "- Función open \"abre\" (prepara, inicializa) archivo para escritura (**`\"w\"`**)\n",
        "- si archivo no existe, se crea, y si ya existe, se regraba\n",
        "- ubica el cursor del archivo al comienzo del espacio asignado (para grabación de información)\n"
      ]
    },
    {
      "cell_type": "markdown",
      "metadata": {
        "id": "d35efs7gWQCS",
        "colab_type": "text"
      },
      "source": [
        "```python\n",
        "A.write(linea+\"\\n\")\n",
        "```\n",
        "\n",
        "escribe (graba) una línea en el archivo\n",
        "\n",
        "- graba caracteres del string linea\n",
        "- graba una marca de fin de línea  (carácter especial newline o **`\\n`**)\n",
        "- ubica cursor después de newline\n",
        "\n",
        "**Ejemplo:**\n",
        "\n",
        "```python\n",
        "A.write(\"hola\\n\")\n",
        "```\n",
        "\n",
        "escribe en el archivo en disco:\n",
        "\n",
        "``` python\n",
        "hola\\n\n",
        "      ^ (cursor de archivo)\n",
        "\n",
        "```"
      ]
    },
    {
      "cell_type": "markdown",
      "metadata": {
        "id": "Wwy1RqDSWQCT",
        "colab_type": "text"
      },
      "source": [
        "```python\n",
        "A.close()\n",
        "```\n",
        "\n",
        "- \"cierra\" el archivo\n",
        "- graba marca de fin de archivo (eof)\n",
        "- libera recursos (memoria) asociada al objeto **`A`**\n",
        "- archivo no se puede volver usar, salvo después de otro open\n",
        "\n",
        "**Ejemplo:**\n",
        "\n",
        "```python\n",
        "A.write(\"chao\\n\")\n",
        "A.close();\n",
        "```\n",
        "```\n",
        "hola\\nchao\\n█\n",
        "```\n",
        "\n",
        "█ : marca de fin de archivo \n"
      ]
    },
    {
      "cell_type": "markdown",
      "metadata": {
        "id": "bTe0SrZhWQCT",
        "colab_type": "text"
      },
      "source": [
        "```python\n",
        "A=open(\"lineas.txt\",\"r\")\n",
        "```\n",
        "\n",
        "- **`A`**: objeto que representa al archivo\n",
        "- **`\"abre\"`** (prepara, inicializa) archivo para lectura (**`\"r\"`**)\n",
        "- si archivo no existe, aborta\n",
        "- si existe, ubica el cursor al comienzo del archivo\n",
        "- si el 2° argumento es **`\"r\"`** se puede omitir\n",
        "\n",
        "```python\n",
        "A.close()\n",
        "```\n",
        "- \"cierra\" el archivo\n",
        "- si se omite, se cierra al terminar programa\n",
        "\n",
        "```python\n",
        "for linea in A\n",
        "```\n",
        "\n",
        "- lee todas las líneas del archivo\n",
        "- en cada iteración, se lee una línea del archivo\n",
        "- y se asigna a la variable (incluyendo newline)\n",
        "\n"
      ]
    },
    {
      "cell_type": "code",
      "metadata": {
        "id": "KdaJzrvvWQCU",
        "colab_type": "code",
        "colab": {}
      },
      "source": [
        "A=open(\"lineas.txt\",\"r\")\n",
        "for linea in A:\n",
        "    print linea\n",
        "A.close()"
      ],
      "execution_count": 0,
      "outputs": []
    },
    {
      "cell_type": "markdown",
      "metadata": {
        "id": "XdwSWFEKWQCX",
        "colab_type": "text"
      },
      "source": [
        "**Nota:** cómo borro el `'\\n'` del final del string? (hint `strip`)"
      ]
    },
    {
      "cell_type": "code",
      "metadata": {
        "id": "vamtjsl9WQCY",
        "colab_type": "code",
        "colab": {}
      },
      "source": [
        ""
      ],
      "execution_count": 0,
      "outputs": []
    },
    {
      "cell_type": "markdown",
      "metadata": {
        "id": "2HwjDXIeWQCa",
        "colab_type": "text"
      },
      "source": [
        "### Problema\n",
        "Copiar un archivo en otro, obteniendo del usuario los nombres de los archivos\n",
        "\n",
        "**Ejemplo:**\n",
        "```\n",
        "input? lineas.txt\n",
        "output? lineas1.txt\n",
        "```\n"
      ]
    },
    {
      "cell_type": "code",
      "metadata": {
        "id": "tT9yLfUSWQCb",
        "colab_type": "code",
        "colab": {}
      },
      "source": [
        "#abrir archivos de entrada y salida\n",
        "arch1= raw_input(\"input? \")\n",
        "arch2= raw_input(\"output? \")\n",
        "\n",
        "A=open(arch1,\"r\")\n",
        "B=open(arch2,\"w\")\n",
        "\n",
        "#copiar todas las líneas del archivo\n",
        "for linea in A:\n",
        "    B.write(linea)\n",
        "\n",
        "#cerrar archivos\n",
        "A.close()\n",
        "B.close()\n"
      ],
      "execution_count": 0,
      "outputs": []
    },
    {
      "cell_type": "markdown",
      "metadata": {
        "id": "us1pBNuYWQCd",
        "colab_type": "text"
      },
      "source": [
        "### Problema\n",
        "mostrar las líneas de un archivo que contengan un string\n",
        "\n",
        "**Ejemplo de uso:**\n",
        "\n",
        "```\n",
        "String a buscar? Jose\n",
        "Archivo? nombres.txt\n",
        "\n",
        "Jose Manuel\n",
        "Maria Jose\n",
        "Josefina\n",
        "```"
      ]
    },
    {
      "cell_type": "code",
      "metadata": {
        "id": "HelaG7-LWQCe",
        "colab_type": "code",
        "colab": {}
      },
      "source": [
        "#mostrar lineas que contienen un string determinado\n",
        "\n",
        "#obtener strings y abrir archivo\n",
        "s=raw_input(\"string a buscar? \")\n",
        "A=open(raw_input(\"archivo? \"),\"r\")\n",
        "#leer todas las líneas del archivo\n",
        "for linea in A:\n",
        "    #mostrar lineas con string\n",
        "    if s.lower() in linea.lower(): #linea.find(s)>=0\n",
        "        print linea[0:len(linea)-1]\n",
        "#cerrar archivo\n",
        "A.close()\n"
      ],
      "execution_count": 0,
      "outputs": []
    },
    {
      "cell_type": "markdown",
      "metadata": {
        "id": "UKcNdBcEWQCg",
        "colab_type": "text"
      },
      "source": [
        "### Problema 1 (resolver en clases) \n",
        "Contar las líneas y los caracteres de un archivo\n",
        "```\n",
        "Nombre de archivo?...\n",
        "nº líneas\n",
        "nº caracteres\n",
        "```"
      ]
    },
    {
      "cell_type": "code",
      "metadata": {
        "id": "wXfHi4WfWQCh",
        "colab_type": "code",
        "colab": {}
      },
      "source": [
        "\n",
        "\n",
        "\n",
        "\n",
        "\n",
        "\n",
        "\n",
        "\n",
        "\n",
        "\n",
        "\n"
      ],
      "execution_count": 0,
      "outputs": []
    },
    {
      "cell_type": "markdown",
      "metadata": {
        "id": "V7OcTY7UWQCk",
        "colab_type": "text"
      },
      "source": [
        "### Problema 2 (resolver en clases) \n",
        "Leer un archivo y guardar sus lineas ordenadas en otro archivo\n",
        "```\n",
        "Nombre de archivo?...\n",
        "Nombre archivo de salida?...\n",
        "```"
      ]
    },
    {
      "cell_type": "code",
      "metadata": {
        "id": "70JQ_hgFWQCl",
        "colab_type": "code",
        "colab": {}
      },
      "source": [
        "\n",
        "\n",
        "\n",
        "\n",
        "\n",
        "\n",
        "\n",
        "\n"
      ],
      "execution_count": 0,
      "outputs": []
    },
    {
      "cell_type": "markdown",
      "metadata": {
        "id": "Zx7LO1i_WQCn",
        "colab_type": "text"
      },
      "source": [
        "# Diccionarios Python\n",
        "\n",
        "Los diccionarios son una estructura indexada mutable, al igual que los arreglos. Sin embargo no están idexados por números, sino que por \"llaves\" (strings)"
      ]
    },
    {
      "cell_type": "code",
      "metadata": {
        "id": "3t5ebYyuWQCo",
        "colab_type": "code",
        "colab": {}
      },
      "source": [
        ">>> diccionario = {} # diccionario vacio\n",
        ">>> diccionario"
      ],
      "execution_count": 0,
      "outputs": []
    },
    {
      "cell_type": "code",
      "metadata": {
        "id": "0XXIVu18WQCq",
        "colab_type": "code",
        "colab": {}
      },
      "source": [
        ">>> diccionario2 = dict() # otro diccionario vacio\n",
        ">>> diccionario2"
      ],
      "execution_count": 0,
      "outputs": []
    },
    {
      "cell_type": "code",
      "metadata": {
        "id": "gznO7go4WQCs",
        "colab_type": "code",
        "colab": {}
      },
      "source": [
        ">>> D={\"c\":1,\"a\":2,\"d\":4} #secuencia de items llave:valor\n",
        ">>> 'c' in D    #pertenencia"
      ],
      "execution_count": 0,
      "outputs": []
    },
    {
      "cell_type": "code",
      "metadata": {
        "id": "9HSF_NEQWQCu",
        "colab_type": "code",
        "colab": {}
      },
      "source": [
        ">>> D['c']      #buscar"
      ],
      "execution_count": 0,
      "outputs": []
    },
    {
      "cell_type": "code",
      "metadata": {
        "id": "Y3LdS540WQC0",
        "colab_type": "code",
        "colab": {}
      },
      "source": [
        ">>> D['b']=3    #agregar\n",
        ">>> D # muestra en orden arbitrario"
      ],
      "execution_count": 0,
      "outputs": []
    },
    {
      "cell_type": "code",
      "metadata": {
        "id": "D1xU-nYAWQC3",
        "colab_type": "code",
        "colab": {}
      },
      "source": [
        ">>> del D['c']  #borrar\n",
        ">>> D"
      ],
      "execution_count": 0,
      "outputs": []
    },
    {
      "cell_type": "code",
      "metadata": {
        "id": "JQIyNr7LWQC6",
        "colab_type": "code",
        "colab": {}
      },
      "source": [
        ">>> D['a']=5    #cambiar\n",
        ">>> D"
      ],
      "execution_count": 0,
      "outputs": []
    },
    {
      "cell_type": "code",
      "metadata": {
        "id": "wvKbACtXWQC9",
        "colab_type": "code",
        "colab": {}
      },
      "source": [
        ">>> for llave in D: \n",
        "    print D[llave] #recorrido: 5 3 4"
      ],
      "execution_count": 0,
      "outputs": []
    },
    {
      "cell_type": "code",
      "metadata": {
        "id": "vhbAYywCWQDB",
        "colab_type": "code",
        "colab": {}
      },
      "source": [
        ">>> D.keys()"
      ],
      "execution_count": 0,
      "outputs": []
    },
    {
      "cell_type": "code",
      "metadata": {
        "id": "GkkWa5sOWQDE",
        "colab_type": "code",
        "colab": {}
      },
      "source": [
        ">>> valores = D.values()\n",
        ">>> valores"
      ],
      "execution_count": 0,
      "outputs": []
    },
    {
      "cell_type": "code",
      "metadata": {
        "id": "5zPwL64mWQDK",
        "colab_type": "code",
        "colab": {}
      },
      "source": [
        ">>> valores.sort()\n",
        ">>> valores"
      ],
      "execution_count": 0,
      "outputs": []
    },
    {
      "cell_type": "markdown",
      "metadata": {
        "id": "3Or5GJxXWQDO",
        "colab_type": "text"
      },
      "source": [
        "## Agenda con diccionario de Python\n",
        "\n",
        "```python\n",
        "agenda={\"Andres\":22234646,\"Maria\":98723456,\"David\":43335555}\n",
        "```\n"
      ]
    },
    {
      "cell_type": "code",
      "metadata": {
        "id": "rVP0P_CWWQDP",
        "colab_type": "code",
        "colab": {}
      },
      "source": [
        "#agenda: dict (nombre:fono)\n",
        "agenda={\"Andres\":22234646,\"Maria\":98723456,\"David\":43335555}\n",
        "\n",
        "#buscar: str dict -> int (o None si no esta)\n",
        "#buscar nombre en agenda y devolver fono\n",
        "#ej: buscar(\"c\",agenda)->1\n",
        "def buscar(nombre,agenda):\n",
        "    assert type(agenda)==dict and type(nombre)==str\n",
        "    if nombre in agenda:\n",
        "        return agenda[nombre]\n",
        "    else:\n",
        "        return None \n",
        "assert buscar(\"Andres\",agenda)==22234646\n",
        "\n"
      ],
      "execution_count": 0,
      "outputs": []
    },
    {
      "cell_type": "markdown",
      "metadata": {
        "id": "uyppUjsgWQDS",
        "colab_type": "text"
      },
      "source": [
        "## Ejercicio 11\n",
        "\n",
        "**Entrega hasta antes de la próxima clase**\n",
        "\n",
        "Escribir funciones para agregar, borrar y cambiar numero"
      ]
    }
  ]
}