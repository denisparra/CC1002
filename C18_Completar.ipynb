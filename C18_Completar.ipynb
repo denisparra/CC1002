{
  "nbformat": 4,
  "nbformat_minor": 0,
  "metadata": {
    "kernelspec": {
      "display_name": "Python 2",
      "language": "python",
      "name": "python2"
    },
    "language_info": {
      "codemirror_mode": {
        "name": "ipython",
        "version": 2
      },
      "file_extension": ".py",
      "mimetype": "text/x-python",
      "name": "python",
      "nbconvert_exporter": "python",
      "pygments_lexer": "ipython2",
      "version": "2.7.13"
    },
    "colab": {
      "name": "C19 Completar.ipynb",
      "provenance": [],
      "collapsed_sections": [],
      "include_colab_link": true
    }
  },
  "cells": [
    {
      "cell_type": "markdown",
      "metadata": {
        "id": "view-in-github",
        "colab_type": "text"
      },
      "source": [
        "<a href=\"https://colab.research.google.com/github/bpoblete/CC1002_9/blob/master/C18_Completar.ipynb\" target=\"_parent\"><img src=\"https://colab.research.google.com/assets/colab-badge.svg\" alt=\"Open In Colab\"/></a>"
      ]
    },
    {
      "cell_type": "markdown",
      "metadata": {
        "id": "gI11V-Oh0I3R",
        "colab_type": "text"
      },
      "source": [
        "# Clase 19: Estructuras Indexadas (parte II)\n",
        "\n",
        "\n",
        "\n",
        "\n",
        "\n"
      ]
    },
    {
      "cell_type": "markdown",
      "metadata": {
        "collapsed": true,
        "id": "qqo0eiMF0I3S",
        "colab_type": "text"
      },
      "source": [
        "## Estructuras Indexadas\n",
        "\n",
        "### listas de python\n",
        "\n",
        "![](arreglo.png)\n",
        "\n",
        "Las listas de Python son estructuras mutables definidas en el lenguaje\n",
        "Python que, al igual que los arreglos, indexan los elementos que se insertan\n",
        "en ella.  Los índices son números enteros correlativos y parten en cero.\n",
        "Las siguientes instrucciones sirven para crear una lista vacía:"
      ]
    },
    {
      "cell_type": "markdown",
      "metadata": {
        "id": "fRAUzLkh0I3T",
        "colab_type": "text"
      },
      "source": [
        "### Crear lista vacía"
      ]
    },
    {
      "cell_type": "code",
      "metadata": {
        "id": "xcIfg6hb0I3U",
        "colab_type": "code",
        "colab": {}
      },
      "source": [
        "unaLista = list() # lista vacia\n",
        "otraLista = [] # lista vacia\n",
        "unaLista"
      ],
      "execution_count": 0,
      "outputs": []
    },
    {
      "cell_type": "markdown",
      "metadata": {
        "id": "PMdBj0Vc0I3Z",
        "colab_type": "text"
      },
      "source": [
        "### Crear lista con valores\n",
        "\n",
        "También se pueden crear listas con valores ya insertados, como se muestra \n",
        "en el ejemplo siguiente.  Recuerde que las listas de Python permiten\n",
        "insertar datos de cualquier tipo en sus casilleros:"
      ]
    },
    {
      "cell_type": "code",
      "metadata": {
        "id": "hF0P-_-a0I3Z",
        "colab_type": "code",
        "colab": {}
      },
      "source": [
        "ListaNumeros = [1, 2, 3, 4, 5] # lista de int\n",
        "ListaStrings = ['casa', 'arbol', 'planta', 'auto'] # lista de str\n",
        "ListaDeTodo = ['a', 17, True, 9.5] # lista con datos de distinto tipo"
      ],
      "execution_count": 0,
      "outputs": []
    },
    {
      "cell_type": "markdown",
      "metadata": {
        "id": "8nRBU_4e0I3d",
        "colab_type": "text"
      },
      "source": [
        "### Las listas tienen sus valores \"indexados\""
      ]
    },
    {
      "cell_type": "code",
      "metadata": {
        "id": "G4W1Iux30I3e",
        "colab_type": "code",
        "colab": {}
      },
      "source": [
        "ListaDeTodo[2]"
      ],
      "execution_count": 0,
      "outputs": []
    },
    {
      "cell_type": "code",
      "metadata": {
        "id": "JcZL7ajc0I3g",
        "colab_type": "code",
        "colab": {}
      },
      "source": [
        "ListaNumeros[0]"
      ],
      "execution_count": 0,
      "outputs": []
    },
    {
      "cell_type": "markdown",
      "metadata": {
        "id": "ev60GhO40I3i",
        "colab_type": "text"
      },
      "source": [
        "### Las listas son \"mutables\""
      ]
    },
    {
      "cell_type": "code",
      "metadata": {
        "id": "1cyk6ra10I3j",
        "colab_type": "code",
        "colab": {}
      },
      "source": [
        "ListaDeTodo[2]= False\n",
        "ListaDeTodo"
      ],
      "execution_count": 0,
      "outputs": []
    },
    {
      "cell_type": "markdown",
      "metadata": {
        "id": "GCn5XBqO0I3l",
        "colab_type": "text"
      },
      "source": [
        "### Concatenar listas\n",
        "\n",
        "Dos listas se pueden **concatenar con el operador '+'**, o se puede **repetir\n",
        "varias veces el contenido de una lista multiplicándola por un escalar**:"
      ]
    },
    {
      "cell_type": "code",
      "metadata": {
        "id": "4Jaq5mJ50I3m",
        "colab_type": "code",
        "colab": {}
      },
      "source": [
        "lista1 = [10, 20]\n",
        "lista2 = [50, 60]\n",
        "lista2 + lista1  "
      ],
      "execution_count": 0,
      "outputs": []
    },
    {
      "cell_type": "code",
      "metadata": {
        "id": "ELOpYRsd0I3o",
        "colab_type": "code",
        "colab": {}
      },
      "source": [
        "lista1 + [30]"
      ],
      "execution_count": 0,
      "outputs": []
    },
    {
      "cell_type": "markdown",
      "metadata": {
        "id": "-Y91JZpi0I3q",
        "colab_type": "text"
      },
      "source": [
        "### Repetir (y concatenar) listas"
      ]
    },
    {
      "cell_type": "code",
      "metadata": {
        "id": "zhbyszVC0I3r",
        "colab_type": "code",
        "colab": {}
      },
      "source": [
        "lista1 * 3"
      ],
      "execution_count": 0,
      "outputs": []
    },
    {
      "cell_type": "markdown",
      "metadata": {
        "id": "Ss0S0mTl0I3t",
        "colab_type": "text"
      },
      "source": [
        "### Comparar listas\n",
        "\n",
        "Va comparando de izquierda a derecha los valores de los mismo índices en cada lista (uno a uno). El primer índice en que los valores no son iguales es el que decide el resultado de la expresión. En el ejemplo:\n",
        "\n",
        "\n"
      ]
    },
    {
      "cell_type": "code",
      "metadata": {
        "id": "WDeYGQYe0I3u",
        "colab_type": "code",
        "colab": {}
      },
      "source": [
        "L=[2,3,10]\n",
        "L>[2,4,6] #compara elemento a elemento\n",
        "# False porque 3<4"
      ],
      "execution_count": 0,
      "outputs": []
    },
    {
      "cell_type": "markdown",
      "metadata": {
        "id": "qHFgMzi20I3z",
        "colab_type": "text"
      },
      "source": [
        "### Largo de una lista\n",
        "\n",
        "Para conocer el largo de una lista (esto es, cuántos valores contiene), se \n",
        "utiliza la función **`len`** de Python:\n",
        "\n",
        "\n"
      ]
    },
    {
      "cell_type": "code",
      "metadata": {
        "id": "IObOFQIX0I32",
        "colab_type": "code",
        "colab": {}
      },
      "source": [
        "lista = ['ana', 'maria', 'luisa', 'teresa']\n",
        "len(lista)"
      ],
      "execution_count": 0,
      "outputs": []
    },
    {
      "cell_type": "code",
      "metadata": {
        "id": "vvO-hZ_M0I34",
        "colab_type": "code",
        "colab": {}
      },
      "source": [
        "lista[len(lista)-2]"
      ],
      "execution_count": 0,
      "outputs": []
    },
    {
      "cell_type": "markdown",
      "metadata": {
        "id": "hM092rfc0I36",
        "colab_type": "text"
      },
      "source": [
        "### Ver si un elemento pertenece a una lista o no"
      ]
    },
    {
      "cell_type": "code",
      "metadata": {
        "id": "Mwh-llHr0I36",
        "colab_type": "code",
        "colab": {}
      },
      "source": [
        "'maria' in lista"
      ],
      "execution_count": 0,
      "outputs": []
    },
    {
      "cell_type": "code",
      "metadata": {
        "id": "lw_qZ7dr0I39",
        "colab_type": "code",
        "colab": {}
      },
      "source": [
        "7 in lista"
      ],
      "execution_count": 0,
      "outputs": []
    },
    {
      "cell_type": "markdown",
      "metadata": {
        "id": "9DU9-B2Q0I3_",
        "colab_type": "text"
      },
      "source": [
        "### Alias de una lista es igual a usar la lista misma"
      ]
    },
    {
      "cell_type": "code",
      "metadata": {
        "id": "5AHRz6iA0I3_",
        "colab_type": "code",
        "colab": {}
      },
      "source": [
        "L=[20,30,10]"
      ],
      "execution_count": 0,
      "outputs": []
    },
    {
      "cell_type": "code",
      "metadata": {
        "id": "JoMLhN5m0I4B",
        "colab_type": "code",
        "colab": {}
      },
      "source": [
        "M=L #M es un alias de L\n",
        "M"
      ],
      "execution_count": 0,
      "outputs": []
    },
    {
      "cell_type": "code",
      "metadata": {
        "id": "KoTdDFfJ0I4E",
        "colab_type": "code",
        "colab": {}
      },
      "source": [
        "M[0]=200\n",
        "M"
      ],
      "execution_count": 0,
      "outputs": []
    },
    {
      "cell_type": "code",
      "metadata": {
        "id": "k6B1xeyV0I4J",
        "colab_type": "code",
        "colab": {}
      },
      "source": [
        "L"
      ],
      "execution_count": 0,
      "outputs": []
    },
    {
      "cell_type": "markdown",
      "metadata": {
        "id": "pNQSeOIZ0I4M",
        "colab_type": "text"
      },
      "source": [
        "### Acceder a un rango de la lista\n",
        "Para acceder a un rango de la lista se usa la notación **`[i:j]`**"
      ]
    },
    {
      "cell_type": "code",
      "metadata": {
        "id": "ESYpLG5Z0I4N",
        "colab_type": "code",
        "colab": {}
      },
      "source": [
        "cuadrados = [0, 1, 4, 9, 16, 25, 36, 49, 64, 81, 100]\n",
        "# alternativamente: cuadrados = [x**2 for x in range(0,11)] \n",
        "cuadrados[3:6] # solo mostrar indices 3, 4 y 5"
      ],
      "execution_count": 0,
      "outputs": []
    },
    {
      "cell_type": "markdown",
      "metadata": {
        "id": "Qj8WQaLV0I4O",
        "colab_type": "text"
      },
      "source": [
        "### Una lista puede contener otras listas"
      ]
    },
    {
      "cell_type": "code",
      "metadata": {
        "id": "QEtyzm1Q0I4P",
        "colab_type": "code",
        "colab": {}
      },
      "source": [
        "matriz = [[10, 20, 30], [40, 50, 60], [70, 80, 90]] \n",
        "matriz[1][1]"
      ],
      "execution_count": 0,
      "outputs": []
    },
    {
      "cell_type": "markdown",
      "metadata": {
        "id": "TqY_1Ctd0I4R",
        "colab_type": "text"
      },
      "source": [
        "## Funciones predefinidas\n",
        "\n",
        "### Ejemplos:"
      ]
    },
    {
      "cell_type": "code",
      "metadata": {
        "id": "AN95ThAR0I4R",
        "colab_type": "code",
        "colab": {}
      },
      "source": [
        "L = [8,9,7,9]\n",
        "sum(L) # Suma los elementos"
      ],
      "execution_count": 0,
      "outputs": []
    },
    {
      "cell_type": "code",
      "metadata": {
        "id": "np5RktLN0I4T",
        "colab_type": "code",
        "colab": {}
      },
      "source": [
        "L.index(9) # retorna primer indice de 9"
      ],
      "execution_count": 0,
      "outputs": []
    },
    {
      "cell_type": "code",
      "metadata": {
        "id": "8SwilwPh0I4W",
        "colab_type": "code",
        "colab": {}
      },
      "source": [
        "L.append(6) # agrega un 6 al final\n",
        "L"
      ],
      "execution_count": 0,
      "outputs": []
    },
    {
      "cell_type": "code",
      "metadata": {
        "id": "fWE8vxQU0I4Y",
        "colab_type": "code",
        "colab": {}
      },
      "source": [
        "L.extend([10]) # agrega un 10 al final\n",
        "L"
      ],
      "execution_count": 0,
      "outputs": []
    },
    {
      "cell_type": "code",
      "metadata": {
        "id": "YrAxLEhF0I4a",
        "colab_type": "code",
        "colab": {}
      },
      "source": [
        "L.pop(1) # saca el valor en la posición 1"
      ],
      "execution_count": 0,
      "outputs": []
    },
    {
      "cell_type": "code",
      "metadata": {
        "id": "Rf0HqYNg0I4c",
        "colab_type": "code",
        "colab": {}
      },
      "source": [
        "L"
      ],
      "execution_count": 0,
      "outputs": []
    },
    {
      "cell_type": "code",
      "metadata": {
        "id": "ys9ox2S20I4h",
        "colab_type": "code",
        "colab": {}
      },
      "source": [
        "L.remove(9)\n",
        "L"
      ],
      "execution_count": 0,
      "outputs": []
    },
    {
      "cell_type": "code",
      "metadata": {
        "id": "f_kjMi4r0I4m",
        "colab_type": "code",
        "colab": {}
      },
      "source": [
        "L.reverse()\n",
        "L"
      ],
      "execution_count": 0,
      "outputs": []
    },
    {
      "cell_type": "code",
      "metadata": {
        "id": "fbnZGKUE0I4o",
        "colab_type": "code",
        "colab": {}
      },
      "source": [
        "L.sort()\n",
        "L"
      ],
      "execution_count": 0,
      "outputs": []
    },
    {
      "cell_type": "markdown",
      "metadata": {
        "id": "JW3q37Nc0I4q",
        "colab_type": "text"
      },
      "source": [
        "# Instrucción 'for'\n",
        "\n",
        "\n",
        "La instrucción **`for`** de Python permite iterar sobre una estructura indexada. \n",
        "\n",
        "**Sintaxis:**\n",
        "\n",
        "```python\n",
        "for variable in lista:\n",
        "  # bloque de instrucciones\n",
        "```\n",
        "\n",
        "donde **`variable`** es una variable y **`lista`**\n",
        "\n",
        "**Semántica:**\n",
        "\n",
        "La variable toma consecutivamente todos los valores de la lista. \n",
        "Para cada valor ejecuta las instrucciones\n",
        "\n",
        "\n",
        "es el identificador de la estructura sobre la cual se va a iterar.  En cada \n",
        "iteración del ciclo, se le asignará a la variable un valor almacenado en la \n",
        "estructura indexada (por ejemplo, los valores almacenados en una lista), \n",
        "que se indica después de la instrucción **`in`**.  Por ejemplo:\n",
        "\n"
      ]
    },
    {
      "cell_type": "code",
      "metadata": {
        "id": "v01a3j_L0I4r",
        "colab_type": "code",
        "colab": {}
      },
      "source": [
        "lista = [10, 20, 30, 40, 50,60,70]\n",
        "for valor in lista:\n",
        "        print valor"
      ],
      "execution_count": 0,
      "outputs": []
    },
    {
      "cell_type": "code",
      "metadata": {
        "id": "Lz58W8570I4w",
        "colab_type": "code",
        "colab": {}
      },
      "source": [
        "#copia: list -> list\n",
        "def copia(L):\n",
        "    assert type(L)==list\n",
        "    M=[]\n",
        "    for valor in L:\n",
        "        M.append(valor)\n",
        "    return M\n",
        "\n",
        "assert copia([8,9,7,9])==[8,9,7,9]\n",
        "\n"
      ],
      "execution_count": 0,
      "outputs": []
    },
    {
      "cell_type": "code",
      "metadata": {
        "id": "PQpiMbiB0I4z",
        "colab_type": "code",
        "colab": {}
      },
      "source": [
        "#suma: list(int) -> int\n",
        "def suma(L):\n",
        "\n",
        "\n",
        "\n",
        "\n",
        "\n",
        "\n",
        "assert suma([8,9,7,9])==33\n",
        "\n"
      ],
      "execution_count": 0,
      "outputs": []
    },
    {
      "cell_type": "markdown",
      "metadata": {
        "id": "9Bn9gxTi0I43",
        "colab_type": "text"
      },
      "source": [
        "## Solución Ejercicio 9:\n",
        "\n",
        "Ejercicio: Escribir usando listas de python **`buscar(nombre, agenda)`** entregando fono  \n",
        "\n",
        "```python\n",
        "estructura.mutable(\"registro\",\"nombre fono\")\n",
        "#agenda: list(registro)\n",
        "agenda=[registro(\"a\",2),registro(\"c\",1),registro(\"d\",4)]\n",
        "```"
      ]
    },
    {
      "cell_type": "code",
      "metadata": {
        "id": "8z4DGX3qIL31",
        "colab_type": "code",
        "colab": {}
      },
      "source": [
        "# sera visto en clases"
      ],
      "execution_count": 0,
      "outputs": []
    },
    {
      "cell_type": "markdown",
      "metadata": {
        "id": "gJ02L1iP0I47",
        "colab_type": "text"
      },
      "source": [
        "### Función predefinida: range (rango)\n",
        "\n",
        "Una función útil predefinida de Python es la función **`range`**, que\n",
        "retorna una lista de Python **`list`** que contiene una progresión\n",
        "aritmética de enteros.  Esta función provee tres contratos distintos:\n",
        "\n",
        "```python\n",
        "range(stop): int -> list(int)\n",
        "range(start, stop): int int -> list(int)\n",
        "range(start, stop, step): int int int -> list(int)\n",
        "\n",
        "```\n",
        "\n",
        "Uso habitual:\n",
        "\n",
        "```python\n",
        "for i in range(n): instrucciones\n",
        "```\n",
        "en cada iteración, **`i`** toma un valor de la lista **`[0,1,…,n-1]`**\n",
        "\n",
        "forma general: range(inicial,final,incremento)"
      ]
    },
    {
      "cell_type": "code",
      "metadata": {
        "scrolled": true,
        "id": "p0uxr08r0I47",
        "colab_type": "code",
        "colab": {}
      },
      "source": [
        "range(1,10,2)"
      ],
      "execution_count": 0,
      "outputs": []
    },
    {
      "cell_type": "markdown",
      "metadata": {
        "id": "0P5JgMiD0I4-",
        "colab_type": "text"
      },
      "source": [
        "\n",
        "si se omiten: inicial=0,incremento=1"
      ]
    },
    {
      "cell_type": "code",
      "metadata": {
        "id": "ywII1o3D0I4-",
        "colab_type": "code",
        "colab": {}
      },
      "source": [
        "range(3)"
      ],
      "execution_count": 0,
      "outputs": []
    },
    {
      "cell_type": "code",
      "metadata": {
        "id": "3j-pQNWd0I5E",
        "colab_type": "code",
        "colab": {}
      },
      "source": [
        "range(0,3,1)"
      ],
      "execution_count": 0,
      "outputs": []
    },
    {
      "cell_type": "code",
      "metadata": {
        "id": "F646rCEZ0I5H",
        "colab_type": "code",
        "colab": {}
      },
      "source": [
        "range(1,5)"
      ],
      "execution_count": 0,
      "outputs": []
    },
    {
      "cell_type": "markdown",
      "metadata": {
        "id": "Kq1MMoxz0I5M",
        "colab_type": "text"
      },
      "source": [
        "¿incremento<0? \n"
      ]
    },
    {
      "cell_type": "code",
      "metadata": {
        "id": "AreNud-70I5O",
        "colab_type": "code",
        "colab": {}
      },
      "source": [
        "range(3,0,-1)"
      ],
      "execution_count": 0,
      "outputs": []
    },
    {
      "cell_type": "code",
      "metadata": {
        "id": "YjAkRefc0I5U",
        "colab_type": "code",
        "colab": {}
      },
      "source": [
        "#indice: any list -> int\n",
        "#indice de 1ª aparición de x en L\n",
        "#-1 si no esta\n",
        "#ej: indice(9,[8,9,7,9])->1\n",
        "def indice(x,L):\n",
        "    assert type(L)==list\n",
        "\n",
        "\n",
        "\n",
        "\n",
        "\n",
        "assert indice(9,[8,9,7,9])==1\n",
        "\n",
        "assert indice(6,[8,9,7,9])==-1\n"
      ],
      "execution_count": 0,
      "outputs": []
    },
    {
      "cell_type": "markdown",
      "metadata": {
        "id": "IgAL2roq0I5Y",
        "colab_type": "text"
      },
      "source": [
        "**Forma general**\n",
        "\n",
        "```python\n",
        "#range: int int int -> list (int)\n",
        "#lista [inicial, inicial+incremento, …]\n",
        "#ej: range(3,0,-1) -> [3,2,1]\n",
        "def range(inicial=0,final,incremento=1):\n",
        "   #propuesto\n",
        "```"
      ]
    },
    {
      "cell_type": "code",
      "metadata": {
        "id": "Rp-3lSeo0I5Z",
        "colab_type": "code",
        "colab": {}
      },
      "source": [
        "# lista con cuadrados\n",
        "cuadrados = [x**2 for x in range(0,11)]\n",
        "cuadrados"
      ],
      "execution_count": 0,
      "outputs": []
    },
    {
      "cell_type": "code",
      "metadata": {
        "id": "3K_6iccQ0I5b",
        "colab_type": "code",
        "colab": {}
      },
      "source": [
        "cuadrados[3:6] # mostrar solo indices 3,4,5"
      ],
      "execution_count": 0,
      "outputs": []
    },
    {
      "cell_type": "markdown",
      "metadata": {
        "id": "WCeQt1xU0I5d",
        "colab_type": "text"
      },
      "source": [
        "# Instrucción 'while'\n",
        "\n",
        "Esta instrucción es más general que la instrucción **`for`** y permite iterar sobre un bloque de instrucciónes, su sintaxis es:\n",
        "\n",
        "```python\n",
        "while condicion: # condición es de tipo boolean\n",
        "    # bloque de instrucciones\n",
        "    \n",
        "```\n",
        "\n",
        "las instrucciones del ciclo **`while`** se ejecutarán mientras **`condición`** sea igual a **`True`**."
      ]
    },
    {
      "cell_type": "code",
      "metadata": {
        "id": "TPGKeDaC0I5f",
        "colab_type": "code",
        "colab": {}
      },
      "source": [
        "lista = [10,20,30,40,50]\n",
        "indice = 0\n",
        "while indice < len(lista):\n",
        "    print lista[indice]\n",
        "    indice = indice +1"
      ],
      "execution_count": 0,
      "outputs": []
    },
    {
      "cell_type": "code",
      "metadata": {
        "id": "ckaGwBL30I5j",
        "colab_type": "code",
        "colab": {}
      },
      "source": [
        "#suma: list(int) -> int\n",
        "def suma(L):\n",
        "    assert type(L)==list\n",
        "    suma = 0\n",
        "    indice = 0\n",
        "    while ...\n",
        "\n",
        "\n",
        "\n",
        "\n",
        "\n",
        "assert suma([8,9,7,9])==33\n",
        "\n"
      ],
      "execution_count": 0,
      "outputs": []
    },
    {
      "cell_type": "markdown",
      "metadata": {
        "id": "p8WOsuhy0I5k",
        "colab_type": "text"
      },
      "source": [
        "### Strings son listas inmutables\n",
        "\n",
        "Los strings operan como una estructura indexada de caracteres. Es decir, una lista de caracteres inmutable:"
      ]
    },
    {
      "cell_type": "code",
      "metadata": {
        "id": "sDGRoUX30I5l",
        "colab_type": "code",
        "colab": {}
      },
      "source": [
        "palabra = \"algoritmo\"\n",
        "palabra[2]"
      ],
      "execution_count": 0,
      "outputs": []
    },
    {
      "cell_type": "code",
      "metadata": {
        "id": "L0b9Ic3P0I5o",
        "colab_type": "code",
        "colab": {}
      },
      "source": [
        "otrapalabra = \"ALGORITMO\"\n",
        "palabra+otrapalabra"
      ],
      "execution_count": 0,
      "outputs": []
    },
    {
      "cell_type": "code",
      "metadata": {
        "id": "pHOri8w90I5q",
        "colab_type": "code",
        "colab": {}
      },
      "source": [
        "len(palabra)"
      ],
      "execution_count": 0,
      "outputs": []
    },
    {
      "cell_type": "code",
      "metadata": {
        "id": "N4LLBSn90I5u",
        "colab_type": "code",
        "colab": {}
      },
      "source": [
        "palabra < otrapalabra"
      ],
      "execution_count": 0,
      "outputs": []
    },
    {
      "cell_type": "code",
      "metadata": {
        "id": "lSAkYxXL0I5v",
        "colab_type": "code",
        "colab": {}
      },
      "source": [
        "'a'<'A'"
      ],
      "execution_count": 0,
      "outputs": []
    },
    {
      "cell_type": "code",
      "metadata": {
        "id": "RMc8KfJs0I5x",
        "colab_type": "code",
        "colab": {}
      },
      "source": [
        "palabra[2:len(palabra)]"
      ],
      "execution_count": 0,
      "outputs": []
    },
    {
      "cell_type": "code",
      "metadata": {
        "id": "T6yDRukX0I5z",
        "colab_type": "code",
        "colab": {}
      },
      "source": [
        "'a' in palabra"
      ],
      "execution_count": 0,
      "outputs": []
    },
    {
      "cell_type": "code",
      "metadata": {
        "id": "hAM3GsGN0I50",
        "colab_type": "code",
        "colab": {}
      },
      "source": [
        "palabra = \"algoritmo\"\n",
        "for caracter in palabra:\n",
        "    print caracter"
      ],
      "execution_count": 0,
      "outputs": []
    },
    {
      "cell_type": "code",
      "metadata": {
        "id": "A0FyXI_40I51",
        "colab_type": "code",
        "colab": {}
      },
      "source": [
        "def inverso(x):\n",
        "    s = ''\n",
        "    for .... in range\n",
        "\n",
        "\n",
        "\n",
        "assert inverso(\"roma\")==\"amor\""
      ],
      "execution_count": 0,
      "outputs": []
    },
    {
      "cell_type": "code",
      "metadata": {
        "id": "OhFkkNa90I53",
        "colab_type": "code",
        "colab": {}
      },
      "source": [
        "inverso('hola')"
      ],
      "execution_count": 0,
      "outputs": []
    },
    {
      "cell_type": "code",
      "metadata": {
        "id": "RBKXwabH0I54",
        "colab_type": "code",
        "colab": {}
      },
      "source": [
        "def inverso(x):\n",
        "    s =''\n",
        "    for c in x: \n",
        "      s=c+s \n",
        "    return s\n",
        "\n",
        "assert inverso(\"roma\")==\"amor\"\n"
      ],
      "execution_count": 0,
      "outputs": []
    },
    {
      "cell_type": "code",
      "metadata": {
        "id": "s54IPGWc0I55",
        "colab_type": "code",
        "colab": {}
      },
      "source": [
        "def capicua(x): \n",
        "    return x==inverso(x)\n",
        "assert capicua(\"reconocer\")\n"
      ],
      "execution_count": 0,
      "outputs": []
    },
    {
      "cell_type": "markdown",
      "metadata": {
        "id": "CEO3Z9BU0I56",
        "colab_type": "text"
      },
      "source": [
        "## otras funciones de python para strings"
      ]
    },
    {
      "cell_type": "code",
      "metadata": {
        "id": "0uG2ZPQd0I57",
        "colab_type": "code",
        "colab": {}
      },
      "source": [
        "x = \"operaciones de strings en python\""
      ],
      "execution_count": 0,
      "outputs": []
    },
    {
      "cell_type": "code",
      "metadata": {
        "id": "ufDc_qaN0I58",
        "colab_type": "code",
        "colab": {}
      },
      "source": [
        "x.find(\"s\")"
      ],
      "execution_count": 0,
      "outputs": []
    },
    {
      "cell_type": "code",
      "metadata": {
        "id": "wwjHuL920I5-",
        "colab_type": "code",
        "colab": {}
      },
      "source": [
        "x.count(\"s\")"
      ],
      "execution_count": 0,
      "outputs": []
    },
    {
      "cell_type": "code",
      "metadata": {
        "id": "eucmq3Ga0I6A",
        "colab_type": "code",
        "colab": {}
      },
      "source": [
        "x.isalpha()"
      ],
      "execution_count": 0,
      "outputs": []
    },
    {
      "cell_type": "code",
      "metadata": {
        "id": "Haf6X8oU0I6B",
        "colab_type": "code",
        "colab": {}
      },
      "source": [
        "x.islower()"
      ],
      "execution_count": 0,
      "outputs": []
    },
    {
      "cell_type": "code",
      "metadata": {
        "id": "aqfCyaBB0I6E",
        "colab_type": "code",
        "colab": {}
      },
      "source": [
        "x.isupper()"
      ],
      "execution_count": 0,
      "outputs": []
    },
    {
      "cell_type": "code",
      "metadata": {
        "id": "Mlu71LKi0I6H",
        "colab_type": "code",
        "colab": {}
      },
      "source": [
        "x.upper()"
      ],
      "execution_count": 0,
      "outputs": []
    },
    {
      "cell_type": "code",
      "metadata": {
        "id": "vXuwp9yl0I6I",
        "colab_type": "code",
        "colab": {}
      },
      "source": [
        "x.lower()"
      ],
      "execution_count": 0,
      "outputs": []
    },
    {
      "cell_type": "code",
      "metadata": {
        "id": "Aj3edFTy0I6J",
        "colab_type": "code",
        "colab": {}
      },
      "source": [
        "y = \" \" + x + \" \"\n",
        "y"
      ],
      "execution_count": 0,
      "outputs": []
    },
    {
      "cell_type": "code",
      "metadata": {
        "id": "Ddz_aHKX0I6L",
        "colab_type": "code",
        "colab": {}
      },
      "source": [
        "y.strip()"
      ],
      "execution_count": 0,
      "outputs": []
    },
    {
      "cell_type": "code",
      "metadata": {
        "id": "y6DEbkhT0I6N",
        "colab_type": "code",
        "colab": {}
      },
      "source": [
        "x.replace(\"o\",\"s\")"
      ],
      "execution_count": 0,
      "outputs": []
    },
    {
      "cell_type": "markdown",
      "metadata": {
        "id": "ToyVd-Yy0I6Q",
        "colab_type": "text"
      },
      "source": [
        "### ¿Cómo ver si una frase es capicúa?"
      ]
    },
    {
      "cell_type": "code",
      "metadata": {
        "id": "Lr8F5VX20I6Q",
        "colab_type": "code",
        "colab": {}
      },
      "source": [
        "def fraseCapicua(frase):\n",
        "    frase=frase.replace(\" \", \"\") #eliminar espacios\n",
        "    frase=frase.lower()  #todo a minusculas\n",
        "    return capicua(frase)\n",
        "assert fraseCapicua(\"Anita lava la tina\")\n"
      ],
      "execution_count": 0,
      "outputs": []
    },
    {
      "cell_type": "markdown",
      "metadata": {
        "id": "xWwpgsKa0I6T",
        "colab_type": "text"
      },
      "source": [
        "## Lista de listas (lista de 2 dimensiones o tabla o matriz)\n",
        "\n"
      ]
    },
    {
      "cell_type": "code",
      "metadata": {
        "id": "3pmVEEUA0I6T",
        "colab_type": "code",
        "colab": {}
      },
      "source": [
        "\n",
        "T=[[\"gabriela\",\"jose\",\"rosa\",\"matias\"],\\\n",
        "   [62,48,56,49],\\\n",
        "   [45,52,35,48]]\n",
        "#promedios por pregunta (por filas)\n",
        "for i in range(1,len(T)):\n",
        "    print \"promedio pregunta\",i,float(sum(T[i]))/len(T[i])\n",
        "\n",
        "#promedios por alumno (por columnas)\n",
        "for j in range(len(T[0])):\n",
        "    s=0.0\n",
        "    for i in range(1,len(T)):\n",
        "        s+=T[i][j]\n",
        "    print \"promedio: \",T[0][j],s/(len(T)-1)\n"
      ],
      "execution_count": 0,
      "outputs": []
    },
    {
      "cell_type": "markdown",
      "metadata": {
        "id": "WDUOXDYq0I6V",
        "colab_type": "text"
      },
      "source": [
        "## Ejercicio 10 (entregar vía u-cursos antes de la auxiliar del viernes)\n",
        "\n",
        "Hacer un programa que calcule los promedios por pregunta y por alumno para \n",
        "\n",
        "```python\n",
        "T=[[\"gabriela\",62,45],\\\n",
        "   [\"jose\",48,52],\\\n",
        "   [\"rosa\",56,35],\\\n",
        "   [\"matias\",49,48]]\n",
        "```\n",
        "\n",
        "Suponga muchos alumnos y muchas notas\n"
      ]
    },
    {
      "cell_type": "code",
      "metadata": {
        "colab_type": "code",
        "outputId": "c657c123-29cb-4c44-8069-cf5b7093b951",
        "id": "8nmtcGJZMsHQ",
        "colab": {
          "base_uri": "https://localhost:8080/",
          "height": 302
        }
      },
      "source": [
        ""
      ],
      "execution_count": 0,
      "outputs": [
        {
          "output_type": "stream",
          "text": [
            "promedios por pregunta\n",
            "Promedio pregunta 1 : 53.75\n",
            "Promedio pregunta 2 : 45.0\n",
            "\n",
            "Promedios por alumno\n",
            "Alumno: gabriela\n",
            "Promedio: 53.5\n",
            "\n",
            "Alumno: jose\n",
            "Promedio: 50.0\n",
            "\n",
            "Alumno: rosa\n",
            "Promedio: 45.5\n",
            "\n",
            "Alumno: matias\n",
            "Promedio: 48.5\n",
            "\n"
          ],
          "name": "stdout"
        }
      ]
    }
  ]
}