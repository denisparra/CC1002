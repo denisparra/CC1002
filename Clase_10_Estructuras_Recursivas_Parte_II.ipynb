{
  "nbformat": 4,
  "nbformat_minor": 0,
  "metadata": {
    "kernelspec": {
      "display_name": "Python 2",
      "language": "python",
      "name": "python2"
    },
    "language_info": {
      "codemirror_mode": {
        "name": "ipython",
        "version": 2
      },
      "file_extension": ".py",
      "mimetype": "text/x-python",
      "name": "python",
      "nbconvert_exporter": "python",
      "pygments_lexer": "ipython2",
      "version": "2.7.13"
    },
    "colab": {
      "name": "Clase 10 - Estructuras Recursivas Parte II.ipynb",
      "version": "0.3.2",
      "provenance": [],
      "collapsed_sections": [],
      "include_colab_link": true
    }
  },
  "cells": [
    {
      "cell_type": "markdown",
      "metadata": {
        "id": "view-in-github",
        "colab_type": "text"
      },
      "source": [
        "<a href=\"https://colab.research.google.com/github/bpoblete/CC1002_9/blob/master/Clase_10_Estructuras_Recursivas_Parte_II.ipynb\" target=\"_parent\"><img src=\"https://colab.research.google.com/assets/colab-badge.svg\" alt=\"Open In Colab\"/></a>"
      ]
    },
    {
      "cell_type": "markdown",
      "metadata": {
        "id": "kmUWTwXXbPg5",
        "colab_type": "text"
      },
      "source": [
        "# Clase 10: Estructuras de Datos Recursivas II (Cap. 9)\n",
        "\n",
        "## Mini-repaso:\n",
        "\n",
        "- Las estructuras nos permiten representar información compuesta.\n",
        "\n",
        "- Sin embargo, en muchos otros casos, no sabemos cuántas cosas queremos enumerar, y entonces formamos una **lista**.\n",
        "\n",
        "- Una lista puede tener un largo arbitrario (no sabemos de antemano cuántos elementos puede tener).\n",
        "\n",
        "\n",
        "\n",
        "### Listas\n",
        "\n",
        "Para manejar listas ocuparemos el módulo `lista.py` (en material docente)\n",
        "\n",
        "```python\n",
        "from lista import *\n",
        "```\n",
        "\n",
        "La definición de una lista es **recursiva**:\n",
        "\n",
        "  1. una lista puede ser **vacía**: no contiene ningún elemento (**`listaVacia`**).  \n",
        "  2. una lista puede estar compuesta por elementos que contienen un **valor** y un enlace al resto de la lista.\n",
        "\n",
        "\n",
        "Esto permite crear una lista larga concatenando listas, lo podemos entender como ir armando una cadena con dos campos en su estructura: \n",
        "\n",
        "  1. **`valor`** \n",
        "  2. la lista **`siguiente`**.  \n",
        "  \n",
        "El campo **valor** puede ser de cualquier tipo (básico o compuesto), mientras que el campo **siguiente** es precisamente una lista\n",
        "\n",
        "La definición de la estructura para listas está incluida en el módulo `lista.py`."
      ]
    },
    {
      "cell_type": "code",
      "metadata": {
        "id": "yZEWw3YHbPg6",
        "colab_type": "code",
        "colab": {}
      },
      "source": [
        "from lista import *"
      ],
      "execution_count": 0,
      "outputs": []
    },
    {
      "cell_type": "code",
      "metadata": {
        "id": "b3_FK-2RbPg-",
        "colab_type": "code",
        "colab": {}
      },
      "source": [
        "L = crearLista(4, None)"
      ],
      "execution_count": 0,
      "outputs": []
    },
    {
      "cell_type": "code",
      "metadata": {
        "id": "4hEGfBm3fTfg",
        "colab_type": "code",
        "colab": {}
      },
      "source": [
        "L"
      ],
      "execution_count": 0,
      "outputs": []
    },
    {
      "cell_type": "code",
      "metadata": {
        "id": "t4xrArARbPhB",
        "colab_type": "code",
        "colab": {}
      },
      "source": [
        "L.valor"
      ],
      "execution_count": 0,
      "outputs": []
    },
    {
      "cell_type": "code",
      "metadata": {
        "id": "BSv_cAu2bPhE",
        "colab_type": "code",
        "colab": {}
      },
      "source": [
        "L.siguiente"
      ],
      "execution_count": 0,
      "outputs": []
    },
    {
      "cell_type": "markdown",
      "metadata": {
        "id": "fEhuh-CNbPhU",
        "colab_type": "text"
      },
      "source": [
        "\n",
        "\n",
        "### Ejemplo: \n",
        "\n",
        "Supongamos que queremos formar una lista con los planetas del\n",
        "sistema solar.  Primero comenzamos con un eslabón de la lista que sólo\n",
        "contiene a Mercurio: \n",
        "\n"
      ]
    },
    {
      "cell_type": "code",
      "metadata": {
        "id": "euIT5QhSbPhc",
        "colab_type": "code",
        "colab": {}
      },
      "source": [
        "crearLista(\"Tierra\", crearLista(\"Venus\", crearLista(\"Mercurio\", listaVacia)))"
      ],
      "execution_count": 0,
      "outputs": []
    },
    {
      "cell_type": "markdown",
      "metadata": {
        "id": "f8Rsh4AFbPhf",
        "colab_type": "text"
      },
      "source": [
        "\n",
        "\n",
        "En toda lista distinguimos dos elementos: \n",
        "\n",
        "1. **cabeza**: valor que está al frente de la lista (primer valor disponible)\n",
        "2. **cola**: todo lo que va encadenado a la cabeza\n",
        "\n",
        "En nuestro último ejemplo, la\n",
        "**cabeza** de la lista es el string `\"Tierra\"`, mientras que la\n",
        "**cola** es la lista formada por el eslabón `(Venus, (Mercurio,\n",
        "(listaVacia)))`.\n",
        "\n",
        "\n"
      ]
    },
    {
      "cell_type": "code",
      "metadata": {
        "id": "3GeWQCtbbPhf",
        "colab_type": "code",
        "colab": {}
      },
      "source": [
        "L = crearLista(\"Tierra\", crearLista(\"Venus\",crearLista(\"Mercurio\", listaVacia)))"
      ],
      "execution_count": 0,
      "outputs": []
    },
    {
      "cell_type": "code",
      "metadata": {
        "id": "yxkU2P5YfsMw",
        "colab_type": "code",
        "colab": {}
      },
      "source": [
        "cabeza(L)"
      ],
      "execution_count": 0,
      "outputs": []
    },
    {
      "cell_type": "code",
      "metadata": {
        "id": "6N2HI804bPhi",
        "colab_type": "code",
        "colab": {}
      },
      "source": [
        "cola(L)"
      ],
      "execution_count": 0,
      "outputs": []
    },
    {
      "cell_type": "markdown",
      "metadata": {
        "id": "MGb0snGBbPh2",
        "colab_type": "text"
      },
      "source": [
        "***\n",
        "\n",
        "### Ejercicio 5\n",
        "Hacer una función llamada `suma()` que reciba una lista de números y sume todos sus valores (debe funcionar con listas de cualquier tamaño).\n",
        "\n",
        "***"
      ]
    },
    {
      "cell_type": "code",
      "metadata": {
        "id": "NiqiwURHbPh3",
        "colab_type": "code",
        "colab": {}
      },
      "source": [
        "# suma: lista(int) -> num\n",
        "# suma los numeros en unaLista\n",
        "# suma(crearLista(2, crearLista(1, crearLista(0, listaVacia))))\n",
        "# devuelve 3\n",
        "# suma(crearLista(0, crearLista(1, crearLista(0, listaVacia)))) # devuelve 1\n",
        "def suma(unaLista):\n",
        "    if(vacia(unaLista)):\n",
        "        return 0\n",
        "    else:\n",
        "        return cabeza(unaLista) + suma(cola(unaLista))\n",
        "    \n",
        "assert suma(lista(2, lista(1, lista(0, None))))==3\n",
        "    \n",
        "    "
      ],
      "execution_count": 0,
      "outputs": []
    },
    {
      "cell_type": "markdown",
      "metadata": {
        "id": "gSo6yMbrbPh6",
        "colab_type": "text"
      },
      "source": [
        "***"
      ]
    },
    {
      "cell_type": "markdown",
      "metadata": {
        "id": "YkXCT0gcbPiG",
        "colab_type": "text"
      },
      "source": [
        "### Procesar una lista de largo arbitrario\n",
        "\n",
        "Supongamos que tenemos una lista que contiene el inventario de una tienda:\n",
        "```python\n",
        "crearLista(\"soldadito\",crearLista(\"pelota\",crearLista(\"oso\",listaVacia))\n",
        "```\n",
        "\n",
        "Hacemos una función que entrega `True` si es que hay pelotas en un inventario (lista) y `False` si es que no.\n",
        "\n",
        "\n",
        "\n"
      ]
    },
    {
      "cell_type": "code",
      "metadata": {
        "id": "6kFUyb6NbPiT",
        "colab_type": "code",
        "colab": {}
      },
      "source": [
        "from lista import *\n",
        "\n",
        "# hayPelotas: lista(str) -> bool\n",
        "# determinar si el string \"pelota\" esta en la lista unaLista \n",
        "# def hayPelotas(unaLista):\n",
        "#       if vacia(unaLista): \n",
        "#               ...\n",
        "#       else:\n",
        "#               ... cabeza(unaLista)\n",
        "#               ... cola(unaLista) ...\n",
        "\n",
        "def hayPelotas(unaLista):\n",
        "    if(vacia(unaLista)):\n",
        "        return False\n",
        "    else:\n",
        "        if cabeza(unaLista)==\"pelota\":\n",
        "            return True\n",
        "        else:\n",
        "            listaRestante = cola(unaLista)\n",
        "            return hayPelotas(listaRestante)\n",
        "\n",
        "# Test\n",
        "juguetes = crearLista(\"soldadito\", crearLista(\"pelota\", crearLista(\"oso\", listaVacia)))\n",
        "assert hayPelotas(juguetes)\n"
      ],
      "execution_count": 0,
      "outputs": []
    },
    {
      "cell_type": "markdown",
      "metadata": {
        "id": "il8CwaBUbPiV",
        "colab_type": "text"
      },
      "source": [
        "Si quisieramos contar juguetes?"
      ]
    },
    {
      "cell_type": "code",
      "metadata": {
        "id": "GllSuU20bPiW",
        "colab_type": "code",
        "colab": {}
      },
      "source": [
        "# contarJuguetes: lista(str) -> int\n",
        "# determinar cuantos juguetes hay en la lista unaLista \n",
        "# def contarJuguetes(unaLista):\n",
        "#       if vacia(unaLista): \n",
        "#               ...\n",
        "#       else:\n",
        "#               ... cabeza(unaLista)\n",
        "#               ... cola(unaLista) ...\n",
        "\n",
        "def contarJuguetes(unaLista):\n",
        "    if vacia(unaLista):\n",
        "        return 0\n",
        "    else:\n",
        "        listaRestante = cola(unaLista)\n",
        "        return 1 + contarJuguetes(listaRestante)\n"
      ],
      "execution_count": 0,
      "outputs": []
    },
    {
      "cell_type": "markdown",
      "metadata": {
        "id": "s6iXOPLxbPij",
        "colab_type": "text"
      },
      "source": [
        "\n",
        "\n",
        "---\n",
        "\n",
        "\n",
        "# Materia nueva:\n",
        "## Listas que contienen estructuras\n",
        "\n",
        "Definiremos un `registro` como una estructura compuesta de un campo\n",
        "de tipo texto para almacenar el nombre del producto, y de un campo de tipo\n",
        "numérico para almacenar el valor de dicho producto.  Así pues, diseñemos la\n",
        "estructura: \n",
        "\n",
        "```python\n",
        "# registro:  producto(str) precio(int)\n",
        "import estructura\n",
        "estructura.crear(\"registro\", \"producto precio\")\n",
        "```\n",
        "\n",
        "\n",
        "Más aún, podemos definir una `colección de registros` para almacenar\n",
        "toda la información que disponemos.  A esto nos referiremos en este problema\n",
        "como **inventario**:\n",
        "\n",
        "```python\n",
        "# inventario:  [registro]*\n",
        "# inventario es una lista de registros de largo indeterminado\n",
        "```\n"
      ]
    },
    {
      "cell_type": "code",
      "metadata": {
        "id": "rM1q4ytwbPik",
        "colab_type": "code",
        "colab": {}
      },
      "source": [
        "# registro:  producto(str) precio(int)\n",
        "import estructura\n",
        "estructura.crear(\"registro\", \"producto precio\")"
      ],
      "execution_count": 0,
      "outputs": []
    },
    {
      "cell_type": "markdown",
      "metadata": {
        "id": "4imxGADLbPin",
        "colab_type": "text"
      },
      "source": [
        "Es decir, un **inventario** está compuesto de:\n",
        "\n",
        "1. Una lista vacía: **`listaVacia`**, o bien\n",
        "2. Una lista que contiene un registro, encadenada al inventario: **`crearLista(registro, inventario)`**.\n"
      ]
    },
    {
      "cell_type": "code",
      "metadata": {
        "id": "J8jEj-l8bPio",
        "colab_type": "code",
        "colab": {}
      },
      "source": [
        "# suma: inventario -> int\n",
        "# calcula la suma de todos los precios en unInventario\n",
        "# suma(listaVacia) == 0\n",
        "# suma(lista(registro(\"muneca\", 2990), lista_vacia)) == 2990\n",
        "# suma(lista(registro(\"robot\", 5990), \\\n",
        "#   lista(registro(\"muneca\", 2990), lista_vacia))) == 8980\n",
        "def suma(unInventario):\n",
        "  \n",
        "  \n",
        "  \n",
        "  \n",
        "  \n",
        "\n",
        "# Tests\n",
        "suma(listaVacia) == 0\n",
        "suma(lista(registro(\"muneca\", 2990), listaVacia)) == 2990\n",
        "suma(lista(registro(\"robot\", 5990), \\\n",
        "   lista(registro(\"muneca\", 2990), listaVacia))) == 8980"
      ],
      "execution_count": 0,
      "outputs": []
    },
    {
      "cell_type": "code",
      "metadata": {
        "colab_type": "code",
        "id": "lTm-fNsras8X",
        "colab": {}
      },
      "source": [
        "# suma: inventario -> int\n",
        "# calcula la suma de todos los precios en unInventario\n",
        "# suma(listaVacia) == 0\n",
        "# suma(lista(registro(\"muneca\", 2990), lista_vacia)) == 2990\n",
        "# suma(lista(registro(\"robot\", 5990), \\\n",
        "#   lista(registro(\"muneca\", 2990), lista_vacia))) == 8980\n",
        "def suma(unInventario):\n",
        "    if vacia(unInventario):\n",
        "        return 0\n",
        "    else:\n",
        "        item = cabeza(unInventario)\n",
        "        return item.precio + suma(cola(unInventario))\n",
        "\n",
        "# Tests\n",
        "suma(listaVacia) == 0\n",
        "suma(lista(registro(\"muneca\", 2990), listaVacia)) == 2990\n",
        "suma(lista(registro(\"robot\", 5990), \\\n",
        "   lista(registro(\"muneca\", 2990), listaVacia))) == 8980"
      ],
      "execution_count": 0,
      "outputs": []
    },
    {
      "cell_type": "markdown",
      "metadata": {
        "id": "A_z_zJpmbPiY",
        "colab_type": "text"
      },
      "source": [
        "## Funciones que producen listas\n",
        "\n",
        "Recordemos la función **`sueldo`** que definimos anteriormente:\n",
        "\n"
      ]
    },
    {
      "cell_type": "code",
      "metadata": {
        "id": "ZYqlfkkQbPiY",
        "colab_type": "code",
        "colab": {}
      },
      "source": [
        "\n",
        "# sueldo: int -> int\n",
        "# calcular el sueldo de un trabajador\n",
        "# (a $4.500 la hora) que ha trabajado h horas\n",
        "def sueldo(h):\n",
        "        return 4500 * h\n",
        "\n"
      ],
      "execution_count": 0,
      "outputs": []
    },
    {
      "cell_type": "markdown",
      "metadata": {
        "id": "jkos-bMGbPib",
        "colab_type": "text"
      },
      "source": [
        "Esta función recibe como parámetro el número de horas trabajadas por un\n",
        "empleado, y produce su sueldo semanal.  Por simplicidad, supondremos que\n",
        "todos los empleados ganan lo mismo por hora, es decir, $4.500.  Sin\n",
        "embargo, una empresa no está necesariamente interesada en una función como\n",
        "**`sueldo`**, que calcula el sueldo de un solo empleado, sino\n",
        "más bien en una función que calcule el sueldo total de todos sus empleados\n",
        "(sobre todo si hay muchos).\n",
        "\n",
        "Llamemos a esta <mark>función **`listaSueldos`**, tal que recibe una **lista de cuántas horas los empleados de la compañía han trabajado**, y\n",
        "devuelva **una lista de los sueldos semanales** por cada uno de ellos.</mark>\n"
      ]
    },
    {
      "cell_type": "markdown",
      "metadata": {
        "id": "C4FJ7AbkbPic",
        "colab_type": "text"
      },
      "source": [
        "\n",
        "```python\n",
        "# listaSueldos:  lista(int) -> lista(int)\n",
        "# crear una lista de sueldos semanales desde \n",
        "# una lista de horas trabajadas (listaHoras)\n",
        "def listaSueldos(listaHoras):\n",
        "        ...\n",
        "```\n",
        "\n",
        "Luego necesitamos ejemplos de entrada y salida:"
      ]
    },
    {
      "cell_type": "code",
      "metadata": {
        "id": "3cx-CCCebPid",
        "colab_type": "code",
        "colab": {}
      },
      "source": [
        "listaSueldos(listaVacia)\n"
      ],
      "execution_count": 0,
      "outputs": []
    },
    {
      "cell_type": "code",
      "metadata": {
        "id": "ThPfpPGxbPie",
        "colab_type": "code",
        "colab": {}
      },
      "source": [
        "listaSueldos(crearLista(10, listaVacia))\n"
      ],
      "execution_count": 0,
      "outputs": []
    },
    {
      "cell_type": "code",
      "metadata": {
        "id": "D3_D5W8mbPig",
        "colab_type": "code",
        "colab": {}
      },
      "source": [
        "listaSueldos(crearLista(44, crearLista(10, listaVacia)))"
      ],
      "execution_count": 0,
      "outputs": []
    },
    {
      "cell_type": "markdown",
      "metadata": {
        "id": "dzBQbErabPih",
        "colab_type": "text"
      },
      "source": [
        "### Cuál sería la plantilla de diseño entonces?\n",
        "\n",
        "```python\n",
        "# def listaSueldos(listaHoras):\n",
        "# if (vacia(listaHoras) == True):\n",
        "#       ...\n",
        "# else:\n",
        "#       ...  cabeza(listaHoras)\n",
        "#       ...  listaSueldos(cola(listaHoras)) ...\n",
        "````\n",
        "\n"
      ]
    },
    {
      "cell_type": "code",
      "metadata": {
        "id": "CBLyN2p9bPii",
        "colab_type": "code",
        "colab": {}
      },
      "source": [
        "\n",
        "# listaSueldos:  lista(int) -> lista(int)\n",
        "# crear una lista de sueldos semanales desde una\n",
        "# lista de horas trabajadas (listaHoras)\n",
        "def listaSueldos(listaHoras):\n",
        "\n",
        "  \n",
        "  \n",
        "  \n",
        "  \n",
        "  \n",
        "  \n",
        "  "
      ],
      "execution_count": 0,
      "outputs": []
    },
    {
      "cell_type": "code",
      "metadata": {
        "colab_type": "code",
        "id": "a2FcGXAabD6_",
        "colab": {}
      },
      "source": [
        "# listaSueldos:  lista(int) -> lista(int)\n",
        "# crear una lista de sueldos semanales desde una\n",
        "# lista de horas trabajadas (listaHoras)\n",
        "def listaSueldos(listaHoras):\n",
        "        if vacia(listaHoras):\n",
        "                return listaVacia\n",
        "        else:\n",
        "                return crearLista(sueldo(cabeza(listaHoras)),\\\n",
        "                                  listaSueldos(cola(listaHoras)))\n"
      ],
      "execution_count": 0,
      "outputs": []
    },
    {
      "cell_type": "markdown",
      "metadata": {
        "id": "__5pltc9vwtl",
        "colab_type": "text"
      },
      "source": [
        "### Otros ejemplos de funciones que devuelven una listas"
      ]
    },
    {
      "cell_type": "code",
      "metadata": {
        "id": "h43nO3DmwVeZ",
        "colab_type": "code",
        "colab": {}
      },
      "source": [
        "from lista import *\n",
        "\n",
        "# listaX: int -> lista(int)\n",
        "def listaX(x):\n",
        "    if x > 10:\n",
        "        return listaVacia\n",
        "    else:\n",
        "        return lista(x, listaX(x+1))\n",
        "\n",
        "\n",
        "print listaX(3) # Que muestra en pantalla?"
      ],
      "execution_count": 0,
      "outputs": []
    },
    {
      "cell_type": "code",
      "metadata": {
        "id": "Ur_KKZ7QsMC3",
        "colab_type": "code",
        "colab": {}
      },
      "source": [
        "# listaXY: int int -> lista(int)\n",
        "def listaXY(x, y):\n",
        "    if x > y:\n",
        "        return listaVacia\n",
        "    else:\n",
        "        return lista(x, listaXY(x+1, y))\n",
        "\n",
        "print listaXY(1, 10) # Que muestra en pantalla?\n",
        "print listaXY(7, 12) # Que muestra en pantalla?"
      ],
      "execution_count": 0,
      "outputs": []
    },
    {
      "cell_type": "markdown",
      "metadata": {
        "id": "mN1edOiCu1zf",
        "colab_type": "text"
      },
      "source": [
        "### Funcion que copia una lista\n",
        "Es decir crear otra lista que contenga los mismos valores:"
      ]
    },
    {
      "cell_type": "code",
      "metadata": {
        "id": "xPUZpbuwtKPn",
        "colab_type": "code",
        "colab": {}
      },
      "source": [
        "# copiarLista: lista(any) -> lista(any)\n",
        "# devuelve copia de lista\n",
        "# ejemplo: copiarLista(lista(1, lista(2, listaVacia))) devuelve lista(1, lista(2, listaVacia))\n",
        "def copiarLista(unaLista):\n",
        "\n",
        "  \n",
        "  \n",
        "\n",
        "  \n",
        "# Test\n",
        "assert copiarLista(lista(1, lista(2, listaVacia))) == lista(1, lista(2, listaVacia))"
      ],
      "execution_count": 0,
      "outputs": []
    },
    {
      "cell_type": "code",
      "metadata": {
        "colab_type": "code",
        "id": "7yQNhXp6bURH",
        "colab": {}
      },
      "source": [
        "# copiarLista: lista(any) -> lista(any)\n",
        "# devuelve copia de lista\n",
        "# ejemplo: copiarLista(lista(1, lista(2, listaVacia))) devuelve lista(1, lista(2, listaVacia))\n",
        "def copiarLista(unaLista):\n",
        "    if vacia(unaLista):\n",
        "        return listaVacia\n",
        "    else:\n",
        "        return lista(cabeza(unaLista), copiarLista(cola(unaLista)))\n",
        "\n",
        "# Test\n",
        "assert copiarLista(lista(1, lista(2, listaVacia))) == lista(1, lista(2, listaVacia))"
      ],
      "execution_count": 0,
      "outputs": []
    },
    {
      "cell_type": "markdown",
      "metadata": {
        "id": "j-A-SbOHvI6T",
        "colab_type": "text"
      },
      "source": [
        "### Función para unir dos listas\n",
        "\n",
        "Pensemos en los tests primero:"
      ]
    },
    {
      "cell_type": "code",
      "metadata": {
        "id": "0qxrqNBFvUM0",
        "colab_type": "code",
        "colab": {}
      },
      "source": [
        "unaLista = lista(1, listaVacia)\n",
        "otraLista = lista(2, lista(3, listaVacia))\n",
        "assert unionListas(unaLista, otraLista) == lista(1, lista(2, lista(3, listaVacia)))"
      ],
      "execution_count": 0,
      "outputs": []
    },
    {
      "cell_type": "code",
      "metadata": {
        "id": "mFrOrfs5tZvN",
        "colab_type": "code",
        "colab": {}
      },
      "source": [
        "unaLista = lista(6, lista(8, listaVacia))\n",
        "otraLista = lista(4, lista(5, listaVacia))\n",
        "assert unionListas(unaLista, otraLista) == lista(6, lista(8, lista(4, lista(5, listaVacia))))"
      ],
      "execution_count": 0,
      "outputs": []
    },
    {
      "cell_type": "markdown",
      "metadata": {
        "id": "aV3dpIxSvXTR",
        "colab_type": "text"
      },
      "source": [
        "Escribimos la función:"
      ]
    },
    {
      "cell_type": "code",
      "metadata": {
        "id": "1neLLnM5tj3i",
        "colab_type": "code",
        "colab": {}
      },
      "source": [
        "# unionListas: lista(any) lista(any) -> lista(any)\n",
        "# devuelve lista resultado de unir dos listas\n",
        "# ejemplo: unionListas(lista(1, listaVacia), lista(2, listaVacia)) \n",
        "# devuelve lista(1, lista(2, listaVacia))\n",
        "def unionListas(lista1, lista2):\n",
        "\n",
        "  \n",
        "  \n",
        "  \n",
        "  \n",
        "  \n",
        "# Test\n",
        "unaLista = lista(1, listaVacia)\n",
        "otraLista = lista(2, lista(3, listaVacia))\n",
        "assert unionListas(unaLista, otraLista) == lista(1, lista(2, lista(3, listaVacia)))\n"
      ],
      "execution_count": 0,
      "outputs": []
    },
    {
      "cell_type": "code",
      "metadata": {
        "id": "Ejm4sNHxbeTE",
        "colab_type": "code",
        "colab": {}
      },
      "source": [
        "# unionListas: lista(any) lista(any) -> lista(any)\n",
        "# devuelve lista resultado de unir dos listas\n",
        "# ejemplo: unionListas(lista(1, listaVacia), lista(2, listaVacia)) \n",
        "# devuelve lista(1, lista(2, listaVacia))\n",
        "def unionListas(lista1, lista2):\n",
        "    if vacia(lista1):\n",
        "        return lista2\n",
        "    else:\n",
        "        return lista(cabeza(lista1), unionListas(cola(lista1), lista2))\n",
        "\n",
        "# Test\n",
        "unaLista = lista(1, listaVacia)\n",
        "otraLista = lista(2, lista(3, listaVacia))\n",
        "assert unionListas(unaLista,otraLista)==lista(1, lista(2, lista(3, listaVacia)))"
      ],
      "execution_count": 0,
      "outputs": []
    }
  ]
}