{
  "nbformat": 4,
  "nbformat_minor": 0,
  "metadata": {
    "kernelspec": {
      "display_name": "Python 2",
      "language": "python",
      "name": "python2"
    },
    "language_info": {
      "codemirror_mode": {
        "name": "ipython",
        "version": 2
      },
      "file_extension": ".py",
      "mimetype": "text/x-python",
      "name": "python",
      "nbconvert_exporter": "python",
      "pygments_lexer": "ipython2",
      "version": "2.7.13"
    },
    "colab": {
      "name": "C18 - Estructuras Indexadas II (FULL).ipynb",
      "provenance": [],
      "collapsed_sections": []
    }
  },
  "cells": [
    {
      "cell_type": "markdown",
      "metadata": {
        "id": "gI11V-Oh0I3R",
        "colab_type": "text"
      },
      "source": [
        "# Clase 18: Estructuras Indexadas (parte II)\n",
        "\n",
        "\n",
        "\n",
        "\n",
        "\n"
      ]
    },
    {
      "cell_type": "markdown",
      "metadata": {
        "collapsed": true,
        "id": "qqo0eiMF0I3S",
        "colab_type": "text"
      },
      "source": [
        "## Estructuras Indexadas\n",
        "\n",
        "### listas de python\n",
        "\n",
        "![](arreglo.png)\n",
        "\n",
        "Las listas de Python son estructuras mutables definidas en el lenguaje\n",
        "Python que, al igual que los arreglos, indexan los elementos que se insertan\n",
        "en ella.  Los índices son números enteros correlativos y parten en cero.\n",
        "Las siguientes instrucciones sirven para crear una lista vacía:"
      ]
    },
    {
      "cell_type": "markdown",
      "metadata": {
        "id": "fRAUzLkh0I3T",
        "colab_type": "text"
      },
      "source": [
        "### Crear lista vacía"
      ]
    },
    {
      "cell_type": "code",
      "metadata": {
        "id": "xcIfg6hb0I3U",
        "colab_type": "code",
        "outputId": "3de3227e-6fe2-4473-90c2-1391eedac607",
        "colab": {
          "base_uri": "https://localhost:8080/",
          "height": 34
        }
      },
      "source": [
        "unaLista = list() # lista vacia\n",
        "otraLista = [] # lista vacia\n",
        "unaLista"
      ],
      "execution_count": 0,
      "outputs": [
        {
          "output_type": "execute_result",
          "data": {
            "text/plain": [
              "[]"
            ]
          },
          "metadata": {
            "tags": []
          },
          "execution_count": 34
        }
      ]
    },
    {
      "cell_type": "markdown",
      "metadata": {
        "id": "PMdBj0Vc0I3Z",
        "colab_type": "text"
      },
      "source": [
        "### Crear lista con valores\n",
        "\n",
        "También se pueden crear listas con valores ya insertados, como se muestra \n",
        "en el ejemplo siguiente.  Recuerde que las listas de Python permiten\n",
        "insertar datos de cualquier tipo en sus casilleros:"
      ]
    },
    {
      "cell_type": "code",
      "metadata": {
        "id": "hF0P-_-a0I3Z",
        "colab_type": "code",
        "colab": {}
      },
      "source": [
        "ListaNumeros = [1, 2, 3, 4, 5] # lista de int\n",
        "ListaStrings = ['casa', 'arbol', 'planta', 'auto'] # lista de str\n",
        "ListaDeTodo = ['a', 17, True, 9.5] # lista con datos de distinto tipo"
      ],
      "execution_count": 0,
      "outputs": []
    },
    {
      "cell_type": "markdown",
      "metadata": {
        "id": "8nRBU_4e0I3d",
        "colab_type": "text"
      },
      "source": [
        "### Las listas tienen sus valores \"indexados\""
      ]
    },
    {
      "cell_type": "code",
      "metadata": {
        "id": "G4W1Iux30I3e",
        "colab_type": "code",
        "outputId": "7b5ef33f-d2cf-4de8-d472-2e4fa9bc7115",
        "colab": {
          "base_uri": "https://localhost:8080/",
          "height": 34
        }
      },
      "source": [
        "ListaDeTodo[2]"
      ],
      "execution_count": 0,
      "outputs": [
        {
          "output_type": "execute_result",
          "data": {
            "text/plain": [
              "True"
            ]
          },
          "metadata": {
            "tags": []
          },
          "execution_count": 36
        }
      ]
    },
    {
      "cell_type": "code",
      "metadata": {
        "id": "JcZL7ajc0I3g",
        "colab_type": "code",
        "outputId": "a9d0e432-4d93-4b41-c88f-82ec61e9f897",
        "colab": {
          "base_uri": "https://localhost:8080/",
          "height": 34
        }
      },
      "source": [
        "ListaNumeros[0]"
      ],
      "execution_count": 0,
      "outputs": [
        {
          "output_type": "execute_result",
          "data": {
            "text/plain": [
              "1"
            ]
          },
          "metadata": {
            "tags": []
          },
          "execution_count": 37
        }
      ]
    },
    {
      "cell_type": "markdown",
      "metadata": {
        "id": "ev60GhO40I3i",
        "colab_type": "text"
      },
      "source": [
        "### Las listas son \"mutables\""
      ]
    },
    {
      "cell_type": "code",
      "metadata": {
        "id": "1cyk6ra10I3j",
        "colab_type": "code",
        "outputId": "b44e45b6-6cc2-4cc6-e1a5-4bfca6d41e33",
        "colab": {
          "base_uri": "https://localhost:8080/",
          "height": 34
        }
      },
      "source": [
        "ListaDeTodo[2]= False\n",
        "ListaDeTodo"
      ],
      "execution_count": 0,
      "outputs": [
        {
          "output_type": "execute_result",
          "data": {
            "text/plain": [
              "['a', 17, False, 9.5]"
            ]
          },
          "metadata": {
            "tags": []
          },
          "execution_count": 38
        }
      ]
    },
    {
      "cell_type": "markdown",
      "metadata": {
        "id": "GCn5XBqO0I3l",
        "colab_type": "text"
      },
      "source": [
        "### Concatenar listas\n",
        "\n",
        "Dos listas se pueden **concatenar con el operador '+'**, o se puede **repetir\n",
        "varias veces el contenido de una lista multiplicándola por un escalar**:"
      ]
    },
    {
      "cell_type": "code",
      "metadata": {
        "id": "4Jaq5mJ50I3m",
        "colab_type": "code",
        "outputId": "087bc718-21cc-4687-88d2-4bc1b643d2b5",
        "colab": {
          "base_uri": "https://localhost:8080/",
          "height": 34
        }
      },
      "source": [
        "lista1 = [10, 20]\n",
        "lista2 = [50, 60]\n",
        "lista2 + lista1  "
      ],
      "execution_count": 0,
      "outputs": [
        {
          "output_type": "execute_result",
          "data": {
            "text/plain": [
              "[50, 60, 10, 20]"
            ]
          },
          "metadata": {
            "tags": []
          },
          "execution_count": 39
        }
      ]
    },
    {
      "cell_type": "code",
      "metadata": {
        "id": "ELOpYRsd0I3o",
        "colab_type": "code",
        "outputId": "93e537ff-f53d-433f-b784-1974f0cc093e",
        "colab": {
          "base_uri": "https://localhost:8080/",
          "height": 34
        }
      },
      "source": [
        "lista1 + [30]"
      ],
      "execution_count": 0,
      "outputs": [
        {
          "output_type": "execute_result",
          "data": {
            "text/plain": [
              "[10, 20, 30]"
            ]
          },
          "metadata": {
            "tags": []
          },
          "execution_count": 40
        }
      ]
    },
    {
      "cell_type": "markdown",
      "metadata": {
        "id": "-Y91JZpi0I3q",
        "colab_type": "text"
      },
      "source": [
        "### Repetir (y concatenar) listas"
      ]
    },
    {
      "cell_type": "code",
      "metadata": {
        "id": "zhbyszVC0I3r",
        "colab_type": "code",
        "outputId": "8a2b14f7-2f85-4161-b6c5-c7218115517c",
        "colab": {
          "base_uri": "https://localhost:8080/",
          "height": 34
        }
      },
      "source": [
        "lista1 * 3"
      ],
      "execution_count": 0,
      "outputs": [
        {
          "output_type": "execute_result",
          "data": {
            "text/plain": [
              "[10, 20, 10, 20, 10, 20]"
            ]
          },
          "metadata": {
            "tags": []
          },
          "execution_count": 41
        }
      ]
    },
    {
      "cell_type": "markdown",
      "metadata": {
        "id": "Ss0S0mTl0I3t",
        "colab_type": "text"
      },
      "source": [
        "### Comparar listas\n",
        "\n",
        "Va comparando de izquierda a derecha los valores de los mismo índices en cada lista (uno a uno). El primer índice en que los valores no son iguales es el que decide el resultado de la expresión. En el ejemplo:\n",
        "\n",
        "\n"
      ]
    },
    {
      "cell_type": "code",
      "metadata": {
        "id": "WDeYGQYe0I3u",
        "colab_type": "code",
        "outputId": "79fb6df9-0b50-46ba-913a-2fd4c9939bca",
        "colab": {
          "base_uri": "https://localhost:8080/",
          "height": 34
        }
      },
      "source": [
        "L=[2,3,10]\n",
        "L>[2,4,6] #compara elemento a elemento\n",
        "# False porque 3<4"
      ],
      "execution_count": 0,
      "outputs": [
        {
          "output_type": "execute_result",
          "data": {
            "text/plain": [
              "False"
            ]
          },
          "metadata": {
            "tags": []
          },
          "execution_count": 42
        }
      ]
    },
    {
      "cell_type": "markdown",
      "metadata": {
        "id": "qHFgMzi20I3z",
        "colab_type": "text"
      },
      "source": [
        "### Largo de una lista\n",
        "\n",
        "Para conocer el largo de una lista (esto es, cuántos valores contiene), se \n",
        "utiliza la función **`len`** de Python:\n",
        "\n",
        "\n"
      ]
    },
    {
      "cell_type": "code",
      "metadata": {
        "id": "IObOFQIX0I32",
        "colab_type": "code",
        "outputId": "186c543a-abd3-4984-c49b-fdec9605c42a",
        "colab": {
          "base_uri": "https://localhost:8080/",
          "height": 34
        }
      },
      "source": [
        "lista = ['ana', 'maria', 'luisa', 'teresa']\n",
        "len(lista)"
      ],
      "execution_count": 0,
      "outputs": [
        {
          "output_type": "execute_result",
          "data": {
            "text/plain": [
              "4"
            ]
          },
          "metadata": {
            "tags": []
          },
          "execution_count": 43
        }
      ]
    },
    {
      "cell_type": "code",
      "metadata": {
        "id": "vvO-hZ_M0I34",
        "colab_type": "code",
        "outputId": "e84bc4ba-7120-4f7e-a36e-f65f1cf4c8bf",
        "colab": {
          "base_uri": "https://localhost:8080/",
          "height": 34
        }
      },
      "source": [
        "lista[len(lista)-2]"
      ],
      "execution_count": 0,
      "outputs": [
        {
          "output_type": "execute_result",
          "data": {
            "text/plain": [
              "'luisa'"
            ]
          },
          "metadata": {
            "tags": []
          },
          "execution_count": 44
        }
      ]
    },
    {
      "cell_type": "markdown",
      "metadata": {
        "id": "hM092rfc0I36",
        "colab_type": "text"
      },
      "source": [
        "### Ver si un elemento pertenece a una lista o no"
      ]
    },
    {
      "cell_type": "code",
      "metadata": {
        "id": "Mwh-llHr0I36",
        "colab_type": "code",
        "outputId": "b616f32e-9740-44de-db77-35f654591733",
        "colab": {
          "base_uri": "https://localhost:8080/",
          "height": 34
        }
      },
      "source": [
        "'maria' in lista"
      ],
      "execution_count": 0,
      "outputs": [
        {
          "output_type": "execute_result",
          "data": {
            "text/plain": [
              "True"
            ]
          },
          "metadata": {
            "tags": []
          },
          "execution_count": 45
        }
      ]
    },
    {
      "cell_type": "code",
      "metadata": {
        "id": "lw_qZ7dr0I39",
        "colab_type": "code",
        "outputId": "1e544ac7-2075-452f-ca5d-4243d411202c",
        "colab": {
          "base_uri": "https://localhost:8080/",
          "height": 34
        }
      },
      "source": [
        "7 in lista"
      ],
      "execution_count": 0,
      "outputs": [
        {
          "output_type": "execute_result",
          "data": {
            "text/plain": [
              "False"
            ]
          },
          "metadata": {
            "tags": []
          },
          "execution_count": 46
        }
      ]
    },
    {
      "cell_type": "markdown",
      "metadata": {
        "id": "9DU9-B2Q0I3_",
        "colab_type": "text"
      },
      "source": [
        "### Alias de una lista es igual a usar la lista misma"
      ]
    },
    {
      "cell_type": "code",
      "metadata": {
        "id": "5AHRz6iA0I3_",
        "colab_type": "code",
        "colab": {}
      },
      "source": [
        "L=[20,30,10]"
      ],
      "execution_count": 0,
      "outputs": []
    },
    {
      "cell_type": "code",
      "metadata": {
        "id": "JoMLhN5m0I4B",
        "colab_type": "code",
        "outputId": "2241e5de-5aaf-4ae4-bb6b-735bd34a474b",
        "colab": {
          "base_uri": "https://localhost:8080/",
          "height": 34
        }
      },
      "source": [
        "M=L #M es un alias de L\n",
        "M"
      ],
      "execution_count": 0,
      "outputs": [
        {
          "output_type": "execute_result",
          "data": {
            "text/plain": [
              "[20, 30, 10]"
            ]
          },
          "metadata": {
            "tags": []
          },
          "execution_count": 48
        }
      ]
    },
    {
      "cell_type": "code",
      "metadata": {
        "id": "KoTdDFfJ0I4E",
        "colab_type": "code",
        "outputId": "7a377837-fc7d-4f3b-a097-dd45ab637918",
        "colab": {
          "base_uri": "https://localhost:8080/",
          "height": 34
        }
      },
      "source": [
        "M[0]=200\n",
        "M"
      ],
      "execution_count": 0,
      "outputs": [
        {
          "output_type": "execute_result",
          "data": {
            "text/plain": [
              "[200, 30, 10]"
            ]
          },
          "metadata": {
            "tags": []
          },
          "execution_count": 49
        }
      ]
    },
    {
      "cell_type": "code",
      "metadata": {
        "id": "k6B1xeyV0I4J",
        "colab_type": "code",
        "outputId": "20e21f9e-58da-448c-ff0e-d6c8f22b1835",
        "colab": {
          "base_uri": "https://localhost:8080/",
          "height": 34
        }
      },
      "source": [
        "L"
      ],
      "execution_count": 0,
      "outputs": [
        {
          "output_type": "execute_result",
          "data": {
            "text/plain": [
              "[200, 30, 10]"
            ]
          },
          "metadata": {
            "tags": []
          },
          "execution_count": 50
        }
      ]
    },
    {
      "cell_type": "markdown",
      "metadata": {
        "id": "pNQSeOIZ0I4M",
        "colab_type": "text"
      },
      "source": [
        "### Acceder a un rango de la lista\n",
        "Para acceder a un rango de la lista se usa la notación **`[i:j]`**"
      ]
    },
    {
      "cell_type": "code",
      "metadata": {
        "id": "ESYpLG5Z0I4N",
        "colab_type": "code",
        "outputId": "3a1f731d-decd-4333-e953-35b0ce7e8ff7",
        "colab": {
          "base_uri": "https://localhost:8080/",
          "height": 34
        }
      },
      "source": [
        "cuadrados = [0, 1, 4, 9, 16, 25, 36, 49, 64, 81, 100]\n",
        "# alternativamente: cuadrados = [x**2 for x in range(0,11)] \n",
        "cuadrados[3:6] # solo mostrar indices 3, 4 y 5"
      ],
      "execution_count": 0,
      "outputs": [
        {
          "output_type": "execute_result",
          "data": {
            "text/plain": [
              "[9, 16, 25]"
            ]
          },
          "metadata": {
            "tags": []
          },
          "execution_count": 51
        }
      ]
    },
    {
      "cell_type": "markdown",
      "metadata": {
        "id": "Qj8WQaLV0I4O",
        "colab_type": "text"
      },
      "source": [
        "### Una lista puede contener otras listas"
      ]
    },
    {
      "cell_type": "code",
      "metadata": {
        "id": "QEtyzm1Q0I4P",
        "colab_type": "code",
        "outputId": "a73ea7e6-37f8-4823-8514-dcc05b7d6b05",
        "colab": {
          "base_uri": "https://localhost:8080/",
          "height": 34
        }
      },
      "source": [
        "matriz = [[10, 20, 30], [40, 50, 60], [70, 80, 90]] \n",
        "matriz[1][1]"
      ],
      "execution_count": 0,
      "outputs": [
        {
          "output_type": "execute_result",
          "data": {
            "text/plain": [
              "50"
            ]
          },
          "metadata": {
            "tags": []
          },
          "execution_count": 52
        }
      ]
    },
    {
      "cell_type": "markdown",
      "metadata": {
        "id": "TqY_1Ctd0I4R",
        "colab_type": "text"
      },
      "source": [
        "## Funciones predefinidas\n",
        "\n",
        "### Ejemplos:"
      ]
    },
    {
      "cell_type": "code",
      "metadata": {
        "id": "AN95ThAR0I4R",
        "colab_type": "code",
        "outputId": "f8bbd2c8-b5d5-47d4-b090-fd26610fc822",
        "colab": {
          "base_uri": "https://localhost:8080/",
          "height": 34
        }
      },
      "source": [
        "L = [8,9,7,9]\n",
        "sum(L) # Suma los elementos"
      ],
      "execution_count": 0,
      "outputs": [
        {
          "output_type": "execute_result",
          "data": {
            "text/plain": [
              "33"
            ]
          },
          "metadata": {
            "tags": []
          },
          "execution_count": 53
        }
      ]
    },
    {
      "cell_type": "code",
      "metadata": {
        "id": "np5RktLN0I4T",
        "colab_type": "code",
        "outputId": "5ecbb439-f450-41b0-ab7c-824ddc40618b",
        "colab": {
          "base_uri": "https://localhost:8080/",
          "height": 34
        }
      },
      "source": [
        "L.index(9) # retorna primer indice de 9"
      ],
      "execution_count": 0,
      "outputs": [
        {
          "output_type": "execute_result",
          "data": {
            "text/plain": [
              "1"
            ]
          },
          "metadata": {
            "tags": []
          },
          "execution_count": 54
        }
      ]
    },
    {
      "cell_type": "code",
      "metadata": {
        "id": "8SwilwPh0I4W",
        "colab_type": "code",
        "outputId": "895544d2-b02a-4b5e-dbea-54a6ce0ab12f",
        "colab": {
          "base_uri": "https://localhost:8080/",
          "height": 34
        }
      },
      "source": [
        "L.append(6) # agrega un 6 al final\n",
        "L"
      ],
      "execution_count": 0,
      "outputs": [
        {
          "output_type": "execute_result",
          "data": {
            "text/plain": [
              "[8, 9, 7, 9, 6]"
            ]
          },
          "metadata": {
            "tags": []
          },
          "execution_count": 55
        }
      ]
    },
    {
      "cell_type": "code",
      "metadata": {
        "id": "fWE8vxQU0I4Y",
        "colab_type": "code",
        "outputId": "912be479-285c-475c-ce24-0e043468bb24",
        "colab": {
          "base_uri": "https://localhost:8080/",
          "height": 34
        }
      },
      "source": [
        "L.extend([10]) # agrega un 10 al final\n",
        "L"
      ],
      "execution_count": 0,
      "outputs": [
        {
          "output_type": "execute_result",
          "data": {
            "text/plain": [
              "[8, 9, 7, 9, 6, 10]"
            ]
          },
          "metadata": {
            "tags": []
          },
          "execution_count": 56
        }
      ]
    },
    {
      "cell_type": "code",
      "metadata": {
        "id": "YrAxLEhF0I4a",
        "colab_type": "code",
        "outputId": "e91b75da-7153-40b1-854a-5cad25925966",
        "colab": {
          "base_uri": "https://localhost:8080/",
          "height": 34
        }
      },
      "source": [
        "L.pop(1) # saca el valor en la posición 1"
      ],
      "execution_count": 0,
      "outputs": [
        {
          "output_type": "execute_result",
          "data": {
            "text/plain": [
              "9"
            ]
          },
          "metadata": {
            "tags": []
          },
          "execution_count": 57
        }
      ]
    },
    {
      "cell_type": "code",
      "metadata": {
        "id": "Rf0HqYNg0I4c",
        "colab_type": "code",
        "outputId": "ad1e534b-5fc4-4690-f6c9-43016951c23b",
        "colab": {
          "base_uri": "https://localhost:8080/",
          "height": 34
        }
      },
      "source": [
        "L"
      ],
      "execution_count": 0,
      "outputs": [
        {
          "output_type": "execute_result",
          "data": {
            "text/plain": [
              "[8, 7, 9, 6, 10]"
            ]
          },
          "metadata": {
            "tags": []
          },
          "execution_count": 58
        }
      ]
    },
    {
      "cell_type": "code",
      "metadata": {
        "id": "ys9ox2S20I4h",
        "colab_type": "code",
        "outputId": "06ccffe3-5873-4218-cee1-ca978ed9127d",
        "colab": {
          "base_uri": "https://localhost:8080/",
          "height": 34
        }
      },
      "source": [
        "L.remove(9)\n",
        "L"
      ],
      "execution_count": 0,
      "outputs": [
        {
          "output_type": "execute_result",
          "data": {
            "text/plain": [
              "[8, 7, 6, 10]"
            ]
          },
          "metadata": {
            "tags": []
          },
          "execution_count": 59
        }
      ]
    },
    {
      "cell_type": "code",
      "metadata": {
        "id": "f_kjMi4r0I4m",
        "colab_type": "code",
        "outputId": "8fb88ed4-8190-463a-d41f-11a21ead79cc",
        "colab": {
          "base_uri": "https://localhost:8080/",
          "height": 34
        }
      },
      "source": [
        "L.reverse()\n",
        "L"
      ],
      "execution_count": 0,
      "outputs": [
        {
          "output_type": "execute_result",
          "data": {
            "text/plain": [
              "[10, 6, 7, 8]"
            ]
          },
          "metadata": {
            "tags": []
          },
          "execution_count": 60
        }
      ]
    },
    {
      "cell_type": "code",
      "metadata": {
        "id": "fbnZGKUE0I4o",
        "colab_type": "code",
        "outputId": "5a14fc97-3ef9-4c40-bc71-10cef5c08e72",
        "colab": {
          "base_uri": "https://localhost:8080/",
          "height": 34
        }
      },
      "source": [
        "L.sort()\n",
        "L"
      ],
      "execution_count": 0,
      "outputs": [
        {
          "output_type": "execute_result",
          "data": {
            "text/plain": [
              "[6, 7, 8, 10]"
            ]
          },
          "metadata": {
            "tags": []
          },
          "execution_count": 61
        }
      ]
    },
    {
      "cell_type": "markdown",
      "metadata": {
        "id": "JW3q37Nc0I4q",
        "colab_type": "text"
      },
      "source": [
        "# Instrucción 'for'\n",
        "\n",
        "\n",
        "La instrucción **`for`** de Python permite iterar sobre una estructura indexada. \n",
        "\n",
        "**Sintaxis:**\n",
        "\n",
        "```python\n",
        "for variable in lista:\n",
        "  # bloque de instrucciones\n",
        "```\n",
        "\n",
        "donde **`variable`** es una variable y **`lista`**\n",
        "\n",
        "**Semántica:**\n",
        "\n",
        "La variable toma consecutivamente todos los valores de la lista. \n",
        "Para cada valor ejecuta las instrucciones\n",
        "\n",
        "\n",
        "es el identificador de la estructura sobre la cual se va a iterar.  En cada \n",
        "iteración del ciclo, se le asignará a la variable un valor almacenado en la \n",
        "estructura indexada (por ejemplo, los valores almacenados en una lista), \n",
        "que se indica después de la instrucción **`in`**.  Por ejemplo:\n",
        "\n"
      ]
    },
    {
      "cell_type": "code",
      "metadata": {
        "id": "v01a3j_L0I4r",
        "colab_type": "code",
        "outputId": "40831bc7-30b2-4706-fdc4-59024ae0a3af",
        "colab": {
          "base_uri": "https://localhost:8080/",
          "height": 138
        }
      },
      "source": [
        "lista = [10, 20, 30, 40, 50,60,70]\n",
        "for valor in lista:\n",
        "        print valor"
      ],
      "execution_count": 0,
      "outputs": [
        {
          "output_type": "stream",
          "text": [
            "10\n",
            "20\n",
            "30\n",
            "40\n",
            "50\n",
            "60\n",
            "70\n"
          ],
          "name": "stdout"
        }
      ]
    },
    {
      "cell_type": "code",
      "metadata": {
        "id": "Lz58W8570I4w",
        "colab_type": "code",
        "colab": {}
      },
      "source": [
        "#copia: list -> list\n",
        "def copia(L):\n",
        "    assert type(L)==list\n",
        "    M=[]\n",
        "    for valor in L:\n",
        "        M.append(valor)\n",
        "    return M\n",
        "\n",
        "assert copia([8,9,7,9])==[8,9,7,9]\n",
        "\n"
      ],
      "execution_count": 0,
      "outputs": []
    },
    {
      "cell_type": "code",
      "metadata": {
        "id": "PQpiMbiB0I4z",
        "colab_type": "code",
        "colab": {}
      },
      "source": [
        "#suma: list(int) -> int\n",
        "def suma(L):\n",
        "    assert type(L)==list\n",
        "    suma = 0\n",
        "    for valor in L:\n",
        "        suma+=valor\n",
        "    return suma\n",
        "\n",
        "assert suma([8,9,7,9])==33\n",
        "\n"
      ],
      "execution_count": 0,
      "outputs": []
    },
    {
      "cell_type": "markdown",
      "metadata": {
        "id": "9Bn9gxTi0I43",
        "colab_type": "text"
      },
      "source": [
        "## Solución Ejercicio 9:\n",
        "\n",
        "Ejercicio: Escribir usando listas de python **`buscar(nombre, agenda)`** entregando fono  \n",
        "\n",
        "```python\n",
        "estructura.mutable(\"registro\",\"nombre fono\")\n",
        "#agenda: list(registro)\n",
        "agenda=[registro(\"a\",2),registro(\"c\",1),registro(\"d\",4)]\n",
        "```"
      ]
    },
    {
      "cell_type": "code",
      "metadata": {
        "id": "BDDL5Ckz0I44",
        "colab_type": "code",
        "colab": {}
      },
      "source": [
        "import estructura\n",
        "estructura.mutable(\"registro\",\"nombre fono\")\n",
        "agenda=[registro(\"a\",2),registro(\"c\",1),registro(\"d\",4)]\n",
        "\n",
        "#buscar: str list(registro) -> int\n",
        "#buscar nombre en agenda y devolver fono\n",
        "#None si no esta\n",
        "#ej: buscar(\"c\",agenda)->1\n",
        "\n",
        "def buscar(nombre,agenda):\n",
        "    for reg in agenda:\n",
        "        if reg.nombre==nombre: \n",
        "            return reg.fono\n",
        "    return None\n",
        "\n",
        "assert buscar(\"c\",agenda)==1\n"
      ],
      "execution_count": 0,
      "outputs": []
    },
    {
      "cell_type": "markdown",
      "metadata": {
        "id": "gJ02L1iP0I47",
        "colab_type": "text"
      },
      "source": [
        "### Función predefinida: range (rango)\n",
        "\n",
        "Una función útil predefinida de Python es la función **`range`**, que\n",
        "retorna una lista de Python **`list`** que contiene una progresión\n",
        "aritmética de enteros.  Esta función provee tres contratos distintos:\n",
        "\n",
        "```python\n",
        "range(stop): int -> list(int)\n",
        "range(start, stop): int int -> list(int)\n",
        "range(start, stop, step): int int int -> list(int)\n",
        "\n",
        "```\n",
        "\n",
        "Uso habitual:\n",
        "\n",
        "```python\n",
        "for i in range(n): instrucciones\n",
        "```\n",
        "en cada iteración, **`i`** toma un valor de la lista **`[0,1,…,n-1]`**\n",
        "\n",
        "forma general: range(inicial,final,incremento)"
      ]
    },
    {
      "cell_type": "code",
      "metadata": {
        "scrolled": true,
        "id": "p0uxr08r0I47",
        "colab_type": "code",
        "outputId": "402c8f70-5cf2-4e96-b790-0a0a3b6b438e",
        "colab": {
          "base_uri": "https://localhost:8080/",
          "height": 34
        }
      },
      "source": [
        "range(1,10,2)"
      ],
      "execution_count": 0,
      "outputs": [
        {
          "output_type": "execute_result",
          "data": {
            "text/plain": [
              "[1, 3, 5, 7, 9]"
            ]
          },
          "metadata": {
            "tags": []
          },
          "execution_count": 66
        }
      ]
    },
    {
      "cell_type": "markdown",
      "metadata": {
        "id": "0P5JgMiD0I4-",
        "colab_type": "text"
      },
      "source": [
        "\n",
        "si se omiten: inicial=0,incremento=1"
      ]
    },
    {
      "cell_type": "code",
      "metadata": {
        "id": "ywII1o3D0I4-",
        "colab_type": "code",
        "outputId": "1ad3201d-fdc8-45bc-c268-0e1c29520d4b",
        "colab": {
          "base_uri": "https://localhost:8080/",
          "height": 34
        }
      },
      "source": [
        "range(3)"
      ],
      "execution_count": 0,
      "outputs": [
        {
          "output_type": "execute_result",
          "data": {
            "text/plain": [
              "[0, 1, 2]"
            ]
          },
          "metadata": {
            "tags": []
          },
          "execution_count": 67
        }
      ]
    },
    {
      "cell_type": "code",
      "metadata": {
        "id": "3j-pQNWd0I5E",
        "colab_type": "code",
        "outputId": "90e6d68f-7bfe-440e-9411-c96d92aedfac",
        "colab": {
          "base_uri": "https://localhost:8080/",
          "height": 34
        }
      },
      "source": [
        "range(0,3,1)"
      ],
      "execution_count": 0,
      "outputs": [
        {
          "output_type": "execute_result",
          "data": {
            "text/plain": [
              "[0, 1, 2]"
            ]
          },
          "metadata": {
            "tags": []
          },
          "execution_count": 68
        }
      ]
    },
    {
      "cell_type": "code",
      "metadata": {
        "id": "F646rCEZ0I5H",
        "colab_type": "code",
        "outputId": "4e1992e7-c82a-4773-ddd5-9d223db31d4b",
        "colab": {
          "base_uri": "https://localhost:8080/",
          "height": 34
        }
      },
      "source": [
        "range(1,5)"
      ],
      "execution_count": 0,
      "outputs": [
        {
          "output_type": "execute_result",
          "data": {
            "text/plain": [
              "[1, 2, 3, 4]"
            ]
          },
          "metadata": {
            "tags": []
          },
          "execution_count": 69
        }
      ]
    },
    {
      "cell_type": "markdown",
      "metadata": {
        "id": "Kq1MMoxz0I5M",
        "colab_type": "text"
      },
      "source": [
        "¿incremento<0? \n"
      ]
    },
    {
      "cell_type": "code",
      "metadata": {
        "id": "AreNud-70I5O",
        "colab_type": "code",
        "outputId": "51f59c86-ccbd-4604-b311-9fa91268e22b",
        "colab": {
          "base_uri": "https://localhost:8080/",
          "height": 34
        }
      },
      "source": [
        "range(3,0,-1)"
      ],
      "execution_count": 0,
      "outputs": [
        {
          "output_type": "execute_result",
          "data": {
            "text/plain": [
              "[3, 2, 1]"
            ]
          },
          "metadata": {
            "tags": []
          },
          "execution_count": 70
        }
      ]
    },
    {
      "cell_type": "code",
      "metadata": {
        "id": "YjAkRefc0I5U",
        "colab_type": "code",
        "colab": {}
      },
      "source": [
        "#indice: any list -> int\n",
        "#indice de 1ª aparición de x en L\n",
        "#-1 si no esta\n",
        "#ej: indice(9,[8,9,7,9])->1\n",
        "def indice(x,L):\n",
        "    assert type(L)==list\n",
        "    for i in range( len(L) ): #for i in [0,1,…,n-1]\n",
        "        if L[i]==x: return i\n",
        "    return -1 #no esta\n",
        "\n",
        "assert indice(9,[8,9,7,9])==1\n",
        "\n",
        "assert indice(6,[8,9,7,9])==-1\n"
      ],
      "execution_count": 0,
      "outputs": []
    },
    {
      "cell_type": "markdown",
      "metadata": {
        "id": "IgAL2roq0I5Y",
        "colab_type": "text"
      },
      "source": [
        "**Forma general**\n",
        "\n",
        "```python\n",
        "#range: int int int -> list (int)\n",
        "#lista [inicial, inicial+incremento, …]\n",
        "#ej: range(3,0,-1) -> [3,2,1]\n",
        "def range(inicial=0,final,incremento=1):\n",
        "   #propuesto\n",
        "```"
      ]
    },
    {
      "cell_type": "code",
      "metadata": {
        "id": "Rp-3lSeo0I5Z",
        "colab_type": "code",
        "outputId": "9e93e141-25d6-449b-823d-480c10a00041",
        "colab": {
          "base_uri": "https://localhost:8080/",
          "height": 34
        }
      },
      "source": [
        "# lista con cuadrados\n",
        "cuadrados = [x**2 for x in range(0,11)]\n",
        "cuadrados"
      ],
      "execution_count": 0,
      "outputs": [
        {
          "output_type": "execute_result",
          "data": {
            "text/plain": [
              "[0, 1, 4, 9, 16, 25, 36, 49, 64, 81, 100]"
            ]
          },
          "metadata": {
            "tags": []
          },
          "execution_count": 72
        }
      ]
    },
    {
      "cell_type": "code",
      "metadata": {
        "id": "3K_6iccQ0I5b",
        "colab_type": "code",
        "outputId": "4bd4fae6-3fa3-487c-92f3-fcedfc6910be",
        "colab": {
          "base_uri": "https://localhost:8080/",
          "height": 34
        }
      },
      "source": [
        "cuadrados[3:6] # mostrar solo indices 3,4,5"
      ],
      "execution_count": 0,
      "outputs": [
        {
          "output_type": "execute_result",
          "data": {
            "text/plain": [
              "[9, 16, 25]"
            ]
          },
          "metadata": {
            "tags": []
          },
          "execution_count": 73
        }
      ]
    },
    {
      "cell_type": "markdown",
      "metadata": {
        "id": "WCeQt1xU0I5d",
        "colab_type": "text"
      },
      "source": [
        "# Instrucción 'while'\n",
        "\n",
        "Esta instrucción es más general que la instrucción **`for`** y permite iterar sobre un bloque de instrucciónes, su sintaxis es:\n",
        "\n",
        "```python\n",
        "while condicion: # condición es de tipo boolean\n",
        "    # bloque de instrucciones\n",
        "    \n",
        "```\n",
        "\n",
        "las instrucciones del ciclo **`while`** se ejecutarán mientras **`condición`** sea igual a **`True`**."
      ]
    },
    {
      "cell_type": "code",
      "metadata": {
        "id": "TPGKeDaC0I5f",
        "colab_type": "code",
        "outputId": "be50b23a-9995-41e4-a251-1617ca4a39c4",
        "colab": {
          "base_uri": "https://localhost:8080/",
          "height": 103
        }
      },
      "source": [
        "lista = [10,20 ,30, 40, 50]\n",
        "indice = 0\n",
        "while indice < len(lista):\n",
        "    print lista[indice]\n",
        "    indice = indice +1"
      ],
      "execution_count": 0,
      "outputs": [
        {
          "output_type": "stream",
          "text": [
            "10\n",
            "20\n",
            "30\n",
            "40\n",
            "50\n"
          ],
          "name": "stdout"
        }
      ]
    },
    {
      "cell_type": "code",
      "metadata": {
        "id": "ckaGwBL30I5j",
        "colab_type": "code",
        "colab": {}
      },
      "source": [
        "#suma: list(int) -> int\n",
        "def suma(L):\n",
        "    assert type(L)==list\n",
        "    suma = 0\n",
        "    indice = 0\n",
        "    while indice < len(L):\n",
        "        suma+= L[indice]\n",
        "        indice+=1\n",
        "    return suma\n",
        "\n",
        "assert suma([8,9,7,9])==33\n",
        "\n"
      ],
      "execution_count": 0,
      "outputs": []
    },
    {
      "cell_type": "markdown",
      "metadata": {
        "id": "p8WOsuhy0I5k",
        "colab_type": "text"
      },
      "source": [
        "### Strings son listas inmutables\n",
        "\n",
        "Los strings operan como una estructura indexada de caracteres. Es decir, una lista de caracteres inmutable:"
      ]
    },
    {
      "cell_type": "code",
      "metadata": {
        "id": "sDGRoUX30I5l",
        "colab_type": "code",
        "outputId": "845891f9-0383-4e1b-c448-e67171ad1fd7",
        "colab": {
          "base_uri": "https://localhost:8080/",
          "height": 34
        }
      },
      "source": [
        "palabra = \"algoritmo\"\n",
        "palabra[2]"
      ],
      "execution_count": 0,
      "outputs": [
        {
          "output_type": "execute_result",
          "data": {
            "text/plain": [
              "'g'"
            ]
          },
          "metadata": {
            "tags": []
          },
          "execution_count": 76
        }
      ]
    },
    {
      "cell_type": "code",
      "metadata": {
        "id": "L0b9Ic3P0I5o",
        "colab_type": "code",
        "outputId": "6c742a16-199c-4890-cc57-292f857c3bc4",
        "colab": {
          "base_uri": "https://localhost:8080/",
          "height": 34
        }
      },
      "source": [
        "otrapalabra = \"ALGORITMO\"\n",
        "palabra+otrapalabra"
      ],
      "execution_count": 0,
      "outputs": [
        {
          "output_type": "execute_result",
          "data": {
            "text/plain": [
              "'algoritmoALGORITMO'"
            ]
          },
          "metadata": {
            "tags": []
          },
          "execution_count": 77
        }
      ]
    },
    {
      "cell_type": "code",
      "metadata": {
        "id": "pHOri8w90I5q",
        "colab_type": "code",
        "outputId": "09161cd3-0e6e-497b-f2f9-586504601b08",
        "colab": {
          "base_uri": "https://localhost:8080/",
          "height": 34
        }
      },
      "source": [
        "len(palabra)"
      ],
      "execution_count": 0,
      "outputs": [
        {
          "output_type": "execute_result",
          "data": {
            "text/plain": [
              "9"
            ]
          },
          "metadata": {
            "tags": []
          },
          "execution_count": 78
        }
      ]
    },
    {
      "cell_type": "code",
      "metadata": {
        "id": "N4LLBSn90I5u",
        "colab_type": "code",
        "outputId": "ef2bcfc9-825a-4498-aa14-34bb0ec5b844",
        "colab": {
          "base_uri": "https://localhost:8080/",
          "height": 34
        }
      },
      "source": [
        "palabra < otrapalabra"
      ],
      "execution_count": 0,
      "outputs": [
        {
          "output_type": "execute_result",
          "data": {
            "text/plain": [
              "False"
            ]
          },
          "metadata": {
            "tags": []
          },
          "execution_count": 79
        }
      ]
    },
    {
      "cell_type": "code",
      "metadata": {
        "id": "lSAkYxXL0I5v",
        "colab_type": "code",
        "outputId": "c5b4e2bc-a17a-4383-8dd8-e669335c835b",
        "colab": {
          "base_uri": "https://localhost:8080/",
          "height": 34
        }
      },
      "source": [
        "'a'<'A'"
      ],
      "execution_count": 0,
      "outputs": [
        {
          "output_type": "execute_result",
          "data": {
            "text/plain": [
              "False"
            ]
          },
          "metadata": {
            "tags": []
          },
          "execution_count": 80
        }
      ]
    },
    {
      "cell_type": "code",
      "metadata": {
        "id": "RMc8KfJs0I5x",
        "colab_type": "code",
        "outputId": "a207748f-c78a-4617-e0c7-9520c38b28b9",
        "colab": {
          "base_uri": "https://localhost:8080/",
          "height": 34
        }
      },
      "source": [
        "palabra[2:len(palabra)]"
      ],
      "execution_count": 0,
      "outputs": [
        {
          "output_type": "execute_result",
          "data": {
            "text/plain": [
              "'goritmo'"
            ]
          },
          "metadata": {
            "tags": []
          },
          "execution_count": 81
        }
      ]
    },
    {
      "cell_type": "code",
      "metadata": {
        "id": "T6yDRukX0I5z",
        "colab_type": "code",
        "outputId": "3834e981-912c-41bf-a464-a4e82a16ad87",
        "colab": {
          "base_uri": "https://localhost:8080/",
          "height": 34
        }
      },
      "source": [
        "'a' in palabra"
      ],
      "execution_count": 0,
      "outputs": [
        {
          "output_type": "execute_result",
          "data": {
            "text/plain": [
              "True"
            ]
          },
          "metadata": {
            "tags": []
          },
          "execution_count": 82
        }
      ]
    },
    {
      "cell_type": "code",
      "metadata": {
        "id": "hAM3GsGN0I50",
        "colab_type": "code",
        "outputId": "3b5a9b97-05d3-4282-f2e2-371b3c173a78",
        "colab": {
          "base_uri": "https://localhost:8080/",
          "height": 173
        }
      },
      "source": [
        "palabra = \"algoritmo\"\n",
        "for caracter in palabra:\n",
        "    print caracter"
      ],
      "execution_count": 0,
      "outputs": [
        {
          "output_type": "stream",
          "text": [
            "a\n",
            "l\n",
            "g\n",
            "o\n",
            "r\n",
            "i\n",
            "t\n",
            "m\n",
            "o\n"
          ],
          "name": "stdout"
        }
      ]
    },
    {
      "cell_type": "code",
      "metadata": {
        "id": "A0FyXI_40I51",
        "colab_type": "code",
        "colab": {}
      },
      "source": [
        "def inverso(x):\n",
        "    s = ''\n",
        "    for i in  range(len(x)-1,-1, -1):\n",
        "        s = s + x[i]\n",
        "    return s\n",
        "assert inverso(\"roma\")==\"amor\""
      ],
      "execution_count": 0,
      "outputs": []
    },
    {
      "cell_type": "code",
      "metadata": {
        "id": "OhFkkNa90I53",
        "colab_type": "code",
        "outputId": "7811cdd0-a6fe-48d1-e910-df658d2b1bc8",
        "colab": {
          "base_uri": "https://localhost:8080/",
          "height": 34
        }
      },
      "source": [
        "inverso('hola')"
      ],
      "execution_count": 0,
      "outputs": [
        {
          "output_type": "execute_result",
          "data": {
            "text/plain": [
              "'aloh'"
            ]
          },
          "metadata": {
            "tags": []
          },
          "execution_count": 85
        }
      ]
    },
    {
      "cell_type": "code",
      "metadata": {
        "id": "RBKXwabH0I54",
        "colab_type": "code",
        "colab": {}
      },
      "source": [
        "def inverso(x):\n",
        "    s =''\n",
        "    for c in x: s=c+s \n",
        "    return s\n",
        "\n",
        "assert inverso(\"roma\")==\"amor\"\n"
      ],
      "execution_count": 0,
      "outputs": []
    },
    {
      "cell_type": "code",
      "metadata": {
        "id": "s54IPGWc0I55",
        "colab_type": "code",
        "colab": {}
      },
      "source": [
        "def capicua(x): \n",
        "    return x==inverso(x)\n",
        "assert capicua(\"reconocer\")\n"
      ],
      "execution_count": 0,
      "outputs": []
    },
    {
      "cell_type": "markdown",
      "metadata": {
        "id": "CEO3Z9BU0I56",
        "colab_type": "text"
      },
      "source": [
        "## otras funciones de python para strings"
      ]
    },
    {
      "cell_type": "code",
      "metadata": {
        "id": "0uG2ZPQd0I57",
        "colab_type": "code",
        "colab": {}
      },
      "source": [
        "x = \"operaciones de strings en python\""
      ],
      "execution_count": 0,
      "outputs": []
    },
    {
      "cell_type": "code",
      "metadata": {
        "id": "ufDc_qaN0I58",
        "colab_type": "code",
        "outputId": "a7f5af77-9d53-4b38-be18-39e323e42280",
        "colab": {
          "base_uri": "https://localhost:8080/",
          "height": 34
        }
      },
      "source": [
        "x.find(\"s\")"
      ],
      "execution_count": 0,
      "outputs": [
        {
          "output_type": "execute_result",
          "data": {
            "text/plain": [
              "10"
            ]
          },
          "metadata": {
            "tags": []
          },
          "execution_count": 89
        }
      ]
    },
    {
      "cell_type": "code",
      "metadata": {
        "id": "wwjHuL920I5-",
        "colab_type": "code",
        "outputId": "0edbd2e3-21f6-4b4d-ed5e-dd23662e4c5d",
        "colab": {
          "base_uri": "https://localhost:8080/",
          "height": 34
        }
      },
      "source": [
        "x.count(\"s\")"
      ],
      "execution_count": 0,
      "outputs": [
        {
          "output_type": "execute_result",
          "data": {
            "text/plain": [
              "3"
            ]
          },
          "metadata": {
            "tags": []
          },
          "execution_count": 90
        }
      ]
    },
    {
      "cell_type": "code",
      "metadata": {
        "id": "eucmq3Ga0I6A",
        "colab_type": "code",
        "outputId": "376259f6-ada7-41e7-80ba-459fb3de0b5b",
        "colab": {
          "base_uri": "https://localhost:8080/",
          "height": 34
        }
      },
      "source": [
        "x.isalpha()"
      ],
      "execution_count": 0,
      "outputs": [
        {
          "output_type": "execute_result",
          "data": {
            "text/plain": [
              "False"
            ]
          },
          "metadata": {
            "tags": []
          },
          "execution_count": 91
        }
      ]
    },
    {
      "cell_type": "code",
      "metadata": {
        "id": "Haf6X8oU0I6B",
        "colab_type": "code",
        "outputId": "e8b0b346-7c0f-46ae-e2b8-1544adbd1dbb",
        "colab": {
          "base_uri": "https://localhost:8080/",
          "height": 34
        }
      },
      "source": [
        "x.islower()"
      ],
      "execution_count": 0,
      "outputs": [
        {
          "output_type": "execute_result",
          "data": {
            "text/plain": [
              "True"
            ]
          },
          "metadata": {
            "tags": []
          },
          "execution_count": 92
        }
      ]
    },
    {
      "cell_type": "code",
      "metadata": {
        "id": "aqfCyaBB0I6E",
        "colab_type": "code",
        "outputId": "f097f935-4749-4009-828f-2ca3475158e3",
        "colab": {
          "base_uri": "https://localhost:8080/",
          "height": 34
        }
      },
      "source": [
        "x.isupper()"
      ],
      "execution_count": 0,
      "outputs": [
        {
          "output_type": "execute_result",
          "data": {
            "text/plain": [
              "False"
            ]
          },
          "metadata": {
            "tags": []
          },
          "execution_count": 93
        }
      ]
    },
    {
      "cell_type": "code",
      "metadata": {
        "id": "Mlu71LKi0I6H",
        "colab_type": "code",
        "outputId": "2b28cf65-efbd-462d-82b0-9a246ab2c5b9",
        "colab": {
          "base_uri": "https://localhost:8080/",
          "height": 34
        }
      },
      "source": [
        "x.upper()"
      ],
      "execution_count": 0,
      "outputs": [
        {
          "output_type": "execute_result",
          "data": {
            "text/plain": [
              "'OPERACIONES DE STRINGS EN PYTHON'"
            ]
          },
          "metadata": {
            "tags": []
          },
          "execution_count": 94
        }
      ]
    },
    {
      "cell_type": "code",
      "metadata": {
        "id": "vXuwp9yl0I6I",
        "colab_type": "code",
        "outputId": "b4e3830f-cfeb-4c49-d50f-fd367184a6af",
        "colab": {
          "base_uri": "https://localhost:8080/",
          "height": 34
        }
      },
      "source": [
        "x.lower()"
      ],
      "execution_count": 0,
      "outputs": [
        {
          "output_type": "execute_result",
          "data": {
            "text/plain": [
              "'operaciones de strings en python'"
            ]
          },
          "metadata": {
            "tags": []
          },
          "execution_count": 95
        }
      ]
    },
    {
      "cell_type": "code",
      "metadata": {
        "id": "Aj3edFTy0I6J",
        "colab_type": "code",
        "outputId": "4add2195-351d-4531-ad3b-354dc6e5d123",
        "colab": {
          "base_uri": "https://localhost:8080/",
          "height": 34
        }
      },
      "source": [
        "y = \" \" + x + \" \"\n",
        "y"
      ],
      "execution_count": 0,
      "outputs": [
        {
          "output_type": "execute_result",
          "data": {
            "text/plain": [
              "' operaciones de strings en python '"
            ]
          },
          "metadata": {
            "tags": []
          },
          "execution_count": 96
        }
      ]
    },
    {
      "cell_type": "code",
      "metadata": {
        "id": "Ddz_aHKX0I6L",
        "colab_type": "code",
        "outputId": "97f69ed1-0463-4995-d96d-249d1eb6d5e1",
        "colab": {
          "base_uri": "https://localhost:8080/",
          "height": 34
        }
      },
      "source": [
        "y.strip()"
      ],
      "execution_count": 0,
      "outputs": [
        {
          "output_type": "execute_result",
          "data": {
            "text/plain": [
              "'operaciones de strings en python'"
            ]
          },
          "metadata": {
            "tags": []
          },
          "execution_count": 97
        }
      ]
    },
    {
      "cell_type": "code",
      "metadata": {
        "id": "y6DEbkhT0I6N",
        "colab_type": "code",
        "outputId": "5d4d96ff-f4e7-4a7b-add5-45d47ce17c1b",
        "colab": {
          "base_uri": "https://localhost:8080/",
          "height": 34
        }
      },
      "source": [
        "x.replace(\"o\",\"s\")"
      ],
      "execution_count": 0,
      "outputs": [
        {
          "output_type": "execute_result",
          "data": {
            "text/plain": [
              "'speracisnes de strings en pythsn'"
            ]
          },
          "metadata": {
            "tags": []
          },
          "execution_count": 98
        }
      ]
    },
    {
      "cell_type": "markdown",
      "metadata": {
        "id": "ToyVd-Yy0I6Q",
        "colab_type": "text"
      },
      "source": [
        "### ¿Cómo ver si una frase es capicúa?"
      ]
    },
    {
      "cell_type": "code",
      "metadata": {
        "id": "Lr8F5VX20I6Q",
        "colab_type": "code",
        "colab": {}
      },
      "source": [
        "def fraseCapicua(frase):\n",
        "    frase=frase.replace(\" \", \"\") #eliminar espacios\n",
        "    frase=frase.lower()  #todo a minusculas\n",
        "    return capicua(frase)\n",
        "assert fraseCapicua(\"Anita lava la tina\")\n"
      ],
      "execution_count": 0,
      "outputs": []
    },
    {
      "cell_type": "markdown",
      "metadata": {
        "id": "xWwpgsKa0I6T",
        "colab_type": "text"
      },
      "source": [
        "## Lista de listas (lista de 2 dimensiones o tabla o matriz)\n",
        "\n"
      ]
    },
    {
      "cell_type": "code",
      "metadata": {
        "id": "3pmVEEUA0I6T",
        "colab_type": "code",
        "outputId": "134dbb25-6163-4427-b6d1-32837306bd87",
        "colab": {
          "base_uri": "https://localhost:8080/",
          "height": 121
        }
      },
      "source": [
        "\n",
        "T=[[\"gabriela\",\"jose\",\"rosa\",\"matias\"],\\\n",
        "   [62,48,56,49],\\\n",
        "   [45,52,35,48]]\n",
        "#promedios por pregunta (por filas)\n",
        "for i in range(1,len(T)):\n",
        "    print \"promedio pregunta\",i,float(sum(T[i]))/len(T[i])\n",
        "\n",
        "#promedios por alumno (por columnas)\n",
        "for j in range(len(T[0])):\n",
        "    s=0.0\n",
        "    for i in range(1,len(T)):\n",
        "        s+=T[i][j]\n",
        "    print \"promedio: \",T[0][j],s/(len(T)-1)\n"
      ],
      "execution_count": 0,
      "outputs": [
        {
          "output_type": "stream",
          "text": [
            "promedio pregunta 1 53.75\n",
            "promedio pregunta 2 45.0\n",
            "promedio:  gabriela 53.5\n",
            "promedio:  jose 50.0\n",
            "promedio:  rosa 45.5\n",
            "promedio:  matias 48.5\n"
          ],
          "name": "stdout"
        }
      ]
    },
    {
      "cell_type": "markdown",
      "metadata": {
        "id": "WDUOXDYq0I6V",
        "colab_type": "text"
      },
      "source": [
        "## Ejercicio 10 (entregar vía u-cursos antes de la auxiliar el viernes)\n",
        "\n",
        "Hacer un programa que calcule los promedios por pregunta y por alumno para \n",
        "\n",
        "```python\n",
        "T=[[\"gabriela\",62,45],\\\n",
        "   [\"jose\",48,52],\\\n",
        "   [\"rosa\",56,35],\\\n",
        "   [\"matias\",49,48]]\n",
        "```\n",
        "\n",
        "Suponga muchos alumnos y muchas notas\n"
      ]
    },
    {
      "cell_type": "code",
      "metadata": {
        "id": "p2KjGO720I6W",
        "colab_type": "code",
        "outputId": "b2952cd3-438a-483d-faeb-8775ec62e5fa",
        "colab": {
          "base_uri": "https://localhost:8080/",
          "height": 311
        }
      },
      "source": [
        ""
      ],
      "execution_count": 0,
      "outputs": [
        {
          "output_type": "stream",
          "text": [
            "promedios por pregunta\n",
            "Promedio pregunta 1 : 53.75\n",
            "Promedio pregunta 2 : 45.0\n",
            "\n",
            "Promedios por alumno\n",
            "Alumno: gabriela\n",
            "Promedio: 53.5\n",
            "\n",
            "Alumno: jose\n",
            "Promedio: 50.0\n",
            "\n",
            "Alumno: rosa\n",
            "Promedio: 45.5\n",
            "\n",
            "Alumno: matias\n",
            "Promedio: 48.5\n",
            "\n"
          ],
          "name": "stdout"
        }
      ]
    }
  ]
}