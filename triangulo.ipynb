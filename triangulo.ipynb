{
  "nbformat": 4,
  "nbformat_minor": 0,
  "metadata": {
    "kernelspec": {
      "display_name": "Python 2",
      "language": "python",
      "name": "python2"
    },
    "language_info": {
      "codemirror_mode": {
        "name": "ipython",
        "version": 2
      },
      "file_extension": ".py",
      "mimetype": "text/x-python",
      "name": "python",
      "nbconvert_exporter": "python",
      "pygments_lexer": "ipython2",
      "version": "2.7.13"
    },
    "colab": {
      "name": "triangulo.ipynb",
      "version": "0.3.2",
      "provenance": [],
      "collapsed_sections": [],
      "include_colab_link": true
    }
  },
  "cells": [
    {
      "cell_type": "markdown",
      "metadata": {
        "id": "view-in-github",
        "colab_type": "text"
      },
      "source": [
        "<a href=\"https://colab.research.google.com/github/bpoblete/CC1002_9/blob/master/triangulo.ipynb\" target=\"_parent\"><img src=\"https://colab.research.google.com/assets/colab-badge.svg\" alt=\"Open In Colab\"/></a>"
      ]
    },
    {
      "cell_type": "markdown",
      "metadata": {
        "id": "d5VsHme8qvtU",
        "colab_type": "text"
      },
      "source": [
        "## Módulo Triángulo"
      ]
    },
    {
      "cell_type": "code",
      "metadata": {
        "id": "Ts10iiWyqvtV",
        "colab_type": "code",
        "colab": {}
      },
      "source": [
        "import math"
      ],
      "execution_count": 0,
      "outputs": []
    },
    {
      "cell_type": "code",
      "metadata": {
        "id": "O7h3NG0_qvtZ",
        "colab_type": "code",
        "colab": {}
      },
      "source": [
        "# perimetro: num num num -> num\n",
        "# calcula el perimetro de un triangulo de lados a, b, c\n",
        "# ejemplo: perimetro(2,3,2) debe dar 7\n",
        "def perimetro(a, b, c):\n",
        "  return a+b+c\n",
        "# Tests\n",
        "assert perimetro(2,3,2) == 7\n"
      ],
      "execution_count": 0,
      "outputs": []
    },
    {
      "cell_type": "code",
      "metadata": {
        "id": "cBb_JNGhqvte",
        "colab_type": "code",
        "colab": {}
      },
      "source": [
        "# area: num num num -> num\n",
        "# calcula el area de un triangulo de lados a, b, c\n",
        "# ejemplo: area(3,  4, 5) debe dar 6\n",
        "def area(a, b, c):\n",
        "  semi = perimetro(a, b, c)/2.0\n",
        "  return math.sqrt(semi*(semi-a)*(semi-b)*(semi-c))\n",
        "# Tests\n",
        "assert area(3,4,5) == 6\n"
      ],
      "execution_count": 0,
      "outputs": []
    }
  ]
}