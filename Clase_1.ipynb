{
  "nbformat": 4,
  "nbformat_minor": 0,
  "metadata": {
    "kernelspec": {
      "display_name": "Python 2",
      "language": "python",
      "name": "python2"
    },
    "language_info": {
      "codemirror_mode": {
        "name": "ipython",
        "version": 2
      },
      "file_extension": ".py",
      "mimetype": "text/x-python",
      "name": "python",
      "nbconvert_exporter": "python",
      "pygments_lexer": "ipython2",
      "version": "2.7.13"
    },
    "colab": {
      "name": "Clase 1.ipynb",
      "version": "0.3.2",
      "provenance": [],
      "collapsed_sections": [],
      "include_colab_link": true
    }
  },
  "cells": [
    {
      "cell_type": "markdown",
      "metadata": {
        "id": "view-in-github",
        "colab_type": "text"
      },
      "source": [
        "<a href=\"https://colab.research.google.com/github/bpoblete/CC1002_9/blob/master/Clase_1.ipynb\" target=\"_parent\"><img src=\"https://colab.research.google.com/assets/colab-badge.svg\" alt=\"Open In Colab\"/></a>"
      ]
    },
    {
      "cell_type": "markdown",
      "metadata": {
        "id": "XiCbWfHCqJLh",
        "colab_type": "text"
      },
      "source": [
        "# Introducción al Curso\n",
        "\n",
        "\n",
        "## Objetivos del curso\n",
        "\n",
        "El objetivo principal de este curso no es formar programadores, sino desarrollar en los alumnos una base común en razonamiento algorítmico y lógico, así como una capacidad de modelamiento y abstracción, necesarios para trabajar una habilidad general en la resolución de problemas. Estos problemas no necesariamente estarán acotados en el contexto de las Ciencias de la Computación, sino en el ámbito cotidiano y de la Ingeniería y Ciencias en general.\n",
        "\n",
        "\n",
        "## Metodología de trabajo\n",
        "\n",
        "Las clases de cátedra se realizan mezclando clase expositiva con metodología activa. Es decir, la profesora expone los contenidos del curso y realiza además aprendizaje basado en el desarrollo de problemas.\n",
        "\n",
        "El material del curso está diseñado para que los alumnos puedan bajarlo antes o durante las clases y que, si quieren, puedan ir siguiendo las actividades de manera interactiva. Para esto, los asistentes podrán traer su computador personal o solicitar al equipo docente el préstamo de un equipo para usar durante el módulo. \n",
        "\n",
        "\n",
        "## Reglas del curso\n",
        "\n",
        "\n",
        "- **NF (nota final):** 2/3 NC + 1/3 NT (NC>=4 y NT>=4)\n",
        "- **NP (nota presentación):** promedio 3 controles\n",
        "- **NC (nota control):** 60% NP + 40% Examen\n",
        "- **NT (nota tareas):** promedio 4 tareas (1 x unidad)\n",
        "\n",
        "\n",
        "## Ejercicios\n",
        "\n",
        "Se realizarán **ejercicios con nota** durante los últimos 20 minutos de clases, por lo menos una vez a la semana (puede ser tanto en clase de cátedra como auxiliar, hasta un máximo de 2 veces por semana). Esta actividad consiste el desarrollo de un problema simple, con la ayuda del equipo docente, y tiene por único objetivo reforzar y consolidar el aprendizaje visto durante la clase. La nota de ejercicio es opcional y permitirá a los alumnos que hayan rendido los ejercicios eximirse con menor nota del examen (ver detalles más abajo).\n",
        "\n",
        "La escala que se utilizará para los ejercicios es:\n",
        "\n",
        "- 1 (insuficiente)\n",
        "- 2 (suficiente)\n",
        "- 3 (excelente)\n",
        "\n",
        "\n",
        "## Nota de eximición:\n",
        "\n",
        "- Todos los alumnos/as con nota >= 5.5 pueden eximirse del examen final. \n",
        "- Los alumnos con nota < 5.5 y >= 5.0 pueden eximirse con un mínimo de 75% de ejercicios rendidos y promedio de estos >= 2.0\n",
        "\n",
        "\n",
        "## Compromiso ético de trabajo personal durante el curso\n",
        "\n",
        "Se asume que todos los alumnos que participan del curso cumplirán con un compromiso ético en el desarrollo de su trabajo. Este compromiso implica realizar las tareas de manera responsable \n",
        "y honesta, sin incurrir en plagio, copia, o suplantación de identidad. Todas las evaluaciones, consistentes en ejercicios, controles, examen y tareas son trabajos de carácter individual (a no ser que se indique explícitamente lo contrario). El no cumplir con este compromiso de cualquier manera es causa de reprobación del curso.\n",
        "\n",
        "## Normas de convivencia (¡sin distracciones!)\n",
        "\n",
        "La asistencia a clases _no es obligatoria_, pero sin duda **los alumnos que asisten a clases regularmente son los que presentan mejor desempeño y mejor calidad de vida**.\n",
        "\n",
        "Los alumnos deben considerar que **todas las actividades** que realiza el equipo docente están dirigidas a fomentar de la mejor manera posible el aprendizaje en el curso. Por lo tanto, en las clases se buscará un ambiente de respeto y que permita poner atención, es decir, sin distracciones. Por esto se pide a los alumnos que asisten a clases que se abstengan de desarrollar actividades que no estén relacionados con ésta, como usar el teléfono o el computador para otras cosas (eso se puede hacer pero afuera de la sala). [Acá pueden encontrar un ejemplo](https://retina.elpais.com/retina/2017/08/16/talento/1502882196_927196.html) de los cientos de estudios que muestran que las personas no podemos poner atención a más de una cosa a la vez.\n",
        "\n",
        "\n",
        "# Herramientas del curso\n",
        "\n",
        "- Python 2.7 (IDLE)\n",
        "- Colab de Google\n",
        "- Jupyter Notebook (opcional, instrucciones de instalación al final).\n",
        "\n",
        "***\n"
      ]
    },
    {
      "cell_type": "markdown",
      "metadata": {
        "id": "dQ_uW2m8qJLj",
        "colab_type": "text"
      },
      "source": [
        "# Unidad 1: Expresiones y Tipos de Datos Básicos\n",
        "\n",
        "\n",
        "## Objetivos del curso\n",
        "\n",
        "- Base de razonamiento lógico y algorítmico.\n",
        "- Modelamiento y abstracción.\n",
        "- Importante para resolver problemas!\n",
        "\n",
        "\n",
        "## ¿Qué es un algoritmo?\n",
        "\n",
        "Un algoritmo es una secuencia finita de pasos que permiten ejecutar cualquier tarea (como por ejemplo, hacer un huevo frito). La palabra algoritmo viene de la transcripción latina del nombre de _Abu Abdallah Muhammad ibn Musa al-Khwarizmi_, un famoso matemático, astrónomo y geógrafo persa del siglo IX, padre del álgebra y quien introdujo el concepto matemático de algoritmo.\n",
        "\n",
        "\n",
        "### Ejemplo \"cocinar un huevo frito\".\n",
        "\n",
        "- Problema?\n",
        "- Elementos?\n",
        "\n",
        "- Pasos de ejecución (romper el problema en unidades básicas):\n",
        "\n",
        "1. Encender un `fósforo`\n",
        "2. Con el `fósforo`, prender un quemador de la `cocina`\n",
        "3. Colocar la `sartén` sobre el quemador de la `cocina`\n",
        "4. Poner unas gotas de `aceite` sobre la `sartén`\n",
        "5. Tomar un `huevo` y quebrarlo\n",
        "6. Colocar el huevo quebrado sobre la `sartén`\n",
        "7. Esperar hasta que el `huevo` esté listo\n",
        "\n",
        "\n",
        "\n"
      ]
    },
    {
      "cell_type": "markdown",
      "metadata": {
        "id": "HtHzgBsKqJLk",
        "colab_type": "text"
      },
      "source": [
        "## ¿Qué es un programa?\n",
        "\n",
        "- Especificación ejecutable de un algoritmo.\n",
        "- Para representar un programa en un computador utilizamos un lenguaje de programación (Python)\n",
        "- Comenzaremos a trabajar con su interprete: lee las expresiones, las evalua e imprime su resultado.\n",
        "- Python es una herramienta no es un fin, el objetivo es aprender a resolver problemas.\n",
        "\n",
        "***\n",
        "\n",
        "\n",
        "# Programas simples\n",
        "\n",
        "\n",
        "## Tipos de datos básicos\n",
        "\n",
        "Indica al computador las características de los datos con los que va a trabajar. Esto incluye imponer restricciones sobre los datos, tales como qué valores puede tomar o qué operaciones se pueden realizar sobre éste. Todos los valores en un programa tienen un tipo.\n",
        "\n",
        "**Enteros (int)**:\n",
        "`-1, -2, -3,.., 0, 1, 2, ..`\n",
        "\n",
        "**Reales (float)**:\n",
        "`0.3456`, cualquier número con punto decimal.\n",
        "\n",
        "**Texto (str)**:\n",
        "`'hola'`, `\"Mi mascota es un ñandú\"`, `'123'` etc.\n",
        "\n"
      ]
    },
    {
      "cell_type": "markdown",
      "metadata": {
        "id": "Ud9qHdjRqJLk",
        "colab_type": "text"
      },
      "source": [
        "## Evaluación de expresiones\n",
        "\n",
        "Con los tipos de datos explicados anteriormente, podemos realizar operaciones entre ellos utilizando operadores específicos en cada caso. Así, para datos numéricos (enteros y reales), podemos usar los operadores de suma (+), resta (-), multiplicación (*) y división (/). Las prioridades de los operadores es la misma usada en álgebra"
      ]
    },
    {
      "cell_type": "code",
      "metadata": {
        "id": "tE-ayZosqJLl",
        "colab_type": "code",
        "colab": {}
      },
      "source": [
        "3+5"
      ],
      "execution_count": 0,
      "outputs": []
    },
    {
      "cell_type": "code",
      "metadata": {
        "id": "xDw21cX1qJLo",
        "colab_type": "code",
        "colab": {}
      },
      "source": [
        "12+24"
      ],
      "execution_count": 0,
      "outputs": []
    },
    {
      "cell_type": "code",
      "metadata": {
        "id": "88uW82cTqJLr",
        "colab_type": "code",
        "colab": {}
      },
      "source": [
        "3+2*5"
      ],
      "execution_count": 0,
      "outputs": []
    },
    {
      "cell_type": "code",
      "metadata": {
        "id": "hq5nX-6zqJLt",
        "colab_type": "code",
        "colab": {}
      },
      "source": [
        "3 + 2 * 5"
      ],
      "execution_count": 0,
      "outputs": []
    },
    {
      "cell_type": "markdown",
      "metadata": {
        "id": "MjEWheSzqJLv",
        "colab_type": "text"
      },
      "source": [
        "Operador de potencia y resto:"
      ]
    },
    {
      "cell_type": "code",
      "metadata": {
        "id": "95VX2E-WqJLv",
        "colab_type": "code",
        "colab": {}
      },
      "source": [
        "4 ** 3"
      ],
      "execution_count": 0,
      "outputs": []
    },
    {
      "cell_type": "code",
      "metadata": {
        "id": "veqpypsaqJLx",
        "colab_type": "code",
        "colab": {}
      },
      "source": [
        "4**0.5"
      ],
      "execution_count": 0,
      "outputs": []
    },
    {
      "cell_type": "code",
      "metadata": {
        "id": "zofxl8vCqJLz",
        "colab_type": "code",
        "colab": {}
      },
      "source": [
        "10%3"
      ],
      "execution_count": 0,
      "outputs": []
    },
    {
      "cell_type": "markdown",
      "metadata": {
        "id": "kH093gtoqJL1",
        "colab_type": "text"
      },
      "source": [
        "Operaciones con texto, concatenación (unir/sumar '+') y repetir '*':"
      ]
    },
    {
      "cell_type": "code",
      "metadata": {
        "id": "SFNnuqH_qJL3",
        "colab_type": "code",
        "colab": {}
      },
      "source": [
        "'abra' +    'cadabra'"
      ],
      "execution_count": 0,
      "outputs": []
    },
    {
      "cell_type": "code",
      "metadata": {
        "id": "ljmhIbw9qJL6",
        "colab_type": "code",
        "colab": {}
      },
      "source": [
        "'ja'*3\n"
      ],
      "execution_count": 0,
      "outputs": []
    },
    {
      "cell_type": "markdown",
      "metadata": {
        "id": "6huzgf-EqJL8",
        "colab_type": "text"
      },
      "source": [
        "División entera:"
      ]
    },
    {
      "cell_type": "code",
      "metadata": {
        "id": "Nts24w0-qJL9",
        "colab_type": "code",
        "colab": {}
      },
      "source": [
        "1/2"
      ],
      "execution_count": 0,
      "outputs": []
    },
    {
      "cell_type": "code",
      "metadata": {
        "id": "1PqChjwHqJL_",
        "colab_type": "code",
        "colab": {}
      },
      "source": [
        "1.0/2.0"
      ],
      "execution_count": 0,
      "outputs": []
    },
    {
      "cell_type": "code",
      "metadata": {
        "id": "sjKejPEYqJMB",
        "colab_type": "code",
        "colab": {}
      },
      "source": [
        "1/2.0"
      ],
      "execution_count": 0,
      "outputs": []
    },
    {
      "cell_type": "code",
      "metadata": {
        "id": "IfMuhxMVqJMC",
        "colab_type": "code",
        "colab": {}
      },
      "source": [
        "1.0/2"
      ],
      "execution_count": 0,
      "outputs": []
    },
    {
      "cell_type": "markdown",
      "metadata": {
        "id": "ilIDp_Q7qJME",
        "colab_type": "text"
      },
      "source": [
        "Finalmente, si queremos juntar valores de tipo texto con valores de tipo numérico, debemos convertir estos últimos previamente a valores de tipo texto. Por ejemplo, si queremos transformar un valor **`n`** a un valor equivalente de tipo texto, utilizamos la función de Python **`str`**. De igual manera, si tenemos un valor de tipo texto que se puede entender como número, por ejemplo '103', podemos convertir el valor en tipo numérico usando las funciones int y float. Así:"
      ]
    },
    {
      "cell_type": "code",
      "metadata": {
        "id": "Xt-EbEY3qJME",
        "colab_type": "code",
        "colab": {}
      },
      "source": [
        "'En el curso hay '+ str(30) +' alumnos'"
      ],
      "execution_count": 0,
      "outputs": []
    },
    {
      "cell_type": "code",
      "metadata": {
        "id": "N4oeFDLoqJMG",
        "colab_type": "code",
        "colab": {}
      },
      "source": [
        "'100'+'1'"
      ],
      "execution_count": 0,
      "outputs": []
    },
    {
      "cell_type": "code",
      "metadata": {
        "id": "EZJjiuMtqJMI",
        "colab_type": "code",
        "colab": {}
      },
      "source": [
        "int('100') + 1"
      ],
      "execution_count": 0,
      "outputs": []
    },
    {
      "cell_type": "code",
      "metadata": {
        "id": "dz409aNeqJMK",
        "colab_type": "code",
        "colab": {}
      },
      "source": [
        "nombre='Bernardo'\n",
        "apellido=\"O'Higgins\"\n",
        "nombre"
      ],
      "execution_count": 0,
      "outputs": []
    },
    {
      "cell_type": "markdown",
      "metadata": {
        "id": "QQ8tA5WgqJMM",
        "colab_type": "text"
      },
      "source": [
        "\n",
        "# Variables\n",
        "\n",
        "Sirven para guardar resultados de evaluaciones de expresiones.\n",
        "\n"
      ]
    },
    {
      "cell_type": "code",
      "metadata": {
        "id": "hPJfNDwmqJMN",
        "colab_type": "code",
        "colab": {}
      },
      "source": [
        "a = 8 # la variable a contiene el valor 8"
      ],
      "execution_count": 0,
      "outputs": []
    },
    {
      "cell_type": "code",
      "metadata": {
        "id": "AYOBRFqtqJMQ",
        "colab_type": "code",
        "colab": {}
      },
      "source": [
        "b = 12 # la variable b contiene el valor 12"
      ],
      "execution_count": 0,
      "outputs": []
    },
    {
      "cell_type": "code",
      "metadata": {
        "id": "8VKna6gcqJMU",
        "colab_type": "code",
        "colab": {}
      },
      "source": [
        "a # mostramos el valor de a"
      ],
      "execution_count": 0,
      "outputs": []
    },
    {
      "cell_type": "code",
      "metadata": {
        "id": "5hWGXei1qJMW",
        "colab_type": "code",
        "colab": {}
      },
      "source": [
        "a+b # creamos una expresión y mostramos su valor\n"
      ],
      "execution_count": 0,
      "outputs": []
    },
    {
      "cell_type": "code",
      "metadata": {
        "id": "Rnn6lTw5qJMY",
        "colab_type": "code",
        "colab": {}
      },
      "source": [
        "c = a + 2 * b # creamos una expresión, se evalúa y se define c con su valor"
      ],
      "execution_count": 0,
      "outputs": []
    },
    {
      "cell_type": "code",
      "metadata": {
        "id": "2gkZBdykqJMZ",
        "colab_type": "code",
        "colab": {}
      },
      "source": [
        "c # mostramos el valor de c"
      ],
      "execution_count": 0,
      "outputs": []
    },
    {
      "cell_type": "code",
      "metadata": {
        "id": "6737faF6qJMb",
        "colab_type": "code",
        "colab": {}
      },
      "source": [
        "a = 10 # redefinimos a"
      ],
      "execution_count": 0,
      "outputs": []
    },
    {
      "cell_type": "code",
      "metadata": {
        "id": "fyd-WgCiqJMd",
        "colab_type": "code",
        "colab": {}
      },
      "source": [
        "a + b"
      ],
      "execution_count": 0,
      "outputs": []
    },
    {
      "cell_type": "code",
      "metadata": {
        "id": "Lys7h0oeqJMf",
        "colab_type": "code",
        "colab": {}
      },
      "source": [
        "c # el valor no cambia ya que lo cambiamos antes de la re-definición de a"
      ],
      "execution_count": 0,
      "outputs": []
    },
    {
      "cell_type": "markdown",
      "metadata": {
        "id": "7pnMq1M1qJMg",
        "colab_type": "text"
      },
      "source": [
        "**\\#** sirve para introducir comentarios\n",
        "\n",
        "# Usar nombres descriptivos para las variables\n",
        "\n",
        "Mal ejemplo:"
      ]
    },
    {
      "cell_type": "code",
      "metadata": {
        "id": "kYQO4aIaqJMh",
        "colab_type": "code",
        "colab": {}
      },
      "source": [
        "a = 8\n",
        "b = 12\n",
        "c = a * b"
      ],
      "execution_count": 0,
      "outputs": []
    },
    {
      "cell_type": "markdown",
      "metadata": {
        "id": "2HNNGhQ9qJMi",
        "colab_type": "text"
      },
      "source": [
        "\n",
        "Mejor:"
      ]
    },
    {
      "cell_type": "code",
      "metadata": {
        "id": "7WwoCxenqJMj",
        "colab_type": "code",
        "colab": {}
      },
      "source": [
        "ancho = 8\n",
        "largo = 12\n",
        "area = ancho*largo\n",
        "area"
      ],
      "execution_count": 0,
      "outputs": []
    },
    {
      "cell_type": "code",
      "metadata": {
        "id": "qoZg7vYfqJMl",
        "colab_type": "code",
        "colab": {}
      },
      "source": [
        "dia='12'; mes='marzo'; agno='2018'\n",
        "hoy = dia +' de '+ mes + ' de '+ agno\n",
        "hoy"
      ],
      "execution_count": 0,
      "outputs": []
    },
    {
      "cell_type": "markdown",
      "metadata": {
        "collapsed": true,
        "id": "Epzb_FH9qJMn",
        "colab_type": "text"
      },
      "source": [
        "\n",
        "# Errores\n",
        "\n",
        "\n",
        "Errores de tipo"
      ]
    },
    {
      "cell_type": "code",
      "metadata": {
        "id": "DdLqLIIBqJMo",
        "colab_type": "code",
        "colab": {}
      },
      "source": [
        "dia = 13\n",
        "mes = 'marzo'\n",
        "'Hoy es ' + dia + ' de ' + mes"
      ],
      "execution_count": 0,
      "outputs": []
    },
    {
      "cell_type": "code",
      "metadata": {
        "id": "iLIXLTSZqJMq",
        "colab_type": "code",
        "colab": {}
      },
      "source": [
        "dia = 13\n",
        "mes = 'marzo'\n",
        "'Hoy es ' + str(dia) + ' de ' + mes"
      ],
      "execution_count": 0,
      "outputs": []
    },
    {
      "cell_type": "markdown",
      "metadata": {
        "collapsed": true,
        "id": "--NFLNiTqJMt",
        "colab_type": "text"
      },
      "source": [
        "\n",
        "Errores de indentación\n",
        "\n"
      ]
    },
    {
      "cell_type": "code",
      "metadata": {
        "id": "T2IYLSMIqJMu",
        "colab_type": "code",
        "colab": {}
      },
      "source": [
        "x = 3\n",
        "    x\n"
      ],
      "execution_count": 0,
      "outputs": []
    },
    {
      "cell_type": "markdown",
      "metadata": {
        "id": "5kSFKTydqJMw",
        "colab_type": "text"
      },
      "source": [
        "Errores de sintaxis"
      ]
    },
    {
      "cell_type": "code",
      "metadata": {
        "id": "VP6U0NCZqJMx",
        "colab_type": "code",
        "colab": {}
      },
      "source": [
        "numero = 15\n",
        "antecesor = (numero - 1))"
      ],
      "execution_count": 0,
      "outputs": []
    },
    {
      "cell_type": "markdown",
      "metadata": {
        "collapsed": true,
        "id": "tZl-AXApqJMz",
        "colab_type": "text"
      },
      "source": [
        "Errores de nombre"
      ]
    },
    {
      "cell_type": "code",
      "metadata": {
        "id": "KeNkAGVtqJM0",
        "colab_type": "code",
        "colab": {}
      },
      "source": [
        "lado1 = 15\n",
        "area = lado1/lado2"
      ],
      "execution_count": 0,
      "outputs": []
    },
    {
      "cell_type": "markdown",
      "metadata": {
        "id": "M33ZATvcqJM2",
        "colab_type": "text"
      },
      "source": [
        "\n",
        "\n",
        "\n",
        "# Ejercicio 1 (enviar antes de la próxima clase)\n",
        "\n",
        "El primer ejercicio consiste en que Ud. ejecute en python, y de manera personal, todos los comandos vistos en esta clase. Todos los apuntes de la clase se encontrarán disponibles en el [repositorio github del curso](https://github.com/bpoblete/CC1002_9) seleccionando el enlace `Clase_1.ipynb`.\n",
        "\n",
        "Existen 3 formas para hacer esto:\n",
        "\n",
        "1. Forma muy fácil, utilizando el editor en línea Colab de Google (sólo requiere un navegador con Internet, no necesita instalar python):\n",
        "\n",
        "  Ud. deberá acceder a esta clase en el [repositorio github del curso](https://github.com/bpoblete/CC1002_9), ahí deberá seleccionar el enlace con la Clase 1 \"Clase_1.ipynb\". Una vez abierto el enlace deberá apretar el botón que dice \"open in colab\", lo cual abrirá una copia de la clase. Luego, puede guardar una copia en su computador (en su google drive) y comenzar la ejecucción de los comandos. Una vez terminado puede imprimir su notebook o guardarlo y enviarlo vía tareas en u-cursos. (se puede enviar un `.py` o `.ipynb`).\n",
        "\n",
        "2. Forma fácil, utilizando IDLE de python en su propio computador (requiere instalar python): \n",
        "\n",
        "  Bajando e instalando python 2.7 en su propio computador (o utilizar los computadores de los laboratorios de alumnos). En esta opción debe abrir el comando IDLE de python e ir escribiendo uno a uno los comandos vistos en clases para ejecutarlos en la consola interactiva. \n",
        "  \n",
        "  Para enviarlo puede decir \"guardar como...\" en IDLE, con lo cual guarda un archivo en python (`.py`) que luego se debe enviar vía tareas en u-cursos.\n",
        "  \n",
        "  Nota: Esta opción no permite interactuarl con el cuaderno (notebook) que utilizamos en clases, sólo ejecutar el código. \n",
        "\n",
        "3. Forma difícil (para trabajar sin Internet utilizando Jupyter Notebook):\n",
        "  \n",
        "  Para esto debe bajar el software [Jupyter Notebook](http://jupyter.org/install.html) (ahí dice que lo más fácil es instalarlo utilizando [Anaconda](https://www.anaconda.com/download/)). Una vez instalado  Ud. deberá bajar la clase  \"Clase_1.ipynb\" desde el [repositorio github del curso](https://github.com/bpoblete/CC1002_9) y abrirlo con su Jupyter Notebook. Luego deberá ejectuar los comandos, grabar su notebook y enviarlo vía tareas en u-cursos. (se puede enviar un `.py` o `.ipynb`).\n",
        "\n",
        "Además pueden agregar sus propios apuntes y notas al notebook haciendo doble click en el texto. Esto se hace en un formato muy simple llamado _markdown_, acá hay una [referencia rápida](https://github.com/adam-p/markdown-here/wiki/Markdown-Cheatsheet) y acá [otra](http://rmarkdown.rstudio.com/authoring_basics.html). Esto es aconsejable si quieren tomar apuntes clase a clase que incluyan código.\n",
        "\n",
        "Cualquier problema para hacer este primer ejercicio no duden en consultar con los auxiliares o la profesora utilizando el foro del curso. La idea es utilizar este ejercicio para que se familiaricen con la herramienta. (Puede parecer difícil, pero no lo es, en serio!)."
      ]
    }
  ]
}