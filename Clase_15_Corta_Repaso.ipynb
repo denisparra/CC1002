{
  "nbformat": 4,
  "nbformat_minor": 0,
  "metadata": {
    "kernelspec": {
      "display_name": "Python 2",
      "language": "python",
      "name": "python2"
    },
    "language_info": {
      "codemirror_mode": {
        "name": "ipython",
        "version": 2
      },
      "file_extension": ".py",
      "mimetype": "text/x-python",
      "name": "python",
      "nbconvert_exporter": "python",
      "pygments_lexer": "ipython2",
      "version": "2.7.13"
    },
    "colab": {
      "name": "Clase 15 Corta Repaso.ipynb",
      "provenance": [],
      "collapsed_sections": [],
      "include_colab_link": true
    }
  },
  "cells": [
    {
      "cell_type": "markdown",
      "metadata": {
        "id": "view-in-github",
        "colab_type": "text"
      },
      "source": [
        "<a href=\"https://colab.research.google.com/github/bpoblete/CC1002_9/blob/master/Clase_15_Corta_Repaso.ipynb\" target=\"_parent\"><img src=\"https://colab.research.google.com/assets/colab-badge.svg\" alt=\"Open In Colab\"/></a>"
      ]
    },
    {
      "cell_type": "markdown",
      "metadata": {
        "id": "vnK-NdLjCeT7",
        "colab_type": "text"
      },
      "source": [
        "# Repaso Unidad 2\n",
        "\n",
        "- Estructuras\n",
        "- Estructuras recursivas: listas\n",
        "- Funciones abstractas\n",
        "- Estructuras recursivas: árbol binario\n",
        "\n"
      ]
    },
    {
      "cell_type": "markdown",
      "metadata": {
        "id": "jVfg5XjQCeT8",
        "colab_type": "text"
      },
      "source": [
        "## Estructuras (structs)\n",
        "\n",
        "Una **estructura (struct)** es un tipo de datos que permite encapsular\n",
        "un conjunto fijo de valores (de uno o más tipos), representados por\n",
        "atributos, para conformar un único valor compuesto.  En efecto, podemos\n",
        "representar una _fracción_ como una estructura formada por dos\n",
        "atributos: un _numerador_ y un _denominador_.\n",
        "\n",
        "Para trabajar con estructuras en este curso, disponemos del módulo **`estructura.py`** que contiene las definiciones básicas para poder crear estructuras.\n",
        "\n",
        "```python\n",
        "import estructura\n",
        "estructura.crear(\"nombre\", \"atributo1 atributo2 ...  atributoN\")\n",
        "```\n",
        "\n",
        "\n",
        "### Ejemplo: Estructura para manipular fracciones\n",
        "\n",
        "- Conviene guardar en un archivo (módulo) junto con las funciones que operan fracciones\n",
        "- Cada función según el siguiente patrón:\n",
        "  - Contrato: tipos parámetros->tipo resultado\n",
        "  - Objetivo (propósito) de la función\n",
        "  - Ejemplo(s)\n",
        "  - Cuerpo de la función\n",
        "  - Pruebas (test)\n",
        "  \n",
        " "
      ]
    },
    {
      "cell_type": "code",
      "metadata": {
        "id": "c9EITqKOS_ju",
        "colab_type": "code",
        "colab": {}
      },
      "source": [
        ""
      ],
      "execution_count": 0,
      "outputs": []
    },
    {
      "cell_type": "code",
      "metadata": {
        "id": "5c5cpAiSCeT-",
        "colab_type": "code",
        "colab": {}
      },
      "source": [
        "import estructura\n",
        "# Diseno de la estructura\n",
        "# fraccion: numerador (int) denominador(int)\n",
        "estructura.crear(\"fraccion\", \"numerador denominador\")\n",
        "\n",
        "#esFraccion: any -> bool\n",
        "#True si x es una fraccion valida\n",
        "#ej: esFraccion(fraccion(1,2))->True\n",
        "#ej: esFraccion(fraccion(1,0))->False\n",
        "def esFraccion(x):\n",
        "    return type(x)==fraccion \\\n",
        "        and type(x.numerador)==int \\\n",
        "        and type(x.denominador)==int \\\n",
        "        and x.denominador!=0\n",
        "        \n",
        "assert esFraccion(fraccion(1,2))\n",
        "assert not esFraccion(fraccion(1,0))\n"
      ],
      "execution_count": 0,
      "outputs": []
    },
    {
      "cell_type": "code",
      "metadata": {
        "id": "bUApPIAICeUE",
        "colab_type": "code",
        "colab": {}
      },
      "source": [
        "# Contrato\n",
        "# sumaFracciones: fraccion fraccion -> fraccion\n",
        "\n",
        "# Proposito\n",
        "# crear una nueva fraccion que corresponda a la suma de dos fracciones f1 y f2\n",
        "\n",
        "# Ejemplo:\n",
        "# sumaFracciones(fraccion(1,2), fraccion(3,4))\n",
        "# devuelve fraccion(10,8)\n",
        "def sumaFracciones(f1,f2):\n",
        "    assert type(f1) == fraccion and type(f2)==fraccion\n",
        "    assert f1.denominador != 0 and f2.denominador != 0\n",
        "    \n",
        "    num = f1.numerador*f2.denominador + f1.denominador*f2.numerador\n",
        "    den = f1.denominador*f2.denominador\n",
        "    return fraccion(num,den)\n",
        "\n",
        "# Test\n",
        "f12=fraccion(1,2)\n",
        "f34=fraccion(3,4)\n",
        "assert sumaFracciones(f12,f34) == fraccion(10,8)"
      ],
      "execution_count": 0,
      "outputs": []
    },
    {
      "cell_type": "code",
      "metadata": {
        "id": "5YIL6XPrCeUI",
        "colab_type": "code",
        "colab": {}
      },
      "source": [
        "#comparar: fraccion fraccion -> int\n",
        "#0 si x==y, n°>0 si x>y, n°<0 si x<y\n",
        "#ej: comparar(fraccion(1,2),fraccion(2,4))==0\n",
        "\n",
        "def comparar(x,y):\n",
        "    assert esFraccion(x)\n",
        "    assert esFraccion(y)\n",
        "    return x.numerador   * y.denominador - \\\n",
        "           x.denominador * y.numerador\n",
        "\n",
        "assert comparar(fraccion(1,2),fraccion(2,4))==0\n",
        "assert comparar(fraccion(1,2),fraccion(1,3))>0\n"
      ],
      "execution_count": 0,
      "outputs": []
    },
    {
      "cell_type": "markdown",
      "metadata": {
        "id": "0wDygXRJCeUL",
        "colab_type": "text"
      },
      "source": [
        "## Estructuras de Datos Recursivas: Listas\n",
        "\n",
        "\n",
        "![lista](https://drive.google.com/uc?export=view&id=0B3jzzeIB00s1SHhBeWV5UEdMNTg)\n",
        "\n",
        "Tal como lo vimos en el capítulo anterior, una de las maneras para\n",
        "representar información compuesta es usando estructuras.  En efecto, las\n",
        "estructuras son útiles cuando sabemos cuántos datos queremos combinar.  Sin\n",
        "embargo, en muchos otros casos, no sabemos cuántas cosas queremos enumerar,\n",
        "y entonces formamos una **lista**.  Una lista puede tener un largo\n",
        "arbitrario, esto es, contiene una cantidad finita pero indeterminada de\n",
        "elementos.\n",
        "\n",
        "\n",
        "Para manejar listas ocuparemos el módulo `lista.py` (en material docente)\n",
        "\n",
        "```python\n",
        "from lista import *\n",
        "```\n",
        "\n",
        "La definición de una lista es **recursiva**:\n",
        "\n",
        "  1. una lista puede ser **vacía**: no contiene ningún elemento (**`listaVacia`**).  \n",
        "  2. una lista puede estar compuesta por elementos que contienen un **valor** y un enlace al resto de la lista.\n",
        "\n",
        "\n",
        "Esto permite crear una lista larga concatenando listas, lo podemos entender como ir armando una cadena con dos campos en su estructura: \n",
        "\n",
        "  1. **`valor`** \n",
        "  2. la lista **`siguiente`**.  \n",
        "  \n",
        "El campo **valor** puede ser de cualquier tipo (básico o compuesto), mientras que el campo **siguiente** es precisamente una lista.\n",
        "\n"
      ]
    },
    {
      "cell_type": "code",
      "metadata": {
        "id": "LpDd8DnxCeUM",
        "colab_type": "code",
        "colab": {}
      },
      "source": [
        "import estructura\n",
        "\n",
        "# Diseno de la estructura\n",
        "# lista : valor (any = cualquier tipo) siguiente (lista)\n",
        "estructura.crear(\"lista\", \"valor siguiente\")\n",
        "\n",
        "# identificador para listas vacias\n",
        "listaVacia = None\n",
        "\n",
        "# crearLista: any lista -> lista\n",
        "# devuelve una lista cuya cabeza es valor\n",
        "# y la cola es resto\n",
        "def crearLista(valor, resto):\n",
        "        return lista(valor, resto)\n",
        "\n",
        "# cabeza: lista -> any\n",
        "# devuelve la cabeza de una lista (un valor)\n",
        "def cabeza(lista):\n",
        "        return lista.valor\n",
        "\n",
        "# cola: lista -> lista\n",
        "# devuelve la cola de una lista (una lista)\n",
        "def cola(lista):\n",
        "        return lista.siguiente\n",
        "\n",
        "# vacia: lista -> bool\n",
        "# devuelve True si la lista esta vacia\n",
        "def vacia(lista):\n",
        "        return lista == listaVacia\n"
      ],
      "execution_count": 0,
      "outputs": []
    },
    {
      "cell_type": "code",
      "metadata": {
        "id": "Q_0NagGfCeUP",
        "colab_type": "code",
        "colab": {}
      },
      "source": [
        "\n",
        "\n",
        "L=lista(\"a\",lista(\"b\",lista(\"c\",None)))\n",
        "#enLista: any lista -> bool\n",
        "def enLista(x,L):\n",
        "    return (L!=None) and (cabeza(L)==x or enLista(x,cola(L)))\n",
        "\n",
        "assert enLista(\"b\",L) and not enLista(\"D\",L)\n",
        "\n",
        "\n",
        "\n",
        "\n"
      ],
      "execution_count": 0,
      "outputs": []
    },
    {
      "cell_type": "code",
      "metadata": {
        "id": "LA3-s2v1CeUR",
        "colab_type": "code",
        "colab": {}
      },
      "source": [
        "#cuenta: any lista -> int\n",
        "def cuenta(x,L):\n",
        "    assert type(L)==lista or L==None\n",
        "    if L==None:\n",
        "        return 0\n",
        "    n=cuenta(x, cola(L))\n",
        "    if cabeza(L)==x:\n",
        "        return 1+n\n",
        "    return n\n",
        "assert cuenta(\"b\",L)==1 and cuenta(\"d\",L)==0\n",
        "  \n"
      ],
      "execution_count": 0,
      "outputs": []
    },
    {
      "cell_type": "code",
      "metadata": {
        "id": "-6E2tibuCeUT",
        "colab_type": "code",
        "colab": {}
      },
      "source": [
        "#enLista: any lista (any any->int) -> bool\n",
        "#True si x esta en L (usando funcion para comparar)\n",
        "#ej: enLista(fraccion(2,4),L,comparar)==True\n",
        "\n",
        "def enLista(x,L,f):\n",
        "    assert type(L)==lista or L==None\n",
        "    if L==None: \n",
        "        return False\n",
        "    if f(x,cabeza(L))==0: \n",
        "        return True\n",
        "    return enLista(x,cola(L),f)\n",
        "\n",
        "\n",
        "L=lista(fraccion(1,2),lista(fraccion(3,4),None))\n",
        "assert enLista(fraccion(2,4),L,comparar)\n"
      ],
      "execution_count": 0,
      "outputs": []
    },
    {
      "cell_type": "markdown",
      "metadata": {
        "id": "RSpK1knJCeUV",
        "colab_type": "text"
      },
      "source": [
        "### Problema 1:\n",
        "\n",
        "Cree una función que dadas dos lista de fracciones, cuente cuántas fracciones (ubicadas en la misma posición de la lista) son equivalentes entre sí y retorne este valor.\n"
      ]
    },
    {
      "cell_type": "code",
      "metadata": {
        "id": "4QhJGNfbCeUW",
        "colab_type": "code",
        "colab": {}
      },
      "source": [
        "from lista import *\n",
        "def cuentaIguales(lista1, lista2):\n",
        "     \n",
        "    if lista1 == None:\n",
        "        return 0\n",
        "    if(comparar(cabeza(lista1),cabeza(lista2))==0):\n",
        "        return 1+cuentaIguales(cola(lista1),cola(lista2))\n",
        "    else:\n",
        "        return cuentaIguales(cola(lista1),cola(lista2))\n",
        "    \n",
        "\n",
        "# Test\n",
        "fracciones1=lista(fraccion(5,10),lista(fraccion(1,2),None))\n",
        "fracciones2=lista(fraccion(1,2),lista(fraccion(3,4),None))\n",
        "fracciones3=lista(fraccion(3,6),lista(fraccion(2,4),None))\n",
        "assert cuentaIguales(fracciones1, fracciones2)==1\n",
        "assert cuentaIguales(fracciones1, fracciones3)==2"
      ],
      "execution_count": 0,
      "outputs": []
    },
    {
      "cell_type": "markdown",
      "metadata": {
        "id": "GsvhMNaZCeUY",
        "colab_type": "text"
      },
      "source": [
        "## Funciones anónimas\n",
        "\n",
        "Para evitar el tener que estar definiendo funciones auxiliares que luego son\n",
        "utilizadas sólo como parámetro de las funciones **`filtro`**,\n",
        "**`mapa`**, o **`fold`**, es posible definir\n",
        "**funciones anónimas**.  Estas funciones tienen una declaración muy\n",
        "compacta en el código y son funciones \"sin nombre\", ya que están pensadas\n",
        "como funciones que se utilizan **una única vez**.\n",
        "\n",
        "Para definir funciones anónimas en Python se utiliza la instrucción **`lambda`**. La sintáxis es la siguiente:\n",
        "\n",
        "```python\n",
        "lambda id1, id2, ...: expresion\n",
        "```\n",
        "\n",
        "Los identificadores **`id1, id, ...`** corresponde a los parámetros de la\n",
        "función anónima, y **`expresion`** es la expresión que evalúa la función\n",
        "(y devuelve el resultado).  Por ejemplo, una función anónima que suma dos\n",
        "valores se implementa como:\n",
        "\n",
        "```python\n",
        "lambda x,y: x + y\n",
        "```\n",
        "\n",
        "Una función anónima booleana que verifica si un número es menor que 5 se implementa como:\n",
        "\n",
        "```python\n",
        "lambda x: x < 5\n",
        "```\n",
        "\n",
        "Recuerde que las funciones anónimas están pensadas como funciones que se\n",
        "utilizan una sola vez y luego se desechan.  Si la función debe invocarse más\n",
        "de una vez, debe definirse de la manera usual siguiendo la receta de diseño\n",
        "**y no declarar dos veces la misma función anónima**, ya que esto\n",
        "correspondería a duplicación de código, lo que es una mala práctica de\n",
        "programación.\n"
      ]
    },
    {
      "cell_type": "code",
      "metadata": {
        "id": "_QLQDFHNCeUZ",
        "colab_type": "code",
        "colab": {}
      },
      "source": [
        "L=lista('a',lista('b',lista('c',lista('d',None))))\n",
        "\n",
        "assert enLista('c', L, lambda x,y: cmp(x,y) )\n",
        "\n",
        "assert enLista(4,lista(5,lista(4,None)),lambda x,y: x-y)\n"
      ],
      "execution_count": 0,
      "outputs": []
    },
    {
      "cell_type": "markdown",
      "metadata": {
        "id": "_4pEntuOCeUb",
        "colab_type": "text"
      },
      "source": [
        "## Abstracciones funcionales\n",
        "\n",
        "### Filtro\n",
        "\n",
        "- Filtrar algunos elementos de la lista y dejarlos en una nueva lista\n",
        "\n",
        "```python\n",
        "#filtro: (any any->bool) lista(any) any -> lista(any)\n",
        "#Devuelve lista con valores de L para los que comparacion con x es True\n",
        "#ej:filtro(menorQue,lista(5,lista(4,None)),5)->lista(4,None)\n",
        "\n",
        "def filtro(operador,unaLista,n): \n",
        "...\n",
        "\n",
        ">>> filtro(menorQue, L, 3)\n",
        "```\n",
        "\n",
        "o más estándar\n",
        "\n",
        "```python\n",
        "def filtro(operador,unaLista): \n",
        "...\n",
        "\n",
        ">>> filtro(menorQue, L)\n",
        "```\n"
      ]
    },
    {
      "cell_type": "code",
      "metadata": {
        "id": "5EzJM2HsCeUc",
        "colab_type": "code",
        "colab": {}
      },
      "source": [
        "#filtro: lista(any) (any any->bool) any -> lista(any)\n",
        "#Devuelve lista con valores de L para los que comparacion con x es True\n",
        "#ej:filtro(lista(5,lista(4,None)),menorQue,5)->lista(4,None)\n",
        "\n",
        "def filtro(operador,unaLista,n): \n",
        "    if vacia(unaLista):\n",
        "        return listaVacia \n",
        "    else:\n",
        "        if operador(cabeza(unaLista),n):\n",
        "            return crearLista(cabeza(unaLista),filtro(operador,cola(unaLista), n))\n",
        "        else:\n",
        "            return filtro(operador , cola(unaLista), n)\n",
        "        \n",
        "assert filtro(lambda x,y: x<y,lista(5,lista(4,None)),5)==lista(4,None)\n"
      ],
      "execution_count": 0,
      "outputs": []
    },
    {
      "cell_type": "markdown",
      "metadata": {
        "id": "qrGh8iS9CeUf",
        "colab_type": "text"
      },
      "source": [
        "### Problema 2:\n",
        "\n",
        "Suponga le entregan una lista de fracciones:\n",
        "\n",
        "```python\n",
        "fracciones=lista(fraccion(3,5),lista(fraccion(1,2),lista(fraccion(3,4),None)\n",
        "```\n",
        "\n",
        "Cree una funcion que se llame cuentaIgualesLista() que reciba una lista con estructuras de este tipo\n",
        "```python\n",
        "estructura.crear(\"grupo\" \"listaFracciones\")\n",
        "```\n",
        "y retorne otra lista con el con el número de equivalentes para cada elemento de la lista(grupos)"
      ]
    },
    {
      "cell_type": "markdown",
      "metadata": {
        "id": "EFwyJx9HCeUf",
        "colab_type": "text"
      },
      "source": [
        "### Mapa\n",
        "- Hacer algo a cada elemento de la lista y ponerlos en una nueva lista\n",
        "\n",
        "```python\n",
        "# mapa : (any -> any) lista(any) -> lista(any)\n",
        "# devuelve lista con funcion aplicada a todos sus elementos\n",
        "\n",
        "def mapa(f, unaLista): \n",
        "\n",
        "...\n",
        "\n",
        ">>> mapa(aString,L) # crea una nueva lista con strings de fracciones\n",
        "```\n",
        "\n"
      ]
    },
    {
      "cell_type": "code",
      "metadata": {
        "id": "IMLNG4DnCeUg",
        "colab_type": "code",
        "colab": {}
      },
      "source": [
        "# mapa : (X -> Y) lista(X) -> lista(Y)\n",
        "# devuelve lista con funcion aplicada a todos sus elementos\n",
        "def mapa(f, unaLista): \n",
        "    if vacia(unaLista): \n",
        "        return listaVacia\n",
        "    else:\n",
        "        return lista(f(cabeza(unaLista)), mapa(f, cola(unaLista)))\n",
        "# Tests\n",
        "# ...\n"
      ],
      "execution_count": 0,
      "outputs": []
    },
    {
      "cell_type": "markdown",
      "metadata": {
        "id": "5z4Na3TICeUi",
        "colab_type": "text"
      },
      "source": [
        "### Reducir (Fold): \n",
        "- Convertir los elementos de una lista en un solo valor\n",
        "\n",
        "```python\n",
        "# fold: (any any -> any) any lista(any) -> any\n",
        "# procesa la lista con la funcion f y devuelve un unico valor\n",
        "# el valor init se usa como valor inicial para procesar el primer\n",
        "# valor de la lista y como acumulador para los resultados\n",
        "# parciales\n",
        "# pre-condicion: la lista debe tener al menos un valor\n",
        "\n",
        "def fold(f, init, unaLista):\n",
        "...\n",
        "\n",
        ">>> fold(multiplicar, 1, unaLista)\n",
        "```"
      ]
    },
    {
      "cell_type": "code",
      "metadata": {
        "id": "UVz6SMY6CeUj",
        "colab_type": "code",
        "colab": {}
      },
      "source": [
        "# fold: (X X -> X) X lista(X) -> X\n",
        "# procesa la lista con la funcion f y devuelve un unico valor\n",
        "# el valor init se usa como valor inicial para procesar el primer\n",
        "# valor de la lista y como acumulador para los resultados\n",
        "# parciales\n",
        "# pre-condicion: la lista debe tener al menos un valor\n",
        "\n",
        "def fold(f, init, unaLista):\n",
        "    if vacia(cola(unaLista)): # un solo valor\n",
        "        return f(init, cabeza(unaLista))\n",
        "    else:\n",
        "        return fold(f, f(init, cabeza(unaLista)), cola(unaLista))\n",
        "\n",
        "# Tests\n",
        "valores = lista(1, lista(2, lista(3, lista(4, listaVacia))))\n",
        "assert fold(lambda x,y:x+y, 0, valores) == 10"
      ],
      "execution_count": 0,
      "outputs": []
    },
    {
      "cell_type": "markdown",
      "metadata": {
        "id": "QkcBbV4GCeUl",
        "colab_type": "text"
      },
      "source": [
        "## Árboles binarios (AB)\n",
        "\n",
        "![ab](https://drive.google.com/uc?export=view&id=0B3jzzeIB00s1TzdHRGpJYVllZjg)\n",
        "\n",
        "Cumplen alguna de las siguientes condiciones:\n",
        "- Un AB es vacío, o\n",
        "- Tiene un valor, un AB a la izquierda, y otro AB a la derecha"
      ]
    },
    {
      "cell_type": "code",
      "metadata": {
        "id": "CV7PIurACeUm",
        "colab_type": "code",
        "colab": {}
      },
      "source": [
        "import estructura\n",
        "#Arbol Binario\n",
        "#AB: valor(any), izq(AB), der(AB)\n",
        "estructura.crear(\"AB\",\"valor izq der\")\n",
        "\n",
        "ab=AB(\"F\",\\\n",
        "    AB(\"B\",\\\n",
        "        AB(\"A\",None,None),\\\n",
        "        AB(\"D\",\\\n",
        "            AB(\"C\",None,None),\\\n",
        "            AB(\"E\",None,None))),\\\n",
        "    AB(\"G\",\\\n",
        "        None,\\\n",
        "        AB(\"I\",\\\n",
        "            AB(\"H\", None, None),\\\n",
        "            None)))  \n"
      ],
      "execution_count": 0,
      "outputs": []
    },
    {
      "cell_type": "code",
      "metadata": {
        "id": "V0wxhnXQCeUo",
        "colab_type": "code",
        "colab": {}
      },
      "source": [
        "#valores: AB -> int\n",
        "#n° de valores de arbol A\n",
        "#ej: valores(ab) -> 9\n",
        "\n",
        "def valores(A):\n",
        "    assert A==None or type(A)==AB\n",
        "    if A==None: \n",
        "        return 0\n",
        "    return 1 + valores(A.izq) + valores(A.der)\n",
        "\n",
        "assert valores(ab)==9"
      ],
      "execution_count": 0,
      "outputs": []
    },
    {
      "cell_type": "markdown",
      "metadata": {
        "id": "T4_ejvsKCeUq",
        "colab_type": "text"
      },
      "source": [
        "## ABB: Árbol de Búsqueda Binaria\n",
        "\n",
        "Un ABB es un árbol binario tal que:\n",
        "\n",
        "- es un árbol vacío (None)\n",
        "\n",
        "o sino,\n",
        "\n",
        "- valores en el AB **izquierdo** son **menores** que el valor\n",
        "- valores en el AB **derecho** son **mayores** que el valor\n",
        "- AB izquierdo y AB derecho son también ABB\n",
        "\n",
        "\n",
        "![ab](https://drive.google.com/uc?export=view&id=0B3jzzeIB00s1TzdHRGpJYVllZjg)\n"
      ]
    },
    {
      "cell_type": "code",
      "metadata": {
        "id": "M2o5FoygCeUr",
        "colab_type": "code",
        "colab": {}
      },
      "source": [
        "import estructura\n",
        "#Arbol Binario\n",
        "#AB: valor(any), izq(AB), der(AB)\n",
        "estructura.crear(\"AB\",\"valor izq der\")\n",
        "\n",
        "abb=AB(\"F\",\\\n",
        "    AB(\"B\",\\\n",
        "        AB(\"A\",None,None),\\\n",
        "        AB(\"D\",\\\n",
        "            AB(\"C\",None,None),\\\n",
        "            AB(\"E\",None,None))),\\\n",
        "    AB(\"G\",\\\n",
        "        None,\\\n",
        "        AB(\"I\",\\\n",
        "            AB(\"H\", None, None),\\\n",
        "            None)))  \n"
      ],
      "execution_count": 0,
      "outputs": []
    },
    {
      "cell_type": "code",
      "metadata": {
        "id": "aoXpis_OCeUt",
        "colab_type": "code",
        "colab": {}
      },
      "source": [
        "#buscaValor: any AB -> bool\n",
        "#True si x está en arbol\n",
        "#ej: buscaValor(\"A\",abb)->True\n",
        "\n",
        "def buscaValor(x,arbol):\n",
        "    \n",
        "    assert arbol==None or type(arbol)==AB\n",
        "    if arbol==None: \n",
        "        return False\n",
        "      \n",
        "    elif arbol.valor==x:\n",
        "        return True\n",
        "    elif x < arbol.valor: \n",
        "        return buscaValor(x,arbol.izq)\n",
        "    elif x > arbol.valor: \n",
        "        return buscaValor(x,arbol.der)\n",
        "    \n",
        "assert buscaValor(\"A\",abb)\n"
      ],
      "execution_count": 0,
      "outputs": []
    },
    {
      "cell_type": "code",
      "metadata": {
        "id": "y7ye3jmFCeUv",
        "colab_type": "code",
        "colab": {}
      },
      "source": [
        "#insertar: any, AB -> AB\n",
        "#nuevo ABB insertando x en ABB A\n",
        "#ej: insertar(\"A\",AB(\"B\",None,None))->\n",
        "#                 AB(\"B\",AB(\"A\",None,None),None)\n",
        "def insertar(x,arbol):\n",
        "   \n",
        "    assert arbol==None or type(arbol)==AB\n",
        "    if arbol==None: \n",
        "        return AB(x,None,None)\n",
        "    \n",
        "    assert x!=arbol.valor\n",
        "    if x<arbol.valor: \n",
        "        return AB(arbol.valor, insertar(x,arbol.izq), arbol.der)\n",
        "    if x>arbol.valor: \n",
        "        return AB(arbol.valor, arbol.izq, insertar(x,arbol.der) )\n",
        "\n",
        "assert insertar(\"A\",AB(\"B\",None,None))== \\\n",
        "               AB(\"B\",AB(\"A\",None,None),None)\n"
      ],
      "execution_count": 0,
      "outputs": []
    },
    {
      "cell_type": "markdown",
      "metadata": {
        "id": "9-1bpwZHCeU2",
        "colab_type": "text"
      },
      "source": [
        "### Problema propuesto:\n",
        "\n",
        "Cree una funcion que reciba un AB con nombres de personas y su genero(mujer==1, hombre==2), y que devuelva un ABB (ordenado por nombre) que solo contenga a las mujeres (o los hombres)."
      ]
    },
    {
      "cell_type": "code",
      "metadata": {
        "id": "sKxA3VgMCeU3",
        "colab_type": "code",
        "colab": {}
      },
      "source": [
        ""
      ],
      "execution_count": 0,
      "outputs": []
    },
    {
      "cell_type": "markdown",
      "metadata": {
        "id": "jqENuRVME2XK",
        "colab_type": "text"
      },
      "source": [
        "# Control 2014"
      ]
    },
    {
      "cell_type": "markdown",
      "metadata": {
        "id": "VoLSrJ1uAkVi",
        "colab_type": "text"
      },
      "source": [
        "### P1. A\n",
        "\n",
        "Dada una estructura `canción` \n",
        "```python\n",
        "estructura.crear(\"cancion\", \"titulo duracion\")\n",
        "```\n",
        "\n",
        "Escriba una funcion que reciba una lista recursiva de canciones y entregue una lista con las canciones cuya duración sea mayor a una cierta cantidad de minutos:\n",
        "\n",
        "```python\n",
        "def cancionesEnRangoDuracion(listaCanciones, duracion_minima_minutos):\n",
        "```"
      ]
    },
    {
      "cell_type": "markdown",
      "metadata": {
        "id": "c9GcPm87AkVj",
        "colab_type": "text"
      },
      "source": [
        "Solucion con filtro:"
      ]
    },
    {
      "cell_type": "code",
      "metadata": {
        "id": "exmLKzirAkVk",
        "colab_type": "code",
        "colab": {}
      },
      "source": [
        "import estructura\n",
        "\n",
        "estructura.crear(\"cancion\", \"titulo duracion\")\n",
        "\n",
        "def enRango(unaCancion, duracion_minima_minutos):\n",
        "    assert type(unaCancion)==cancion\n",
        "    duracion_segundos = duracion_minima_minutos*60\n",
        "    \n",
        "    if(unaCancion.duracion>=duracion_segundos):\n",
        "        return True\n",
        "    else:\n",
        "        return False\n",
        "\n",
        "assert enRango(cancion(\"hello\", 360),3)\n",
        "assert not enRango(cancion(\"goodbye\", 360),100)\n",
        "\n",
        "\n"
      ],
      "execution_count": 0,
      "outputs": []
    },
    {
      "cell_type": "code",
      "metadata": {
        "id": "XkXHTFRXAkVm",
        "colab_type": "code",
        "colab": {}
      },
      "source": [
        "from abstraccion import *\n",
        "\n",
        "def cancionesEnRangoDuracion(listaCanciones, duracion_minima_minutos):\n",
        "    return filtro(enRango, listaCanciones, duracion_minima_minutos)\n",
        "\n",
        "assert cancionesEnRangoDuracion(lista(cancion(\"hello\", 360),\\\n",
        "                                      lista(cancion(\"goodbye\", 36),\\\n",
        "                                            lista(cancion(\"next\", 200), None))),1)==\\\n",
        "                                                lista(cancion(\"hello\", 360),\\\n",
        "                                                      lista(cancion(\"next\", 200), None))"
      ],
      "execution_count": 0,
      "outputs": []
    },
    {
      "cell_type": "markdown",
      "metadata": {
        "id": "X0tSIK4SAkVp",
        "colab_type": "text"
      },
      "source": [
        "Solución sin filtro:"
      ]
    },
    {
      "cell_type": "code",
      "metadata": {
        "id": "lCxvz26MAkVp",
        "colab_type": "code",
        "colab": {}
      },
      "source": [
        "import estructura\n",
        "from lista import *\n",
        "\n",
        "estructura.crear(\"cancion\", \"titulo duracion\")\n",
        "\n",
        "def cancionesEnRangoDuracion(listaCanciones, duracion_minima_minutos):\n",
        "    if listaCanciones == None:\n",
        "        return None\n",
        "    \n",
        "    duracion_segundos = duracion_minima_minutos*60\n",
        "    unaCancion = cabeza(listaCanciones)\n",
        "    if(unaCancion.duracion>=duracion_segundos):\n",
        "        return lista(unaCancion,cancionesEnRangoDuracion(cola(listaCanciones),duracion_minima_minutos))\n",
        "    else:\n",
        "        return cancionesEnRangoDuracion(cola(listaCanciones),duracion_minima_minutos)\n",
        "\n",
        "assert cancionesEnRangoDuracion(lista(cancion(\"hello\", 360),\\\n",
        "                                      lista(cancion(\"goodbye\", 36),\\\n",
        "                                            lista(cancion(\"next\", 200), None))),1)==\\\n",
        "                                                lista(cancion(\"hello\", 360),\\\n",
        "                                                      lista(cancion(\"next\", 200), None))"
      ],
      "execution_count": 0,
      "outputs": []
    },
    {
      "cell_type": "markdown",
      "metadata": {
        "id": "qGY6j8QOAkVs",
        "colab_type": "text"
      },
      "source": [
        "### P1.B\n",
        "Considere ahora que tiene un ABB de canciones, ordenado por título de las canciones. Haga una funcion que reciba un ABB y retorne otro ABB con la duración expresada usando la estructura\n",
        "```python\n",
        "estructura.crear(\"tiempo\", \"horas minutos segundos\")\n",
        "```\n"
      ]
    },
    {
      "cell_type": "code",
      "metadata": {
        "id": "N1yWeP6EAkVt",
        "colab_type": "code",
        "colab": {}
      },
      "source": [
        "estructura.crear(\"AB\", \"valor izq der\")\n",
        "estructura.crear(\"tiempo\", \"horas minutos segundos\")\n",
        "\n",
        "def aTiempo(unaCancion):\n",
        "    horas = unaCancion.duracion/3600\n",
        "    minutos = (unaCancion.duracion%3600)/60\n",
        "    segundos = (unaCancion.duracion%3600)%60\n",
        "    return cancion(unaCancion.titulo, tiempo(horas, minutos, segundos))\n",
        "\n",
        "assert aTiempo(cancion(\"b\", 360)) == cancion(\"b\", tiempo(0, 6, 0))\n",
        "assert aTiempo(cancion(\"a\", 36)) == cancion(\"a\", tiempo(0,0,36))\n",
        "assert aTiempo(cancion(\"c\", 800)) == cancion(\"c\", tiempo(0,13,20))\n",
        "                                            \n",
        "def arbolTiempo(unArbol):\n",
        "    if(unArbol)==None:\n",
        "        return None\n",
        "    else:\n",
        "        unaCancion = unArbol.valor\n",
        "        return AB(aTiempo(unaCancion),\\\n",
        "                  arbolTiempo(unArbol.izq),\\\n",
        "                  arbolTiempo(unArbol.der))\n",
        "\n",
        "\n",
        "assert arbolTiempo(AB(cancion(\"b\", 360),\\\n",
        "                      AB(cancion(\"a\", 36), None, None),\\\n",
        "                      AB(cancion(\"c\", 800), None, None))) == AB(cancion(\"b\", tiempo(0, 6, 0)),\\\n",
        "                                                               AB(cancion(\"a\", tiempo(0,0,36)), None, None),\\\n",
        "                                                               AB(cancion(\"c\", tiempo(0,13,20)), None, None))"
      ],
      "execution_count": 0,
      "outputs": []
    }
  ]
}