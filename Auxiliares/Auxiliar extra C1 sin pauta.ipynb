{
  "nbformat": 4,
  "nbformat_minor": 0,
  "metadata": {
    "colab": {
      "name": "Copia de Copia de Auxiliar 1 con pauta (Sin Condiciones).ipynb",
      "version": "0.3.2",
      "provenance": [],
      "collapsed_sections": [],
      "include_colab_link": true
    },
    "kernelspec": {
      "name": "python2",
      "display_name": "Python 2"
    }
  },
  "cells": [
    {
      "cell_type": "markdown",
      "metadata": {
        "id": "view-in-github",
        "colab_type": "text"
      },
      "source": [
        "<a href=\"https://colab.research.google.com/github/bpoblete/CC1002_9/blob/master/Auxiliares/Auxiliar%20extra%20C1%20sin%20pauta.ipynb\" target=\"_parent\"><img src=\"https://colab.research.google.com/assets/colab-badge.svg\" alt=\"Open In Colab\"/></a>"
      ]
    },
    {
      "cell_type": "markdown",
      "metadata": {
        "id": "FEkSYk20_h9G",
        "colab_type": "text"
      },
      "source": [
        "# Auxiliar Extra Control 1 - Sección 9\n",
        "## Profesora: Bárbara Poblete\n",
        "## Auxiliares: Lucas Torrealba - Matías Villegas\n",
        "### CC1002-9 Introducción a la Programación"
      ]
    },
    {
      "cell_type": "markdown",
      "metadata": {
        "id": "w44XzN76mkMr",
        "colab_type": "text"
      },
      "source": [
        "## P1 "
      ]
    },
    {
      "cell_type": "markdown",
      "metadata": {
        "id": "4jTpQ831Xysp",
        "colab_type": "text"
      },
      "source": [
        "\n",
        "###Parte A)\n",
        "Escriba la función recursiva producto(x,y) que multiplique dos enteros positivos. \n",
        "\n",
        "Notas. \n",
        "* Use el operador de suma (+) pero no use los operadores de multiplicación, de división, ni de resto \n",
        "* La función debe escribirse con receta de diseño, precondiciones (control de validez de parámetros) y al menos dos casos de prueba."
      ]
    },
    {
      "cell_type": "code",
      "metadata": {
        "id": "9eO4xk9TDJlW",
        "colab_type": "code",
        "colab": {}
      },
      "source": [
        "\n"
      ],
      "execution_count": 0,
      "outputs": []
    },
    {
      "cell_type": "markdown",
      "metadata": {
        "id": "3maGVqmkjJ3b",
        "colab_type": "text"
      },
      "source": [
        "###Parte B)\n",
        "Sin usar los operadores de multiplicación, de división, ni de resto, y usando la receta de diseño: escriba la función recursiva cuociente(x,y) que divida dos enteros positivos."
      ]
    },
    {
      "cell_type": "code",
      "metadata": {
        "id": "v6it45XXjLVn",
        "colab_type": "code",
        "colab": {}
      },
      "source": [
        "\n"
      ],
      "execution_count": 0,
      "outputs": []
    },
    {
      "cell_type": "markdown",
      "metadata": {
        "id": "7esxuUMJmgCk",
        "colab_type": "text"
      },
      "source": [
        "## P2 "
      ]
    },
    {
      "cell_type": "markdown",
      "metadata": {
        "id": "nZA-oD63EO9W",
        "colab_type": "text"
      },
      "source": [
        "\n",
        "###Parte A)\n",
        "  Escriba una función que calcule   $\\frac{1}{x^0} + \\frac{1}{x^1} + \\frac{1}{x^2} + … + \\frac{1}{x^n}$, recibiendo como parámetros $x\\neq0$ y $n$"
      ]
    },
    {
      "cell_type": "code",
      "metadata": {
        "id": "6f4Xhp1kEdHy",
        "colab_type": "code",
        "colab": {}
      },
      "source": [
        ""
      ],
      "execution_count": 0,
      "outputs": []
    },
    {
      "cell_type": "markdown",
      "metadata": {
        "id": "Vy2NqaGHl4UG",
        "colab_type": "text"
      },
      "source": [
        "###Parte B)\n",
        "\n",
        "Use la función anterior en un programa que determine si la suma $\\frac{1}{x^0} + \\frac{1}{x^1} + \\frac{1}{x^2} + … + \\frac{1}{x^n}$ converge o no. Se considera que la suma converge si la diferencia entre dos sumas sucesivas resulta menor que $10^{-3}$ . Se considera que no converge si para $n=20$ aún no se alcanza el criterio de convergencia. El programa debe utilizarse para varios valores de $x$, donde $x=0$ implica que el programa terminó, además debe establecer el diálogo indicado en el siguiente ejemplo:\n",
        "\n",
        "```\n",
        "x? 2\n",
        "n=0 suma=1.0\n",
        "n=1 suma=1.5\n",
        "n=2 suma=1.75\n",
        "…\n",
        "converge=si (o no)\n",
        "x? 0.5\n",
        "n=0 suma=1.0\n",
        "n=1 suma=3.0…\n",
        "…\n",
        "converge=si ( o no)\n",
        "x? 0\n",
        "fin\n",
        "```"
      ]
    },
    {
      "cell_type": "code",
      "metadata": {
        "id": "jn6O75EvnIoI",
        "colab_type": "code",
        "colab": {}
      },
      "source": [
        ""
      ],
      "execution_count": 0,
      "outputs": []
    },
    {
      "cell_type": "markdown",
      "metadata": {
        "id": "mrrEe1KmmXqn",
        "colab_type": "text"
      },
      "source": [
        "##P3"
      ]
    },
    {
      "cell_type": "markdown",
      "metadata": {
        "id": "1yPYEUOoDJ1H",
        "colab_type": "text"
      },
      "source": [
        "\n",
        "###Parte A)\n",
        "Escriba una función recursiva (con receta de diseño incluyendo testing) que entregue el número de veces que aparece un dígito en un entero positivo. Por ejemplo cuenta(5,14540344554) entrega 3 porque el dígito 5 aparece 3 veces en el número 14540344554.\n",
        "\n"
      ]
    },
    {
      "cell_type": "code",
      "metadata": {
        "id": "oaYhwxH_DJc5",
        "colab_type": "code",
        "colab": {}
      },
      "source": [
        ""
      ],
      "execution_count": 0,
      "outputs": []
    },
    {
      "cell_type": "markdown",
      "metadata": {
        "id": "gIEWnfYahUAG",
        "colab_type": "text"
      },
      "source": [
        "###Parte B)\n",
        "Use la función anterior en una función que reciba un entero positivo y devuelva el dígito que aparece más veces (la moda). Por ejemplo, moda(14540344554) entrega 4 porque el dígito 4 aparece 5 veces. \n",
        "\n",
        "Notas: \n",
        "* Debe usar recursión para contar las apariciones de todos los dígitos entre 0 y 9\n",
        "* Puede invocar a otra función si lo necesita\n"
      ]
    },
    {
      "cell_type": "code",
      "metadata": {
        "id": "Rz99oCN5DJBy",
        "colab_type": "code",
        "colab": {}
      },
      "source": [
        ""
      ],
      "execution_count": 0,
      "outputs": []
    },
    {
      "cell_type": "markdown",
      "metadata": {
        "id": "ADmKKNbjFGcD",
        "colab_type": "text"
      },
      "source": [
        "## P4\n",
        "\n",
        "Suponga que dispone de las siguientes funciones que operan números en distintas bases:\n",
        "- def ok(x,y)  #True si **\"x\"** es un nº en base **\"y\"**\n",
        "- def aBase10(x,y) #convierte el n° **\"x\"** expresado en base **\"y\"** a base 10\n",
        "- def aBaseY(x,y) #convierte el n° **\"x\"** expresado en base 10 a base **\"y\"**\n",
        "\n",
        "\n"
      ]
    },
    {
      "cell_type": "markdown",
      "metadata": {
        "id": "pqOuIvxqmdZD",
        "colab_type": "text"
      },
      "source": [
        "\n",
        "###Parte A)\n",
        "Escriba una función recursiva que muestre los decimales entre 10 y 99 en las bases 9,8,…,2 en la siguiente forma:\n",
        "\n",
        "```\n",
        "N° B9 B8 B7 B6 B5 B4 B3 B2\n",
        "10 11 12 13 14 20 22 101 1010\n",
        "11 12 13 14 15 21 23 102 1011\n",
        "…\n",
        "99 …\n",
        "```\n"
      ]
    },
    {
      "cell_type": "code",
      "metadata": {
        "id": "GxO59BoPFmGn",
        "colab_type": "code",
        "colab": {}
      },
      "source": [
        ""
      ],
      "execution_count": 0,
      "outputs": []
    },
    {
      "cell_type": "markdown",
      "metadata": {
        "id": "0iiCyFOleUHy",
        "colab_type": "text"
      },
      "source": [
        "###Parte B)\n",
        "Escriba una función recursiva que lea una cantidad indeterminada de números positivos en distintas bases (el último dígito indica la base entre 2 y 9) y muestre la última aparición del mayor. Ejemplo:\n",
        "\n",
        "```\n",
        "nº?213\n",
        "decimal=7\n",
        "nº?212\n",
        "error en n°\n",
        "nº ?11012\n",
        "decimal=13\n",
        "n°?210\n",
        "error en base\n",
        "n°?158\n",
        "decimal=13\n",
        "…\n",
        "nº?0 (fin de datos)\n",
        "ultimo mayor=158\n",
        "```"
      ]
    },
    {
      "cell_type": "code",
      "metadata": {
        "id": "TwXHbWFqeTtY",
        "colab_type": "code",
        "colab": {}
      },
      "source": [
        ""
      ],
      "execution_count": 0,
      "outputs": []
    }
  ]
}