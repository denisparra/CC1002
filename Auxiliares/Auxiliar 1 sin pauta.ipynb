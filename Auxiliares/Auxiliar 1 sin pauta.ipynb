{
  "nbformat": 4,
  "nbformat_minor": 0,
  "metadata": {
    "colab": {
      "name": "Auxiliar 1.ipynb",
      "version": "0.3.2",
      "provenance": [],
      "collapsed_sections": []
    },
    "kernelspec": {
      "name": "python2",
      "display_name": "Python 2"
    }
  },
  "cells": [
    {
      "cell_type": "markdown",
      "metadata": {
        "id": "FEkSYk20_h9G",
        "colab_type": "text"
      },
      "source": [
        "# Auxiliar 1 - Sección 9\n",
        "## Profesora: Bárbara Poblete\n",
        "## Auxiliares: Lucas Torrealba - Matías Villegas\n",
        "### CC1002-9 Introducción a la Programación"
      ]
    },
    {
      "cell_type": "markdown",
      "metadata": {
        "id": "4jTpQ831Xysp",
        "colab_type": "text"
      },
      "source": [
        "## P1 Cajero\n",
        "Escribir la función dineroCajero que recibe un monto y devuelve la menor cantidad de billetes. \n",
        "Luego realice un programa interactivo de la siguiente manera:\n",
        "\n",
        "\n",
        "```\n",
        "Ingrese monto: 39000\n",
        "1 billete(s) de 20.000\n",
        "1 billete(s) de 10.000\n",
        "1 billete(s) de 5.000\n",
        "2 billete(s) de 2.000\n",
        "0 billete(s) de 1.000\n",
        "```\n",
        "\n"
      ]
    },
    {
      "cell_type": "code",
      "metadata": {
        "id": "9eO4xk9TDJlW",
        "colab_type": "code",
        "colab": {}
      },
      "source": [
        "# Solucion"
      ],
      "execution_count": 0,
      "outputs": []
    },
    {
      "cell_type": "markdown",
      "metadata": {
        "id": "nZA-oD63EO9W",
        "colab_type": "text"
      },
      "source": [
        "## P2 Invertir\n",
        "\n",
        "Invertir un número entero de 2 dígitos. Por ejemplo, el inverso de 73 es 37.\n",
        "\n",
        "1. Escriba una función que resuelva el problema\n",
        "\n",
        "2. Pruébela con un programa interactivo que lea un número y lo escriba al revés.\n",
        "\n",
        "3. **(Propuesto)** Invertir un número entero de 3 dígitos"
      ]
    },
    {
      "cell_type": "code",
      "metadata": {
        "id": "6f4Xhp1kEdHy",
        "colab_type": "code",
        "colab": {}
      },
      "source": [
        "# Solución\n"
      ],
      "execution_count": 0,
      "outputs": []
    },
    {
      "cell_type": "markdown",
      "metadata": {
        "id": "1yPYEUOoDJ1H",
        "colab_type": "text"
      },
      "source": [
        "## P3 Votos\n",
        "\n",
        "Dados dos números, calcular el porcentaje que representa el 1° (respecto de la suma de los 2).\n",
        "\n",
        "1. Escriba una función que resuelva el problema.\n",
        "2. Use la función en un programa que calcule el % de hombres y mujeres del curso\n",
        "3. Escriba un programa interactivo para calcular los % de votos que obtuvieron los 3 candidatos de una elección de acuerdo al siguiente diálogo:\n",
        "\n",
        "```\n",
        "votos candidato 1? __\n",
        "votos candidato 2? __\n",
        "votos candidato 3? __\n",
        "% candidato 1 = __\n",
        "% candidato 2 = __\n",
        "% candidato 3 = __\n",
        "```"
      ]
    },
    {
      "cell_type": "code",
      "metadata": {
        "id": "oaYhwxH_DJc5",
        "colab_type": "code",
        "colab": {}
      },
      "source": [
        "#Solucion 1.\n"
      ],
      "execution_count": 0,
      "outputs": []
    },
    {
      "cell_type": "code",
      "metadata": {
        "id": "Rz99oCN5DJBy",
        "colab_type": "code",
        "colab": {}
      },
      "source": [
        "#Solucion 2."
      ],
      "execution_count": 0,
      "outputs": []
    },
    {
      "cell_type": "code",
      "metadata": {
        "id": "76ze9GuQD9bS",
        "colab_type": "code",
        "colab": {}
      },
      "source": [
        "#Solucion 3.\n"
      ],
      "execution_count": 0,
      "outputs": []
    },
    {
      "cell_type": "markdown",
      "metadata": {
        "id": "ADmKKNbjFGcD",
        "colab_type": "text"
      },
      "source": [
        "## P4 Diferencia de tiempo\n",
        "\n",
        "Calcular la diferencia entre 2 instantes de tiempo (horas expresadas como HHMM). Por ejemplo, la diferencia entre 1015 y 1145 es 130.\n",
        "\n",
        "Descomposición en sub-problemas:\n",
        "1. Cree el módulo `tiempo` con la función `minutos` que pasa del formato HHMM a minutos *Ej: minutos(1015) es 615*\n",
        "2. Agregue la función `hhmm` al módulo `tiempo` que pasa de minutos al formato HHMM *Ej: hhmm(615) es 1015*\n",
        "3. Haga un programa interactivo que utilice el módulo tiempo para producir el siguiente diálogo:\n",
        "\n",
        "```\n",
        "Tiempo1? ___\n",
        "Tiempo2? ___\n",
        "Diferencia: ___\n",
        "```\n",
        "\n",
        "Que entrega la diferencia en formato HHMM"
      ]
    },
    {
      "cell_type": "code",
      "metadata": {
        "id": "GxO59BoPFmGn",
        "colab_type": "code",
        "colab": {}
      },
      "source": [
        "import tiempo"
      ],
      "execution_count": 0,
      "outputs": []
    }
  ]
}
