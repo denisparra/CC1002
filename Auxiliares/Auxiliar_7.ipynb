{
  "nbformat": 4,
  "nbformat_minor": 0,
  "metadata": {
    "colab": {
      "name": "Auxiliar 7.ipynb",
      "provenance": [],
      "collapsed_sections": [],
      "toc_visible": true,
      "include_colab_link": true
    },
    "kernelspec": {
      "name": "python2",
      "display_name": "Python 2"
    }
  },
  "cells": [
    {
      "cell_type": "markdown",
      "metadata": {
        "id": "view-in-github",
        "colab_type": "text"
      },
      "source": [
        "<a href=\"https://colab.research.google.com/github/bpoblete/CC1002_9/blob/master/Auxiliares/Auxiliar_7.ipynb\" target=\"_parent\"><img src=\"https://colab.research.google.com/assets/colab-badge.svg\" alt=\"Open In Colab\"/></a>"
      ]
    },
    {
      "cell_type": "markdown",
      "metadata": {
        "id": "FEkSYk20_h9G",
        "colab_type": "text"
      },
      "source": [
        "# Auxiliar 7 - Sección 9\n",
        "## Profesora: Bárbara Poblete\n",
        "## Auxiliares: Lucas Torrealba - Matías Villegas\n",
        "### CC1002-9 Introducción a la Programación"
      ]
    },
    {
      "cell_type": "markdown",
      "metadata": {
        "id": "g9Lx1lpedOuv",
        "colab_type": "text"
      },
      "source": [
        "## P1 ABB"
      ]
    },
    {
      "cell_type": "code",
      "metadata": {
        "id": "sddTnkhjdSXU",
        "colab_type": "code",
        "colab": {}
      },
      "source": [
        "Arbolito=AB(50,AB(25,AB(10,None, None), AB(30,None,None)),AB(70,AB(55,None,None),AB(80,None,None)))\n",
        "Arbolito2=AB(50,AB(25,AB(10,None, None), AB(55,None,None)),AB(70,AB(55,None,None),AB(80,None,None)))\n"
      ],
      "execution_count": 0,
      "outputs": []
    },
    {
      "cell_type": "markdown",
      "metadata": {
        "id": "ulByjTzfdUTc",
        "colab_type": "text"
      },
      "source": [
        "### Parte A\n",
        "Cree la función esMayorAB(x,ab) que recibe un valor \"x\" y un AB \"ab\" y entrega True si todos los elementos del árbol son menores que x."
      ]
    },
    {
      "cell_type": "code",
      "metadata": {
        "id": "fpABAplpfcmb",
        "colab_type": "code",
        "colab": {}
      },
      "source": [
        "#Solución\n",
        "\n",
        "\n",
        "assert esMayorAB(100,Arbolito)\n",
        "assert not esMayorAB(80, Arbolito)\n"
      ],
      "execution_count": 0,
      "outputs": []
    },
    {
      "cell_type": "markdown",
      "metadata": {
        "id": "ep1XS3yueOZD",
        "colab_type": "text"
      },
      "source": [
        "### Parte B\n",
        "Análogamente realice la función esMenorAB(x,ab)"
      ]
    },
    {
      "cell_type": "code",
      "metadata": {
        "id": "TYdtZkH-fgWG",
        "colab_type": "code",
        "colab": {}
      },
      "source": [
        "#Solución\n",
        "\n",
        "\n",
        "\n",
        "assert esMenorAB(1,Arbolito)\n",
        "assert not esMenorAB(10, Arbolito)\n"
      ],
      "execution_count": 0,
      "outputs": []
    },
    {
      "cell_type": "markdown",
      "metadata": {
        "id": "ncCuwoHJfkCY",
        "colab_type": "text"
      },
      "source": [
        "### Parte C\n",
        "**Utilizando** las funciones anteriores, realice la función esABB(ab) que recibe un AB y retorna True si es ABB o False en caso contrario"
      ]
    },
    {
      "cell_type": "code",
      "metadata": {
        "id": "RSpyp5icflHt",
        "colab_type": "code",
        "colab": {}
      },
      "source": [
        "#Solución\n",
        "\n",
        "\n",
        "    \n",
        "assert esABB(Arbolito)\n",
        "assert not esABB(Arbolito2)\n"
      ],
      "execution_count": 0,
      "outputs": []
    },
    {
      "cell_type": "markdown",
      "metadata": {
        "id": "-VbgepK9cmN5",
        "colab_type": "text"
      },
      "source": [
        "## P2 Heap\n",
        "Un Heap es un árbol binario en que el menor valor está “arriba” y los árboles izquierdo y derecho a su vez son heaps. Ejemplo:"
      ]
    },
    {
      "cell_type": "markdown",
      "metadata": {
        "id": "uaD1sSmzcqhF",
        "colab_type": "text"
      },
      "source": [
        "              2\n",
        "            /    \\\n",
        "           /      \\\n",
        "          5        3\n",
        "         / \\      / \n",
        "        /   \\    /  \n",
        "       7     8  6     "
      ]
    },
    {
      "cell_type": "code",
      "metadata": {
        "id": "b0AFjLAuctHx",
        "colab_type": "code",
        "colab": {}
      },
      "source": [
        "estructura.crear(\"AB\",\"valor izq der\")\n",
        "\n",
        "A=AB(2, AB(5,AB(7,None,None),AB(8,None,None)), AB(3,AB(6,None,None),None))\n",
        "\n",
        "Asin2 = AB(3, AB(5,AB(7,None,None),AB(8,None,None)),AB(6,None,None))\n",
        "\n",
        "Acon4 = AB(2, AB(5,AB(7,None,None),AB(8,None,None)), AB(3,AB(6,None,None),AB(4,None,None)))"
      ],
      "execution_count": 0,
      "outputs": []
    },
    {
      "cell_type": "markdown",
      "metadata": {
        "id": "hozaNnB-crFi",
        "colab_type": "text"
      },
      "source": [
        "### Parte A \n",
        "Siguiendo la receta de diseño, escriba una función que reciba un árbol binario A y entregue True si es un heap.\n",
        "Ej: esHeap(A) devuelve True"
      ]
    },
    {
      "cell_type": "code",
      "metadata": {
        "id": "SRm0VlGlczUU",
        "colab_type": "code",
        "colab": {}
      },
      "source": [
        "#Solución\n",
        "\n",
        "\n",
        "assert esHeap(A)"
      ],
      "execution_count": 0,
      "outputs": []
    },
    {
      "cell_type": "markdown",
      "metadata": {
        "id": "HjLZo2knc3VQ",
        "colab_type": "text"
      },
      "source": [
        "### Parte B\n",
        "Escriba una función que reciba un heap y devuelva el menor valor. Ej: menor(A) devuelve 2"
      ]
    },
    {
      "cell_type": "code",
      "metadata": {
        "id": "H8V5BQfbc5Pz",
        "colab_type": "code",
        "colab": {}
      },
      "source": [
        "#Solución\n",
        "\n",
        "\n",
        "\n",
        "assert menor(A) == 2\n"
      ],
      "execution_count": 0,
      "outputs": []
    },
    {
      "cell_type": "markdown",
      "metadata": {
        "id": "emPqrHNzc9xc",
        "colab_type": "text"
      },
      "source": [
        "### Parte C\n",
        "Escriba una función que agregue un valor a un Heap (lo más cerca posible). Por ej. agregar(4,A) entregaría un nuevo Heap agregando el 4 a la derecha de 3.\n",
        "\n",
        "*Nota: Le podría ser útil crear la función tamanho(AB), que recibe un arbol binario y entrega la cantidad de nodos de este.*"
      ]
    },
    {
      "cell_type": "code",
      "metadata": {
        "id": "EapDivyuc_SC",
        "colab_type": "code",
        "colab": {}
      },
      "source": [
        "#Solución\n",
        "\n",
        "\n",
        "assert agregar(4,A) == Acon4\n"
      ],
      "execution_count": 0,
      "outputs": []
    },
    {
      "cell_type": "markdown",
      "metadata": {
        "id": "LWP1IA3sdD4P",
        "colab_type": "text"
      },
      "source": [
        "### Parte D\n",
        "Escriba una función que elimine el menor de un Heap. Por ej. borrarMenor(A) entregaría el árbol AB(3, AB(5,AB(7,None,None),AB(8,None,None)),AB(6,None,None))"
      ]
    },
    {
      "cell_type": "code",
      "metadata": {
        "id": "nVoIR2P1dDfM",
        "colab_type": "code",
        "colab": {}
      },
      "source": [
        "#Solución\n",
        "\n",
        "#borrarMenor: AB -> AB\n",
        "#Retorna un AB sin el menor\n",
        "def borrarMenor(A):\n",
        "\n",
        "  \n",
        "assert borrarMenor(A) == Asin2\n"
      ],
      "execution_count": 0,
      "outputs": []
    },
    {
      "cell_type": "markdown",
      "metadata": {
        "id": "8rmN8Baigo-c",
        "colab_type": "text"
      },
      "source": [
        "### Parte E\n",
        "Usando las funciones anteriores escriba una función que reciba una Lista L y entregue una lista ordenada. Ej: heapSort(lista(2,lista(5,lista(3,lista(7,lista(8,lista(6,None)))))) entrega lista(2,lista(3,lista(5,lista(6,lista(7,lista(8,None))))))"
      ]
    },
    {
      "cell_type": "code",
      "metadata": {
        "id": "xTELbT6VgpGR",
        "colab_type": "code",
        "colab": {}
      },
      "source": [
        "#Solución\n",
        "from lista import *\n",
        "L = lista(2,lista(5,lista(3,lista(7,lista(8,lista(6,None))))))\n",
        "\n",
        "Lord = lista(2,lista(3,lista(5,lista(6,lista(7,lista(8,None))))))\n"
      ],
      "execution_count": 0,
      "outputs": []
    },
    {
      "cell_type": "markdown",
      "metadata": {
        "id": "P0x6vA11X3HG",
        "colab_type": "text"
      },
      "source": [
        "## P3 Registros"
      ]
    },
    {
      "cell_type": "code",
      "metadata": {
        "id": "3811eB4NYYq9",
        "colab_type": "code",
        "colab": {}
      },
      "source": [
        "estructura.crear(\"registro\", \"nombre fono\")\n",
        "agenda=AB(registro(\"c\",1),AB(registro(\"a\",2),None,None),\\\n",
        "         AB(registro(\"d\",4),None,None))\n",
        "def esArbol(A):\n",
        "  return A==None or type(A)==AB"
      ],
      "execution_count": 0,
      "outputs": []
    },
    {
      "cell_type": "markdown",
      "metadata": {
        "id": "Um898BpAYDn1",
        "colab_type": "text"
      },
      "source": [
        "### Parte A\n",
        "Cree la función **agregar** que recibe un nombre (string), fono (int) y un AB donde deberá agregarse el registro. En caso de que ya se tenga un registro con ese nombre, no se deberá agregar.\n"
      ]
    },
    {
      "cell_type": "code",
      "metadata": {
        "id": "AEKRE4GHZh_H",
        "colab_type": "code",
        "colab": {}
      },
      "source": [
        "#agregar: str int AB(registro) -> AB(registro) nuevo\n",
        "\n",
        "\n",
        "assert agregar(\"b\",3,agenda) == AB(registro(\"c\",1), \n",
        "                                   AB(registro(\"a\",2),None,AB(registro(\"b\",3),None,None)),\n",
        "                                   AB(registro(\"d\",4),None,None))"
      ],
      "execution_count": 0,
      "outputs": []
    },
    {
      "cell_type": "markdown",
      "metadata": {
        "id": "RxuSjuzkcIDH",
        "colab_type": "text"
      },
      "source": [
        "### Parte B\n",
        "Cree la función **borrar** que recibe un nombre (string) y un AB donde deberá borrar el registro asociado al nombre (o dejarlo igual si no existe) "
      ]
    },
    {
      "cell_type": "code",
      "metadata": {
        "id": "nRmPYRjjcdiO",
        "colab_type": "code",
        "colab": {}
      },
      "source": [
        "#Solución\n",
        "\n",
        "assert borrar(\"c\",agenda) == AB(registro(\"a\",2),None,\n",
        "                                AB(registro(\"d\",4),None,None))\n",
        "\n",
        "\n",
        "\n",
        "\n"
      ],
      "execution_count": 0,
      "outputs": []
    },
    {
      "cell_type": "markdown",
      "metadata": {
        "id": "EsQkt3zSfBjK",
        "colab_type": "text"
      },
      "source": [
        "### Parte C\n",
        "Cree la función **cambiar** que reciba un ABB con registros, un nombre (string) y un fono (int). La función deberá cambiar el fono asociado al nombre (si es que existe) del ABB."
      ]
    },
    {
      "cell_type": "code",
      "metadata": {
        "id": "30hXDa3cfSdy",
        "colab_type": "code",
        "colab": {}
      },
      "source": [
        "#Solución \n",
        "\n",
        "\n",
        "\n",
        "assert cambiar(abb, \"c\", 6) == AB(registro(\"a\",2),None, AB(registro(\"d\",4),AB(registro(\"c\",6), None,None),None))\n"
      ],
      "execution_count": 0,
      "outputs": []
    },
    {
      "cell_type": "markdown",
      "metadata": {
        "id": "LUuNMK4cbd0D",
        "colab_type": "text"
      },
      "source": [
        "## P4 Arboles (Propuesto)\n",
        "Escriba una estructura Nodo que tenga un valor nombre(del tipo String) y dos hijos, izquierdo y derecho (ambos del tipo Nodo)."
      ]
    },
    {
      "cell_type": "code",
      "metadata": {
        "id": "0T-B_OTvbddn",
        "colab_type": "code",
        "colab": {}
      },
      "source": [
        "import estructura\n",
        "estructura.crear(\"Nodo\",\"nombre izquierdo derecho\")\n",
        "\n",
        "# 1 es padre de 2 y 3. 2 es padre de 4 y 5.\n",
        "ejemplo = Nodo(\"1\",Nodo(\"2\", Nodo(\"4\",None,None),Nodo(\"5\",None,None)) \\\n",
        "               ,Nodo(\"3\",None,None))"
      ],
      "execution_count": 0,
      "outputs": []
    },
    {
      "cell_type": "markdown",
      "metadata": {
        "id": "UNLLtm4ybqZe",
        "colab_type": "text"
      },
      "source": [
        "### Parte A\n",
        "Escriba la función recursiva recorrer que escriba los nombres en preorden (es decir, primero recorre el valor del nodo, luego los nodos a la izquierda y finalmente los de la derecha), entregando el número total de nodos del árbol."
      ]
    },
    {
      "cell_type": "code",
      "metadata": {
        "id": "Rjiw5SJqb6wz",
        "colab_type": "code",
        "colab": {}
      },
      "source": [
        "#Solución\n",
        "\n",
        "\n",
        "assert printPreorden(ejemplo) == 5"
      ],
      "execution_count": 0,
      "outputs": []
    },
    {
      "cell_type": "markdown",
      "metadata": {
        "id": "Fh9vfyStb-uA",
        "colab_type": "text"
      },
      "source": [
        "### Parte B\n",
        "Escriba la función esPadre, la cual recibe un árbol y dos strings, y retorna True en caso de que el primer string sea padre directo del segundo string en el árbol, y False en caso contrario."
      ]
    },
    {
      "cell_type": "code",
      "metadata": {
        "id": "osCgctiucAkn",
        "colab_type": "code",
        "colab": {}
      },
      "source": [
        "#Solución\n",
        "\n",
        "\n",
        "assert esPadre(ejemplo,\"1\",\"2\")\n",
        "\n"
      ],
      "execution_count": 0,
      "outputs": []
    },
    {
      "cell_type": "markdown",
      "metadata": {
        "id": "27pg6pJjcGvm",
        "colab_type": "text"
      },
      "source": [
        "### Parte C\n",
        "Use la función anterior para crear la función esAbuelo, la cual de forma similar a esPadre, recibe un arbol y dos strings, retornando True en caso de que el primer string sea abuelo del segundo string en arbol, y False en caso contrario."
      ]
    },
    {
      "cell_type": "code",
      "metadata": {
        "id": "sBFgByBQcGAm",
        "colab_type": "code",
        "colab": {}
      },
      "source": [
        "#Solución\n",
        "\n",
        "\n",
        "assert esAbuelo(ejemplo,\"1\",\"4\")\n"
      ],
      "execution_count": 0,
      "outputs": []
    }
  ]
}