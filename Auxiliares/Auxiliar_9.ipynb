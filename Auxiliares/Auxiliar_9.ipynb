{
  "nbformat": 4,
  "nbformat_minor": 0,
  "metadata": {
    "colab": {
      "name": "Auxiliar 9.ipynb",
      "provenance": [],
      "collapsed_sections": [],
      "include_colab_link": true
    },
    "kernelspec": {
      "name": "python2",
      "display_name": "Python 2"
    }
  },
  "cells": [
    {
      "cell_type": "markdown",
      "metadata": {
        "id": "view-in-github",
        "colab_type": "text"
      },
      "source": [
        "<a href=\"https://colab.research.google.com/github/bpoblete/CC1002_9/blob/master/Auxiliares/Auxiliar_9.ipynb\" target=\"_parent\"><img src=\"https://colab.research.google.com/assets/colab-badge.svg\" alt=\"Open In Colab\"/></a>"
      ]
    },
    {
      "cell_type": "markdown",
      "metadata": {
        "id": "FEkSYk20_h9G",
        "colab_type": "text"
      },
      "source": [
        "# Auxiliar 9 - Sección 9\n",
        "## Profesora: Bárbara Poblete\n",
        "## Auxiliares: Lucas Torrealba - Matías Villegas\n",
        "### CC1002-9 Introducción a la Programación"
      ]
    },
    {
      "cell_type": "markdown",
      "metadata": {
        "id": "jy8VhFrvYN31",
        "colab_type": "text"
      },
      "source": [
        "## P1 Listas de Python\n",
        "Escribir las instrucciones para:\n",
        "\n",
        "**A)** Definir una lista con la cantidad de días de cada mes (sin considerar años bisiestos). Ej:[31,28,…,31]\n",
        "\n",
        "**B)** Definir una lista con los nombres de los meses Ej: [“enero”,…]\n",
        "\n",
        "**C)** Calcular y mostrar el total de días del año\n",
        "\n",
        "**D)** Mostrar el número del mes con menos días\n",
        "\n",
        "**E)** Mostrar los números de los meses más largos (con más días)\n",
        "\n",
        "**F)** Mostrar la lista de meses con sus días (ordenados cronológicamente)\n",
        "\n",
        "**G)** Una función (masCorto) que reciba las dos listas (nombres y cantidad de días) y devuelva el nombre del mes más corto (asuma que solo existe 1)\n",
        "\n",
        "**H)** Una función (masLargos) que reciba las dos listas y devuelva una lista con los nombres de los meses más largos (puede existir mas de uno)\n"
      ]
    },
    {
      "cell_type": "code",
      "metadata": {
        "id": "tIwWjferZRtv",
        "colab_type": "code",
        "colab": {}
      },
      "source": [
        "#Parte A"
      ],
      "execution_count": 0,
      "outputs": []
    },
    {
      "cell_type": "code",
      "metadata": {
        "id": "GgbxT7cx5FS9",
        "colab_type": "code",
        "colab": {}
      },
      "source": [
        "#Parte B"
      ],
      "execution_count": 0,
      "outputs": []
    },
    {
      "cell_type": "code",
      "metadata": {
        "id": "Z-OXvDqL47rE",
        "colab_type": "code",
        "colab": {}
      },
      "source": [
        "#Parte C"
      ],
      "execution_count": 0,
      "outputs": []
    },
    {
      "cell_type": "code",
      "metadata": {
        "id": "_86rhx9y48HZ",
        "colab_type": "code",
        "colab": {}
      },
      "source": [
        "#Parte D"
      ],
      "execution_count": 0,
      "outputs": []
    },
    {
      "cell_type": "code",
      "metadata": {
        "id": "i9iHgAOI48Yo",
        "colab_type": "code",
        "colab": {}
      },
      "source": [
        "#Parte E"
      ],
      "execution_count": 0,
      "outputs": []
    },
    {
      "cell_type": "code",
      "metadata": {
        "id": "XqIW7uXU48rn",
        "colab_type": "code",
        "colab": {}
      },
      "source": [
        "#Parte F"
      ],
      "execution_count": 0,
      "outputs": []
    },
    {
      "cell_type": "code",
      "metadata": {
        "id": "J_TimkuE482A",
        "colab_type": "code",
        "colab": {}
      },
      "source": [
        "#Parte G"
      ],
      "execution_count": 0,
      "outputs": []
    },
    {
      "cell_type": "code",
      "metadata": {
        "id": "uMftPFCm49Cp",
        "colab_type": "code",
        "colab": {}
      },
      "source": [
        "#Parte H"
      ],
      "execution_count": 0,
      "outputs": []
    },
    {
      "cell_type": "markdown",
      "metadata": {
        "id": "U2AyCtQTWlTK",
        "colab_type": "text"
      },
      "source": [
        "## P2 Diccionario\n",
        "\n",
        "Suponga que tiene un diccionario de Python con todos los elementos en stock en un supermercado, cada elemento\n",
        "tiene Nombre, Clase, Cantidad y Precio Unitario. Dado este diccionario, defina las siguientes funciones:\n",
        "\n",
        "**a)** **valorStock**, que recibe un diccionario y calcula el valor total del stock del supermercado\n",
        "\n",
        "**b)** **valorClase**, que recibirá un diccionario y una clase, y calcula el valor de todos los elementos de una clase. \n",
        "\n",
        "**c)** **listaClase**, que recibirá un diccionario y una clase, y retorne una lista con todos los elementos de una clase.\n",
        "\n",
        "**d)** **actualizacion**, que recibe un diccionario que alberga las compras y tiene como llave el nombre del producto y como valor la cantidad de elementos que se compraron. La función debe retornar una tupla con el diccionario de stock nuevo y con el total de la compra. Si algún elemento de el diccionario de compra no está en el diccionario de stock, ignorelo."
      ]
    },
    {
      "cell_type": "code",
      "metadata": {
        "id": "K-3mRYNeajiI",
        "colab_type": "code",
        "colab": {}
      },
      "source": [
        "stock = {\"gomitas\": ['A', 50, 200], \"pasta de dientes\": ['B', 30, 1000], \"cloro\": ['C',40, 2000]}\n",
        "#Parte A\n",
        "\n"
      ],
      "execution_count": 0,
      "outputs": []
    },
    {
      "cell_type": "code",
      "metadata": {
        "id": "0CqjsAer4mIX",
        "colab_type": "code",
        "colab": {}
      },
      "source": [
        "#Parte B"
      ],
      "execution_count": 0,
      "outputs": []
    },
    {
      "cell_type": "code",
      "metadata": {
        "id": "c3nhEs8E4mSb",
        "colab_type": "code",
        "colab": {}
      },
      "source": [
        "#Parte C"
      ],
      "execution_count": 0,
      "outputs": []
    },
    {
      "cell_type": "code",
      "metadata": {
        "id": "pUL7kZ524mbP",
        "colab_type": "code",
        "colab": {}
      },
      "source": [
        "compras = {\"gomitas\": 5, \"cloro\": 10, \"jugo\": 2}\n",
        "#Parte D \n"
      ],
      "execution_count": 0,
      "outputs": []
    },
    {
      "cell_type": "markdown",
      "metadata": {
        "id": "g9Lx1lpedOuv",
        "colab_type": "text"
      },
      "source": [
        "## P3 Lectura/Escritura de Archivos\n",
        "\n",
        "A) Escriba un programa que lea el archivo “notas.txt” y que grabe el archivo “notas1.txt” sólo con aquellas líneas que tengan información correcta (nombres alfabéticos y con espacios en los primeros 20 caracteres y notas entre 10 y 70 en los siguientes 2 caracteres).\n",
        "\n",
        "B) )Escriba un programa que lea el archivo “notas1.txt” y escriba los siguientes resultados:\n",
        "* Promedio de notas\n",
        "* porcentaje (%) de alumnos aprobados (nota >= 40)\n",
        "\n",
        "C) Escriba un programa que lea el archivo “notas1.txt” y escriba los nombres de todos los alumnos que alcanzaron la mayor nota."
      ]
    },
    {
      "cell_type": "code",
      "metadata": {
        "id": "R3PjgggqBMhk",
        "colab_type": "code",
        "colab": {}
      },
      "source": [
        "#Parte A\n",
        "\n"
      ],
      "execution_count": 0,
      "outputs": []
    },
    {
      "cell_type": "code",
      "metadata": {
        "id": "-w93YsAbBNH0",
        "colab_type": "code",
        "colab": {}
      },
      "source": [
        "#Parte B\n"
      ],
      "execution_count": 0,
      "outputs": []
    },
    {
      "cell_type": "code",
      "metadata": {
        "id": "XS6KsSdnBP3v",
        "colab_type": "code",
        "colab": {}
      },
      "source": [
        "#Parte C\n"
      ],
      "execution_count": 0,
      "outputs": []
    }
  ]
}