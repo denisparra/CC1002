{
  "nbformat": 4,
  "nbformat_minor": 0,
  "metadata": {
    "colab": {
      "name": "Auxiliar 2.ipynb",
      "version": "0.3.2",
      "provenance": [],
      "collapsed_sections": [],
      "include_colab_link": true
    },
    "kernelspec": {
      "name": "python3",
      "display_name": "Python 3"
    }
  },
  "cells": [
    {
      "cell_type": "markdown",
      "metadata": {
        "id": "view-in-github",
        "colab_type": "text"
      },
      "source": [
        "<a href=\"https://colab.research.google.com/github/bpoblete/CC1002_9/blob/master/Auxiliares/Auxiliar_2_sin_pauta.ipynb\" target=\"_parent\"><img src=\"https://colab.research.google.com/assets/colab-badge.svg\" alt=\"Open In Colab\"/></a>"
      ]
    },
    {
      "cell_type": "markdown",
      "metadata": {
        "id": "FEkSYk20_h9G",
        "colab_type": "text"
      },
      "source": [
        "# Auxiliar 2 - Sección 9\n",
        "## Profesora: Bárbara Poblete\n",
        "## Auxiliares: Lucas Torrealba - Matías Villegas\n",
        "### CC1002-9 Introducción a la Programación"
      ]
    },
    {
      "cell_type": "markdown",
      "metadata": {
        "id": "-JJ3EDFq9YXM",
        "colab_type": "text"
      },
      "source": [
        "##P1 Divisibilidad\n",
        "A) Realice la función *esDivisiblePor(x,y,z)* que recibe 3 números y devuelve:\n",
        "- 3 si $x$ es divisible por $y$ y $x$ es divisible por $z$.\n",
        "- 2 si $x$ es divisible por $y$ y $x$ no  es divisible por $z$.\n",
        "- 1 si $x$ es divisible por $z$ y $x$ no es divisible por $y$.\n",
        "- 0 si $x$ no es divisible por $z$ y tampoco es divisible por $y$.\n",
        "\n",
        "\n",
        "\n",
        "B) Un número es divisible por 6 cuando es divisible por 2 y por 3. \n",
        "\n",
        "**Usando la función anterior**, escriba la función (con su receta de diseño) divisiblePorSeis que reciba un número entero y que devuelva $True$ si el número es divisible por 6, $False$ en caso contrario. \n",
        "\n",
        "**Nota**, $x$ es divisible por $y$ si al realizar $\\frac{x}{y}$ el resto es 0. \n",
        "\n"
      ]
    },
    {
      "cell_type": "code",
      "metadata": {
        "id": "-RHxG_eQIicf",
        "colab_type": "code",
        "colab": {}
      },
      "source": [
        "#Solución parte a)\n"
      ],
      "execution_count": 0,
      "outputs": []
    },
    {
      "cell_type": "code",
      "metadata": {
        "id": "36E3v95M9YHu",
        "colab_type": "code",
        "colab": {}
      },
      "source": [
        "#Solución parte b)\n"
      ],
      "execution_count": 0,
      "outputs": []
    },
    {
      "cell_type": "code",
      "metadata": {
        "id": "Oops0wH4SiJp",
        "colab_type": "code",
        "colab": {}
      },
      "source": [
        "#Test P1\n",
        "#Parte a)\n",
        "assert esDivisiblePor(10,5,2) == 3\n",
        "assert esDivisiblePor(10,5,3) == 2\n",
        "assert esDivisiblePor(10,3,2) == 1\n",
        "assert esDivisiblePor(10,3,7) == 0\n",
        "\n",
        "#Parte b)\n",
        "assert divisiblePorSeis(18)== True\n",
        "assert divisiblePorSeis(45)== False\n",
        "\n",
        "\n",
        "\n"
      ],
      "execution_count": 0,
      "outputs": []
    },
    {
      "cell_type": "markdown",
      "metadata": {
        "id": "ysAVYtQyqKbk",
        "colab_type": "text"
      },
      "source": [
        "## P2 Cachipún\n",
        "A) Escribir una función de nombre piedraPapelTijeras (en el archivo piedraPapelTijeras.py en el escritorio) que reciba un n° entero y entregue la palabra “piedra”, “papel”, “tijeras” o “error” en caso que el número sea 1, 2, 3 u otro respectivamente. La función debe incluir la receta de diseño con los 4 casos de prueba.\n",
        "\n",
        "B) Use la función anterior en un programa interactivo (en el archivo cahipun.py en el escritorio) que permita jugar cahipún entre una persona y el computador en la forma indicada en el siguiente ejemplo de diálogo\n",
        "\n",
        "```\n",
        "    Ingrese piedra(1), papel(2) o tijera(3)? 3\n",
        "    Ud jugó tijeras\n",
        "    Computador jugó piedra\n",
        "    Gana Computador \n",
        "```\n",
        "\n",
        "**Notas:**\n",
        "- Las otras respuestas posibles son “Gana Ud” o “Empate” dependiendo de lo que juegue la persona y el computador.\n",
        "- El computador debe generar su jugada con random.randint(1,3) que genera un número al azar entre 1 y 3.\n",
        "- Para usar la función debe incluir la instrucción from piedraPapelTijeras import * \n"
      ]
    },
    {
      "cell_type": "code",
      "metadata": {
        "id": "exGr3lyHJZDk",
        "colab_type": "code",
        "colab": {}
      },
      "source": [
        "#Solucion A\n",
        "\n"
      ],
      "execution_count": 0,
      "outputs": []
    },
    {
      "cell_type": "code",
      "metadata": {
        "id": "dk3sYnxOI9ch",
        "colab_type": "code",
        "colab": {}
      },
      "source": [
        "#Solucion b\n"
      ],
      "execution_count": 0,
      "outputs": []
    },
    {
      "cell_type": "code",
      "metadata": {
        "id": "k6VYPlDBTCIL",
        "colab_type": "code",
        "colab": {}
      },
      "source": [
        "# Test P2\n",
        "#Parte a)\n",
        "assert piedraPapelTijeras(1) == 'piedra'\n",
        "assert piedraPapelTijeras(2) == 'papel'\n",
        "assert piedraPapelTijeras(3) == 'tijeras'\n",
        "assert piedraPapelTijeras(5) == 'error'\n"
      ],
      "execution_count": 0,
      "outputs": []
    },
    {
      "cell_type": "markdown",
      "metadata": {
        "id": "n0ZqxCzO3qT2",
        "colab_type": "text"
      },
      "source": [
        "##P3 Ecuación cuadrática\n",
        "Escriba un programa interactivo que resuelva una ecuación de segundo grado siguiendo el siguiente diálogo:\n",
        "\n",
        "```\n",
        "Resolver ecuación: a*x*x+b*x+c=0\n",
        "a? \n",
        "b? \n",
        "c? \n",
        "Resultado: \n",
        "\n",
        "```\n",
        "\n",
        "\n",
        "| Caso| Resultado|\n",
        "|---------|----------------------------------------|\n",
        "|Ecuación degenerada (a=b=0)| Indefinido|\n",
        "|Ecuación de primer grado (a=0) | x = -b/c|\n",
        "|Ec. de 2do grado con una raiz real (d=0)| x = -b/(2a)\n",
        "Ec. de 2do grado con dos raíces reales y distintas (d>0)| **Nota1**\n",
        "Ec. de 2do grado con dos raíces no reales (d<0)| Raíces complejas\n",
        "\n",
        "**Nota1:** $x1=\\frac{-b+\\sqrt{d}}{2a}$;   $x2=\\frac{-b-\\sqrt{d}}{2a}$\n",
        "\n",
        "Recuerde que el discrimintante *d* es $b^2 -4ac$.\n",
        "\n",
        "\n",
        "Ejemplo:\n",
        "\n",
        "```\n",
        "Resolver ecuación: a*x*x+b*x+c=0\n",
        "a? 2\n",
        "b? 3\n",
        "c? 4\n",
        "Resultado: Raices complejas\n",
        "\n",
        "```"
      ]
    },
    {
      "cell_type": "code",
      "metadata": {
        "id": "TPaLUhpR3pTi",
        "colab_type": "code",
        "colab": {}
      },
      "source": [
        "#Solución P3\n",
        "\n"
      ],
      "execution_count": 0,
      "outputs": []
    },
    {
      "cell_type": "markdown",
      "metadata": {
        "id": "rOTsXVJV-_g5",
        "colab_type": "text"
      },
      "source": [
        "##P4 Desigualdad Triangular y Formula de Herón\n",
        "A) Escriba una función desigualdadTriangular con su receta de diseño que reciba 3 números (enteros o reales) y devuelva *true* si cumplen la desigualdad triangular o *false* en caso contrario. \n",
        "\n",
        "Recuerde que si $a,b,c$ cumplen la desigualdad triangular, entonces:\n",
        "- $a<(b+c)$\n",
        "- $b<(a+c)$\n",
        "- $c<(a+b)$\n",
        "\n",
        "\n",
        "B) Escriba la función  formulaHeron que recibe 3 números (enteros o reales), que representarán los lados de un triangulo y devuelve el área calculada (float) según la fórmula de Herón.\n",
        "\n",
        "**Fórmula de Herón**\n",
        "$$Area=\\sqrt{s(s-a)(s-b)(s-c)}$$\n",
        "Donde $s=\\frac{a+b+c}{2}$, corresponde al semiperímetro.\n",
        "\n",
        "\n",
        "c) **Utilizando las funciones anteriores** escriba un programa interactivo que pida 3 lados de un tríangulo y devuelva el área (si es que cumple la desigualdad triangular) o \"*No cumple desigualdad triangular*\"\" en caso contrario:\n",
        "\n",
        "```\n",
        "Ingrese lado1: 3\n",
        "Ingrese lado2: 4\n",
        "Ingrese lado3: 5\n",
        "El Area es 6.0\n",
        "```"
      ]
    },
    {
      "cell_type": "code",
      "metadata": {
        "id": "oY0bWRBnCePo",
        "colab_type": "code",
        "colab": {}
      },
      "source": [
        "#Solución Parte a\n",
        "\n"
      ],
      "execution_count": 0,
      "outputs": []
    },
    {
      "cell_type": "code",
      "metadata": {
        "id": "nbylhoDFD5bz",
        "colab_type": "code",
        "colab": {}
      },
      "source": [
        "#Solución Parte b  \n",
        "\n"
      ],
      "execution_count": 0,
      "outputs": []
    },
    {
      "cell_type": "code",
      "metadata": {
        "id": "o4uF_40rDCoi",
        "colab_type": "code",
        "colab": {}
      },
      "source": [
        "#Solución Parte c\n"
      ],
      "execution_count": 0,
      "outputs": []
    },
    {
      "cell_type": "code",
      "metadata": {
        "id": "hiC-GAhiTHCt",
        "colab_type": "code",
        "colab": {}
      },
      "source": [
        "#Test\n",
        "#Parte a\n",
        "assert desigualdadTriangular(5,3,4) == True \n",
        "assert desigualdadTriangular(5,6,12) == False\n",
        "  \n",
        "#Parte b\n",
        "assert formulaHeron(3,4,5) == 6"
      ],
      "execution_count": 0,
      "outputs": []
    }
  ]
}