{
  "nbformat": 4,
  "nbformat_minor": 0,
  "metadata": {
    "colab": {
      "name": "Auxiliar 5.ipynb",
      "version": "0.3.2",
      "provenance": [],
      "collapsed_sections": [],
      "include_colab_link": true
    },
    "kernelspec": {
      "name": "python3",
      "display_name": "Python 3"
    }
  },
  "cells": [
    {
      "cell_type": "markdown",
      "metadata": {
        "id": "view-in-github",
        "colab_type": "text"
      },
      "source": [
        "<a href=\"https://colab.research.google.com/github/bpoblete/CC1002_9/blob/master/Auxiliares/Auxiliar_5_sin_pauta.ipynb\" target=\"_parent\"><img src=\"https://colab.research.google.com/assets/colab-badge.svg\" alt=\"Open In Colab\"/></a>"
      ]
    },
    {
      "cell_type": "markdown",
      "metadata": {
        "id": "FEkSYk20_h9G",
        "colab_type": "text"
      },
      "source": [
        "# Auxiliar 5 - Sección 9\n",
        "## Profesora: Bárbara Poblete\n",
        "## Auxiliares: Lucas Torrealba - Matías Villegas\n",
        "### CC1002-9 Introducción a la Programación"
      ]
    },
    {
      "cell_type": "markdown",
      "metadata": {
        "id": "yqdBVH_FaLDj",
        "colab_type": "text"
      },
      "source": [
        "## P1 Listas"
      ]
    },
    {
      "cell_type": "markdown",
      "metadata": {
        "id": "dU1aedvSaSVe",
        "colab_type": "text"
      },
      "source": [
        "### A) Escribir una función que reciba una lista y un valor y entregue el lugar en qué está el primer valor en la lista (0 si no está)."
      ]
    },
    {
      "cell_type": "code",
      "metadata": {
        "id": "42OoF9BtaR4s",
        "colab_type": "code",
        "colab": {}
      },
      "source": [
        "#Solución\n"
      ],
      "execution_count": 0,
      "outputs": []
    },
    {
      "cell_type": "markdown",
      "metadata": {
        "id": "k6ni0FWraZN5",
        "colab_type": "text"
      },
      "source": [
        "### B) Reescriba la función para que entregue una lista con todos los lugares en que está un valor."
      ]
    },
    {
      "cell_type": "code",
      "metadata": {
        "id": "SeJTO2FhatNs",
        "colab_type": "code",
        "colab": {}
      },
      "source": [
        "#Solución\n",
        "\n"
      ],
      "execution_count": 0,
      "outputs": []
    },
    {
      "cell_type": "markdown",
      "metadata": {
        "id": "-J0uGPaB6LGA",
        "colab_type": "text"
      },
      "source": [
        "## P2 Tiempo"
      ]
    },
    {
      "cell_type": "markdown",
      "metadata": {
        "id": "4jTpQ831Xysp",
        "colab_type": "text"
      },
      "source": [
        "En el auxiliar anterior se construyó el siguiente módulo tiempo:\n",
        "\n",
        "**Tiempo: horas(int) minutos(int)** con las siguientes funciones:\n",
        "\n",
        "- aString -> Entrega el tiempo de la forma \"HH:MM\"\n",
        "- enMinutos -> Entrega un int con el tiempo en minutos\n",
        "- sumar -> Entrega la suma entre dos tiempos\n",
        "- restar -> Entrega la resta entre dos tiempos\n",
        "- comparar -> Entrega -1,0 o 1 en caso <, == o >\n",
        "\n",
        "\n",
        "\n",
        "\n",
        "\n"
      ]
    },
    {
      "cell_type": "code",
      "metadata": {
        "id": "9eO4xk9TDJlW",
        "colab_type": "code",
        "colab": {}
      },
      "source": [
        "import estructura\n",
        "\n",
        "#Tiempo: horas(int), minutos(int)\n",
        "estructura.crear(\"Tiempo\", \"horas minutos\")\n",
        "\n",
        "#esTiempo: Tiempo -> bool\n",
        "#Entrega True si el valor ingresado corresponde a un tiempo valido False si no.\n",
        "#Ej: esTiempo(Tiempo(12,00)) -> True\n",
        "#Ej: esTiempo(Tiempo(25,70)) -> False\n",
        "def esTiempo(x):\n",
        "    if type(x) == Tiempo:\n",
        "        hh = x.horas\n",
        "        mm = x.minutos\n",
        "        return 0<= hh <= 24 and 0<= mm <=59\n",
        "    else:\n",
        "        return False\n",
        "assert esTiempo(Tiempo(12,00))\n",
        "assert not esTiempo(Tiempo(25,70))\n",
        "\n",
        "\n",
        "#aString: Tiempo -> str\n",
        "#Escribe el tiempo de la forma HH:MM\n",
        "#Ej: aString(Tiempo(12,20)) -> \"12:20\"\n",
        "def aString(x):\n",
        "    assert esTiempo(x)\n",
        "    return str(x.horas)+\":\"+str(x.minutos)\n",
        "assert aString(Tiempo(12,20)) == \"12:20\"\n",
        "\n",
        "\n",
        "#enMinutos: Tiempo -> int\n",
        "#Retorna el Tiempo en minutos\n",
        "#Ej: enMinutos(Tiempo(10,00)) -> 600\n",
        "def enMinutos(x):\n",
        "    assert esTiempo(x)\n",
        "    return x.horas*60 + x.minutos\n",
        "assert enMinutos(Tiempo(10,00)) == 600\n",
        " \n",
        "\n",
        "#sumar: Tiempo, Tiempo-> Tiempo\n",
        "#Suma dos instantes de tiempo y lo retorna\n",
        "#Ej: sumar(Tiempo(5,0),Tiempo(5,0)) -> Tiempo(10,0)\n",
        "def sumar(x,y):\n",
        "    assert esTiempo(x) and esTiempo(y)\n",
        "    total = enMinutos(x) + enMinutos(y)\n",
        "    return Tiempo((total/60)%24,total%60)\n",
        "assert sumar(Tiempo(5,0),Tiempo(5,0)) == Tiempo(10,0)\n",
        "\n",
        "\n",
        "#restar: Tiempo, Tiempo-> Tiempo\n",
        "#Resta dos instantes de tiempo y lo retorna\n",
        "#Ej: restar(Tiempo(5,0),Tiempo(5,0)) -> Tiempo(0,0)\n",
        "def restar(x,y):\n",
        "    assert esTiempo(x) and esTiempo(y)\n",
        "    total = enMinutos(x) - enMinutos(y)\n",
        "    if total >= 0:\n",
        "        return Tiempo((total/60)%24, total%60)\n",
        "    else:\n",
        "        total = 1440 + total\n",
        "        return Tiempo((total/60)%24,total%60)\n",
        "assert restar(Tiempo(5,0),Tiempo(5,0)) == Tiempo(0,0)\n",
        "assert restar(Tiempo(5,0),Tiempo(6,0)) == Tiempo(23,0)\n",
        "assert restar(Tiempo(0,2),Tiempo(0,4)) == Tiempo(23,58)\n",
        "\n",
        "\n",
        "#comparar: Tiempo, Tiempo -> int\n",
        "#Compara dos instantes de tiempo y retorna 1, 0 o -1 segun el caso\n",
        "#ej: comparar(Tiempo(12,00),Tiempo(6,00)) -> 1 \n",
        "def comparar(x,y):\n",
        "    assert esTiempo(x) and esTiempo(y)\n",
        "    a = enMinutos(x)\n",
        "    b = enMinutos(y)\n",
        "    if a>b:\n",
        "        return 1\n",
        "    elif a == b:\n",
        "        return 0\n",
        "    else:\n",
        "        return -1\n",
        "assert comparar(Tiempo(12,00),Tiempo(6,00)) == 1"
      ],
      "execution_count": 0,
      "outputs": []
    },
    {
      "cell_type": "markdown",
      "metadata": {
        "id": "d4kNH15VWmtf",
        "colab_type": "text"
      },
      "source": [
        "### A)\n",
        "\n",
        "Para operar con listas de tiempos se puede definir la siguiente estructura:\n",
        "\n",
        "```\n",
        "#lista: valor(Tiempo) siguiente(lista)\n",
        "```\n",
        "Escriba las siguientes funciones.\n",
        "- mayorTiempo(L) que entrega el mayor tiempo de la lista L.\n",
        "- promedioTiempos(L) que entregue el promedio en minutos de la lista L.\n",
        "- cuentaMenores(L,T) que entregue la cantidad de tiempos de la lista L menores al tiempo T.\n",
        "- listaMenores(L,T) que entregue una lista con los tiempos de la lista L menores al tiempo T."
      ]
    },
    {
      "cell_type": "code",
      "metadata": {
        "id": "-xWKEvZKW4uB",
        "colab_type": "code",
        "colab": {}
      },
      "source": [
        "#Solución\n",
        "             "
      ],
      "execution_count": 0,
      "outputs": []
    },
    {
      "cell_type": "markdown",
      "metadata": {
        "id": "0a9PwNb5ABtu",
        "colab_type": "text"
      },
      "source": [
        "## P3 Listas con números y abstracción funcional\n"
      ]
    },
    {
      "cell_type": "markdown",
      "metadata": {
        "id": "apbBgmvgAMkR",
        "colab_type": "text"
      },
      "source": [
        "### A)\n",
        "- Escriba la función pares, que recibe una lista de números y retorna una lista que sólo contiene los pares de la lista original\n",
        "\n",
        "- Escriba una función que recibe una lista de números y entrega una lista con todos los números elevados al cuadrado\n",
        "\n",
        "- Escriba una función que recibe una lista de números y entrega la suma de todos los números"
      ]
    },
    {
      "cell_type": "code",
      "metadata": {
        "id": "8v9WjrXkAfXY",
        "colab_type": "code",
        "colab": {}
      },
      "source": [
        "#Solución"
      ],
      "execution_count": 0,
      "outputs": []
    },
    {
      "cell_type": "markdown",
      "metadata": {
        "id": "p2zmJr7pAUIq",
        "colab_type": "text"
      },
      "source": [
        "### B) Realice lo anterior pero filtro - mapa - fold"
      ]
    },
    {
      "cell_type": "code",
      "metadata": {
        "id": "uP7ajvVmAgCQ",
        "colab_type": "code",
        "colab": {}
      },
      "source": [
        "#Solución"
      ],
      "execution_count": 0,
      "outputs": []
    },
    {
      "cell_type": "markdown",
      "metadata": {
        "id": "bqngEkkAMbvd",
        "colab_type": "text"
      },
      "source": [
        "## P4 Animales\n",
        "\n",
        "Considere que tiene la estructura Animal que tiene como atributos Especie, Clase, Dieta y Edad (en meses). Se le entregará una lista de Animales y se le solicita que realice lo siguiente:\n",
        "\n",
        "NOTA:\n",
        "* Clases de Animales: Mamífero, Pez, Ave, Anfibio y Reptil.\n",
        "* Dietas de Animales: Carnivora, Hervivora y Omnivora."
      ]
    },
    {
      "cell_type": "code",
      "metadata": {
        "id": "c2_va6EUdnJr",
        "colab_type": "code",
        "colab": {}
      },
      "source": [
        "import estructura\n",
        "estructura.crear(\"Animal\",\"Especie Clase Dieta Edad\")\n",
        "estructura.crear(\"lista\", \"valor siguiente\")\n",
        "A = Animal(\"Perro\", \"Mamifero\", \"Carnivoro\", 20)\n",
        "B = Animal(\"Leon\", \"Mamifero\", \"Carnivoro\", 30)\n",
        "C = Animal(\"Conejo\", \"Mamifero\", \"Hervivoro\", 80)\n",
        "D = Animal(\"Rana\", \"Anfibio\", \"Carnivoro\", 15)\n",
        "E = Animal(\"Tiburon\", \"Pez\", \"Carnivoro\", 17)\n",
        "F = Animal(\"Picaflor\", \"Ave\", \"Hervivoro\", 34)\n",
        "G = Animal(\"Avestruz\", \"Ave\", \"Omnivoro\", 50)\n",
        "H = Animal(\"Tortuga\", \"Repti tol\",\"Omnivoro\", 20)\n",
        "I = Animal(\"Rana\", \"Anfibio\", \"Carnivoro\", 35)\n",
        "listaAnimales=lista(A, lista(B, lista(C, lista(D, lista(E, lista(F, lista(G, \\\n",
        "                    lista(H, lista(I, None)))))))))"
      ],
      "execution_count": 0,
      "outputs": []
    },
    {
      "cell_type": "markdown",
      "metadata": {
        "id": "1yPYEUOoDJ1H",
        "colab_type": "text"
      },
      "source": [
        "\n",
        "\n",
        "### A)  Utilizando un **Filtro**, obtenga por cada clase una lista de los animales de esa clase."
      ]
    },
    {
      "cell_type": "code",
      "metadata": {
        "id": "DZ57dKQ-XCo7",
        "colab_type": "code",
        "colab": {}
      },
      "source": [
        "#Solución"
      ],
      "execution_count": 0,
      "outputs": []
    },
    {
      "cell_type": "markdown",
      "metadata": {
        "id": "Y_RXCbBn1pPz",
        "colab_type": "text"
      },
      "source": [
        "### B) Utilizando un **Mapa**, convierta las edades de todos los animales de la lista a años(puede truncar)."
      ]
    },
    {
      "cell_type": "code",
      "metadata": {
        "id": "nBnUwsH-2teK",
        "colab_type": "code",
        "colab": {}
      },
      "source": [
        "#Solución\n"
      ],
      "execution_count": 0,
      "outputs": []
    },
    {
      "cell_type": "markdown",
      "metadata": {
        "id": "KIzveFaG2tqY",
        "colab_type": "text"
      },
      "source": [
        "### C) Defina un función frecuencia que toma como argumento la lista de animales y retorna dos lista una que contiene las especies de animales que hay en la lista y otra que contiene las cantidades de animales de cada especie en la lista anterior."
      ]
    },
    {
      "cell_type": "code",
      "metadata": {
        "id": "4ufL1-NN3FZx",
        "colab_type": "code",
        "colab": {}
      },
      "source": [
        "#Solución"
      ],
      "execution_count": 0,
      "outputs": []
    },
    {
      "cell_type": "markdown",
      "metadata": {
        "id": "XpfEbpSa3FpR",
        "colab_type": "text"
      },
      "source": [
        "### D)  Haga lo mismo que en el item anterior, pero esta vez con la dieta."
      ]
    },
    {
      "cell_type": "code",
      "metadata": {
        "id": "ahCodmq83Ss4",
        "colab_type": "code",
        "colab": {}
      },
      "source": [
        "#Solución"
      ],
      "execution_count": 0,
      "outputs": []
    },
    {
      "cell_type": "markdown",
      "metadata": {
        "id": "ZWNnuVRWdS5P",
        "colab_type": "text"
      },
      "source": [
        "### E) Cambie, para todos los animales de la lista, su dieta de por ejemplo Carnivoro a Come Carne."
      ]
    },
    {
      "cell_type": "code",
      "metadata": {
        "id": "qGSonYeadSJd",
        "colab_type": "code",
        "colab": {}
      },
      "source": [
        "#Solución"
      ],
      "execution_count": 0,
      "outputs": []
    },
    {
      "cell_type": "markdown",
      "metadata": {
        "id": "jJsBF4eVddRw",
        "colab_type": "text"
      },
      "source": [
        "### F) Retorne una lista con todos los animales de la lista que son Mamiferos y Carnivoros."
      ]
    },
    {
      "cell_type": "code",
      "metadata": {
        "id": "F0udimf-6IUY",
        "colab_type": "code",
        "colab": {}
      },
      "source": [
        "#Solución"
      ],
      "execution_count": 0,
      "outputs": []
    }
  ]
}