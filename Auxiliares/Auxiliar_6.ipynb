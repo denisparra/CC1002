{
  "nbformat": 4,
  "nbformat_minor": 0,
  "metadata": {
    "colab": {
      "name": "Auxiliar 6.ipynb",
      "provenance": [],
      "collapsed_sections": [],
      "toc_visible": true,
      "include_colab_link": true
    },
    "kernelspec": {
      "name": "python2",
      "display_name": "Python 2"
    }
  },
  "cells": [
    {
      "cell_type": "markdown",
      "metadata": {
        "id": "view-in-github",
        "colab_type": "text"
      },
      "source": [
        "<a href=\"https://colab.research.google.com/github/bpoblete/CC1002_9/blob/master/Auxiliares/Auxiliar_6.ipynb\" target=\"_parent\"><img src=\"https://colab.research.google.com/assets/colab-badge.svg\" alt=\"Open In Colab\"/></a>"
      ]
    },
    {
      "cell_type": "markdown",
      "metadata": {
        "id": "FEkSYk20_h9G",
        "colab_type": "text"
      },
      "source": [
        "# Auxiliar 6 - Sección 9\n",
        "## Profesora: Bárbara Poblete\n",
        "## Auxiliares: Lucas Torrealba - Matías Villegas\n",
        "### CC1002-9 Introducción a la Programación"
      ]
    },
    {
      "cell_type": "markdown",
      "metadata": {
        "id": "-J0uGPaB6LGA",
        "colab_type": "text"
      },
      "source": [
        "## P1 Árboles\n",
        "\n",
        "Se tiene el árbol de la forma\n",
        "\n",
        "<code>\n",
        "  # nodo: valor(any), izq(nodo), derecha(nodo)\n",
        "</code>"
      ]
    },
    {
      "cell_type": "markdown",
      "metadata": {
        "id": "4jTpQ831Xysp",
        "colab_type": "text"
      },
      "source": [
        "### A) Escriba la función 'tamano', que recibe un nodo raíz y retorna la cantidad de nodos en el árbol\n",
        "\n",
        "\n"
      ]
    },
    {
      "cell_type": "code",
      "metadata": {
        "id": "yXyr3_cLPfaB",
        "colab_type": "code",
        "colab": {}
      },
      "source": [
        "import estructura"
      ],
      "execution_count": 0,
      "outputs": []
    },
    {
      "cell_type": "markdown",
      "metadata": {
        "id": "EJPeonY-NOay",
        "colab_type": "text"
      },
      "source": [
        "### B) Escriba la función altura, que recibe un nodo raíz y retorna la altura del árbol.\n",
        "\n",
        "La altura es la cantidad de nodos de la rama más larga desde la raíz."
      ]
    },
    {
      "cell_type": "code",
      "metadata": {
        "id": "EaBdtqIQPgfL",
        "colab_type": "code",
        "colab": {}
      },
      "source": [
        ""
      ],
      "execution_count": 0,
      "outputs": []
    },
    {
      "cell_type": "markdown",
      "metadata": {
        "id": "aJ15xMpNNWyn",
        "colab_type": "text"
      },
      "source": [
        "### C) Escriba la función 'esBalanceado', que determina si un árbol es o no balanceado.\n",
        "\n",
        "Un árbol balanceado es aquel que la diferencia entre las alturas de la rama izquierda y derecha, para todos sus nodos, no es superior a 1."
      ]
    },
    {
      "cell_type": "code",
      "metadata": {
        "id": "6RuTwIeZPPt0",
        "colab_type": "code",
        "colab": {}
      },
      "source": [
        "\n"
      ],
      "execution_count": 0,
      "outputs": []
    },
    {
      "cell_type": "markdown",
      "metadata": {
        "id": "ZnYKNC1zXcg3",
        "colab_type": "text"
      },
      "source": [
        "## P2 Árboles genealógicos"
      ]
    },
    {
      "cell_type": "markdown",
      "metadata": {
        "id": "IM3xzI4daZEH",
        "colab_type": "text"
      },
      "source": [
        "Ancestros\n",
        "\n",
        "Se tiene la siguiente estructura para árboles genealógicos:\n",
        "\n",
        "<code>\n",
        "# persona: nombre(str) nacimiento(int) padre(persona) madre(persona)\n",
        "  \n",
        "estructura.crear(\"persona\",\"nombre nacimiento padre madre\")\n",
        "\n",
        "</code>\n",
        "\n",
        "Al respecto haga lo siguiente:\n",
        "- Una función 'esPadreDe' que reciba un árbol y dos Strings (nombre del hijo, nombre del padre) e indique si existe esa relación en el árbol\n",
        "\n",
        "- Una función 'posible' que indique si el árbol genealógico tiene sentido según las fechas de nacimiento (un padre no puede ser menor que su hijo)."
      ]
    },
    {
      "cell_type": "code",
      "metadata": {
        "id": "DYVGNg8yeAQF",
        "colab_type": "code",
        "colab": {}
      },
      "source": [
        "import estructura\n",
        "# persona: nombre(str) nacimiento(int) padre(persona) madre(persona)\n",
        "estructura.crear(\"persona\",\"nombre nacimiento padre madre\")\n",
        "\n",
        "pedro = persona(\"Pedro\", 1900, None, None)\n",
        "ana = persona(\"Ana\", 1902, None, None)\n",
        "javier = persona(\"Javier\", 1920, pedro, ana)\n",
        "roberto = persona(\"Roberto\", 1940, javier, None)\n",
        "  "
      ],
      "execution_count": 0,
      "outputs": []
    },
    {
      "cell_type": "markdown",
      "metadata": {
        "id": "2l-Jnw9Fcp2V",
        "colab_type": "text"
      },
      "source": [
        "## P3) Árboles binarios y listas\n",
        "\n",
        "Se tienen las siguientes estructuras:\n",
        "\n",
        "<code>\n",
        "  #AB: valor(any), izq(AB), der(AB)\n",
        "  \n",
        "estructura.crear(\"AB\",\"valor izq der\")\n",
        "</code>\n",
        "  \n",
        "  \n",
        "  \n",
        "<code>\n",
        "  #Lista: valor(any), siguiente(lista)\n",
        "  \n",
        "estructura.crear(\"lista\", \"valor siguiente\")\n",
        "</code>\n",
        "\n",
        "\n"
      ]
    },
    {
      "cell_type": "code",
      "metadata": {
        "id": "svog_Kq1iP4L",
        "colab_type": "code",
        "colab": {}
      },
      "source": [
        "#AB: valor(any), izq(AB), der(AB)\n",
        "estructura.crear(\"AB\",\"valor izq der\")\n",
        "\n",
        "#Lista: valor(any), siguiente(lista)\n",
        "estructura.crear(\"lista\", \"valor siguiente\")\n",
        "\n",
        "arbol = AB(3, AB(2, None, None), AB(5, AB(1, None, None), AB(8, None, None)))\n",
        "\n",
        "l = lista(1, lista(5, lista(2, lista(8, lista(3, None)))))\n",
        "l2 = lista(192, None)"
      ],
      "execution_count": 0,
      "outputs": []
    },
    {
      "cell_type": "markdown",
      "metadata": {
        "id": "NlhmUz8idHe1",
        "colab_type": "text"
      },
      "source": [
        "### A) Cree la función 'buscarValorAB' que recibe un valor y un AB, e indica si el valor está presente en él."
      ]
    },
    {
      "cell_type": "code",
      "metadata": {
        "id": "INAuyEHxhxuT",
        "colab_type": "code",
        "colab": {}
      },
      "source": [
        ""
      ],
      "execution_count": 0,
      "outputs": []
    },
    {
      "cell_type": "markdown",
      "metadata": {
        "id": "bNcytrxJdvqz",
        "colab_type": "text"
      },
      "source": [
        "### B) Cree la función 'concatenar' que recibe dos listas y entrega una sola correspondiente a la concatenación de ambas listas."
      ]
    },
    {
      "cell_type": "code",
      "metadata": {
        "id": "zJzTRD6aiBQC",
        "colab_type": "code",
        "colab": {}
      },
      "source": [
        ""
      ],
      "execution_count": 0,
      "outputs": []
    },
    {
      "cell_type": "markdown",
      "metadata": {
        "id": "fts5LNPIdZ1O",
        "colab_type": "text"
      },
      "source": [
        "### C) Cree la función 'ABaLista', que recibe un AB y devuelve una lista con todos los valores del AB\n",
        "\n",
        "Hint: Se puede armar una lista concatenando los valores del nodo izquierdo, el nodo mismo y luego el nodo derecho."
      ]
    },
    {
      "cell_type": "code",
      "metadata": {
        "id": "4XRaK-B5iS19",
        "colab_type": "code",
        "colab": {}
      },
      "source": [
        ""
      ],
      "execution_count": 0,
      "outputs": []
    }
  ]
}