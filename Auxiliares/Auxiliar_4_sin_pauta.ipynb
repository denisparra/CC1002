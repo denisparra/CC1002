{
  "nbformat": 4,
  "nbformat_minor": 0,
  "metadata": {
    "colab": {
      "name": "Auxiliar 4.ipynb",
      "version": "0.3.2",
      "provenance": [],
      "collapsed_sections": [],
      "toc_visible": true,
      "include_colab_link": true
    },
    "kernelspec": {
      "name": "python2",
      "display_name": "Python 2"
    }
  },
  "cells": [
    {
      "cell_type": "markdown",
      "metadata": {
        "id": "view-in-github",
        "colab_type": "text"
      },
      "source": [
        "<a href=\"https://colab.research.google.com/github/bpoblete/CC1002_9/blob/master/Auxiliares/Auxiliar_4_sin_pauta.ipynb\" target=\"_parent\"><img src=\"https://colab.research.google.com/assets/colab-badge.svg\" alt=\"Open In Colab\"/></a>"
      ]
    },
    {
      "cell_type": "markdown",
      "metadata": {
        "id": "FEkSYk20_h9G",
        "colab_type": "text"
      },
      "source": [
        "# Auxiliar 4 - Sección 9\n",
        "## Profesora: Bárbara Poblete\n",
        "## Auxiliares: Lucas Torrealba - Matías Villegas\n",
        "### CC1002-9 Introducción a la Programación"
      ]
    },
    {
      "cell_type": "markdown",
      "metadata": {
        "id": "-J0uGPaB6LGA",
        "colab_type": "text"
      },
      "source": [
        "## P1 Tiempo"
      ]
    },
    {
      "cell_type": "markdown",
      "metadata": {
        "id": "4jTpQ831Xysp",
        "colab_type": "text"
      },
      "source": [
        "### A)\n",
        "Siguiendo la receta de diseño, escriba un módulo que implemente la estructura:\n",
        "\n",
        "**Tiempo: horas(int) minutos(int)** con las siguientes funciones:\n",
        "\n",
        "- aString -> Entrega el tiempo de la forma \"HH:MM\"\n",
        "- enMinutos -> Entrega un int con el tiempo en minutos\n",
        "- sumar -> Entrega la suma entre dos tiempos\n",
        "- restar -> Entrega la resta entre dos tiempos\n",
        "- comparar -> Entrega -1,0 o 1 en caso <, == o >\n",
        "\n",
        "\n",
        "\n",
        "\n",
        "\n"
      ]
    },
    {
      "cell_type": "code",
      "metadata": {
        "id": "9eO4xk9TDJlW",
        "colab_type": "code",
        "colab": {}
      },
      "source": [
        ""
      ],
      "execution_count": 0,
      "outputs": []
    },
    {
      "cell_type": "markdown",
      "metadata": {
        "id": "d4kNH15VWmtf",
        "colab_type": "text"
      },
      "source": [
        "### B)\n",
        "\n",
        "Cree un programa interactivo de prueba que lea instantes de tiempo de la forma HHMM (hasta que aparezca el número cero) y muestre el mayor instante, la suma y el promedio."
      ]
    },
    {
      "cell_type": "code",
      "metadata": {
        "id": "-xWKEvZKW4uB",
        "colab_type": "code",
        "colab": {}
      },
      "source": [
        ""
      ],
      "execution_count": 0,
      "outputs": []
    },
    {
      "cell_type": "markdown",
      "metadata": {
        "id": "bqngEkkAMbvd",
        "colab_type": "text"
      },
      "source": [
        "## P2 Ofertas de trabajo\n",
        "\n",
        "Se presenta la posibilidad de buscar un trabajo part-time mientras estudia, pero también puede trabajar en la universidad.\n",
        "\n",
        "Lamentablemente, en la universidad pagan con UBs (Unidades Becarias) y es más difícil la evaluación de qué trabajo es más conveniente.\n",
        "\n",
        "Dado que, convenientemente, justo el día de ayer aprendió estructuras se crea el módulo trabajo.py:"
      ]
    },
    {
      "cell_type": "markdown",
      "metadata": {
        "id": "1yPYEUOoDJ1H",
        "colab_type": "text"
      },
      "source": [
        "\n",
        "\n",
        "### a) \n",
        "Cree la estructura **trabajo** que permite guardar:\n",
        "- Nombre del trabajo\n",
        "- Tipo de pago (CLP o UB)\n",
        "- Monto mensual\n",
        "- Horas semanales que se debe trabajar"
      ]
    },
    {
      "cell_type": "code",
      "metadata": {
        "id": "DZ57dKQ-XCo7",
        "colab_type": "code",
        "colab": {}
      },
      "source": [
        "\n"
      ],
      "execution_count": 0,
      "outputs": []
    },
    {
      "cell_type": "markdown",
      "metadata": {
        "id": "Y_RXCbBn1pPz",
        "colab_type": "text"
      },
      "source": [
        "### B)\n",
        "Cree la función **precioHora** que recibe un trabajo y retorna el pago por hora en CLP (1UB = 9000CLP)"
      ]
    },
    {
      "cell_type": "code",
      "metadata": {
        "id": "nBnUwsH-2teK",
        "colab_type": "code",
        "colab": {}
      },
      "source": [
        ""
      ],
      "execution_count": 0,
      "outputs": []
    },
    {
      "cell_type": "markdown",
      "metadata": {
        "id": "KIzveFaG2tqY",
        "colab_type": "text"
      },
      "source": [
        "### C)\n",
        "Cree la función **compararTrabajos(t1,t2)** que recibe dos trabajos y determina cuál realiza una mejor paga por hora de trabajo. Retornando 1 si t1 es mejor, -1 si t2 es mejor o 0 si empatan en este aspecto.\n",
        "\n",
        "_Asuma que un mes tiene 4 semanas_"
      ]
    },
    {
      "cell_type": "code",
      "metadata": {
        "id": "4ufL1-NN3FZx",
        "colab_type": "code",
        "colab": {}
      },
      "source": [
        ""
      ],
      "execution_count": 0,
      "outputs": []
    },
    {
      "cell_type": "markdown",
      "metadata": {
        "id": "XpfEbpSa3FpR",
        "colab_type": "text"
      },
      "source": [
        "### d) \n",
        "Cree la función **menorTrabajo** que recibe dos trabajos y retorna el que mejor pague por hora."
      ]
    },
    {
      "cell_type": "code",
      "metadata": {
        "id": "ahCodmq83Ss4",
        "colab_type": "code",
        "colab": {}
      },
      "source": [
        ""
      ],
      "execution_count": 0,
      "outputs": []
    },
    {
      "cell_type": "markdown",
      "metadata": {
        "id": "eI-LY3Ap3Szg",
        "colab_type": "text"
      },
      "source": [
        "Cree un programa interactivo que siga el siguiente diálogo:\n",
        "\n",
        "\n",
        "\n",
        "``` Bienvenido al a super calculadora de pago horario, ingrese su consulta (0 para terminar)```\n",
        "\n",
        "```Nombre? Auxiliar introduccion a la programacion```\n",
        "\n",
        "```Modo de pago ? UB```\n",
        "\n",
        "```Pago mensual ? 12```\n",
        "\n",
        "```Horas de trabajo semanal ? 12```\n",
        "\n",
        "```Pago por hora al mes : 2250CLP```\n",
        "\n",
        "``` ----------------------------- ```\n",
        "\n",
        "```Nombre? Auxiliar herramientas computacionales```\n",
        "\n",
        "```Modo de pago ? UB```\n",
        "\n",
        "```Pago mensual ? 8```\n",
        "\n",
        "```Horas de trabajo semanal ? 4```\n",
        "\n",
        "```Pago por hora a l mes : 4500CLP```\n",
        "\n",
        "``` ----------------------------- ```\n",
        "\n",
        "```Nombre? Garzon```\n",
        "\n",
        "```Modo de pago ? CLP```\n",
        "\n",
        "```Pago mensual ? 180000```\n",
        "\n",
        "```Horas de trabajo semanal ? 30```\n",
        "\n",
        "```Pago por hora a l mes : 1500CLP```\n",
        "\n",
        "``` ----------------------------- ```\n",
        "\n",
        "```Nombre? 0```\n",
        "\n",
        "``` ----------------------------- ```\n",
        "\n",
        "```El mejor trabajo es ser Auxiliar herramientas computacional es por un```\n",
        "\n",
        "```pago de 4500CLP la hora .```\n",
        "\n",
        "```Muchas gracias por preferirnos! ```"
      ]
    },
    {
      "cell_type": "code",
      "metadata": {
        "id": "F0udimf-6IUY",
        "colab_type": "code",
        "outputId": "6ef58831-7890-4748-f903-8a8ea3dcd94c",
        "colab": {
          "base_uri": "https://localhost:8080/",
          "height": 136
        }
      },
      "source": [
        ""
      ],
      "execution_count": 0,
      "outputs": [
        {
          "output_type": "stream",
          "text": [
            "Bienvenido a la super calculadora de pago horario,\n",
            "ingrese su consulta (0 para terminar)\n",
            "________________________________________________________\n",
            "Nombre? 0\n",
            "________________________________________________________\n",
            "No nos diste ningun trabajo!\n",
            "Muchas Gracias por preferirnos!\n"
          ],
          "name": "stdout"
        }
      ]
    }
  ]
}