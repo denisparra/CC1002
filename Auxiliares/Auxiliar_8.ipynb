{
  "nbformat": 4,
  "nbformat_minor": 0,
  "metadata": {
    "colab": {
      "name": "Auxiliar 8.ipynb",
      "provenance": [],
      "collapsed_sections": [],
      "toc_visible": true,
      "include_colab_link": true
    },
    "kernelspec": {
      "name": "python2",
      "display_name": "Python 2"
    }
  },
  "cells": [
    {
      "cell_type": "markdown",
      "metadata": {
        "id": "view-in-github",
        "colab_type": "text"
      },
      "source": [
        "<a href=\"https://colab.research.google.com/github/bpoblete/CC1002_9/blob/master/Auxiliares/Auxiliar_8.ipynb\" target=\"_parent\"><img src=\"https://colab.research.google.com/assets/colab-badge.svg\" alt=\"Open In Colab\"/></a>"
      ]
    },
    {
      "cell_type": "markdown",
      "metadata": {
        "id": "FEkSYk20_h9G",
        "colab_type": "text"
      },
      "source": [
        "# Auxiliar 8 - Sección 9\n",
        "## Profesora: Bárbara Poblete\n",
        "## Auxiliares: Lucas Torrealba - Matías Villegas\n",
        "### CC1002-9 Introducción a la Programación"
      ]
    },
    {
      "cell_type": "markdown",
      "metadata": {
        "id": "nC0bNZpDZyeT",
        "colab_type": "text"
      },
      "source": [
        "## Estructuras mutables?\n",
        "\n",
        "Las estructuras, hasta ahora han sido sólo variables que nos permiten leer.\n",
        "\n",
        "Las estructuras mutables son de escritura/lectura."
      ]
    },
    {
      "cell_type": "markdown",
      "metadata": {
        "id": "jy8VhFrvYN31",
        "colab_type": "text"
      },
      "source": [
        "## P1 ONU\n",
        "\n",
        "La ONU requiere su ayuda manteniendo un registro de los países del mundo.\n",
        "Para esto le solicitan a usted que cree la estructura país, la cual permite almacenar el nombre, continente y número de habitantes de un país."
      ]
    },
    {
      "cell_type": "markdown",
      "metadata": {
        "id": "b6Ci8MKhYgVu",
        "colab_type": "text"
      },
      "source": [
        "### A)\n",
        "Cree la estructura 'Pais' con los atributos necesarios."
      ]
    },
    {
      "cell_type": "code",
      "metadata": {
        "id": "tIwWjferZRtv",
        "colab_type": "code",
        "colab": {}
      },
      "source": [
        ""
      ],
      "execution_count": 0,
      "outputs": []
    },
    {
      "cell_type": "markdown",
      "metadata": {
        "id": "lC8GRaTCYjYD",
        "colab_type": "text"
      },
      "source": [
        "### B)\n",
        "Cree la estructura mutable PaisMut con los atribuos necesarios."
      ]
    },
    {
      "cell_type": "code",
      "metadata": {
        "id": "8beGdwpeYn7G",
        "colab_type": "code",
        "colab": {}
      },
      "source": [
        ""
      ],
      "execution_count": 0,
      "outputs": []
    },
    {
      "cell_type": "markdown",
      "metadata": {
        "id": "7wdhCtqpYpHP",
        "colab_type": "text"
      },
      "source": [
        "### C)\n",
        "Defina la función cambiarHabitantes, que recibe un Pais y una cantidad de habitantes y actualiza la cantidad de habitantes del Pais en cuestión."
      ]
    },
    {
      "cell_type": "code",
      "metadata": {
        "id": "6QTgfDOuZcHL",
        "colab_type": "code",
        "colab": {}
      },
      "source": [
        ""
      ],
      "execution_count": 0,
      "outputs": []
    },
    {
      "cell_type": "markdown",
      "metadata": {
        "id": "vtFGKxL6YzcI",
        "colab_type": "text"
      },
      "source": [
        "### D)\n",
        "Defina la función cambiarHabitantesMut, que recibe un PaisMut y una cantidad de habitantes y actualiza la cantidad de habitantes del PaisMut en cuestión."
      ]
    },
    {
      "cell_type": "code",
      "metadata": {
        "id": "RP1W8Q4eZiRc",
        "colab_type": "code",
        "colab": {}
      },
      "source": [
        ""
      ],
      "execution_count": 0,
      "outputs": []
    },
    {
      "cell_type": "markdown",
      "metadata": {
        "id": "tLRmvME-Y3hb",
        "colab_type": "text"
      },
      "source": [
        "### E)\n",
        "Defina la función cantidadHabitantes, la cual toma como argumento un Pais y retorna la cantidad de habitantes que posee."
      ]
    },
    {
      "cell_type": "code",
      "metadata": {
        "id": "41Fd1FsVZm_P",
        "colab_type": "code",
        "colab": {}
      },
      "source": [
        ""
      ],
      "execution_count": 0,
      "outputs": []
    },
    {
      "cell_type": "markdown",
      "metadata": {
        "id": "zFUYUrLhY_3E",
        "colab_type": "text"
      },
      "source": [
        "### F)\n",
        "Defina la función cantidadHabitantesMut, la cual toma como argumento un Pais y retorna la cantidad de habitantes que posee."
      ]
    },
    {
      "cell_type": "code",
      "metadata": {
        "id": "JNY-AxIXZqsZ",
        "colab_type": "code",
        "colab": {}
      },
      "source": [
        ""
      ],
      "execution_count": 0,
      "outputs": []
    },
    {
      "cell_type": "markdown",
      "metadata": {
        "id": "U2AyCtQTWlTK",
        "colab_type": "text"
      },
      "source": [
        "## P2 Listas mutables\n",
        "\n",
        "### A)\n",
        "Defina una estructura mutable (lista) que corresponda a una lista mutable."
      ]
    },
    {
      "cell_type": "code",
      "metadata": {
        "id": "K-3mRYNeajiI",
        "colab_type": "code",
        "colab": {}
      },
      "source": [
        ""
      ],
      "execution_count": 0,
      "outputs": []
    },
    {
      "cell_type": "markdown",
      "metadata": {
        "id": "UluSBA3hXMyP",
        "colab_type": "text"
      },
      "source": [
        "### B)\n",
        "Cree la función concatenar, que reciba como parámetros una lista A, una lista B y modifique la lista A para que sea la concatenación de A y B. La función no debe retornar nada."
      ]
    },
    {
      "cell_type": "code",
      "metadata": {
        "id": "G31VcjHUamju",
        "colab_type": "code",
        "colab": {}
      },
      "source": [
        ""
      ],
      "execution_count": 0,
      "outputs": []
    },
    {
      "cell_type": "markdown",
      "metadata": {
        "id": "-BEtUBa9XxFo",
        "colab_type": "text"
      },
      "source": [
        "### C)\n",
        "Cree la función 'EliminarDesde' que recibe una lista mutable, un número de índice entero positivo y elimine todos los elementos a partir del índice de la lista retornando una lista con los elementos eliminados.\n",
        "\n",
        "Indicación: como n es entero positivo, no puede eliminarse toda la lista"
      ]
    },
    {
      "cell_type": "code",
      "metadata": {
        "id": "-PScNj8xbFFJ",
        "colab_type": "code",
        "colab": {}
      },
      "source": [
        ""
      ],
      "execution_count": 0,
      "outputs": []
    },
    {
      "cell_type": "markdown",
      "metadata": {
        "id": "g9Lx1lpedOuv",
        "colab_type": "text"
      },
      "source": [
        "## P3 Estructurasa mutables para C2"
      ]
    },
    {
      "cell_type": "markdown",
      "metadata": {
        "id": "ulByjTzfdUTc",
        "colab_type": "text"
      },
      "source": [
        "Los torniquetes de entrada a la facultad manejan una lista mutable que mantiene el RUT de las personas que ingresan y la cantidad de veces que han ingresado durante el día.\n",
        "\n",
        "### A)\n",
        "\n",
        "Cree una estructura mutable (personaMut) para resolver el problema."
      ]
    },
    {
      "cell_type": "code",
      "metadata": {
        "id": "Kc5nNYaxWbh1",
        "colab_type": "code",
        "colab": {}
      },
      "source": [
        ""
      ],
      "execution_count": 0,
      "outputs": []
    },
    {
      "cell_type": "markdown",
      "metadata": {
        "id": "ayh-uCBEIJsn",
        "colab_type": "text"
      },
      "source": [
        "### B)\n",
        "Cree una variable que sirva como torniquete a nivel global."
      ]
    },
    {
      "cell_type": "code",
      "metadata": {
        "id": "-InGF3JnIOo2",
        "colab_type": "code",
        "colab": {}
      },
      "source": [
        ""
      ],
      "execution_count": 0,
      "outputs": []
    },
    {
      "cell_type": "markdown",
      "metadata": {
        "id": "Jkk3psGKWRYU",
        "colab_type": "text"
      },
      "source": [
        "### C)\n",
        "Cree una función (con receta de diseño) que registre el ingreso de una persona. La función recibe un RUT y una lista de personas y debe actualizar la lista de personas y retornar la cantidad de veces que esa persona ha ingresado.\n",
        "\n",
        "Es decir, si la persona ya existe en la lista, se debe incrementar su cantidad de ingresos retornando el nuevo número y si no existe se debe agregar al final, retornando 1."
      ]
    },
    {
      "cell_type": "code",
      "metadata": {
        "id": "fpABAplpfcmb",
        "colab_type": "code",
        "colab": {}
      },
      "source": [
        ""
      ],
      "execution_count": 0,
      "outputs": []
    }
  ]
}