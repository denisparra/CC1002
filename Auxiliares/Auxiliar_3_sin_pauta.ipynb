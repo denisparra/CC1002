{
  "nbformat": 4,
  "nbformat_minor": 0,
  "metadata": {
    "colab": {
      "name": "Auxiliar 3.ipynb",
      "version": "0.3.2",
      "provenance": [],
      "collapsed_sections": [],
      "include_colab_link": true
    },
    "kernelspec": {
      "name": "python2",
      "display_name": "Python 2"
    }
  },
  "cells": [
    {
      "cell_type": "markdown",
      "metadata": {
        "id": "view-in-github",
        "colab_type": "text"
      },
      "source": [
        "<a href=\"https://colab.research.google.com/github/bpoblete/CC1002_9/blob/master/Auxiliares/Auxiliar_3_sin_pauta.ipynb\" target=\"_parent\"><img src=\"https://colab.research.google.com/assets/colab-badge.svg\" alt=\"Open In Colab\"/></a>"
      ]
    },
    {
      "cell_type": "markdown",
      "metadata": {
        "id": "FEkSYk20_h9G",
        "colab_type": "text"
      },
      "source": [
        "# Auxiliar 3 - Sección 9\n",
        "## Profesora: Bárbara Poblete\n",
        "## Auxiliares: Lucas Torrealba - Matías Villegas\n",
        "### CC1002-9 Introducción a la Programación"
      ]
    },
    {
      "cell_type": "markdown",
      "metadata": {
        "id": "4jTpQ831Xysp",
        "colab_type": "text"
      },
      "source": [
        "## P1 Números (P2 C1 2017-2)\n",
        "\n",
        "El módulo de nombre **positivo** contiene las siguientes funciones para un número entero positivo o cero:\n",
        "\n",
        "\n",
        "|   *Ejemplo1*  | *Resultado1* | *Ejemplo2* | *Resultado2* | *Significado*                                                                             |\n",
        "|:-------------:|:------------:|------------|--------------|-------------------------------------------------------------------------------------------|\n",
        "| digitos(5372) | 4            | digitos(5) | 1            | Cantidad de dígitos del número                                                            |\n",
        "| primero(5372) | 5            | primero(5) | 5            | Primer dígito del número                                                                  |\n",
        "| ultimos(5372) | 372          | ultimos(5) | -1           | Número original pero sin el primer dígito (-1 si el número original tiene un sólo dígito) |\n",
        "\n",
        "\n",
        "\n"
      ]
    },
    {
      "cell_type": "markdown",
      "metadata": {
        "id": "RvgF9XyhUy3Z",
        "colab_type": "text"
      },
      "source": [
        "### A) Escriba la función *primero* (sin receta de diseño ni testing).\n",
        "Nota: La función debe escribirse recursivamente SIN usar la función *digitos*"
      ]
    },
    {
      "cell_type": "code",
      "metadata": {
        "id": "9eO4xk9TDJlW",
        "colab_type": "code",
        "colab": {}
      },
      "source": [
        ""
      ],
      "execution_count": 0,
      "outputs": []
    },
    {
      "cell_type": "markdown",
      "metadata": {
        "id": "nZA-oD63EO9W",
        "colab_type": "text"
      },
      "source": [
        "### B) Escriba la función *ultimos* (sin receta de diseño ni testing)"
      ]
    },
    {
      "cell_type": "code",
      "metadata": {
        "id": "6f4Xhp1kEdHy",
        "colab_type": "code",
        "colab": {}
      },
      "source": [
        ""
      ],
      "execution_count": 0,
      "outputs": []
    },
    {
      "cell_type": "markdown",
      "metadata": {
        "id": "I1GJ9h-aVYb_",
        "colab_type": "text"
      },
      "source": [
        "### C) Escriba una función que reciba un número y entregue True si sus dígitos están en orden creciente.\n",
        "Por ejemplo: creciente(1224) y creciente (5) entregan True. Creciente(2019) entrega False."
      ]
    },
    {
      "cell_type": "code",
      "metadata": {
        "id": "mNbjKpjHVj0H",
        "colab_type": "code",
        "colab": {}
      },
      "source": [
        ""
      ],
      "execution_count": 0,
      "outputs": []
    },
    {
      "cell_type": "markdown",
      "metadata": {
        "id": "1yPYEUOoDJ1H",
        "colab_type": "text"
      },
      "source": [
        "## P2 Oca (C1 2018-2)\n",
        "En el \"juego de la oca\" un jugador avanza su ficha por un tablero lineal de 63 casillas, lanzando en cada turno\n",
        "dos dados de 6 caras simultáneamente. El objetivo del juego es llegar a la casilla 63, pero sin pasarse. Esto es, si el jugador\n",
        "no cae exactamente en la meta, entonces se devuelve tantas casillas como las que se pasó. Además, en el tablero existen\n",
        "casillas especiales que se llaman \"ocas\" (que corresponden a la 9, 18, 27, 36, 45, 54 y 63) y hacen que el jugador se mueva\n",
        "automáticamente desde una \"oca\" a la siguiente.\n",
        "\n",
        "\n",
        "**A)** Escriba la función de nombre mover (sin la receta de diseño) que recibe como entrada el número de la casilla en que\n",
        "está el jugador y devuelve el número de la casilla en la que queda al terminar su turno.\n",
        "Ejemplos:\n",
        "- Si estaba en la casilla 1 y saca 9, entonces se mueve a la 10\n",
        "- Si estaba en la 1 y saca 8, entonces se mueve a la 9, pero como es oca, termina en la 18 (que es la oca que sigue al 9)\n",
        "- Si estaba en la 55 y saca 10, entonces se mueve a la 61, porque al llegar a la 63 le sobraron 2 casillas por mover, y entonces\n",
        "se devuelve esas 2 casillas\n",
        "- Si estaba en la 62 y saca 10, entonces cae en la 54, pero como es oca, termina en la 63\n",
        "\n",
        "**Indicación**. Para simular el lanzamiento de un dado use la función randint del módulo random. Por ejemplo,\n",
        "random.randint(13,21) devuelve un número entero N al azar, tal que 13<=N<=21."
      ]
    },
    {
      "cell_type": "code",
      "metadata": {
        "id": "oaYhwxH_DJc5",
        "colab_type": "code",
        "colab": {}
      },
      "source": [
        ""
      ],
      "execution_count": 0,
      "outputs": []
    },
    {
      "cell_type": "markdown",
      "metadata": {
        "id": "HtSx1cTNW2LT",
        "colab_type": "text"
      },
      "source": [
        "**B)** Escriba la función recursiva de nombre *cantidadDeTurnos* (sin receta de diseño) que devuelve la cantidad de turnos (por ejemplo 13) que tuvo que hacer un jugador desde el inicio del juego hasta llegar a la meta, simulando los movimientos en cada turno con la función mover.\n",
        "\n",
        "Nota: Si lo estima necesario, puede agregar parametro(s) a la función cantidadDeTurnos"
      ]
    },
    {
      "cell_type": "code",
      "metadata": {
        "id": "Rz99oCN5DJBy",
        "colab_type": "code",
        "colab": {}
      },
      "source": [
        ""
      ],
      "execution_count": 0,
      "outputs": []
    },
    {
      "cell_type": "markdown",
      "metadata": {
        "id": "ADmKKNbjFGcD",
        "colab_type": "text"
      },
      "source": [
        "## P3 Conjuntos (P2 C1 2018-2)\n",
        "\n",
        "Un conjunto de dígitos entre 1 y 9 se puede representar por un número entero. Por ejemplo el conjunto\n",
        "{3,1} se representa por el entero 31 (o también por el entero 13) y el conjunto vacío {} se representa por un 0. Al\n",
        "respecto, el módulo conjunto contiene las funciones indicadas en los siguientes ejemplos:\n",
        "\n",
        "|       *Ejemplo1*       |         *Resultado1*        | *Ejemplo2*            | *Resultado2*             |\n",
        "|:----------------------:|:---------------------------:|-----------------------|--------------------------|\n",
        "| esConjunto(312)        | True                        | esConjunto(313)       | False (tiene repetidos)  |\n",
        "| pertenece(1,312)       | True (dígito 1 está en 312) | pertenece(4,312)      | False (dígito 4 no está) |\n",
        "| interseccion(312,4352) | 32                          | Intersección(312,456) | 0 (vacío)                |\n",
        "| union(312,4352)        | 31245                       | union(312,456)        | 312456                   |\n",
        "| resta(312,4352)        | 1                           | resta(4352,312)       | 45                       |\n",
        "| cardinal(4352)         | 4                           | cardinal(0)           | 0                        |"
      ]
    },
    {
      "cell_type": "markdown",
      "metadata": {
        "id": "vDgSbO00X65C",
        "colab_type": "text"
      },
      "source": [
        "**A)** Escriba un programa para leer dos enteros que representan dos conjuntos y escriba el número entero que\n",
        "representa el conjunto con la diferencia simétrica entre los dos conjuntos y su cardinal (cantidad de elementos).\n",
        "\n",
        "\n",
        "- El programa debe usar las funciones del módulo conjunto (sin programarlas).\n",
        "- La diferencia simétrica entre dos conjuntos se calcula como la resta entre la unión y la intersección de los conjuntos.\n",
        "- En caso que alguno de los números no represente un conjunto válido se debe escribir el mensaje ‘conjunto erroneo’\n",
        "y no calcular la diferencia simétrica."
      ]
    },
    {
      "cell_type": "code",
      "metadata": {
        "id": "GxO59BoPFmGn",
        "colab_type": "code",
        "colab": {}
      },
      "source": [
        ""
      ],
      "execution_count": 0,
      "outputs": []
    },
    {
      "cell_type": "markdown",
      "metadata": {
        "id": "EGKq27DCYPiE",
        "colab_type": "text"
      },
      "source": [
        "**B)** Escribir la función recursiva *intersección* del módulo conjunto con la receta de diseño completa.\n",
        "\n",
        "Nota: Sólo puede usar la función de nombre *pertenece* del módulo conjunto, sin necesidad de programarla.\n"
      ]
    },
    {
      "cell_type": "code",
      "metadata": {
        "id": "wbEShYH1YcE9",
        "colab_type": "code",
        "colab": {}
      },
      "source": [
        "\n"
      ],
      "execution_count": 0,
      "outputs": []
    },
    {
      "cell_type": "markdown",
      "metadata": {
        "id": "A35s-gyuZC7j",
        "colab_type": "text"
      },
      "source": [
        "## P4) Números capicúa\n",
        "\n",
        "La palabra capicúa, en números, se refiere a aquellos que se leen igual de izquierda a derecha que de derecha a izquierda.\n",
        "\n",
        "Cree la función *capicua(numero)* que entrega True si el número es capicúa y False si no.\n",
        "\n",
        "Nota: \n",
        "- Asuma que tiene la función *digitos* que entrega el largo de un número\n",
        "- Asuma que tiene la función *primero* que entrega el primer dígito del número\n",
        "- Los números **NO** utilizan el dígito 0 para este problema"
      ]
    },
    {
      "cell_type": "code",
      "metadata": {
        "id": "uq6ZGcu0aDFj",
        "colab_type": "code",
        "colab": {}
      },
      "source": [
        "def digitos(numero):\n",
        "  if numero < 10:\n",
        "    return 1\n",
        "  else:\n",
        "    return 1 + digitos(numero/10)"
      ],
      "execution_count": 0,
      "outputs": []
    },
    {
      "cell_type": "code",
      "metadata": {
        "id": "hszulpMhZcKC",
        "colab_type": "code",
        "colab": {}
      },
      "source": [
        "def primero(n):\n",
        "  if n<10:\n",
        "    return n\n",
        "  else:\n",
        "    return primero(n/10)\n",
        "  "
      ],
      "execution_count": 0,
      "outputs": []
    },
    {
      "cell_type": "code",
      "metadata": {
        "id": "-3nzjmsvaN88",
        "colab_type": "code",
        "colab": {}
      },
      "source": [
        ""
      ],
      "execution_count": 0,
      "outputs": []
    }
  ]
}